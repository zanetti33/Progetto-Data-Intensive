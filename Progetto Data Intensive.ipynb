{
 "cells": [
  {
   "cell_type": "markdown",
   "metadata": {},
   "source": [
    "# Classificazione di cellulari in fasce di prezzo\n",
    "\n",
    "**Progetto di Programmazione di Applicazioni Data Intensive  \n",
    "Anno Accademico 2021/2022**\n",
    "\n",
    "Lorenzo Zanetti  \n",
    "matricola: 0000933486  \n",
    "lorenzo.zanetti5@studio.unibo.it"
   ]
  },
  {
   "cell_type": "code",
   "execution_count": 1,
   "metadata": {
    "scrolled": true
   },
   "outputs": [],
   "source": [
    "# setup e test librerie\n",
    "%matplotlib inline\n",
    "import numpy as np\n",
    "import pandas as pd\n",
    "import matplotlib.pyplot as plt\n",
    "import sklearn"
   ]
  },
  {
   "cell_type": "markdown",
   "metadata": {},
   "source": [
    "## Caso di studio\n",
    "\n",
    "I dati su cui si vuole creare un modello provengono dal sito Kaggle (più precisamente da [qui](https://www.kaggle.com/datasets/iabhishekofficial/mobile-price-classification?resource=download&select=train.csv)) e descrivono una serie di diversi modelli di telefoni classificati in una fascia di prezzo specifica."
   ]
  },
  {
   "cell_type": "code",
   "execution_count": 2,
   "metadata": {
    "scrolled": true
   },
   "outputs": [
    {
     "data": {
      "text/html": [
       "<div>\n",
       "<style scoped>\n",
       "    .dataframe tbody tr th:only-of-type {\n",
       "        vertical-align: middle;\n",
       "    }\n",
       "\n",
       "    .dataframe tbody tr th {\n",
       "        vertical-align: top;\n",
       "    }\n",
       "\n",
       "    .dataframe thead th {\n",
       "        text-align: right;\n",
       "    }\n",
       "</style>\n",
       "<table border=\"1\" class=\"dataframe\">\n",
       "  <thead>\n",
       "    <tr style=\"text-align: right;\">\n",
       "      <th></th>\n",
       "      <th>battery_power</th>\n",
       "      <th>blue</th>\n",
       "      <th>clock_speed</th>\n",
       "      <th>dual_sim</th>\n",
       "      <th>fc</th>\n",
       "      <th>four_g</th>\n",
       "      <th>int_memory</th>\n",
       "      <th>m_dep</th>\n",
       "      <th>mobile_wt</th>\n",
       "      <th>n_cores</th>\n",
       "      <th>...</th>\n",
       "      <th>px_height</th>\n",
       "      <th>px_width</th>\n",
       "      <th>ram</th>\n",
       "      <th>sc_h</th>\n",
       "      <th>sc_w</th>\n",
       "      <th>talk_time</th>\n",
       "      <th>three_g</th>\n",
       "      <th>touch_screen</th>\n",
       "      <th>wifi</th>\n",
       "      <th>price_range</th>\n",
       "    </tr>\n",
       "  </thead>\n",
       "  <tbody>\n",
       "    <tr>\n",
       "      <th>0</th>\n",
       "      <td>842</td>\n",
       "      <td>0</td>\n",
       "      <td>2.2</td>\n",
       "      <td>0</td>\n",
       "      <td>1</td>\n",
       "      <td>0</td>\n",
       "      <td>7</td>\n",
       "      <td>0.6</td>\n",
       "      <td>188</td>\n",
       "      <td>2</td>\n",
       "      <td>...</td>\n",
       "      <td>20</td>\n",
       "      <td>756</td>\n",
       "      <td>2549</td>\n",
       "      <td>9</td>\n",
       "      <td>7</td>\n",
       "      <td>19</td>\n",
       "      <td>0</td>\n",
       "      <td>0</td>\n",
       "      <td>1</td>\n",
       "      <td>1</td>\n",
       "    </tr>\n",
       "    <tr>\n",
       "      <th>1</th>\n",
       "      <td>1021</td>\n",
       "      <td>1</td>\n",
       "      <td>0.5</td>\n",
       "      <td>1</td>\n",
       "      <td>0</td>\n",
       "      <td>1</td>\n",
       "      <td>53</td>\n",
       "      <td>0.7</td>\n",
       "      <td>136</td>\n",
       "      <td>3</td>\n",
       "      <td>...</td>\n",
       "      <td>905</td>\n",
       "      <td>1988</td>\n",
       "      <td>2631</td>\n",
       "      <td>17</td>\n",
       "      <td>3</td>\n",
       "      <td>7</td>\n",
       "      <td>1</td>\n",
       "      <td>1</td>\n",
       "      <td>0</td>\n",
       "      <td>2</td>\n",
       "    </tr>\n",
       "    <tr>\n",
       "      <th>2</th>\n",
       "      <td>563</td>\n",
       "      <td>1</td>\n",
       "      <td>0.5</td>\n",
       "      <td>1</td>\n",
       "      <td>2</td>\n",
       "      <td>1</td>\n",
       "      <td>41</td>\n",
       "      <td>0.9</td>\n",
       "      <td>145</td>\n",
       "      <td>5</td>\n",
       "      <td>...</td>\n",
       "      <td>1263</td>\n",
       "      <td>1716</td>\n",
       "      <td>2603</td>\n",
       "      <td>11</td>\n",
       "      <td>2</td>\n",
       "      <td>9</td>\n",
       "      <td>1</td>\n",
       "      <td>1</td>\n",
       "      <td>0</td>\n",
       "      <td>2</td>\n",
       "    </tr>\n",
       "    <tr>\n",
       "      <th>3</th>\n",
       "      <td>615</td>\n",
       "      <td>1</td>\n",
       "      <td>2.5</td>\n",
       "      <td>0</td>\n",
       "      <td>0</td>\n",
       "      <td>0</td>\n",
       "      <td>10</td>\n",
       "      <td>0.8</td>\n",
       "      <td>131</td>\n",
       "      <td>6</td>\n",
       "      <td>...</td>\n",
       "      <td>1216</td>\n",
       "      <td>1786</td>\n",
       "      <td>2769</td>\n",
       "      <td>16</td>\n",
       "      <td>8</td>\n",
       "      <td>11</td>\n",
       "      <td>1</td>\n",
       "      <td>0</td>\n",
       "      <td>0</td>\n",
       "      <td>2</td>\n",
       "    </tr>\n",
       "    <tr>\n",
       "      <th>4</th>\n",
       "      <td>1821</td>\n",
       "      <td>1</td>\n",
       "      <td>1.2</td>\n",
       "      <td>0</td>\n",
       "      <td>13</td>\n",
       "      <td>1</td>\n",
       "      <td>44</td>\n",
       "      <td>0.6</td>\n",
       "      <td>141</td>\n",
       "      <td>2</td>\n",
       "      <td>...</td>\n",
       "      <td>1208</td>\n",
       "      <td>1212</td>\n",
       "      <td>1411</td>\n",
       "      <td>8</td>\n",
       "      <td>2</td>\n",
       "      <td>15</td>\n",
       "      <td>1</td>\n",
       "      <td>1</td>\n",
       "      <td>0</td>\n",
       "      <td>1</td>\n",
       "    </tr>\n",
       "  </tbody>\n",
       "</table>\n",
       "<p>5 rows × 21 columns</p>\n",
       "</div>"
      ],
      "text/plain": [
       "   battery_power  blue  clock_speed  dual_sim  fc  four_g  int_memory  m_dep  \\\n",
       "0            842     0          2.2         0   1       0           7    0.6   \n",
       "1           1021     1          0.5         1   0       1          53    0.7   \n",
       "2            563     1          0.5         1   2       1          41    0.9   \n",
       "3            615     1          2.5         0   0       0          10    0.8   \n",
       "4           1821     1          1.2         0  13       1          44    0.6   \n",
       "\n",
       "   mobile_wt  n_cores  ...  px_height  px_width   ram  sc_h  sc_w  talk_time  \\\n",
       "0        188        2  ...         20       756  2549     9     7         19   \n",
       "1        136        3  ...        905      1988  2631    17     3          7   \n",
       "2        145        5  ...       1263      1716  2603    11     2          9   \n",
       "3        131        6  ...       1216      1786  2769    16     8         11   \n",
       "4        141        2  ...       1208      1212  1411     8     2         15   \n",
       "\n",
       "   three_g  touch_screen  wifi  price_range  \n",
       "0        0             0     1            1  \n",
       "1        1             1     0            2  \n",
       "2        1             1     0            2  \n",
       "3        1             0     0            2  \n",
       "4        1             1     0            1  \n",
       "\n",
       "[5 rows x 21 columns]"
      ]
     },
     "execution_count": 2,
     "metadata": {},
     "output_type": "execute_result"
    }
   ],
   "source": [
    "data = pd.read_csv(\"data.csv\")\n",
    "data.head()"
   ]
  },
  {
   "cell_type": "markdown",
   "metadata": {},
   "source": [
    "In questo caso leggendo il file con Pandas senza specificare altro otteniamo il risultato desiderato: come indice delle righe viene aggiunta una nuova colonna (non erano presenti id univoci nel dataset) e come nomi delle colonne vengono dati quelli di \"default\" specificati nella prima riga del file .csv  \n",
    "L'unico problema è che di default Pandas mostra massimo 20 colonne (le prime e le ultime 10) per cui nel nostro caso verrebbe \"nascosta\" una sola colonna, quindi specifichiamo di volerne visualizzare 21."
   ]
  },
  {
   "cell_type": "code",
   "execution_count": 3,
   "metadata": {
    "scrolled": false
   },
   "outputs": [
    {
     "data": {
      "text/plain": [
       "21"
      ]
     },
     "execution_count": 3,
     "metadata": {},
     "output_type": "execute_result"
    }
   ],
   "source": [
    "len(data.columns)"
   ]
  },
  {
   "cell_type": "code",
   "execution_count": 4,
   "metadata": {
    "scrolled": false
   },
   "outputs": [
    {
     "data": {
      "text/html": [
       "<div>\n",
       "<style scoped>\n",
       "    .dataframe tbody tr th:only-of-type {\n",
       "        vertical-align: middle;\n",
       "    }\n",
       "\n",
       "    .dataframe tbody tr th {\n",
       "        vertical-align: top;\n",
       "    }\n",
       "\n",
       "    .dataframe thead th {\n",
       "        text-align: right;\n",
       "    }\n",
       "</style>\n",
       "<table border=\"1\" class=\"dataframe\">\n",
       "  <thead>\n",
       "    <tr style=\"text-align: right;\">\n",
       "      <th></th>\n",
       "      <th>battery_power</th>\n",
       "      <th>blue</th>\n",
       "      <th>clock_speed</th>\n",
       "      <th>dual_sim</th>\n",
       "      <th>fc</th>\n",
       "      <th>four_g</th>\n",
       "      <th>int_memory</th>\n",
       "      <th>m_dep</th>\n",
       "      <th>mobile_wt</th>\n",
       "      <th>n_cores</th>\n",
       "      <th>pc</th>\n",
       "      <th>px_height</th>\n",
       "      <th>px_width</th>\n",
       "      <th>ram</th>\n",
       "      <th>sc_h</th>\n",
       "      <th>sc_w</th>\n",
       "      <th>talk_time</th>\n",
       "      <th>three_g</th>\n",
       "      <th>touch_screen</th>\n",
       "      <th>wifi</th>\n",
       "      <th>price_range</th>\n",
       "    </tr>\n",
       "  </thead>\n",
       "  <tbody>\n",
       "    <tr>\n",
       "      <th>0</th>\n",
       "      <td>842</td>\n",
       "      <td>0</td>\n",
       "      <td>2.2</td>\n",
       "      <td>0</td>\n",
       "      <td>1</td>\n",
       "      <td>0</td>\n",
       "      <td>7</td>\n",
       "      <td>0.6</td>\n",
       "      <td>188</td>\n",
       "      <td>2</td>\n",
       "      <td>2</td>\n",
       "      <td>20</td>\n",
       "      <td>756</td>\n",
       "      <td>2549</td>\n",
       "      <td>9</td>\n",
       "      <td>7</td>\n",
       "      <td>19</td>\n",
       "      <td>0</td>\n",
       "      <td>0</td>\n",
       "      <td>1</td>\n",
       "      <td>1</td>\n",
       "    </tr>\n",
       "    <tr>\n",
       "      <th>1</th>\n",
       "      <td>1021</td>\n",
       "      <td>1</td>\n",
       "      <td>0.5</td>\n",
       "      <td>1</td>\n",
       "      <td>0</td>\n",
       "      <td>1</td>\n",
       "      <td>53</td>\n",
       "      <td>0.7</td>\n",
       "      <td>136</td>\n",
       "      <td>3</td>\n",
       "      <td>6</td>\n",
       "      <td>905</td>\n",
       "      <td>1988</td>\n",
       "      <td>2631</td>\n",
       "      <td>17</td>\n",
       "      <td>3</td>\n",
       "      <td>7</td>\n",
       "      <td>1</td>\n",
       "      <td>1</td>\n",
       "      <td>0</td>\n",
       "      <td>2</td>\n",
       "    </tr>\n",
       "    <tr>\n",
       "      <th>2</th>\n",
       "      <td>563</td>\n",
       "      <td>1</td>\n",
       "      <td>0.5</td>\n",
       "      <td>1</td>\n",
       "      <td>2</td>\n",
       "      <td>1</td>\n",
       "      <td>41</td>\n",
       "      <td>0.9</td>\n",
       "      <td>145</td>\n",
       "      <td>5</td>\n",
       "      <td>6</td>\n",
       "      <td>1263</td>\n",
       "      <td>1716</td>\n",
       "      <td>2603</td>\n",
       "      <td>11</td>\n",
       "      <td>2</td>\n",
       "      <td>9</td>\n",
       "      <td>1</td>\n",
       "      <td>1</td>\n",
       "      <td>0</td>\n",
       "      <td>2</td>\n",
       "    </tr>\n",
       "    <tr>\n",
       "      <th>3</th>\n",
       "      <td>615</td>\n",
       "      <td>1</td>\n",
       "      <td>2.5</td>\n",
       "      <td>0</td>\n",
       "      <td>0</td>\n",
       "      <td>0</td>\n",
       "      <td>10</td>\n",
       "      <td>0.8</td>\n",
       "      <td>131</td>\n",
       "      <td>6</td>\n",
       "      <td>9</td>\n",
       "      <td>1216</td>\n",
       "      <td>1786</td>\n",
       "      <td>2769</td>\n",
       "      <td>16</td>\n",
       "      <td>8</td>\n",
       "      <td>11</td>\n",
       "      <td>1</td>\n",
       "      <td>0</td>\n",
       "      <td>0</td>\n",
       "      <td>2</td>\n",
       "    </tr>\n",
       "    <tr>\n",
       "      <th>4</th>\n",
       "      <td>1821</td>\n",
       "      <td>1</td>\n",
       "      <td>1.2</td>\n",
       "      <td>0</td>\n",
       "      <td>13</td>\n",
       "      <td>1</td>\n",
       "      <td>44</td>\n",
       "      <td>0.6</td>\n",
       "      <td>141</td>\n",
       "      <td>2</td>\n",
       "      <td>14</td>\n",
       "      <td>1208</td>\n",
       "      <td>1212</td>\n",
       "      <td>1411</td>\n",
       "      <td>8</td>\n",
       "      <td>2</td>\n",
       "      <td>15</td>\n",
       "      <td>1</td>\n",
       "      <td>1</td>\n",
       "      <td>0</td>\n",
       "      <td>1</td>\n",
       "    </tr>\n",
       "  </tbody>\n",
       "</table>\n",
       "</div>"
      ],
      "text/plain": [
       "   battery_power  blue  clock_speed  dual_sim  fc  four_g  int_memory  m_dep  \\\n",
       "0            842     0          2.2         0   1       0           7    0.6   \n",
       "1           1021     1          0.5         1   0       1          53    0.7   \n",
       "2            563     1          0.5         1   2       1          41    0.9   \n",
       "3            615     1          2.5         0   0       0          10    0.8   \n",
       "4           1821     1          1.2         0  13       1          44    0.6   \n",
       "\n",
       "   mobile_wt  n_cores  pc  px_height  px_width   ram  sc_h  sc_w  talk_time  \\\n",
       "0        188        2   2         20       756  2549     9     7         19   \n",
       "1        136        3   6        905      1988  2631    17     3          7   \n",
       "2        145        5   6       1263      1716  2603    11     2          9   \n",
       "3        131        6   9       1216      1786  2769    16     8         11   \n",
       "4        141        2  14       1208      1212  1411     8     2         15   \n",
       "\n",
       "   three_g  touch_screen  wifi  price_range  \n",
       "0        0             0     1            1  \n",
       "1        1             1     0            2  \n",
       "2        1             1     0            2  \n",
       "3        1             0     0            2  \n",
       "4        1             1     0            1  "
      ]
     },
     "execution_count": 4,
     "metadata": {},
     "output_type": "execute_result"
    }
   ],
   "source": [
    "pd.options.display.max_columns = 21\n",
    "data.head()"
   ]
  },
  {
   "cell_type": "markdown",
   "metadata": {},
   "source": [
    "Come notiamo la quantità di dati non è molto elevata, per cui ci aspettiamo di poter lavorare con il dataset completamente in memoria senza usare strategie di \"risparmio\" di memoria."
   ]
  },
  {
   "cell_type": "code",
   "execution_count": 5,
   "metadata": {
    "scrolled": false
   },
   "outputs": [
    {
     "data": {
      "text/plain": [
       "2000"
      ]
     },
     "execution_count": 5,
     "metadata": {},
     "output_type": "execute_result"
    }
   ],
   "source": [
    "len(data)"
   ]
  },
  {
   "cell_type": "markdown",
   "metadata": {},
   "source": [
    "Nel nostro caso la variabile da predire è **price_range**, l'ultima colonna, per cui per comodità la mettiamo come prima.  \n",
    "Questa variabile è discreta e può assumere 4 valori, cioè 4 possibili fasce di prezzo:  \n",
    "\n",
    "0. Bassa\n",
    "1. Media\n",
    "2. Alta\n",
    "3. Molto alta\n",
    "\n",
    "La variabile da predire è quindi discreta multivariata."
   ]
  },
  {
   "cell_type": "code",
   "execution_count": 6,
   "metadata": {
    "scrolled": false
   },
   "outputs": [
    {
     "data": {
      "text/html": [
       "<div>\n",
       "<style scoped>\n",
       "    .dataframe tbody tr th:only-of-type {\n",
       "        vertical-align: middle;\n",
       "    }\n",
       "\n",
       "    .dataframe tbody tr th {\n",
       "        vertical-align: top;\n",
       "    }\n",
       "\n",
       "    .dataframe thead th {\n",
       "        text-align: right;\n",
       "    }\n",
       "</style>\n",
       "<table border=\"1\" class=\"dataframe\">\n",
       "  <thead>\n",
       "    <tr style=\"text-align: right;\">\n",
       "      <th></th>\n",
       "      <th>price_range</th>\n",
       "      <th>battery_power</th>\n",
       "      <th>blue</th>\n",
       "      <th>clock_speed</th>\n",
       "      <th>dual_sim</th>\n",
       "      <th>fc</th>\n",
       "      <th>four_g</th>\n",
       "      <th>int_memory</th>\n",
       "      <th>m_dep</th>\n",
       "      <th>mobile_wt</th>\n",
       "      <th>n_cores</th>\n",
       "      <th>pc</th>\n",
       "      <th>px_height</th>\n",
       "      <th>px_width</th>\n",
       "      <th>ram</th>\n",
       "      <th>sc_h</th>\n",
       "      <th>sc_w</th>\n",
       "      <th>talk_time</th>\n",
       "      <th>three_g</th>\n",
       "      <th>touch_screen</th>\n",
       "      <th>wifi</th>\n",
       "    </tr>\n",
       "  </thead>\n",
       "  <tbody>\n",
       "    <tr>\n",
       "      <th>0</th>\n",
       "      <td>1</td>\n",
       "      <td>842</td>\n",
       "      <td>0</td>\n",
       "      <td>2.2</td>\n",
       "      <td>0</td>\n",
       "      <td>1</td>\n",
       "      <td>0</td>\n",
       "      <td>7</td>\n",
       "      <td>0.6</td>\n",
       "      <td>188</td>\n",
       "      <td>2</td>\n",
       "      <td>2</td>\n",
       "      <td>20</td>\n",
       "      <td>756</td>\n",
       "      <td>2549</td>\n",
       "      <td>9</td>\n",
       "      <td>7</td>\n",
       "      <td>19</td>\n",
       "      <td>0</td>\n",
       "      <td>0</td>\n",
       "      <td>1</td>\n",
       "    </tr>\n",
       "    <tr>\n",
       "      <th>1</th>\n",
       "      <td>2</td>\n",
       "      <td>1021</td>\n",
       "      <td>1</td>\n",
       "      <td>0.5</td>\n",
       "      <td>1</td>\n",
       "      <td>0</td>\n",
       "      <td>1</td>\n",
       "      <td>53</td>\n",
       "      <td>0.7</td>\n",
       "      <td>136</td>\n",
       "      <td>3</td>\n",
       "      <td>6</td>\n",
       "      <td>905</td>\n",
       "      <td>1988</td>\n",
       "      <td>2631</td>\n",
       "      <td>17</td>\n",
       "      <td>3</td>\n",
       "      <td>7</td>\n",
       "      <td>1</td>\n",
       "      <td>1</td>\n",
       "      <td>0</td>\n",
       "    </tr>\n",
       "    <tr>\n",
       "      <th>2</th>\n",
       "      <td>2</td>\n",
       "      <td>563</td>\n",
       "      <td>1</td>\n",
       "      <td>0.5</td>\n",
       "      <td>1</td>\n",
       "      <td>2</td>\n",
       "      <td>1</td>\n",
       "      <td>41</td>\n",
       "      <td>0.9</td>\n",
       "      <td>145</td>\n",
       "      <td>5</td>\n",
       "      <td>6</td>\n",
       "      <td>1263</td>\n",
       "      <td>1716</td>\n",
       "      <td>2603</td>\n",
       "      <td>11</td>\n",
       "      <td>2</td>\n",
       "      <td>9</td>\n",
       "      <td>1</td>\n",
       "      <td>1</td>\n",
       "      <td>0</td>\n",
       "    </tr>\n",
       "    <tr>\n",
       "      <th>3</th>\n",
       "      <td>2</td>\n",
       "      <td>615</td>\n",
       "      <td>1</td>\n",
       "      <td>2.5</td>\n",
       "      <td>0</td>\n",
       "      <td>0</td>\n",
       "      <td>0</td>\n",
       "      <td>10</td>\n",
       "      <td>0.8</td>\n",
       "      <td>131</td>\n",
       "      <td>6</td>\n",
       "      <td>9</td>\n",
       "      <td>1216</td>\n",
       "      <td>1786</td>\n",
       "      <td>2769</td>\n",
       "      <td>16</td>\n",
       "      <td>8</td>\n",
       "      <td>11</td>\n",
       "      <td>1</td>\n",
       "      <td>0</td>\n",
       "      <td>0</td>\n",
       "    </tr>\n",
       "    <tr>\n",
       "      <th>4</th>\n",
       "      <td>1</td>\n",
       "      <td>1821</td>\n",
       "      <td>1</td>\n",
       "      <td>1.2</td>\n",
       "      <td>0</td>\n",
       "      <td>13</td>\n",
       "      <td>1</td>\n",
       "      <td>44</td>\n",
       "      <td>0.6</td>\n",
       "      <td>141</td>\n",
       "      <td>2</td>\n",
       "      <td>14</td>\n",
       "      <td>1208</td>\n",
       "      <td>1212</td>\n",
       "      <td>1411</td>\n",
       "      <td>8</td>\n",
       "      <td>2</td>\n",
       "      <td>15</td>\n",
       "      <td>1</td>\n",
       "      <td>1</td>\n",
       "      <td>0</td>\n",
       "    </tr>\n",
       "  </tbody>\n",
       "</table>\n",
       "</div>"
      ],
      "text/plain": [
       "   price_range  battery_power  blue  clock_speed  dual_sim  fc  four_g  \\\n",
       "0            1            842     0          2.2         0   1       0   \n",
       "1            2           1021     1          0.5         1   0       1   \n",
       "2            2            563     1          0.5         1   2       1   \n",
       "3            2            615     1          2.5         0   0       0   \n",
       "4            1           1821     1          1.2         0  13       1   \n",
       "\n",
       "   int_memory  m_dep  mobile_wt  n_cores  pc  px_height  px_width   ram  sc_h  \\\n",
       "0           7    0.6        188        2   2         20       756  2549     9   \n",
       "1          53    0.7        136        3   6        905      1988  2631    17   \n",
       "2          41    0.9        145        5   6       1263      1716  2603    11   \n",
       "3          10    0.8        131        6   9       1216      1786  2769    16   \n",
       "4          44    0.6        141        2  14       1208      1212  1411     8   \n",
       "\n",
       "   sc_w  talk_time  three_g  touch_screen  wifi  \n",
       "0     7         19        0             0     1  \n",
       "1     3          7        1             1     0  \n",
       "2     2          9        1             1     0  \n",
       "3     8         11        1             0     0  \n",
       "4     2         15        1             1     0  "
      ]
     },
     "execution_count": 6,
     "metadata": {},
     "output_type": "execute_result"
    }
   ],
   "source": [
    "columns_names = data.columns.to_list()\n",
    "columns_names.insert(0, columns_names.pop(-1))\n",
    "data = data.reindex(columns=columns_names)\n",
    "data.head()"
   ]
  },
  {
   "cell_type": "markdown",
   "metadata": {},
   "source": [
    "Le altre feature indicano rispettivamente:  \n",
    "- **battery_power**: capienza batteria in milliampereora\n",
    "- **blue**: ha bluetooth (1) o no (0)\n",
    "- **clock_speed**: velocità del microprocessore\n",
    "- **dual_sim**: può montare 2 sim (1) o no (0)\n",
    "- **fc**: mega pixel della fotocamera frontale (0 se non ce l'ha)\n",
    "- **four_g**: ha il 4G (1) o no (0)\n",
    "- **int_memory**: memoria interna in giga bytes\n",
    "- **m_dep**: spessore del cellurare in cm\n",
    "- **mobile_wt**: peso del cellulare in grammi\n",
    "- **n_cores**: numero di core del processore\n",
    "- **pc**: mega pixel della fotocamera principale\n",
    "- **px_height** e **px_width**: risoluzione in pixel, altezza e larghezza\n",
    "- **ram**: memoria ram in mega bytes\n",
    "- **sc_h** e **sc_w**: altezza e larghezza schermo in cm\n",
    "- **talk_time**: durata della batteria durante una chiamata (in ore)\n",
    "- **three_g**: ha il 3G (1) o no (0)\n",
    "- **touch_screen**: è touch (1) o no (0)\n",
    "- **wifi**: ha il wifi (1) o no (0)"
   ]
  },
  {
   "cell_type": "markdown",
   "metadata": {},
   "source": [
    "Come notiamo dall'elenco delle feature abbiamo 6 **variabili discrete binarie** e le restanti 14 **variabili continue**."
   ]
  },
  {
   "cell_type": "code",
   "execution_count": 7,
   "metadata": {
    "scrolled": true
   },
   "outputs": [
    {
     "data": {
      "text/plain": [
       "['battery_power',\n",
       " 'clock_speed',\n",
       " 'fc',\n",
       " 'int_memory',\n",
       " 'm_dep',\n",
       " 'mobile_wt',\n",
       " 'n_cores',\n",
       " 'pc',\n",
       " 'px_height',\n",
       " 'px_width',\n",
       " 'ram',\n",
       " 'sc_h',\n",
       " 'sc_w',\n",
       " 'talk_time']"
      ]
     },
     "execution_count": 7,
     "metadata": {},
     "output_type": "execute_result"
    }
   ],
   "source": [
    "binary_feature = [\"blue\", \"dual_sim\", \"four_g\", \"three_g\", \"touch_screen\", \"wifi\"]\n",
    "continuos_feature = data.columns.to_list()\n",
    "for b in binary_feature:\n",
    "    continuos_feature.remove(b)\n",
    "continuos_feature.remove(\"price_range\")\n",
    "continuos_feature"
   ]
  },
  {
   "cell_type": "code",
   "execution_count": 8,
   "metadata": {
    "scrolled": true
   },
   "outputs": [
    {
     "data": {
      "text/plain": [
       "14"
      ]
     },
     "execution_count": 8,
     "metadata": {},
     "output_type": "execute_result"
    }
   ],
   "source": [
    "#controlliamo siamo 14\n",
    "len(continuos_feature)"
   ]
  },
  {
   "cell_type": "markdown",
   "metadata": {},
   "source": [
    "## Analisi esplorativa\n",
    "\n",
    "Iniziamo vedendo come sono distribuite le fasce di prezzo e quindi come è distribuita la varibile target."
   ]
  },
  {
   "cell_type": "code",
   "execution_count": 9,
   "metadata": {
    "scrolled": false
   },
   "outputs": [
    {
     "data": {
      "text/plain": [
       "<AxesSubplot:>"
      ]
     },
     "execution_count": 9,
     "metadata": {},
     "output_type": "execute_result"
    },
    {
     "data": {
      "image/png": "[encoded data removed]",
      "text/plain": [
       "<Figure size 432x288 with 1 Axes>"
      ]
     },
     "metadata": {
      "needs_background": "light"
     },
     "output_type": "display_data"
    }
   ],
   "source": [
    "data[\"price_range\"].value_counts().plot.bar()"
   ]
  },
  {
   "cell_type": "markdown",
   "metadata": {},
   "source": [
    "La distribuzione dei telefoni nelle varie fasce di prezzo è **perfettamente bilanciata**, questo mi fa pensare che il dataset sia poco \"realistico\" e probabilmente realizzato in modo \"artificiale\". Questo non esclude però che si possa cercare un modello analizzando questi dati, e il fatto che la variabile target sia così equamente distribuita può soltanto aiutare a trovare un modello migliore.\n",
    "\n",
    "Vediamo ora la distribuzione di alcune feature, per esempio quelle binarie."
   ]
  },
  {
   "cell_type": "code",
   "execution_count": 10,
   "metadata": {
    "scrolled": true
   },
   "outputs": [
    {
     "data": {
      "image/png": "[encoded data removed]",
      "text/plain": [
       "<Figure size 432x288 with 6 Axes>"
      ]
     },
     "metadata": {},
     "output_type": "display_data"
    }
   ],
   "source": [
    "for i, f in enumerate(binary_feature, 1):\n",
    "    plt.subplot(2, 3, i)\n",
    "    data[f].value_counts().plot.pie()"
   ]
  },
  {
   "cell_type": "markdown",
   "metadata": {},
   "source": [
    "Da qui notiamo che circa **la metà** dei cellulari ha il bluetooth e l'altra metà no. Stessa cosa vale per la doppia sim, il 4G, il touch screen e il wifi. Invece ad avere il 3G sono circa i **3/4** dei telefoni, contro l'**1/4** che non ce l'ha.\n",
    "\n",
    "Proviamo a vedere invece dati più dettagliati riguardanti la capacità della batteria e la velocità del processore."
   ]
  },
  {
   "cell_type": "code",
   "execution_count": 11,
   "metadata": {
    "scrolled": false
   },
   "outputs": [
    {
     "data": {
      "text/plain": [
       "count    2000.000000\n",
       "mean     1238.518500\n",
       "std       439.418206\n",
       "min       501.000000\n",
       "25%       851.750000\n",
       "50%      1226.000000\n",
       "75%      1615.250000\n",
       "max      1998.000000\n",
       "Name: battery_power, dtype: float64"
      ]
     },
     "execution_count": 11,
     "metadata": {},
     "output_type": "execute_result"
    }
   ],
   "source": [
    "data[\"battery_power\"].describe()"
   ]
  },
  {
   "cell_type": "code",
   "execution_count": 12,
   "metadata": {
    "scrolled": true
   },
   "outputs": [
    {
     "data": {
      "text/plain": [
       "<AxesSubplot:>"
      ]
     },
     "execution_count": 12,
     "metadata": {},
     "output_type": "execute_result"
    },
    {
     "data": {
      "image/png": "[encoded data removed]",
      "text/plain": [
       "<Figure size 432x288 with 1 Axes>"
      ]
     },
     "metadata": {
      "needs_background": "light"
     },
     "output_type": "display_data"
    }
   ],
   "source": [
    "data[\"battery_power\"].plot.box(showmeans=True)"
   ]
  },
  {
   "cell_type": "code",
   "execution_count": 13,
   "metadata": {
    "scrolled": false
   },
   "outputs": [
    {
     "data": {
      "text/plain": [
       "<AxesSubplot:>"
      ]
     },
     "execution_count": 13,
     "metadata": {},
     "output_type": "execute_result"
    },
    {
     "data": {
      "image/png": "[encoded data removed]",
      "text/plain": [
       "<Figure size 432x288 with 1 Axes>"
      ]
     },
     "metadata": {
      "needs_background": "light"
     },
     "output_type": "display_data"
    }
   ],
   "source": [
    "data[\"clock_speed\"].plot.box(showmeans=True)"
   ]
  },
  {
   "cell_type": "markdown",
   "metadata": {},
   "source": [
    "Come ci si può aspettare da questo tipo di specifiche i dati sono distribuiti in modo abbastanza \"standard\", per esempio **non** sono presenti **outliers** nei box plot, d'altra parte ci sembrerebbe strano trovare un unico micro processore di molto superiore agli altri come velocità (es. 4ghz), specialmente in un dataset non troppo recente.\n",
    "Le batterie vanno da 500 a 2000 mAh con una media di ~1200 e sono distribuite in **modo piuttosto uniforme** guardando 25° e 75° percentile, mentre la maggior parte dei microprocessori si trova spostata verso l'estremo inferiore (il 75° percentile è lontano dal massimo mentre il 25° è vicino al minimo)."
   ]
  },
  {
   "cell_type": "markdown",
   "metadata": {},
   "source": [
    "Proviamo ora a vedere la distribuzione di alcune variabili rispetto alla variabile target della fascia di prezzo."
   ]
  },
  {
   "cell_type": "code",
   "execution_count": 14,
   "metadata": {
    "scrolled": false
   },
   "outputs": [
    {
     "data": {
      "text/plain": [
       "[Text(0.5, 0, 'RAM')]"
      ]
     },
     "execution_count": 14,
     "metadata": {},
     "output_type": "execute_result"
    },
    {
     "data": {
      "image/png": "[encoded data removed]",
      "text/plain": [
       "<Figure size 432x288 with 1 Axes>"
      ]
     },
     "metadata": {
      "needs_background": "light"
     },
     "output_type": "display_data"
    }
   ],
   "source": [
    "data.pivot(columns=\"price_range\")[\"ram\"].plot.hist(bins=10, stacked=True).set(xlabel=\"RAM\")"
   ]
  },
  {
   "cell_type": "code",
   "execution_count": 15,
   "metadata": {
    "scrolled": true
   },
   "outputs": [
    {
     "data": {
      "text/plain": [
       "[Text(0.5, 0, 'Capacità batteria')]"
      ]
     },
     "execution_count": 15,
     "metadata": {},
     "output_type": "execute_result"
    },
    {
     "data": {
      "image/png": "[encoded data removed]",
      "text/plain": [
       "<Figure size 432x288 with 1 Axes>"
      ]
     },
     "metadata": {
      "needs_background": "light"
     },
     "output_type": "display_data"
    }
   ],
   "source": [
    "data.pivot(columns=\"price_range\")[\"battery_power\"].plot.hist(bins=20, stacked=True).set(xlabel=\"Capacità batteria\")"
   ]
  },
  {
   "cell_type": "markdown",
   "metadata": {},
   "source": [
    "Come notiamo dal primo grafico all'**aumentare di prezzo è maggiore la grandezza della memoria RAM**, mentre dal secondo si nota che anche la capacità della batteria ha un'influenza sul prezzo, anche se molto minore.  "
   ]
  },
  {
   "cell_type": "code",
   "execution_count": 16,
   "metadata": {
    "scrolled": false
   },
   "outputs": [
    {
     "data": {
      "text/plain": [
       "price_range  four_g\n",
       "0            0         241\n",
       "             1         259\n",
       "1            0         238\n",
       "             1         262\n",
       "2            0         253\n",
       "             1         247\n",
       "3            0         225\n",
       "             1         275\n",
       "dtype: int64"
      ]
     },
     "execution_count": 16,
     "metadata": {},
     "output_type": "execute_result"
    }
   ],
   "source": [
    "data.groupby([\"price_range\", \"four_g\"]).size()"
   ]
  },
  {
   "cell_type": "code",
   "execution_count": 17,
   "metadata": {
    "scrolled": false
   },
   "outputs": [
    {
     "data": {
      "text/plain": [
       "price_range  wifi\n",
       "0            0       252\n",
       "             1       248\n",
       "1            0       248\n",
       "             1       252\n",
       "2            0       248\n",
       "             1       252\n",
       "3            0       238\n",
       "             1       262\n",
       "dtype: int64"
      ]
     },
     "execution_count": 17,
     "metadata": {},
     "output_type": "execute_result"
    }
   ],
   "source": [
    "data.groupby([\"price_range\", \"wifi\"]).size()"
   ]
  },
  {
   "cell_type": "markdown",
   "metadata": {},
   "source": [
    "Mentre dalle due tabelle che considerano rispettivamente la presenza del **4G** o del **wifi** nel telefono si nota che tendenzialmente un telefono più costoso ha più probabilità di avere questi optional."
   ]
  },
  {
   "cell_type": "code",
   "execution_count": 18,
   "metadata": {
    "scrolled": true
   },
   "outputs": [],
   "source": [
    "range_colors_map = {0: \"blue\", 1: \"orange\", 2: \"green\", 3:\"red\"}\n",
    "range_colors = data[\"price_range\"].map(range_colors_map)"
   ]
  },
  {
   "cell_type": "code",
   "execution_count": 19,
   "metadata": {
    "scrolled": false
   },
   "outputs": [
    {
     "data": {
      "text/plain": [
       "<AxesSubplot:xlabel='battery_power', ylabel='ram'>"
      ]
     },
     "execution_count": 19,
     "metadata": {},
     "output_type": "execute_result"
    },
    {
     "data": {
      "image/png": "[encoded data removed]",
      "text/plain": [
       "<Figure size 720x576 with 1 Axes>"
      ]
     },
     "metadata": {
      "needs_background": "light"
     },
     "output_type": "display_data"
    }
   ],
   "source": [
    "data.plot.scatter(\"battery_power\", \"ram\", c=range_colors, figsize=(10, 8))"
   ]
  },
  {
   "cell_type": "markdown",
   "metadata": {},
   "source": [
    "Grazie allo scatter plot e ai colori usati come indicatori della fascia di prezzo (blue: bassa, giallo: media, verde: alta, rosso: molto alta) riusciamo a vedere come influiscono 2 diverse feature (RAM e capienza batteria) sulla fascia di prezzo."
   ]
  },
  {
   "cell_type": "code",
   "execution_count": 20,
   "metadata": {},
   "outputs": [
    {
     "data": {
      "text/html": [
       "<div>\n",
       "<style scoped>\n",
       "    .dataframe tbody tr th:only-of-type {\n",
       "        vertical-align: middle;\n",
       "    }\n",
       "\n",
       "    .dataframe tbody tr th {\n",
       "        vertical-align: top;\n",
       "    }\n",
       "\n",
       "    .dataframe thead th {\n",
       "        text-align: right;\n",
       "    }\n",
       "</style>\n",
       "<table border=\"1\" class=\"dataframe\">\n",
       "  <thead>\n",
       "    <tr style=\"text-align: right;\">\n",
       "      <th></th>\n",
       "      <th>price_range</th>\n",
       "      <th>battery_power</th>\n",
       "      <th>blue</th>\n",
       "      <th>clock_speed</th>\n",
       "      <th>dual_sim</th>\n",
       "      <th>fc</th>\n",
       "      <th>four_g</th>\n",
       "      <th>int_memory</th>\n",
       "      <th>m_dep</th>\n",
       "      <th>mobile_wt</th>\n",
       "      <th>n_cores</th>\n",
       "      <th>pc</th>\n",
       "      <th>px_height</th>\n",
       "      <th>px_width</th>\n",
       "      <th>ram</th>\n",
       "      <th>sc_h</th>\n",
       "      <th>sc_w</th>\n",
       "      <th>talk_time</th>\n",
       "      <th>three_g</th>\n",
       "      <th>touch_screen</th>\n",
       "      <th>wifi</th>\n",
       "    </tr>\n",
       "  </thead>\n",
       "  <tbody>\n",
       "    <tr>\n",
       "      <th>price_range</th>\n",
       "      <td>1.000000</td>\n",
       "      <td>0.200723</td>\n",
       "      <td>NaN</td>\n",
       "      <td>NaN</td>\n",
       "      <td>NaN</td>\n",
       "      <td>NaN</td>\n",
       "      <td>NaN</td>\n",
       "      <td>NaN</td>\n",
       "      <td>NaN</td>\n",
       "      <td>NaN</td>\n",
       "      <td>NaN</td>\n",
       "      <td>NaN</td>\n",
       "      <td>0.148858</td>\n",
       "      <td>0.165818</td>\n",
       "      <td>0.917046</td>\n",
       "      <td>NaN</td>\n",
       "      <td>NaN</td>\n",
       "      <td>NaN</td>\n",
       "      <td>NaN</td>\n",
       "      <td>NaN</td>\n",
       "      <td>NaN</td>\n",
       "    </tr>\n",
       "    <tr>\n",
       "      <th>battery_power</th>\n",
       "      <td>0.200723</td>\n",
       "      <td>1.000000</td>\n",
       "      <td>NaN</td>\n",
       "      <td>NaN</td>\n",
       "      <td>NaN</td>\n",
       "      <td>NaN</td>\n",
       "      <td>NaN</td>\n",
       "      <td>NaN</td>\n",
       "      <td>NaN</td>\n",
       "      <td>NaN</td>\n",
       "      <td>NaN</td>\n",
       "      <td>NaN</td>\n",
       "      <td>NaN</td>\n",
       "      <td>NaN</td>\n",
       "      <td>NaN</td>\n",
       "      <td>NaN</td>\n",
       "      <td>NaN</td>\n",
       "      <td>0.05251</td>\n",
       "      <td>NaN</td>\n",
       "      <td>NaN</td>\n",
       "      <td>NaN</td>\n",
       "    </tr>\n",
       "    <tr>\n",
       "      <th>blue</th>\n",
       "      <td>NaN</td>\n",
       "      <td>NaN</td>\n",
       "      <td>1.0</td>\n",
       "      <td>NaN</td>\n",
       "      <td>NaN</td>\n",
       "      <td>NaN</td>\n",
       "      <td>NaN</td>\n",
       "      <td>NaN</td>\n",
       "      <td>NaN</td>\n",
       "      <td>NaN</td>\n",
       "      <td>NaN</td>\n",
       "      <td>NaN</td>\n",
       "      <td>NaN</td>\n",
       "      <td>NaN</td>\n",
       "      <td>NaN</td>\n",
       "      <td>NaN</td>\n",
       "      <td>NaN</td>\n",
       "      <td>NaN</td>\n",
       "      <td>NaN</td>\n",
       "      <td>NaN</td>\n",
       "      <td>NaN</td>\n",
       "    </tr>\n",
       "    <tr>\n",
       "      <th>clock_speed</th>\n",
       "      <td>NaN</td>\n",
       "      <td>NaN</td>\n",
       "      <td>NaN</td>\n",
       "      <td>1.0</td>\n",
       "      <td>NaN</td>\n",
       "      <td>NaN</td>\n",
       "      <td>NaN</td>\n",
       "      <td>NaN</td>\n",
       "      <td>NaN</td>\n",
       "      <td>NaN</td>\n",
       "      <td>NaN</td>\n",
       "      <td>NaN</td>\n",
       "      <td>NaN</td>\n",
       "      <td>NaN</td>\n",
       "      <td>NaN</td>\n",
       "      <td>NaN</td>\n",
       "      <td>NaN</td>\n",
       "      <td>NaN</td>\n",
       "      <td>NaN</td>\n",
       "      <td>NaN</td>\n",
       "      <td>NaN</td>\n",
       "    </tr>\n",
       "    <tr>\n",
       "      <th>dual_sim</th>\n",
       "      <td>NaN</td>\n",
       "      <td>NaN</td>\n",
       "      <td>NaN</td>\n",
       "      <td>NaN</td>\n",
       "      <td>1.0</td>\n",
       "      <td>NaN</td>\n",
       "      <td>NaN</td>\n",
       "      <td>NaN</td>\n",
       "      <td>NaN</td>\n",
       "      <td>NaN</td>\n",
       "      <td>NaN</td>\n",
       "      <td>NaN</td>\n",
       "      <td>NaN</td>\n",
       "      <td>NaN</td>\n",
       "      <td>NaN</td>\n",
       "      <td>NaN</td>\n",
       "      <td>NaN</td>\n",
       "      <td>NaN</td>\n",
       "      <td>NaN</td>\n",
       "      <td>NaN</td>\n",
       "      <td>NaN</td>\n",
       "    </tr>\n",
       "    <tr>\n",
       "      <th>fc</th>\n",
       "      <td>NaN</td>\n",
       "      <td>NaN</td>\n",
       "      <td>NaN</td>\n",
       "      <td>NaN</td>\n",
       "      <td>NaN</td>\n",
       "      <td>1.000000</td>\n",
       "      <td>NaN</td>\n",
       "      <td>NaN</td>\n",
       "      <td>NaN</td>\n",
       "      <td>NaN</td>\n",
       "      <td>NaN</td>\n",
       "      <td>0.644595</td>\n",
       "      <td>NaN</td>\n",
       "      <td>NaN</td>\n",
       "      <td>NaN</td>\n",
       "      <td>NaN</td>\n",
       "      <td>NaN</td>\n",
       "      <td>NaN</td>\n",
       "      <td>NaN</td>\n",
       "      <td>NaN</td>\n",
       "      <td>NaN</td>\n",
       "    </tr>\n",
       "    <tr>\n",
       "      <th>four_g</th>\n",
       "      <td>NaN</td>\n",
       "      <td>NaN</td>\n",
       "      <td>NaN</td>\n",
       "      <td>NaN</td>\n",
       "      <td>NaN</td>\n",
       "      <td>NaN</td>\n",
       "      <td>1.000000</td>\n",
       "      <td>NaN</td>\n",
       "      <td>NaN</td>\n",
       "      <td>NaN</td>\n",
       "      <td>NaN</td>\n",
       "      <td>NaN</td>\n",
       "      <td>NaN</td>\n",
       "      <td>NaN</td>\n",
       "      <td>NaN</td>\n",
       "      <td>NaN</td>\n",
       "      <td>NaN</td>\n",
       "      <td>NaN</td>\n",
       "      <td>0.584246</td>\n",
       "      <td>NaN</td>\n",
       "      <td>NaN</td>\n",
       "    </tr>\n",
       "    <tr>\n",
       "      <th>int_memory</th>\n",
       "      <td>NaN</td>\n",
       "      <td>NaN</td>\n",
       "      <td>NaN</td>\n",
       "      <td>NaN</td>\n",
       "      <td>NaN</td>\n",
       "      <td>NaN</td>\n",
       "      <td>NaN</td>\n",
       "      <td>1.0</td>\n",
       "      <td>NaN</td>\n",
       "      <td>NaN</td>\n",
       "      <td>NaN</td>\n",
       "      <td>NaN</td>\n",
       "      <td>NaN</td>\n",
       "      <td>NaN</td>\n",
       "      <td>NaN</td>\n",
       "      <td>NaN</td>\n",
       "      <td>NaN</td>\n",
       "      <td>NaN</td>\n",
       "      <td>NaN</td>\n",
       "      <td>NaN</td>\n",
       "      <td>NaN</td>\n",
       "    </tr>\n",
       "    <tr>\n",
       "      <th>m_dep</th>\n",
       "      <td>NaN</td>\n",
       "      <td>NaN</td>\n",
       "      <td>NaN</td>\n",
       "      <td>NaN</td>\n",
       "      <td>NaN</td>\n",
       "      <td>NaN</td>\n",
       "      <td>NaN</td>\n",
       "      <td>NaN</td>\n",
       "      <td>1.0</td>\n",
       "      <td>NaN</td>\n",
       "      <td>NaN</td>\n",
       "      <td>NaN</td>\n",
       "      <td>NaN</td>\n",
       "      <td>NaN</td>\n",
       "      <td>NaN</td>\n",
       "      <td>NaN</td>\n",
       "      <td>NaN</td>\n",
       "      <td>NaN</td>\n",
       "      <td>NaN</td>\n",
       "      <td>NaN</td>\n",
       "      <td>NaN</td>\n",
       "    </tr>\n",
       "    <tr>\n",
       "      <th>mobile_wt</th>\n",
       "      <td>NaN</td>\n",
       "      <td>NaN</td>\n",
       "      <td>NaN</td>\n",
       "      <td>NaN</td>\n",
       "      <td>NaN</td>\n",
       "      <td>NaN</td>\n",
       "      <td>NaN</td>\n",
       "      <td>NaN</td>\n",
       "      <td>NaN</td>\n",
       "      <td>1.0</td>\n",
       "      <td>NaN</td>\n",
       "      <td>NaN</td>\n",
       "      <td>NaN</td>\n",
       "      <td>NaN</td>\n",
       "      <td>NaN</td>\n",
       "      <td>NaN</td>\n",
       "      <td>NaN</td>\n",
       "      <td>NaN</td>\n",
       "      <td>NaN</td>\n",
       "      <td>NaN</td>\n",
       "      <td>NaN</td>\n",
       "    </tr>\n",
       "    <tr>\n",
       "      <th>n_cores</th>\n",
       "      <td>NaN</td>\n",
       "      <td>NaN</td>\n",
       "      <td>NaN</td>\n",
       "      <td>NaN</td>\n",
       "      <td>NaN</td>\n",
       "      <td>NaN</td>\n",
       "      <td>NaN</td>\n",
       "      <td>NaN</td>\n",
       "      <td>NaN</td>\n",
       "      <td>NaN</td>\n",
       "      <td>1.0</td>\n",
       "      <td>NaN</td>\n",
       "      <td>NaN</td>\n",
       "      <td>NaN</td>\n",
       "      <td>NaN</td>\n",
       "      <td>NaN</td>\n",
       "      <td>NaN</td>\n",
       "      <td>NaN</td>\n",
       "      <td>NaN</td>\n",
       "      <td>NaN</td>\n",
       "      <td>NaN</td>\n",
       "    </tr>\n",
       "    <tr>\n",
       "      <th>pc</th>\n",
       "      <td>NaN</td>\n",
       "      <td>NaN</td>\n",
       "      <td>NaN</td>\n",
       "      <td>NaN</td>\n",
       "      <td>NaN</td>\n",
       "      <td>0.644595</td>\n",
       "      <td>NaN</td>\n",
       "      <td>NaN</td>\n",
       "      <td>NaN</td>\n",
       "      <td>NaN</td>\n",
       "      <td>NaN</td>\n",
       "      <td>1.000000</td>\n",
       "      <td>NaN</td>\n",
       "      <td>NaN</td>\n",
       "      <td>NaN</td>\n",
       "      <td>NaN</td>\n",
       "      <td>NaN</td>\n",
       "      <td>NaN</td>\n",
       "      <td>NaN</td>\n",
       "      <td>NaN</td>\n",
       "      <td>NaN</td>\n",
       "    </tr>\n",
       "    <tr>\n",
       "      <th>px_height</th>\n",
       "      <td>0.148858</td>\n",
       "      <td>NaN</td>\n",
       "      <td>NaN</td>\n",
       "      <td>NaN</td>\n",
       "      <td>NaN</td>\n",
       "      <td>NaN</td>\n",
       "      <td>NaN</td>\n",
       "      <td>NaN</td>\n",
       "      <td>NaN</td>\n",
       "      <td>NaN</td>\n",
       "      <td>NaN</td>\n",
       "      <td>NaN</td>\n",
       "      <td>1.000000</td>\n",
       "      <td>0.510664</td>\n",
       "      <td>NaN</td>\n",
       "      <td>0.059615</td>\n",
       "      <td>NaN</td>\n",
       "      <td>NaN</td>\n",
       "      <td>NaN</td>\n",
       "      <td>NaN</td>\n",
       "      <td>0.051824</td>\n",
       "    </tr>\n",
       "    <tr>\n",
       "      <th>px_width</th>\n",
       "      <td>0.165818</td>\n",
       "      <td>NaN</td>\n",
       "      <td>NaN</td>\n",
       "      <td>NaN</td>\n",
       "      <td>NaN</td>\n",
       "      <td>NaN</td>\n",
       "      <td>NaN</td>\n",
       "      <td>NaN</td>\n",
       "      <td>NaN</td>\n",
       "      <td>NaN</td>\n",
       "      <td>NaN</td>\n",
       "      <td>NaN</td>\n",
       "      <td>0.510664</td>\n",
       "      <td>1.000000</td>\n",
       "      <td>NaN</td>\n",
       "      <td>NaN</td>\n",
       "      <td>NaN</td>\n",
       "      <td>NaN</td>\n",
       "      <td>NaN</td>\n",
       "      <td>NaN</td>\n",
       "      <td>NaN</td>\n",
       "    </tr>\n",
       "    <tr>\n",
       "      <th>ram</th>\n",
       "      <td>0.917046</td>\n",
       "      <td>NaN</td>\n",
       "      <td>NaN</td>\n",
       "      <td>NaN</td>\n",
       "      <td>NaN</td>\n",
       "      <td>NaN</td>\n",
       "      <td>NaN</td>\n",
       "      <td>NaN</td>\n",
       "      <td>NaN</td>\n",
       "      <td>NaN</td>\n",
       "      <td>NaN</td>\n",
       "      <td>NaN</td>\n",
       "      <td>NaN</td>\n",
       "      <td>NaN</td>\n",
       "      <td>1.000000</td>\n",
       "      <td>NaN</td>\n",
       "      <td>NaN</td>\n",
       "      <td>NaN</td>\n",
       "      <td>NaN</td>\n",
       "      <td>NaN</td>\n",
       "      <td>NaN</td>\n",
       "    </tr>\n",
       "    <tr>\n",
       "      <th>sc_h</th>\n",
       "      <td>NaN</td>\n",
       "      <td>NaN</td>\n",
       "      <td>NaN</td>\n",
       "      <td>NaN</td>\n",
       "      <td>NaN</td>\n",
       "      <td>NaN</td>\n",
       "      <td>NaN</td>\n",
       "      <td>NaN</td>\n",
       "      <td>NaN</td>\n",
       "      <td>NaN</td>\n",
       "      <td>NaN</td>\n",
       "      <td>NaN</td>\n",
       "      <td>0.059615</td>\n",
       "      <td>NaN</td>\n",
       "      <td>NaN</td>\n",
       "      <td>1.000000</td>\n",
       "      <td>0.506144</td>\n",
       "      <td>NaN</td>\n",
       "      <td>NaN</td>\n",
       "      <td>NaN</td>\n",
       "      <td>NaN</td>\n",
       "    </tr>\n",
       "    <tr>\n",
       "      <th>sc_w</th>\n",
       "      <td>NaN</td>\n",
       "      <td>NaN</td>\n",
       "      <td>NaN</td>\n",
       "      <td>NaN</td>\n",
       "      <td>NaN</td>\n",
       "      <td>NaN</td>\n",
       "      <td>NaN</td>\n",
       "      <td>NaN</td>\n",
       "      <td>NaN</td>\n",
       "      <td>NaN</td>\n",
       "      <td>NaN</td>\n",
       "      <td>NaN</td>\n",
       "      <td>NaN</td>\n",
       "      <td>NaN</td>\n",
       "      <td>NaN</td>\n",
       "      <td>0.506144</td>\n",
       "      <td>1.000000</td>\n",
       "      <td>NaN</td>\n",
       "      <td>NaN</td>\n",
       "      <td>NaN</td>\n",
       "      <td>NaN</td>\n",
       "    </tr>\n",
       "    <tr>\n",
       "      <th>talk_time</th>\n",
       "      <td>NaN</td>\n",
       "      <td>0.052510</td>\n",
       "      <td>NaN</td>\n",
       "      <td>NaN</td>\n",
       "      <td>NaN</td>\n",
       "      <td>NaN</td>\n",
       "      <td>NaN</td>\n",
       "      <td>NaN</td>\n",
       "      <td>NaN</td>\n",
       "      <td>NaN</td>\n",
       "      <td>NaN</td>\n",
       "      <td>NaN</td>\n",
       "      <td>NaN</td>\n",
       "      <td>NaN</td>\n",
       "      <td>NaN</td>\n",
       "      <td>NaN</td>\n",
       "      <td>NaN</td>\n",
       "      <td>1.00000</td>\n",
       "      <td>NaN</td>\n",
       "      <td>NaN</td>\n",
       "      <td>NaN</td>\n",
       "    </tr>\n",
       "    <tr>\n",
       "      <th>three_g</th>\n",
       "      <td>NaN</td>\n",
       "      <td>NaN</td>\n",
       "      <td>NaN</td>\n",
       "      <td>NaN</td>\n",
       "      <td>NaN</td>\n",
       "      <td>NaN</td>\n",
       "      <td>0.584246</td>\n",
       "      <td>NaN</td>\n",
       "      <td>NaN</td>\n",
       "      <td>NaN</td>\n",
       "      <td>NaN</td>\n",
       "      <td>NaN</td>\n",
       "      <td>NaN</td>\n",
       "      <td>NaN</td>\n",
       "      <td>NaN</td>\n",
       "      <td>NaN</td>\n",
       "      <td>NaN</td>\n",
       "      <td>NaN</td>\n",
       "      <td>1.000000</td>\n",
       "      <td>NaN</td>\n",
       "      <td>NaN</td>\n",
       "    </tr>\n",
       "    <tr>\n",
       "      <th>touch_screen</th>\n",
       "      <td>NaN</td>\n",
       "      <td>NaN</td>\n",
       "      <td>NaN</td>\n",
       "      <td>NaN</td>\n",
       "      <td>NaN</td>\n",
       "      <td>NaN</td>\n",
       "      <td>NaN</td>\n",
       "      <td>NaN</td>\n",
       "      <td>NaN</td>\n",
       "      <td>NaN</td>\n",
       "      <td>NaN</td>\n",
       "      <td>NaN</td>\n",
       "      <td>NaN</td>\n",
       "      <td>NaN</td>\n",
       "      <td>NaN</td>\n",
       "      <td>NaN</td>\n",
       "      <td>NaN</td>\n",
       "      <td>NaN</td>\n",
       "      <td>NaN</td>\n",
       "      <td>1.0</td>\n",
       "      <td>NaN</td>\n",
       "    </tr>\n",
       "    <tr>\n",
       "      <th>wifi</th>\n",
       "      <td>NaN</td>\n",
       "      <td>NaN</td>\n",
       "      <td>NaN</td>\n",
       "      <td>NaN</td>\n",
       "      <td>NaN</td>\n",
       "      <td>NaN</td>\n",
       "      <td>NaN</td>\n",
       "      <td>NaN</td>\n",
       "      <td>NaN</td>\n",
       "      <td>NaN</td>\n",
       "      <td>NaN</td>\n",
       "      <td>NaN</td>\n",
       "      <td>0.051824</td>\n",
       "      <td>NaN</td>\n",
       "      <td>NaN</td>\n",
       "      <td>NaN</td>\n",
       "      <td>NaN</td>\n",
       "      <td>NaN</td>\n",
       "      <td>NaN</td>\n",
       "      <td>NaN</td>\n",
       "      <td>1.000000</td>\n",
       "    </tr>\n",
       "  </tbody>\n",
       "</table>\n",
       "</div>"
      ],
      "text/plain": [
       "               price_range  battery_power  blue  clock_speed  dual_sim  \\\n",
       "price_range       1.000000       0.200723   NaN          NaN       NaN   \n",
       "battery_power     0.200723       1.000000   NaN          NaN       NaN   \n",
       "blue                   NaN            NaN   1.0          NaN       NaN   \n",
       "clock_speed            NaN            NaN   NaN          1.0       NaN   \n",
       "dual_sim               NaN            NaN   NaN          NaN       1.0   \n",
       "fc                     NaN            NaN   NaN          NaN       NaN   \n",
       "four_g                 NaN            NaN   NaN          NaN       NaN   \n",
       "int_memory             NaN            NaN   NaN          NaN       NaN   \n",
       "m_dep                  NaN            NaN   NaN          NaN       NaN   \n",
       "mobile_wt              NaN            NaN   NaN          NaN       NaN   \n",
       "n_cores                NaN            NaN   NaN          NaN       NaN   \n",
       "pc                     NaN            NaN   NaN          NaN       NaN   \n",
       "px_height         0.148858            NaN   NaN          NaN       NaN   \n",
       "px_width          0.165818            NaN   NaN          NaN       NaN   \n",
       "ram               0.917046            NaN   NaN          NaN       NaN   \n",
       "sc_h                   NaN            NaN   NaN          NaN       NaN   \n",
       "sc_w                   NaN            NaN   NaN          NaN       NaN   \n",
       "talk_time              NaN       0.052510   NaN          NaN       NaN   \n",
       "three_g                NaN            NaN   NaN          NaN       NaN   \n",
       "touch_screen           NaN            NaN   NaN          NaN       NaN   \n",
       "wifi                   NaN            NaN   NaN          NaN       NaN   \n",
       "\n",
       "                     fc    four_g  int_memory  m_dep  mobile_wt  n_cores  \\\n",
       "price_range         NaN       NaN         NaN    NaN        NaN      NaN   \n",
       "battery_power       NaN       NaN         NaN    NaN        NaN      NaN   \n",
       "blue                NaN       NaN         NaN    NaN        NaN      NaN   \n",
       "clock_speed         NaN       NaN         NaN    NaN        NaN      NaN   \n",
       "dual_sim            NaN       NaN         NaN    NaN        NaN      NaN   \n",
       "fc             1.000000       NaN         NaN    NaN        NaN      NaN   \n",
       "four_g              NaN  1.000000         NaN    NaN        NaN      NaN   \n",
       "int_memory          NaN       NaN         1.0    NaN        NaN      NaN   \n",
       "m_dep               NaN       NaN         NaN    1.0        NaN      NaN   \n",
       "mobile_wt           NaN       NaN         NaN    NaN        1.0      NaN   \n",
       "n_cores             NaN       NaN         NaN    NaN        NaN      1.0   \n",
       "pc             0.644595       NaN         NaN    NaN        NaN      NaN   \n",
       "px_height           NaN       NaN         NaN    NaN        NaN      NaN   \n",
       "px_width            NaN       NaN         NaN    NaN        NaN      NaN   \n",
       "ram                 NaN       NaN         NaN    NaN        NaN      NaN   \n",
       "sc_h                NaN       NaN         NaN    NaN        NaN      NaN   \n",
       "sc_w                NaN       NaN         NaN    NaN        NaN      NaN   \n",
       "talk_time           NaN       NaN         NaN    NaN        NaN      NaN   \n",
       "three_g             NaN  0.584246         NaN    NaN        NaN      NaN   \n",
       "touch_screen        NaN       NaN         NaN    NaN        NaN      NaN   \n",
       "wifi                NaN       NaN         NaN    NaN        NaN      NaN   \n",
       "\n",
       "                     pc  px_height  px_width       ram      sc_h      sc_w  \\\n",
       "price_range         NaN   0.148858  0.165818  0.917046       NaN       NaN   \n",
       "battery_power       NaN        NaN       NaN       NaN       NaN       NaN   \n",
       "blue                NaN        NaN       NaN       NaN       NaN       NaN   \n",
       "clock_speed         NaN        NaN       NaN       NaN       NaN       NaN   \n",
       "dual_sim            NaN        NaN       NaN       NaN       NaN       NaN   \n",
       "fc             0.644595        NaN       NaN       NaN       NaN       NaN   \n",
       "four_g              NaN        NaN       NaN       NaN       NaN       NaN   \n",
       "int_memory          NaN        NaN       NaN       NaN       NaN       NaN   \n",
       "m_dep               NaN        NaN       NaN       NaN       NaN       NaN   \n",
       "mobile_wt           NaN        NaN       NaN       NaN       NaN       NaN   \n",
       "n_cores             NaN        NaN       NaN       NaN       NaN       NaN   \n",
       "pc             1.000000        NaN       NaN       NaN       NaN       NaN   \n",
       "px_height           NaN   1.000000  0.510664       NaN  0.059615       NaN   \n",
       "px_width            NaN   0.510664  1.000000       NaN       NaN       NaN   \n",
       "ram                 NaN        NaN       NaN  1.000000       NaN       NaN   \n",
       "sc_h                NaN   0.059615       NaN       NaN  1.000000  0.506144   \n",
       "sc_w                NaN        NaN       NaN       NaN  0.506144  1.000000   \n",
       "talk_time           NaN        NaN       NaN       NaN       NaN       NaN   \n",
       "three_g             NaN        NaN       NaN       NaN       NaN       NaN   \n",
       "touch_screen        NaN        NaN       NaN       NaN       NaN       NaN   \n",
       "wifi                NaN   0.051824       NaN       NaN       NaN       NaN   \n",
       "\n",
       "               talk_time   three_g  touch_screen      wifi  \n",
       "price_range          NaN       NaN           NaN       NaN  \n",
       "battery_power    0.05251       NaN           NaN       NaN  \n",
       "blue                 NaN       NaN           NaN       NaN  \n",
       "clock_speed          NaN       NaN           NaN       NaN  \n",
       "dual_sim             NaN       NaN           NaN       NaN  \n",
       "fc                   NaN       NaN           NaN       NaN  \n",
       "four_g               NaN  0.584246           NaN       NaN  \n",
       "int_memory           NaN       NaN           NaN       NaN  \n",
       "m_dep                NaN       NaN           NaN       NaN  \n",
       "mobile_wt            NaN       NaN           NaN       NaN  \n",
       "n_cores              NaN       NaN           NaN       NaN  \n",
       "pc                   NaN       NaN           NaN       NaN  \n",
       "px_height            NaN       NaN           NaN  0.051824  \n",
       "px_width             NaN       NaN           NaN       NaN  \n",
       "ram                  NaN       NaN           NaN       NaN  \n",
       "sc_h                 NaN       NaN           NaN       NaN  \n",
       "sc_w                 NaN       NaN           NaN       NaN  \n",
       "talk_time        1.00000       NaN           NaN       NaN  \n",
       "three_g              NaN  1.000000           NaN       NaN  \n",
       "touch_screen         NaN       NaN           1.0       NaN  \n",
       "wifi                 NaN       NaN           NaN  1.000000  "
      ]
     },
     "execution_count": 20,
     "metadata": {},
     "output_type": "execute_result"
    }
   ],
   "source": [
    "pd.DataFrame(np.where(data.corr().abs() >= 0.05, data.corr(), np.nan), columns=data.columns, index=data.columns)"
   ]
  },
  {
   "cell_type": "markdown",
   "metadata": {},
   "source": [
    "Con la funzione **corr** di Pandas ci viene restituita una tabella con indicata la correlazione di ogni feature con ciascuna delle altre. Essendoci molte feature ho preferito impostare a NaN le correlazioni inferiori ad una certa soglia (0,05) per leggere con più semplicità le correlazioni più rilevanti.  \n",
    "\n",
    "Notiamo come le 4 feature che incidono di più sul prezzo siano in ordine di importanza: RAM, capienza della batteria, pixel orizzontali e pixel verticali, quindi diciamo **RAM**, **batteria** e **risoluzione**, tutte caratteristiche effettivamente sensate.  \n",
    "\n",
    "Oltre a questo si vede come i megapixel della fotocamera principale e di quella frontale siano molto correlati, oppure la larghezza in pixel con l'altezza o anche la larghezza dello schermo in centimetri con l'altezza.  \n",
    "Altre correlazioni che risultano meno rilevanti, ma che comunque possono sembrare sensate sono anche la capienza della batteria con la durata del cellulare durante una chiamata o la presenza del 3G con quella del 4G."
   ]
  },
  {
   "cell_type": "code",
   "execution_count": 21,
   "metadata": {
    "scrolled": true
   },
   "outputs": [
    {
     "data": {
      "text/plain": [
       "price_range      1.000000\n",
       "battery_power    0.200723\n",
       "blue             0.020573\n",
       "clock_speed     -0.006606\n",
       "dual_sim         0.017444\n",
       "fc               0.021998\n",
       "four_g           0.014772\n",
       "int_memory       0.044435\n",
       "m_dep            0.000853\n",
       "mobile_wt       -0.030302\n",
       "n_cores          0.004399\n",
       "pc               0.033599\n",
       "px_height        0.148858\n",
       "px_width         0.165818\n",
       "ram              0.917046\n",
       "sc_h             0.022986\n",
       "sc_w             0.038711\n",
       "talk_time        0.021859\n",
       "three_g          0.023611\n",
       "touch_screen    -0.030411\n",
       "wifi             0.018785\n",
       "Name: price_range, dtype: float64"
      ]
     },
     "execution_count": 21,
     "metadata": {},
     "output_type": "execute_result"
    }
   ],
   "source": [
    "data.corr().iloc[0]"
   ]
  },
  {
   "cell_type": "markdown",
   "metadata": {},
   "source": [
    "Qui vediamo la correlazione di ogni feature con la variabile target e possiamo notare che caratteristiche dei cellulari come lo spessore del cellulare, la velocità di clock e il numero di core siamo **poco influenti** sul prezzo."
   ]
  },
  {
   "cell_type": "markdown",
   "metadata": {},
   "source": [
    "## Aggiunta nuove feature\n",
    "\n",
    "In questo breve paragrafo vediamo l'aggiunta di potenziali nuove feature al dataset, derivate direttamente da quelle già presenti. Cercheremo di capire la loro potenziale rilevanza e il loro utilizzo."
   ]
  },
  {
   "cell_type": "code",
   "execution_count": 22,
   "metadata": {
    "scrolled": false
   },
   "outputs": [
    {
     "data": {
      "text/plain": [
       "price_range      0.176240\n",
       "battery_power    0.018442\n",
       "blue            -0.015513\n",
       "clock_speed     -0.009854\n",
       "dual_sim        -0.017730\n",
       "fc              -0.012337\n",
       "four_g          -0.009064\n",
       "int_memory       0.015263\n",
       "m_dep            0.025138\n",
       "mobile_wt       -0.006036\n",
       "n_cores          0.001245\n",
       "pc              -0.017451\n",
       "px_height        0.952730\n",
       "px_width         0.684062\n",
       "ram             -0.006357\n",
       "sc_h             0.058362\n",
       "sc_w             0.046496\n",
       "talk_time       -0.010729\n",
       "three_g         -0.028219\n",
       "touch_screen     0.017036\n",
       "wifi             0.044482\n",
       "px_res           1.000000\n",
       "Name: px_res, dtype: float64"
      ]
     },
     "execution_count": 22,
     "metadata": {},
     "output_type": "execute_result"
    }
   ],
   "source": [
    "mod_data = data.copy()\n",
    "mod_data[\"px_res\"] = mod_data[\"px_height\"] * mod_data[\"px_width\"]\n",
    "mod_data.corr().iloc[-1]"
   ]
  },
  {
   "cell_type": "code",
   "execution_count": 23,
   "metadata": {
    "scrolled": true
   },
   "outputs": [
    {
     "data": {
      "text/plain": [
       "price_range      0.041248\n",
       "battery_power   -0.024589\n",
       "blue            -0.005565\n",
       "clock_speed     -0.006103\n",
       "dual_sim        -0.015703\n",
       "fc              -0.011437\n",
       "four_g           0.037167\n",
       "int_memory       0.022887\n",
       "m_dep           -0.021453\n",
       "mobile_wt       -0.026375\n",
       "n_cores          0.021618\n",
       "pc              -0.013611\n",
       "px_height        0.053894\n",
       "px_width         0.041354\n",
       "ram              0.033335\n",
       "sc_h             0.656031\n",
       "sc_w             0.959617\n",
       "talk_time       -0.026502\n",
       "three_g          0.033600\n",
       "touch_screen     0.008131\n",
       "wifi             0.043587\n",
       "px_res           0.057003\n",
       "sc_dim           1.000000\n",
       "Name: sc_dim, dtype: float64"
      ]
     },
     "execution_count": 23,
     "metadata": {},
     "output_type": "execute_result"
    }
   ],
   "source": [
    "mod_data[\"sc_dim\"] = mod_data[\"sc_h\"] * mod_data[\"sc_w\"]\n",
    "mod_data.corr().iloc[-1]"
   ]
  },
  {
   "cell_type": "markdown",
   "metadata": {},
   "source": [
    "Nei precedenti due blocchi di codice vediamo l'aggiunta di due possibili nuove feature e la loro correlazione con le altre: **px_res** indica il numero totale di pixel presenti sullo schermo e **sc_dim** indica l'area dello schermo in cm. Queste due variabili possono servire per il fatto che le due coppie di variabili da cui le otteniamo sono **fortemente correlate** tra loro (altezza e larghezza, dei pixel e dello schermo in cm) e potrebbero portare ad effetti di **collinearità**.  \n",
    "Queste due nuove variabili hanno anche una correlazione con la varibile target più alta delle due da cui sono state ottenute, se prese singolarmente, per cui potremmo avere effetti positivi aggiungerle al dataset (o sostituirle a quelle da cui sono state derivate)."
   ]
  },
  {
   "cell_type": "code",
   "execution_count": 24,
   "metadata": {
    "scrolled": true
   },
   "outputs": [
    {
     "data": {
      "text/plain": [
       "price_range      0.006971\n",
       "battery_power    0.043162\n",
       "blue             0.000899\n",
       "clock_speed      0.508728\n",
       "dual_sim         0.001804\n",
       "fc               0.006935\n",
       "four_g          -0.026332\n",
       "int_memory       0.032706\n",
       "m_dep            0.016081\n",
       "mobile_wt        0.015328\n",
       "n_cores         -0.637533\n",
       "pc               0.005690\n",
       "px_height       -0.009270\n",
       "px_width        -0.021559\n",
       "ram              0.012426\n",
       "sc_h            -0.028777\n",
       "sc_w            -0.015185\n",
       "talk_time       -0.013994\n",
       "three_g         -0.044389\n",
       "touch_screen     0.003578\n",
       "wifi            -0.012037\n",
       "px_res          -0.011120\n",
       "sc_dim          -0.016878\n",
       "lin_speed        1.000000\n",
       "Name: lin_speed, dtype: float64"
      ]
     },
     "execution_count": 24,
     "metadata": {},
     "output_type": "execute_result"
    }
   ],
   "source": [
    "mod_data[\"lin_speed\"] = mod_data[\"clock_speed\"] / mod_data[\"n_cores\"]\n",
    "mod_data.corr().iloc[-1]"
   ]
  },
  {
   "cell_type": "markdown",
   "metadata": {},
   "source": [
    "Qui vediamo un altro esempio riguardante per esempio la velocità di calcolo seriale, supponendo che clock_speed si riferisca alla massima velocità raggiungibile dal processore, utilizzando tutti i core.  "
   ]
  },
  {
   "cell_type": "markdown",
   "metadata": {},
   "source": [
    "Notiamo che le variabili **px_res** e **sc_dim** potrebbero avere effetti positivi, mentre **lin_speed** sembra che sia poco impattante.  \n",
    "Per il momento decido di mantere il dataset \"pulito\", per semplicità, e nel caso non ottenga buoni risultati valuterò di utilizzare effettivamente queste varibili."
   ]
  },
  {
   "cell_type": "markdown",
   "metadata": {},
   "source": [
    "## Preprocessing\n",
    "\n",
    "I nostri dati non hanno valori **nulli o mancanti**, per cui non ci dobbiamo preoccupare di questo aspetto."
   ]
  },
  {
   "cell_type": "code",
   "execution_count": 25,
   "metadata": {},
   "outputs": [],
   "source": [
    "from sklearn.preprocessing import StandardScaler\n",
    "from sklearn.pipeline import Pipeline\n",
    "from sklearn.linear_model import Perceptron\n",
    "from sklearn.model_selection import train_test_split\n",
    "from sklearn.preprocessing import PolynomialFeatures"
   ]
  },
  {
   "cell_type": "code",
   "execution_count": 26,
   "metadata": {
    "scrolled": true
   },
   "outputs": [
    {
     "name": "stdout",
     "output_type": "stream",
     "text": [
      "<class 'pandas.core.frame.DataFrame'>\n",
      "RangeIndex: 2000 entries, 0 to 1999\n",
      "Columns: 21 entries, price_range to wifi\n",
      "dtypes: float64(2), int64(19)\n",
      "memory usage: 328.2 KB\n"
     ]
    }
   ],
   "source": [
    "data.info(verbose=False, memory_usage=\"deep\")"
   ]
  },
  {
   "cell_type": "markdown",
   "metadata": {},
   "source": [
    "Come possiamo notare Pandas non ha riconosciuto le variabili categoriche come tali, per cui provvediamo ad una modifica manuale."
   ]
  },
  {
   "cell_type": "code",
   "execution_count": 27,
   "metadata": {},
   "outputs": [
    {
     "name": "stdout",
     "output_type": "stream",
     "text": [
      "<class 'pandas.core.frame.DataFrame'>\n",
      "RangeIndex: 2000 entries, 0 to 1999\n",
      "Columns: 21 entries, price_range to wifi\n",
      "dtypes: category(7), float64(2), int64(12)\n",
      "memory usage: 233.3 KB\n"
     ]
    }
   ],
   "source": [
    "data[binary_feature + [\"price_range\"]] = data[binary_feature + [\"price_range\"]].astype(\"category\")\n",
    "data.info(verbose=False, memory_usage=\"deep\")"
   ]
  },
  {
   "cell_type": "markdown",
   "metadata": {},
   "source": [
    "Notiamo anche un risparmio di quasi il **30% di memoria**."
   ]
  },
  {
   "cell_type": "code",
   "execution_count": 28,
   "metadata": {},
   "outputs": [
    {
     "data": {
      "text/plain": [
       "0       1\n",
       "1       2\n",
       "2       2\n",
       "3       2\n",
       "4       1\n",
       "       ..\n",
       "1995    0\n",
       "1996    2\n",
       "1997    3\n",
       "1998    0\n",
       "1999    3\n",
       "Name: price_range, Length: 2000, dtype: category\n",
       "Categories (4, int64): [0, 1, 2, 3]"
      ]
     },
     "execution_count": 28,
     "metadata": {},
     "output_type": "execute_result"
    }
   ],
   "source": [
    "data[\"price_range\"]"
   ]
  },
  {
   "cell_type": "markdown",
   "metadata": {},
   "source": [
    "A questo punto vogliamo dividere i nostri dati in variabili indipendeti e variabile target, quindi dividere questi dati in **training set** e **validation set**."
   ]
  },
  {
   "cell_type": "code",
   "execution_count": 29,
   "metadata": {},
   "outputs": [],
   "source": [
    "y = data[\"price_range\"]\n",
    "X = data.drop(columns=\"price_range\")\n",
    "\n",
    "X_train, X_val, y_train, y_val = train_test_split(\n",
    "    X, y,             # dati da suddividere\n",
    "    test_size=1/3,    # 2/3 training, 1/3 validation\n",
    "    random_state=42   # seed per la riproducibilità\n",
    ")"
   ]
  },
  {
   "cell_type": "markdown",
   "metadata": {},
   "source": [
    "Iniziamo creandoci un semplice modello utilizzando il **Perceptron**."
   ]
  },
  {
   "cell_type": "code",
   "execution_count": 30,
   "metadata": {},
   "outputs": [],
   "source": [
    "model = Perceptron(random_state=42)"
   ]
  },
  {
   "cell_type": "code",
   "execution_count": 31,
   "metadata": {},
   "outputs": [
    {
     "data": {
      "text/plain": [
       "0.5247376311844077"
      ]
     },
     "execution_count": 31,
     "metadata": {},
     "output_type": "execute_result"
    }
   ],
   "source": [
    "model.fit(X_train, y_train)\n",
    "model.score(X_val, y_val)"
   ]
  },
  {
   "cell_type": "code",
   "execution_count": 32,
   "metadata": {},
   "outputs": [
    {
     "data": {
      "text/plain": [
       "0.5247376311844077"
      ]
     },
     "execution_count": 32,
     "metadata": {},
     "output_type": "execute_result"
    }
   ],
   "source": [
    "(model.predict(X_val) == y_val).mean()"
   ]
  },
  {
   "cell_type": "markdown",
   "metadata": {},
   "source": [
    "Come notiamo la funzione **score** del modello ci restituisce semplicemente la percentuale di istanze classificate correttamente. In questo caso poco più della metà, che considerando la presenza di quattro classi, non è un brutto risultato inziale (classificando casualmente si otterrebbe **0.25** di score)."
   ]
  },
  {
   "cell_type": "code",
   "execution_count": 33,
   "metadata": {
    "scrolled": true
   },
   "outputs": [
    {
     "data": {
      "text/plain": [
       "array([[-1.4120e+03,  3.2100e+02,  1.1639e+03,  3.9900e+02,  1.6620e+03,\n",
       "         2.8200e+02,  1.5944e+04,  2.8280e+02,  5.2122e+04,  3.2190e+03,\n",
       "         6.0770e+03, -3.8700e+03,  2.0900e+03, -5.9570e+03,  8.1250e+03,\n",
       "         3.6480e+03,  6.0860e+03,  3.9600e+02,  4.3800e+02,  2.8200e+02],\n",
       "       [ 2.3800e+02,  8.1000e+01, -2.0000e+00,  1.0700e+02, -3.0700e+02,\n",
       "         9.7000e+01,  6.2030e+03,  1.7770e+02,  6.6260e+03, -1.3100e+02,\n",
       "         5.7000e+02, -1.0790e+03, -1.3890e+03, -1.3630e+03,  8.9300e+02,\n",
       "         2.1600e+02,  2.9500e+03,  1.0200e+02,  7.2000e+01,  1.5600e+02],\n",
       "       [-3.4240e+03, -8.5000e+01, -1.4590e+02, -1.6000e+02,  1.6640e+03,\n",
       "        -1.3900e+02, -1.1753e+04, -1.3490e+02, -5.1000e+03, -6.8000e+01,\n",
       "         9.1500e+02,  1.4340e+03, -1.5000e+03,  2.5850e+03, -2.6520e+03,\n",
       "        -4.0700e+02, -1.9510e+03, -4.9000e+01, -9.7000e+01, -1.5000e+02],\n",
       "       [ 2.0400e+02, -3.3800e+02, -1.1582e+03, -3.6700e+02, -3.4960e+03,\n",
       "        -2.7200e+02, -1.6052e+04, -2.8830e+02, -8.1637e+04, -3.4890e+03,\n",
       "        -6.7700e+03,  4.9400e+03, -5.0190e+03,  7.4690e+03, -7.8990e+03,\n",
       "        -3.5310e+03, -6.9630e+03, -4.7800e+02, -3.7000e+02, -3.7000e+02]])"
      ]
     },
     "execution_count": 33,
     "metadata": {},
     "output_type": "execute_result"
    }
   ],
   "source": [
    "model.coef_"
   ]
  },
  {
   "cell_type": "code",
   "execution_count": 34,
   "metadata": {},
   "outputs": [
    {
     "data": {
      "text/plain": [
       "array([ 684.,   84., -124., -733.])"
      ]
     },
     "execution_count": 34,
     "metadata": {},
     "output_type": "execute_result"
    }
   ],
   "source": [
    "model.intercept_"
   ]
  },
  {
   "cell_type": "markdown",
   "metadata": {},
   "source": [
    "Come possiamo vedere i **paramentri** trovati dal Perceptron sono 80 coefficienti e 4 intercette, che quindi descrivono 4 **iperpiani** in uno spazio a 20 dimensioni: le nostre 20 varibili indipendenti."
   ]
  },
  {
   "cell_type": "markdown",
   "metadata": {},
   "source": [
    "Per realizzare un modello migliore la prima idea è quella di **standardizzare** i dati. Questo sembra molto utile considerando che alcune feature sono nell'ordine di grandezza 10<sup>-1</sup> e altre 10<sup>3</sup>.\n",
    "Questo può aiutare anche con una maggiore generalizzazione del modello."
   ]
  },
  {
   "cell_type": "code",
   "execution_count": 35,
   "metadata": {},
   "outputs": [],
   "source": [
    "model = Pipeline([\n",
    "    (\"scaler\", StandardScaler()),\n",
    "    (\"class\", Perceptron(random_state=42))\n",
    "])"
   ]
  },
  {
   "cell_type": "code",
   "execution_count": 36,
   "metadata": {
    "scrolled": true
   },
   "outputs": [
    {
     "data": {
      "text/plain": [
       "0.6911544227886057"
      ]
     },
     "execution_count": 36,
     "metadata": {},
     "output_type": "execute_result"
    }
   ],
   "source": [
    "model.fit(X_train, y_train)\n",
    "model.score(X_val, y_val)"
   ]
  },
  {
   "cell_type": "markdown",
   "metadata": {},
   "source": [
    "Vediamo come questo comporti un grande miglioramento nello score del modello, a questo punto proviamo ad effettuare della **regolarizzazione**, utilizzando per esempio **l1**."
   ]
  },
  {
   "cell_type": "code",
   "execution_count": 37,
   "metadata": {
    "scrolled": true
   },
   "outputs": [
    {
     "name": "stdout",
     "output_type": "stream",
     "text": [
      "alpha: 0.1 score: 0.24737631184407796\n",
      "alpha: 0.01 score: 0.6071964017991005\n",
      "alpha: 0.001 score: 0.7361319340329835\n",
      "alpha: 0.0001 score: 0.7736131934032984\n",
      "alpha: 1e-05 score: 0.7271364317841079\n"
     ]
    }
   ],
   "source": [
    "for a in [0.1, 0.01, 0.001, 0.0001, 0.00001]:\n",
    "    model = Pipeline([\n",
    "        (\"scaler\", StandardScaler()),\n",
    "        (\"class\", Perceptron(penalty=\"l1\", alpha=a, random_state=42))\n",
    "    ])\n",
    "    model.fit(X_train, y_train)\n",
    "    print(\"alpha: \" + str(a) + \" score: \" + str(model.score(X_val, y_val)))"
   ]
  },
  {
   "cell_type": "markdown",
   "metadata": {},
   "source": [
    "Come notiamo provando diversi valori per l'iperparametro **alpha** otteniamo il risultato migliore con **0.0001**, migliorando ancora una volta i risultati ottenuti precedentemente."
   ]
  },
  {
   "cell_type": "code",
   "execution_count": 38,
   "metadata": {},
   "outputs": [
    {
     "data": {
      "text/html": [
       "<div>\n",
       "<style scoped>\n",
       "    .dataframe tbody tr th:only-of-type {\n",
       "        vertical-align: middle;\n",
       "    }\n",
       "\n",
       "    .dataframe tbody tr th {\n",
       "        vertical-align: top;\n",
       "    }\n",
       "\n",
       "    .dataframe thead th {\n",
       "        text-align: right;\n",
       "    }\n",
       "</style>\n",
       "<table border=\"1\" class=\"dataframe\">\n",
       "  <thead>\n",
       "    <tr style=\"text-align: right;\">\n",
       "      <th></th>\n",
       "      <th>battery_power</th>\n",
       "      <th>blue</th>\n",
       "      <th>clock_speed</th>\n",
       "      <th>dual_sim</th>\n",
       "      <th>fc</th>\n",
       "      <th>four_g</th>\n",
       "      <th>int_memory</th>\n",
       "      <th>m_dep</th>\n",
       "      <th>mobile_wt</th>\n",
       "      <th>n_cores</th>\n",
       "      <th>pc</th>\n",
       "      <th>px_height</th>\n",
       "      <th>px_width</th>\n",
       "      <th>ram</th>\n",
       "      <th>sc_h</th>\n",
       "      <th>sc_w</th>\n",
       "      <th>talk_time</th>\n",
       "      <th>three_g</th>\n",
       "      <th>touch_screen</th>\n",
       "      <th>wifi</th>\n",
       "    </tr>\n",
       "  </thead>\n",
       "  <tbody>\n",
       "    <tr>\n",
       "      <th>0</th>\n",
       "      <td>-16.107724</td>\n",
       "      <td>0.000000</td>\n",
       "      <td>2.723507</td>\n",
       "      <td>0.835026</td>\n",
       "      <td>-2.124258</td>\n",
       "      <td>0.000000</td>\n",
       "      <td>0.000000</td>\n",
       "      <td>0.000000</td>\n",
       "      <td>3.506353</td>\n",
       "      <td>-0.398672</td>\n",
       "      <td>0.0</td>\n",
       "      <td>-8.815499</td>\n",
       "      <td>-6.833953</td>\n",
       "      <td>-61.144920</td>\n",
       "      <td>0.000000</td>\n",
       "      <td>0.0</td>\n",
       "      <td>1.155487</td>\n",
       "      <td>0.000000</td>\n",
       "      <td>0.000000</td>\n",
       "      <td>0.000000</td>\n",
       "    </tr>\n",
       "    <tr>\n",
       "      <th>1</th>\n",
       "      <td>-1.027690</td>\n",
       "      <td>0.000000</td>\n",
       "      <td>0.000000</td>\n",
       "      <td>0.499311</td>\n",
       "      <td>0.000000</td>\n",
       "      <td>-2.301386</td>\n",
       "      <td>0.000000</td>\n",
       "      <td>1.743678</td>\n",
       "      <td>0.686025</td>\n",
       "      <td>0.000000</td>\n",
       "      <td>0.0</td>\n",
       "      <td>-0.342606</td>\n",
       "      <td>0.000000</td>\n",
       "      <td>-5.581043</td>\n",
       "      <td>0.000000</td>\n",
       "      <td>0.0</td>\n",
       "      <td>0.795614</td>\n",
       "      <td>0.320835</td>\n",
       "      <td>0.000000</td>\n",
       "      <td>0.000000</td>\n",
       "    </tr>\n",
       "    <tr>\n",
       "      <th>2</th>\n",
       "      <td>0.000000</td>\n",
       "      <td>0.000000</td>\n",
       "      <td>0.000000</td>\n",
       "      <td>0.000000</td>\n",
       "      <td>0.000000</td>\n",
       "      <td>0.000000</td>\n",
       "      <td>0.000000</td>\n",
       "      <td>-1.639755</td>\n",
       "      <td>0.000000</td>\n",
       "      <td>3.100378</td>\n",
       "      <td>0.0</td>\n",
       "      <td>1.534332</td>\n",
       "      <td>0.000000</td>\n",
       "      <td>1.504274</td>\n",
       "      <td>0.000000</td>\n",
       "      <td>0.0</td>\n",
       "      <td>0.000000</td>\n",
       "      <td>0.000000</td>\n",
       "      <td>1.734483</td>\n",
       "      <td>0.000000</td>\n",
       "    </tr>\n",
       "    <tr>\n",
       "      <th>3</th>\n",
       "      <td>14.277337</td>\n",
       "      <td>-0.015601</td>\n",
       "      <td>0.000000</td>\n",
       "      <td>1.287892</td>\n",
       "      <td>-1.219994</td>\n",
       "      <td>0.000000</td>\n",
       "      <td>0.767058</td>\n",
       "      <td>0.000000</td>\n",
       "      <td>-6.375206</td>\n",
       "      <td>2.643881</td>\n",
       "      <td>0.0</td>\n",
       "      <td>7.526580</td>\n",
       "      <td>7.371637</td>\n",
       "      <td>56.446063</td>\n",
       "      <td>2.232177</td>\n",
       "      <td>0.0</td>\n",
       "      <td>2.298134</td>\n",
       "      <td>-0.978227</td>\n",
       "      <td>0.000000</td>\n",
       "      <td>-1.592329</td>\n",
       "    </tr>\n",
       "  </tbody>\n",
       "</table>\n",
       "</div>"
      ],
      "text/plain": [
       "   battery_power      blue  clock_speed  dual_sim        fc    four_g  \\\n",
       "0     -16.107724  0.000000     2.723507  0.835026 -2.124258  0.000000   \n",
       "1      -1.027690  0.000000     0.000000  0.499311  0.000000 -2.301386   \n",
       "2       0.000000  0.000000     0.000000  0.000000  0.000000  0.000000   \n",
       "3      14.277337 -0.015601     0.000000  1.287892 -1.219994  0.000000   \n",
       "\n",
       "   int_memory     m_dep  mobile_wt   n_cores   pc  px_height  px_width  \\\n",
       "0    0.000000  0.000000   3.506353 -0.398672  0.0  -8.815499 -6.833953   \n",
       "1    0.000000  1.743678   0.686025  0.000000  0.0  -0.342606  0.000000   \n",
       "2    0.000000 -1.639755   0.000000  3.100378  0.0   1.534332  0.000000   \n",
       "3    0.767058  0.000000  -6.375206  2.643881  0.0   7.526580  7.371637   \n",
       "\n",
       "         ram      sc_h  sc_w  talk_time   three_g  touch_screen      wifi  \n",
       "0 -61.144920  0.000000   0.0   1.155487  0.000000      0.000000  0.000000  \n",
       "1  -5.581043  0.000000   0.0   0.795614  0.320835      0.000000  0.000000  \n",
       "2   1.504274  0.000000   0.0   0.000000  0.000000      1.734483  0.000000  \n",
       "3  56.446063  2.232177   0.0   2.298134 -0.978227      0.000000 -1.592329  "
      ]
     },
     "execution_count": 38,
     "metadata": {},
     "output_type": "execute_result"
    }
   ],
   "source": [
    "model = Pipeline([\n",
    "        (\"scaler\", StandardScaler()),\n",
    "        (\"class\", Perceptron(penalty=\"l1\", alpha=0.0001, random_state=42))\n",
    "    ])\n",
    "model.fit(X_train, y_train)\n",
    "pd.DataFrame(model.named_steps[\"class\"].coef_, columns=X.columns)"
   ]
  },
  {
   "cell_type": "markdown",
   "metadata": {},
   "source": [
    "Dai nuovi coefficienti trovati vediamo che gli unici parametri nulli in ogni iperpiano sono **pc** e **sc_w**, cioè i megapixel della fotocamera principale e la larghezza dello schermo in cm. Parametri che intuitivamente potrebbero invece avere degli effetti sui costi, per cui decidiamo di non escludere a priori nessun paramentro dei modelli successivi."
   ]
  },
  {
   "cell_type": "markdown",
   "metadata": {},
   "source": [
    "Un altro meccanismo di preprocessing che potremmo utilizzare è quello delle **feature polinomiali**."
   ]
  },
  {
   "cell_type": "code",
   "execution_count": 39,
   "metadata": {},
   "outputs": [
    {
     "data": {
      "text/plain": [
       "230"
      ]
     },
     "execution_count": 39,
     "metadata": {},
     "output_type": "execute_result"
    }
   ],
   "source": [
    "poly = PolynomialFeatures(degree=2, include_bias=False)\n",
    "X_train_p = poly.fit_transform(X_train)\n",
    "X_train_p.shape[1]"
   ]
  },
  {
   "cell_type": "code",
   "execution_count": 40,
   "metadata": {
    "scrolled": true
   },
   "outputs": [
    {
     "data": {
      "text/plain": [
       "1770"
      ]
     },
     "execution_count": 40,
     "metadata": {},
     "output_type": "execute_result"
    }
   ],
   "source": [
    "poly = PolynomialFeatures(degree=3, include_bias=False)\n",
    "X_train_p = poly.fit_transform(X_train)\n",
    "X_train_p.shape[1]"
   ]
  },
  {
   "cell_type": "markdown",
   "metadata": {},
   "source": [
    "Come possiamo notare, avendo 20 variabili indipendenti, l'aumento delle feature utilizzando questa tecnica è **gigantesco**.  \n",
    "Con un semplice grado 3 abbiamo raggiunto un numero di feature quasi uguale alle dimensione del dataset, per questo motivo ci limiteremo ad usare le feature polinomiali solo dove queste portano un grande miglioramento all'accuratezza del modello senza aumentarne di molto il tempo di training. E ovviamente in tal caso utilizzeremo soltanto polinomi di grado 1 o 2."
   ]
  },
  {
   "cell_type": "markdown",
   "metadata": {},
   "source": [
    "## Modelli di classificazione\n",
    "\n",
    "In questo paragrafo cerchiamo di utilizzare ogni modello a noi conosciuto per il nostro problema di classificazione.\n",
    "Per misurare l'accuratezza dei modelli utilizzeremo il metodo **stratified k-fold cross validation** e per testare diversi iperparametri il metodo **Grid-Search**.  \n",
    "In particolare, utiliziamo una **stratified** k-fold per fare in modo che le classi rimangano bilanciate all'interno di ogni sottoinsieme preso dal dataset."
   ]
  },
  {
   "cell_type": "code",
   "execution_count": 41,
   "metadata": {},
   "outputs": [],
   "source": [
    "from sklearn.model_selection import StratifiedKFold\n",
    "from sklearn.model_selection import GridSearchCV\n",
    "from sklearn.linear_model import LogisticRegression\n",
    "from sklearn.svm import SVC\n",
    "from sklearn.tree import DecisionTreeClassifier\n",
    "from sklearn.ensemble import RandomForestClassifier\n",
    "from sklearn.tree import plot_tree"
   ]
  },
  {
   "cell_type": "code",
   "execution_count": 42,
   "metadata": {},
   "outputs": [],
   "source": [
    "skf = StratifiedKFold(4, shuffle=True, random_state=42)\n",
    "models = {}"
   ]
  },
  {
   "cell_type": "code",
   "execution_count": 43,
   "metadata": {},
   "outputs": [],
   "source": [
    "def train_and_evaluate(model, grid):\n",
    "    model = GridSearchCV(model, grid, cv=skf)\n",
    "    model.fit(X_train, y_train)\n",
    "    print(\"best score: \" + str(model.score(X_val, y_val)))\n",
    "    return model"
   ]
  },
  {
   "cell_type": "markdown",
   "metadata": {},
   "source": [
    "Definiamo questa funzione **train_and_evaluate** che preso un modello e una griglia esegue una grid search, per la fase di training utilizza le variabili indipendenti e le variabili target separate in precedenza.  \n",
    "Viene stampato in output lo **score** (quello predefinito del modello) per avere una prima impressione dei risultati ottenuti e viene restituito il modello addestrato, in modo da salvarlo agevolmente in un dizionario."
   ]
  },
  {
   "cell_type": "markdown",
   "metadata": {},
   "source": [
    "### Perceptron\n",
    "\n",
    "Come primo modello utilizziamo l'algoritmo più semplice visto a lezione per la classificazione, il **Perceptron**.\n",
    "In questo caso proviamo ad utilizzarlo variando questi \"iperparametri\":\n",
    "- con o senza **normalizzazione** dei dati\n",
    "- con **feature polinomiali** di grado 1 o 2\n",
    "- **penalty**, che corrisponde al tipo di regolarizzazione utilizzata\n",
    "- **alpha**, che è un parametro direttamente proporzionale all'intensità della regolarizzazione\n",
    "- con o senza **intercetta**"
   ]
  },
  {
   "cell_type": "code",
   "execution_count": 44,
   "metadata": {
    "scrolled": false
   },
   "outputs": [
    {
     "name": "stdout",
     "output_type": "stream",
     "text": [
      "best score: 0.9130434782608695\n",
      "Wall time: 21.2 s\n"
     ]
    }
   ],
   "source": [
    "%%time\n",
    "model = Pipeline([\n",
    "    (\"scaler\", None),\n",
    "    (\"poly\", PolynomialFeatures(include_bias=False)),\n",
    "    (\"cl\", Perceptron(random_state=42))\n",
    "])\n",
    "grid = [\n",
    "    {\n",
    "        \"scaler\": [None, StandardScaler()],\n",
    "        \"poly__degree\": range(1, 3),\n",
    "        \"cl__penalty\": [\"none\"],\n",
    "        \"cl__fit_intercept\": [True, False]\n",
    "    },\n",
    "    {\n",
    "        \"scaler\": [None, StandardScaler()],\n",
    "        \"poly__degree\": range(1, 3),\n",
    "        \"cl__penalty\": [\"l2\", \"l1\"],\n",
    "        \"cl__alpha\": np.logspace(-4, 1, 6),\n",
    "        \"cl__fit_intercept\": [True, False]\n",
    "    }\n",
    "]\n",
    "models[\"perceptron\"] = train_and_evaluate(model, grid)"
   ]
  },
  {
   "cell_type": "code",
   "execution_count": 45,
   "metadata": {
    "scrolled": true
   },
   "outputs": [
    {
     "data": {
      "text/plain": [
       "{'cl__alpha': 0.001,\n",
       " 'cl__fit_intercept': True,\n",
       " 'cl__penalty': 'l1',\n",
       " 'poly__degree': 2,\n",
       " 'scaler': StandardScaler()}"
      ]
     },
     "execution_count": 45,
     "metadata": {},
     "output_type": "execute_result"
    }
   ],
   "source": [
    "models[\"perceptron\"].best_params_"
   ]
  },
  {
   "cell_type": "markdown",
   "metadata": {},
   "source": [
    "Con questo metodo otteniamo il risultato migliore utilizzando tutti i possibili iperparametri specificati, e qui per esempio possiamo vedere quelli risultati migliori."
   ]
  },
  {
   "cell_type": "markdown",
   "metadata": {},
   "source": [
    "### Regressione Logistica\n",
    "\n",
    "Come secondo modello utilizziamo l'algoritmo di **regressione logistica**, che in laboratorio abbiamo visto nel caso di variabili binarie da predire, ma per variabili target multivariate utilizza un algoritmo **Multinomial** (come specificato) che trova tanti iperpiani quante sono le classi.\n",
    "In questo caso proviamo ad utilizzarlo variando questi \"iperparametri\":\n",
    "- con o senza **normalizzazione** dei dati\n",
    "- **penalty**, che corrisponde al tipo di regolarizzazione utilizzata\n",
    "- **C**, che è un parametro inversamente proporzionale all'intensità della regolarizzazione\n",
    "- **l1_ratio**, che da un peso ai due diversi tipi di regolarizzazione nel caso di \"elastic_net\""
   ]
  },
  {
   "cell_type": "code",
   "execution_count": 46,
   "metadata": {
    "scrolled": true
   },
   "outputs": [
    {
     "name": "stderr",
     "output_type": "stream",
     "text": [
      "C:\\Users\\loren\\anaconda3\\lib\\site-packages\\sklearn\\linear_model\\_sag.py:329: ConvergenceWarning: The max_iter was reached which means the coef_ did not converge\n",
      "  warnings.warn(\"The max_iter was reached which means \"\n",
      "C:\\Users\\loren\\anaconda3\\lib\\site-packages\\sklearn\\linear_model\\_sag.py:329: ConvergenceWarning: The max_iter was reached which means the coef_ did not converge\n",
      "  warnings.warn(\"The max_iter was reached which means \"\n",
      "C:\\Users\\loren\\anaconda3\\lib\\site-packages\\sklearn\\linear_model\\_sag.py:329: ConvergenceWarning: The max_iter was reached which means the coef_ did not converge\n",
      "  warnings.warn(\"The max_iter was reached which means \"\n",
      "C:\\Users\\loren\\anaconda3\\lib\\site-packages\\sklearn\\linear_model\\_sag.py:329: ConvergenceWarning: The max_iter was reached which means the coef_ did not converge\n",
      "  warnings.warn(\"The max_iter was reached which means \"\n",
      "C:\\Users\\loren\\anaconda3\\lib\\site-packages\\sklearn\\linear_model\\_sag.py:329: ConvergenceWarning: The max_iter was reached which means the coef_ did not converge\n",
      "  warnings.warn(\"The max_iter was reached which means \"\n",
      "C:\\Users\\loren\\anaconda3\\lib\\site-packages\\sklearn\\linear_model\\_sag.py:329: ConvergenceWarning: The max_iter was reached which means the coef_ did not converge\n",
      "  warnings.warn(\"The max_iter was reached which means \"\n",
      "C:\\Users\\loren\\anaconda3\\lib\\site-packages\\sklearn\\linear_model\\_sag.py:329: ConvergenceWarning: The max_iter was reached which means the coef_ did not converge\n",
      "  warnings.warn(\"The max_iter was reached which means \"\n",
      "C:\\Users\\loren\\anaconda3\\lib\\site-packages\\sklearn\\linear_model\\_sag.py:329: ConvergenceWarning: The max_iter was reached which means the coef_ did not converge\n",
      "  warnings.warn(\"The max_iter was reached which means \"\n",
      "C:\\Users\\loren\\anaconda3\\lib\\site-packages\\sklearn\\linear_model\\_sag.py:329: ConvergenceWarning: The max_iter was reached which means the coef_ did not converge\n",
      "  warnings.warn(\"The max_iter was reached which means \"\n",
      "C:\\Users\\loren\\anaconda3\\lib\\site-packages\\sklearn\\linear_model\\_sag.py:329: ConvergenceWarning: The max_iter was reached which means the coef_ did not converge\n",
      "  warnings.warn(\"The max_iter was reached which means \"\n",
      "C:\\Users\\loren\\anaconda3\\lib\\site-packages\\sklearn\\linear_model\\_sag.py:329: ConvergenceWarning: The max_iter was reached which means the coef_ did not converge\n",
      "  warnings.warn(\"The max_iter was reached which means \"\n",
      "C:\\Users\\loren\\anaconda3\\lib\\site-packages\\sklearn\\linear_model\\_sag.py:329: ConvergenceWarning: The max_iter was reached which means the coef_ did not converge\n",
      "  warnings.warn(\"The max_iter was reached which means \"\n",
      "C:\\Users\\loren\\anaconda3\\lib\\site-packages\\sklearn\\linear_model\\_sag.py:329: ConvergenceWarning: The max_iter was reached which means the coef_ did not converge\n",
      "  warnings.warn(\"The max_iter was reached which means \"\n",
      "C:\\Users\\loren\\anaconda3\\lib\\site-packages\\sklearn\\linear_model\\_sag.py:329: ConvergenceWarning: The max_iter was reached which means the coef_ did not converge\n",
      "  warnings.warn(\"The max_iter was reached which means \"\n",
      "C:\\Users\\loren\\anaconda3\\lib\\site-packages\\sklearn\\linear_model\\_sag.py:329: ConvergenceWarning: The max_iter was reached which means the coef_ did not converge\n",
      "  warnings.warn(\"The max_iter was reached which means \"\n",
      "C:\\Users\\loren\\anaconda3\\lib\\site-packages\\sklearn\\linear_model\\_sag.py:329: ConvergenceWarning: The max_iter was reached which means the coef_ did not converge\n",
      "  warnings.warn(\"The max_iter was reached which means \"\n",
      "C:\\Users\\loren\\anaconda3\\lib\\site-packages\\sklearn\\linear_model\\_sag.py:329: ConvergenceWarning: The max_iter was reached which means the coef_ did not converge\n",
      "  warnings.warn(\"The max_iter was reached which means \"\n",
      "C:\\Users\\loren\\anaconda3\\lib\\site-packages\\sklearn\\linear_model\\_sag.py:329: ConvergenceWarning: The max_iter was reached which means the coef_ did not converge\n",
      "  warnings.warn(\"The max_iter was reached which means \"\n",
      "C:\\Users\\loren\\anaconda3\\lib\\site-packages\\sklearn\\linear_model\\_sag.py:329: ConvergenceWarning: The max_iter was reached which means the coef_ did not converge\n",
      "  warnings.warn(\"The max_iter was reached which means \"\n",
      "C:\\Users\\loren\\anaconda3\\lib\\site-packages\\sklearn\\linear_model\\_sag.py:329: ConvergenceWarning: The max_iter was reached which means the coef_ did not converge\n",
      "  warnings.warn(\"The max_iter was reached which means \"\n",
      "C:\\Users\\loren\\anaconda3\\lib\\site-packages\\sklearn\\linear_model\\_sag.py:329: ConvergenceWarning: The max_iter was reached which means the coef_ did not converge\n",
      "  warnings.warn(\"The max_iter was reached which means \"\n",
      "C:\\Users\\loren\\anaconda3\\lib\\site-packages\\sklearn\\linear_model\\_sag.py:329: ConvergenceWarning: The max_iter was reached which means the coef_ did not converge\n",
      "  warnings.warn(\"The max_iter was reached which means \"\n",
      "C:\\Users\\loren\\anaconda3\\lib\\site-packages\\sklearn\\linear_model\\_sag.py:329: ConvergenceWarning: The max_iter was reached which means the coef_ did not converge\n",
      "  warnings.warn(\"The max_iter was reached which means \"\n",
      "C:\\Users\\loren\\anaconda3\\lib\\site-packages\\sklearn\\linear_model\\_sag.py:329: ConvergenceWarning: The max_iter was reached which means the coef_ did not converge\n",
      "  warnings.warn(\"The max_iter was reached which means \"\n",
      "C:\\Users\\loren\\anaconda3\\lib\\site-packages\\sklearn\\linear_model\\_sag.py:329: ConvergenceWarning: The max_iter was reached which means the coef_ did not converge\n",
      "  warnings.warn(\"The max_iter was reached which means \"\n",
      "C:\\Users\\loren\\anaconda3\\lib\\site-packages\\sklearn\\linear_model\\_sag.py:329: ConvergenceWarning: The max_iter was reached which means the coef_ did not converge\n",
      "  warnings.warn(\"The max_iter was reached which means \"\n",
      "C:\\Users\\loren\\anaconda3\\lib\\site-packages\\sklearn\\linear_model\\_sag.py:329: ConvergenceWarning: The max_iter was reached which means the coef_ did not converge\n",
      "  warnings.warn(\"The max_iter was reached which means \"\n",
      "C:\\Users\\loren\\anaconda3\\lib\\site-packages\\sklearn\\linear_model\\_sag.py:329: ConvergenceWarning: The max_iter was reached which means the coef_ did not converge\n",
      "  warnings.warn(\"The max_iter was reached which means \"\n",
      "C:\\Users\\loren\\anaconda3\\lib\\site-packages\\sklearn\\linear_model\\_sag.py:329: ConvergenceWarning: The max_iter was reached which means the coef_ did not converge\n",
      "  warnings.warn(\"The max_iter was reached which means \"\n",
      "C:\\Users\\loren\\anaconda3\\lib\\site-packages\\sklearn\\linear_model\\_sag.py:329: ConvergenceWarning: The max_iter was reached which means the coef_ did not converge\n",
      "  warnings.warn(\"The max_iter was reached which means \"\n",
      "C:\\Users\\loren\\anaconda3\\lib\\site-packages\\sklearn\\linear_model\\_sag.py:329: ConvergenceWarning: The max_iter was reached which means the coef_ did not converge\n",
      "  warnings.warn(\"The max_iter was reached which means \"\n",
      "C:\\Users\\loren\\anaconda3\\lib\\site-packages\\sklearn\\linear_model\\_sag.py:329: ConvergenceWarning: The max_iter was reached which means the coef_ did not converge\n",
      "  warnings.warn(\"The max_iter was reached which means \"\n",
      "C:\\Users\\loren\\anaconda3\\lib\\site-packages\\sklearn\\linear_model\\_sag.py:329: ConvergenceWarning: The max_iter was reached which means the coef_ did not converge\n",
      "  warnings.warn(\"The max_iter was reached which means \"\n",
      "C:\\Users\\loren\\anaconda3\\lib\\site-packages\\sklearn\\linear_model\\_sag.py:329: ConvergenceWarning: The max_iter was reached which means the coef_ did not converge\n",
      "  warnings.warn(\"The max_iter was reached which means \"\n",
      "C:\\Users\\loren\\anaconda3\\lib\\site-packages\\sklearn\\linear_model\\_sag.py:329: ConvergenceWarning: The max_iter was reached which means the coef_ did not converge\n",
      "  warnings.warn(\"The max_iter was reached which means \"\n",
      "C:\\Users\\loren\\anaconda3\\lib\\site-packages\\sklearn\\linear_model\\_sag.py:329: ConvergenceWarning: The max_iter was reached which means the coef_ did not converge\n",
      "  warnings.warn(\"The max_iter was reached which means \"\n",
      "C:\\Users\\loren\\anaconda3\\lib\\site-packages\\sklearn\\linear_model\\_sag.py:329: ConvergenceWarning: The max_iter was reached which means the coef_ did not converge\n",
      "  warnings.warn(\"The max_iter was reached which means \"\n",
      "C:\\Users\\loren\\anaconda3\\lib\\site-packages\\sklearn\\linear_model\\_sag.py:329: ConvergenceWarning: The max_iter was reached which means the coef_ did not converge\n",
      "  warnings.warn(\"The max_iter was reached which means \"\n"
     ]
    },
    {
     "name": "stderr",
     "output_type": "stream",
     "text": [
      "C:\\Users\\loren\\anaconda3\\lib\\site-packages\\sklearn\\linear_model\\_sag.py:329: ConvergenceWarning: The max_iter was reached which means the coef_ did not converge\n",
      "  warnings.warn(\"The max_iter was reached which means \"\n",
      "C:\\Users\\loren\\anaconda3\\lib\\site-packages\\sklearn\\linear_model\\_sag.py:329: ConvergenceWarning: The max_iter was reached which means the coef_ did not converge\n",
      "  warnings.warn(\"The max_iter was reached which means \"\n",
      "C:\\Users\\loren\\anaconda3\\lib\\site-packages\\sklearn\\linear_model\\_sag.py:329: ConvergenceWarning: The max_iter was reached which means the coef_ did not converge\n",
      "  warnings.warn(\"The max_iter was reached which means \"\n",
      "C:\\Users\\loren\\anaconda3\\lib\\site-packages\\sklearn\\linear_model\\_sag.py:329: ConvergenceWarning: The max_iter was reached which means the coef_ did not converge\n",
      "  warnings.warn(\"The max_iter was reached which means \"\n",
      "C:\\Users\\loren\\anaconda3\\lib\\site-packages\\sklearn\\linear_model\\_sag.py:329: ConvergenceWarning: The max_iter was reached which means the coef_ did not converge\n",
      "  warnings.warn(\"The max_iter was reached which means \"\n",
      "C:\\Users\\loren\\anaconda3\\lib\\site-packages\\sklearn\\linear_model\\_sag.py:329: ConvergenceWarning: The max_iter was reached which means the coef_ did not converge\n",
      "  warnings.warn(\"The max_iter was reached which means \"\n",
      "C:\\Users\\loren\\anaconda3\\lib\\site-packages\\sklearn\\linear_model\\_sag.py:329: ConvergenceWarning: The max_iter was reached which means the coef_ did not converge\n",
      "  warnings.warn(\"The max_iter was reached which means \"\n",
      "C:\\Users\\loren\\anaconda3\\lib\\site-packages\\sklearn\\linear_model\\_sag.py:329: ConvergenceWarning: The max_iter was reached which means the coef_ did not converge\n",
      "  warnings.warn(\"The max_iter was reached which means \"\n",
      "C:\\Users\\loren\\anaconda3\\lib\\site-packages\\sklearn\\linear_model\\_sag.py:329: ConvergenceWarning: The max_iter was reached which means the coef_ did not converge\n",
      "  warnings.warn(\"The max_iter was reached which means \"\n",
      "C:\\Users\\loren\\anaconda3\\lib\\site-packages\\sklearn\\linear_model\\_sag.py:329: ConvergenceWarning: The max_iter was reached which means the coef_ did not converge\n",
      "  warnings.warn(\"The max_iter was reached which means \"\n",
      "C:\\Users\\loren\\anaconda3\\lib\\site-packages\\sklearn\\linear_model\\_sag.py:329: ConvergenceWarning: The max_iter was reached which means the coef_ did not converge\n",
      "  warnings.warn(\"The max_iter was reached which means \"\n",
      "C:\\Users\\loren\\anaconda3\\lib\\site-packages\\sklearn\\linear_model\\_sag.py:329: ConvergenceWarning: The max_iter was reached which means the coef_ did not converge\n",
      "  warnings.warn(\"The max_iter was reached which means \"\n",
      "C:\\Users\\loren\\anaconda3\\lib\\site-packages\\sklearn\\linear_model\\_sag.py:329: ConvergenceWarning: The max_iter was reached which means the coef_ did not converge\n",
      "  warnings.warn(\"The max_iter was reached which means \"\n",
      "C:\\Users\\loren\\anaconda3\\lib\\site-packages\\sklearn\\linear_model\\_sag.py:329: ConvergenceWarning: The max_iter was reached which means the coef_ did not converge\n",
      "  warnings.warn(\"The max_iter was reached which means \"\n",
      "C:\\Users\\loren\\anaconda3\\lib\\site-packages\\sklearn\\linear_model\\_sag.py:329: ConvergenceWarning: The max_iter was reached which means the coef_ did not converge\n",
      "  warnings.warn(\"The max_iter was reached which means \"\n",
      "C:\\Users\\loren\\anaconda3\\lib\\site-packages\\sklearn\\linear_model\\_sag.py:329: ConvergenceWarning: The max_iter was reached which means the coef_ did not converge\n",
      "  warnings.warn(\"The max_iter was reached which means \"\n",
      "C:\\Users\\loren\\anaconda3\\lib\\site-packages\\sklearn\\linear_model\\_sag.py:329: ConvergenceWarning: The max_iter was reached which means the coef_ did not converge\n",
      "  warnings.warn(\"The max_iter was reached which means \"\n",
      "C:\\Users\\loren\\anaconda3\\lib\\site-packages\\sklearn\\linear_model\\_sag.py:329: ConvergenceWarning: The max_iter was reached which means the coef_ did not converge\n",
      "  warnings.warn(\"The max_iter was reached which means \"\n",
      "C:\\Users\\loren\\anaconda3\\lib\\site-packages\\sklearn\\linear_model\\_sag.py:329: ConvergenceWarning: The max_iter was reached which means the coef_ did not converge\n",
      "  warnings.warn(\"The max_iter was reached which means \"\n",
      "C:\\Users\\loren\\anaconda3\\lib\\site-packages\\sklearn\\linear_model\\_sag.py:329: ConvergenceWarning: The max_iter was reached which means the coef_ did not converge\n",
      "  warnings.warn(\"The max_iter was reached which means \"\n",
      "C:\\Users\\loren\\anaconda3\\lib\\site-packages\\sklearn\\linear_model\\_sag.py:329: ConvergenceWarning: The max_iter was reached which means the coef_ did not converge\n",
      "  warnings.warn(\"The max_iter was reached which means \"\n",
      "C:\\Users\\loren\\anaconda3\\lib\\site-packages\\sklearn\\linear_model\\_sag.py:329: ConvergenceWarning: The max_iter was reached which means the coef_ did not converge\n",
      "  warnings.warn(\"The max_iter was reached which means \"\n",
      "C:\\Users\\loren\\anaconda3\\lib\\site-packages\\sklearn\\linear_model\\_sag.py:329: ConvergenceWarning: The max_iter was reached which means the coef_ did not converge\n",
      "  warnings.warn(\"The max_iter was reached which means \"\n",
      "C:\\Users\\loren\\anaconda3\\lib\\site-packages\\sklearn\\linear_model\\_sag.py:329: ConvergenceWarning: The max_iter was reached which means the coef_ did not converge\n",
      "  warnings.warn(\"The max_iter was reached which means \"\n",
      "C:\\Users\\loren\\anaconda3\\lib\\site-packages\\sklearn\\linear_model\\_sag.py:329: ConvergenceWarning: The max_iter was reached which means the coef_ did not converge\n",
      "  warnings.warn(\"The max_iter was reached which means \"\n",
      "C:\\Users\\loren\\anaconda3\\lib\\site-packages\\sklearn\\linear_model\\_sag.py:329: ConvergenceWarning: The max_iter was reached which means the coef_ did not converge\n",
      "  warnings.warn(\"The max_iter was reached which means \"\n",
      "C:\\Users\\loren\\anaconda3\\lib\\site-packages\\sklearn\\linear_model\\_sag.py:329: ConvergenceWarning: The max_iter was reached which means the coef_ did not converge\n",
      "  warnings.warn(\"The max_iter was reached which means \"\n",
      "C:\\Users\\loren\\anaconda3\\lib\\site-packages\\sklearn\\linear_model\\_sag.py:329: ConvergenceWarning: The max_iter was reached which means the coef_ did not converge\n",
      "  warnings.warn(\"The max_iter was reached which means \"\n",
      "C:\\Users\\loren\\anaconda3\\lib\\site-packages\\sklearn\\linear_model\\_sag.py:329: ConvergenceWarning: The max_iter was reached which means the coef_ did not converge\n",
      "  warnings.warn(\"The max_iter was reached which means \"\n",
      "C:\\Users\\loren\\anaconda3\\lib\\site-packages\\sklearn\\linear_model\\_sag.py:329: ConvergenceWarning: The max_iter was reached which means the coef_ did not converge\n",
      "  warnings.warn(\"The max_iter was reached which means \"\n",
      "C:\\Users\\loren\\anaconda3\\lib\\site-packages\\sklearn\\linear_model\\_sag.py:329: ConvergenceWarning: The max_iter was reached which means the coef_ did not converge\n",
      "  warnings.warn(\"The max_iter was reached which means \"\n",
      "C:\\Users\\loren\\anaconda3\\lib\\site-packages\\sklearn\\linear_model\\_sag.py:329: ConvergenceWarning: The max_iter was reached which means the coef_ did not converge\n",
      "  warnings.warn(\"The max_iter was reached which means \"\n",
      "C:\\Users\\loren\\anaconda3\\lib\\site-packages\\sklearn\\linear_model\\_sag.py:329: ConvergenceWarning: The max_iter was reached which means the coef_ did not converge\n",
      "  warnings.warn(\"The max_iter was reached which means \"\n",
      "C:\\Users\\loren\\anaconda3\\lib\\site-packages\\sklearn\\linear_model\\_sag.py:329: ConvergenceWarning: The max_iter was reached which means the coef_ did not converge\n",
      "  warnings.warn(\"The max_iter was reached which means \"\n",
      "C:\\Users\\loren\\anaconda3\\lib\\site-packages\\sklearn\\linear_model\\_sag.py:329: ConvergenceWarning: The max_iter was reached which means the coef_ did not converge\n",
      "  warnings.warn(\"The max_iter was reached which means \"\n",
      "C:\\Users\\loren\\anaconda3\\lib\\site-packages\\sklearn\\linear_model\\_sag.py:329: ConvergenceWarning: The max_iter was reached which means the coef_ did not converge\n",
      "  warnings.warn(\"The max_iter was reached which means \"\n",
      "C:\\Users\\loren\\anaconda3\\lib\\site-packages\\sklearn\\linear_model\\_sag.py:329: ConvergenceWarning: The max_iter was reached which means the coef_ did not converge\n",
      "  warnings.warn(\"The max_iter was reached which means \"\n",
      "C:\\Users\\loren\\anaconda3\\lib\\site-packages\\sklearn\\linear_model\\_sag.py:329: ConvergenceWarning: The max_iter was reached which means the coef_ did not converge\n",
      "  warnings.warn(\"The max_iter was reached which means \"\n"
     ]
    },
    {
     "name": "stderr",
     "output_type": "stream",
     "text": [
      "C:\\Users\\loren\\anaconda3\\lib\\site-packages\\sklearn\\linear_model\\_sag.py:329: ConvergenceWarning: The max_iter was reached which means the coef_ did not converge\n",
      "  warnings.warn(\"The max_iter was reached which means \"\n",
      "C:\\Users\\loren\\anaconda3\\lib\\site-packages\\sklearn\\linear_model\\_sag.py:329: ConvergenceWarning: The max_iter was reached which means the coef_ did not converge\n",
      "  warnings.warn(\"The max_iter was reached which means \"\n",
      "C:\\Users\\loren\\anaconda3\\lib\\site-packages\\sklearn\\linear_model\\_sag.py:329: ConvergenceWarning: The max_iter was reached which means the coef_ did not converge\n",
      "  warnings.warn(\"The max_iter was reached which means \"\n",
      "C:\\Users\\loren\\anaconda3\\lib\\site-packages\\sklearn\\linear_model\\_sag.py:329: ConvergenceWarning: The max_iter was reached which means the coef_ did not converge\n",
      "  warnings.warn(\"The max_iter was reached which means \"\n",
      "C:\\Users\\loren\\anaconda3\\lib\\site-packages\\sklearn\\linear_model\\_sag.py:329: ConvergenceWarning: The max_iter was reached which means the coef_ did not converge\n",
      "  warnings.warn(\"The max_iter was reached which means \"\n",
      "C:\\Users\\loren\\anaconda3\\lib\\site-packages\\sklearn\\linear_model\\_sag.py:329: ConvergenceWarning: The max_iter was reached which means the coef_ did not converge\n",
      "  warnings.warn(\"The max_iter was reached which means \"\n",
      "C:\\Users\\loren\\anaconda3\\lib\\site-packages\\sklearn\\linear_model\\_sag.py:329: ConvergenceWarning: The max_iter was reached which means the coef_ did not converge\n",
      "  warnings.warn(\"The max_iter was reached which means \"\n",
      "C:\\Users\\loren\\anaconda3\\lib\\site-packages\\sklearn\\linear_model\\_sag.py:329: ConvergenceWarning: The max_iter was reached which means the coef_ did not converge\n",
      "  warnings.warn(\"The max_iter was reached which means \"\n",
      "C:\\Users\\loren\\anaconda3\\lib\\site-packages\\sklearn\\linear_model\\_sag.py:329: ConvergenceWarning: The max_iter was reached which means the coef_ did not converge\n",
      "  warnings.warn(\"The max_iter was reached which means \"\n",
      "C:\\Users\\loren\\anaconda3\\lib\\site-packages\\sklearn\\linear_model\\_sag.py:329: ConvergenceWarning: The max_iter was reached which means the coef_ did not converge\n",
      "  warnings.warn(\"The max_iter was reached which means \"\n",
      "C:\\Users\\loren\\anaconda3\\lib\\site-packages\\sklearn\\linear_model\\_sag.py:329: ConvergenceWarning: The max_iter was reached which means the coef_ did not converge\n",
      "  warnings.warn(\"The max_iter was reached which means \"\n",
      "C:\\Users\\loren\\anaconda3\\lib\\site-packages\\sklearn\\linear_model\\_sag.py:329: ConvergenceWarning: The max_iter was reached which means the coef_ did not converge\n",
      "  warnings.warn(\"The max_iter was reached which means \"\n",
      "C:\\Users\\loren\\anaconda3\\lib\\site-packages\\sklearn\\linear_model\\_sag.py:329: ConvergenceWarning: The max_iter was reached which means the coef_ did not converge\n",
      "  warnings.warn(\"The max_iter was reached which means \"\n",
      "C:\\Users\\loren\\anaconda3\\lib\\site-packages\\sklearn\\linear_model\\_sag.py:329: ConvergenceWarning: The max_iter was reached which means the coef_ did not converge\n",
      "  warnings.warn(\"The max_iter was reached which means \"\n",
      "C:\\Users\\loren\\anaconda3\\lib\\site-packages\\sklearn\\linear_model\\_sag.py:329: ConvergenceWarning: The max_iter was reached which means the coef_ did not converge\n",
      "  warnings.warn(\"The max_iter was reached which means \"\n",
      "C:\\Users\\loren\\anaconda3\\lib\\site-packages\\sklearn\\linear_model\\_sag.py:329: ConvergenceWarning: The max_iter was reached which means the coef_ did not converge\n",
      "  warnings.warn(\"The max_iter was reached which means \"\n",
      "C:\\Users\\loren\\anaconda3\\lib\\site-packages\\sklearn\\linear_model\\_sag.py:329: ConvergenceWarning: The max_iter was reached which means the coef_ did not converge\n",
      "  warnings.warn(\"The max_iter was reached which means \"\n",
      "C:\\Users\\loren\\anaconda3\\lib\\site-packages\\sklearn\\linear_model\\_sag.py:329: ConvergenceWarning: The max_iter was reached which means the coef_ did not converge\n",
      "  warnings.warn(\"The max_iter was reached which means \"\n",
      "C:\\Users\\loren\\anaconda3\\lib\\site-packages\\sklearn\\linear_model\\_sag.py:329: ConvergenceWarning: The max_iter was reached which means the coef_ did not converge\n",
      "  warnings.warn(\"The max_iter was reached which means \"\n",
      "C:\\Users\\loren\\anaconda3\\lib\\site-packages\\sklearn\\linear_model\\_sag.py:329: ConvergenceWarning: The max_iter was reached which means the coef_ did not converge\n",
      "  warnings.warn(\"The max_iter was reached which means \"\n",
      "C:\\Users\\loren\\anaconda3\\lib\\site-packages\\sklearn\\linear_model\\_sag.py:329: ConvergenceWarning: The max_iter was reached which means the coef_ did not converge\n",
      "  warnings.warn(\"The max_iter was reached which means \"\n",
      "C:\\Users\\loren\\anaconda3\\lib\\site-packages\\sklearn\\linear_model\\_sag.py:329: ConvergenceWarning: The max_iter was reached which means the coef_ did not converge\n",
      "  warnings.warn(\"The max_iter was reached which means \"\n",
      "C:\\Users\\loren\\anaconda3\\lib\\site-packages\\sklearn\\linear_model\\_sag.py:329: ConvergenceWarning: The max_iter was reached which means the coef_ did not converge\n",
      "  warnings.warn(\"The max_iter was reached which means \"\n",
      "C:\\Users\\loren\\anaconda3\\lib\\site-packages\\sklearn\\linear_model\\_sag.py:329: ConvergenceWarning: The max_iter was reached which means the coef_ did not converge\n",
      "  warnings.warn(\"The max_iter was reached which means \"\n",
      "C:\\Users\\loren\\anaconda3\\lib\\site-packages\\sklearn\\linear_model\\_sag.py:329: ConvergenceWarning: The max_iter was reached which means the coef_ did not converge\n",
      "  warnings.warn(\"The max_iter was reached which means \"\n",
      "C:\\Users\\loren\\anaconda3\\lib\\site-packages\\sklearn\\linear_model\\_sag.py:329: ConvergenceWarning: The max_iter was reached which means the coef_ did not converge\n",
      "  warnings.warn(\"The max_iter was reached which means \"\n",
      "C:\\Users\\loren\\anaconda3\\lib\\site-packages\\sklearn\\linear_model\\_sag.py:329: ConvergenceWarning: The max_iter was reached which means the coef_ did not converge\n",
      "  warnings.warn(\"The max_iter was reached which means \"\n",
      "C:\\Users\\loren\\anaconda3\\lib\\site-packages\\sklearn\\linear_model\\_sag.py:329: ConvergenceWarning: The max_iter was reached which means the coef_ did not converge\n",
      "  warnings.warn(\"The max_iter was reached which means \"\n",
      "C:\\Users\\loren\\anaconda3\\lib\\site-packages\\sklearn\\linear_model\\_sag.py:329: ConvergenceWarning: The max_iter was reached which means the coef_ did not converge\n",
      "  warnings.warn(\"The max_iter was reached which means \"\n",
      "C:\\Users\\loren\\anaconda3\\lib\\site-packages\\sklearn\\linear_model\\_sag.py:329: ConvergenceWarning: The max_iter was reached which means the coef_ did not converge\n",
      "  warnings.warn(\"The max_iter was reached which means \"\n",
      "C:\\Users\\loren\\anaconda3\\lib\\site-packages\\sklearn\\linear_model\\_sag.py:329: ConvergenceWarning: The max_iter was reached which means the coef_ did not converge\n",
      "  warnings.warn(\"The max_iter was reached which means \"\n",
      "C:\\Users\\loren\\anaconda3\\lib\\site-packages\\sklearn\\linear_model\\_sag.py:329: ConvergenceWarning: The max_iter was reached which means the coef_ did not converge\n",
      "  warnings.warn(\"The max_iter was reached which means \"\n",
      "C:\\Users\\loren\\anaconda3\\lib\\site-packages\\sklearn\\linear_model\\_sag.py:329: ConvergenceWarning: The max_iter was reached which means the coef_ did not converge\n",
      "  warnings.warn(\"The max_iter was reached which means \"\n",
      "C:\\Users\\loren\\anaconda3\\lib\\site-packages\\sklearn\\linear_model\\_sag.py:329: ConvergenceWarning: The max_iter was reached which means the coef_ did not converge\n",
      "  warnings.warn(\"The max_iter was reached which means \"\n",
      "C:\\Users\\loren\\anaconda3\\lib\\site-packages\\sklearn\\linear_model\\_sag.py:329: ConvergenceWarning: The max_iter was reached which means the coef_ did not converge\n",
      "  warnings.warn(\"The max_iter was reached which means \"\n",
      "C:\\Users\\loren\\anaconda3\\lib\\site-packages\\sklearn\\linear_model\\_sag.py:329: ConvergenceWarning: The max_iter was reached which means the coef_ did not converge\n",
      "  warnings.warn(\"The max_iter was reached which means \"\n",
      "C:\\Users\\loren\\anaconda3\\lib\\site-packages\\sklearn\\linear_model\\_sag.py:329: ConvergenceWarning: The max_iter was reached which means the coef_ did not converge\n",
      "  warnings.warn(\"The max_iter was reached which means \"\n",
      "C:\\Users\\loren\\anaconda3\\lib\\site-packages\\sklearn\\linear_model\\_sag.py:329: ConvergenceWarning: The max_iter was reached which means the coef_ did not converge\n",
      "  warnings.warn(\"The max_iter was reached which means \"\n"
     ]
    },
    {
     "name": "stderr",
     "output_type": "stream",
     "text": [
      "C:\\Users\\loren\\anaconda3\\lib\\site-packages\\sklearn\\linear_model\\_sag.py:329: ConvergenceWarning: The max_iter was reached which means the coef_ did not converge\n",
      "  warnings.warn(\"The max_iter was reached which means \"\n",
      "C:\\Users\\loren\\anaconda3\\lib\\site-packages\\sklearn\\linear_model\\_sag.py:329: ConvergenceWarning: The max_iter was reached which means the coef_ did not converge\n",
      "  warnings.warn(\"The max_iter was reached which means \"\n",
      "C:\\Users\\loren\\anaconda3\\lib\\site-packages\\sklearn\\linear_model\\_sag.py:329: ConvergenceWarning: The max_iter was reached which means the coef_ did not converge\n",
      "  warnings.warn(\"The max_iter was reached which means \"\n",
      "C:\\Users\\loren\\anaconda3\\lib\\site-packages\\sklearn\\linear_model\\_sag.py:329: ConvergenceWarning: The max_iter was reached which means the coef_ did not converge\n",
      "  warnings.warn(\"The max_iter was reached which means \"\n",
      "C:\\Users\\loren\\anaconda3\\lib\\site-packages\\sklearn\\linear_model\\_sag.py:329: ConvergenceWarning: The max_iter was reached which means the coef_ did not converge\n",
      "  warnings.warn(\"The max_iter was reached which means \"\n",
      "C:\\Users\\loren\\anaconda3\\lib\\site-packages\\sklearn\\linear_model\\_sag.py:329: ConvergenceWarning: The max_iter was reached which means the coef_ did not converge\n",
      "  warnings.warn(\"The max_iter was reached which means \"\n",
      "C:\\Users\\loren\\anaconda3\\lib\\site-packages\\sklearn\\linear_model\\_sag.py:329: ConvergenceWarning: The max_iter was reached which means the coef_ did not converge\n",
      "  warnings.warn(\"The max_iter was reached which means \"\n",
      "C:\\Users\\loren\\anaconda3\\lib\\site-packages\\sklearn\\linear_model\\_sag.py:329: ConvergenceWarning: The max_iter was reached which means the coef_ did not converge\n",
      "  warnings.warn(\"The max_iter was reached which means \"\n",
      "C:\\Users\\loren\\anaconda3\\lib\\site-packages\\sklearn\\linear_model\\_sag.py:329: ConvergenceWarning: The max_iter was reached which means the coef_ did not converge\n",
      "  warnings.warn(\"The max_iter was reached which means \"\n",
      "C:\\Users\\loren\\anaconda3\\lib\\site-packages\\sklearn\\linear_model\\_sag.py:329: ConvergenceWarning: The max_iter was reached which means the coef_ did not converge\n",
      "  warnings.warn(\"The max_iter was reached which means \"\n",
      "C:\\Users\\loren\\anaconda3\\lib\\site-packages\\sklearn\\linear_model\\_sag.py:329: ConvergenceWarning: The max_iter was reached which means the coef_ did not converge\n",
      "  warnings.warn(\"The max_iter was reached which means \"\n",
      "C:\\Users\\loren\\anaconda3\\lib\\site-packages\\sklearn\\linear_model\\_sag.py:329: ConvergenceWarning: The max_iter was reached which means the coef_ did not converge\n",
      "  warnings.warn(\"The max_iter was reached which means \"\n",
      "C:\\Users\\loren\\anaconda3\\lib\\site-packages\\sklearn\\linear_model\\_sag.py:329: ConvergenceWarning: The max_iter was reached which means the coef_ did not converge\n",
      "  warnings.warn(\"The max_iter was reached which means \"\n",
      "C:\\Users\\loren\\anaconda3\\lib\\site-packages\\sklearn\\linear_model\\_sag.py:329: ConvergenceWarning: The max_iter was reached which means the coef_ did not converge\n",
      "  warnings.warn(\"The max_iter was reached which means \"\n",
      "C:\\Users\\loren\\anaconda3\\lib\\site-packages\\sklearn\\linear_model\\_sag.py:329: ConvergenceWarning: The max_iter was reached which means the coef_ did not converge\n",
      "  warnings.warn(\"The max_iter was reached which means \"\n",
      "C:\\Users\\loren\\anaconda3\\lib\\site-packages\\sklearn\\linear_model\\_sag.py:329: ConvergenceWarning: The max_iter was reached which means the coef_ did not converge\n",
      "  warnings.warn(\"The max_iter was reached which means \"\n",
      "C:\\Users\\loren\\anaconda3\\lib\\site-packages\\sklearn\\linear_model\\_sag.py:329: ConvergenceWarning: The max_iter was reached which means the coef_ did not converge\n",
      "  warnings.warn(\"The max_iter was reached which means \"\n",
      "C:\\Users\\loren\\anaconda3\\lib\\site-packages\\sklearn\\linear_model\\_sag.py:329: ConvergenceWarning: The max_iter was reached which means the coef_ did not converge\n",
      "  warnings.warn(\"The max_iter was reached which means \"\n",
      "C:\\Users\\loren\\anaconda3\\lib\\site-packages\\sklearn\\linear_model\\_sag.py:329: ConvergenceWarning: The max_iter was reached which means the coef_ did not converge\n",
      "  warnings.warn(\"The max_iter was reached which means \"\n",
      "C:\\Users\\loren\\anaconda3\\lib\\site-packages\\sklearn\\linear_model\\_sag.py:329: ConvergenceWarning: The max_iter was reached which means the coef_ did not converge\n",
      "  warnings.warn(\"The max_iter was reached which means \"\n",
      "C:\\Users\\loren\\anaconda3\\lib\\site-packages\\sklearn\\linear_model\\_sag.py:329: ConvergenceWarning: The max_iter was reached which means the coef_ did not converge\n",
      "  warnings.warn(\"The max_iter was reached which means \"\n",
      "C:\\Users\\loren\\anaconda3\\lib\\site-packages\\sklearn\\linear_model\\_sag.py:329: ConvergenceWarning: The max_iter was reached which means the coef_ did not converge\n",
      "  warnings.warn(\"The max_iter was reached which means \"\n"
     ]
    },
    {
     "name": "stdout",
     "output_type": "stream",
     "text": [
      "best score: 0.974512743628186\n",
      "Wall time: 17.8 s\n"
     ]
    },
    {
     "name": "stderr",
     "output_type": "stream",
     "text": [
      "C:\\Users\\loren\\anaconda3\\lib\\site-packages\\sklearn\\linear_model\\_sag.py:329: ConvergenceWarning: The max_iter was reached which means the coef_ did not converge\n",
      "  warnings.warn(\"The max_iter was reached which means \"\n"
     ]
    }
   ],
   "source": [
    "%%time\n",
    "model = Pipeline([\n",
    "    (\"scaler\", None),\n",
    "    (\"cl\", LogisticRegression(multi_class=\"multinomial\", solver=\"saga\", random_state=42))\n",
    "])\n",
    "grid = [\n",
    "    {\n",
    "        \"scaler\": [None, StandardScaler()],\n",
    "        \"cl__penalty\": [\"none\"],\n",
    "    },\n",
    "    {\n",
    "        \"scaler\": [None, StandardScaler()],\n",
    "        \"cl__penalty\": [\"l2\", \"l1\"],\n",
    "        \"cl__C\": np.logspace(-3, 1, 5),\n",
    "    },\n",
    "    {\n",
    "        \"scaler\": [None, StandardScaler()],\n",
    "        \"cl__penalty\": [\"elasticnet\"],\n",
    "        \"cl__C\": np.logspace(-3, 1, 5),\n",
    "        \"cl__l1_ratio\": np.logspace(-2, 0, 3),\n",
    "    }\n",
    "]\n",
    "models[\"logistic_regression\"] = train_and_evaluate(model, grid)"
   ]
  },
  {
   "cell_type": "code",
   "execution_count": 47,
   "metadata": {
    "scrolled": false
   },
   "outputs": [
    {
     "data": {
      "text/plain": [
       "0.974512743628186"
      ]
     },
     "execution_count": 47,
     "metadata": {},
     "output_type": "execute_result"
    }
   ],
   "source": [
    "models[\"logistic_regression\"].score(X_val, y_val)"
   ]
  },
  {
   "cell_type": "markdown",
   "metadata": {},
   "source": [
    "I **warning** sono dati dall'algoritmo di regressione logistica che non converge per ogni iperparametro possibile della grid search, comunque è stato ottenuto un buon risultato, con un particolare insieme di parametri."
   ]
  },
  {
   "cell_type": "code",
   "execution_count": 48,
   "metadata": {
    "scrolled": true
   },
   "outputs": [
    {
     "data": {
      "text/plain": [
       "{'cl__C': 1.0, 'cl__penalty': 'l1', 'scaler': StandardScaler()}"
      ]
     },
     "execution_count": 48,
     "metadata": {},
     "output_type": "execute_result"
    }
   ],
   "source": [
    "models[\"logistic_regression\"].best_params_"
   ]
  },
  {
   "cell_type": "markdown",
   "metadata": {},
   "source": [
    "### Support Vector Machines\n",
    "\n",
    "Come terzo modello utilizziamo l'algoritmo **support vector machines**, che si basa su un concetto simile agli algoritmi precedenti, ma cerca di massimizzare la distanza che ogni iperpiano ha dalle istanze di classi differenti.  \n",
    "Anche in questo caso proviamo ad applicare o meno la **normalizzazione** e proviamo diversi valori di **C**, che come prima, è un parametro inversamente proporzionale alla regolarizzazione (in questo caso la regolarizzazione è sempre ti tipo **l2**)."
   ]
  },
  {
   "cell_type": "code",
   "execution_count": 49,
   "metadata": {
    "scrolled": false
   },
   "outputs": [
    {
     "name": "stdout",
     "output_type": "stream",
     "text": [
      "best score: 0.9775112443778111\n",
      "Wall time: 5.18 s\n"
     ]
    }
   ],
   "source": [
    "%%time\n",
    "model = Pipeline([\n",
    "    (\"scaler\", None),\n",
    "    (\"cl\", SVC(random_state=42))\n",
    "])\n",
    "grid = [\n",
    "    {\n",
    "        \"scaler\": [None, StandardScaler()],\n",
    "        \"cl__C\": np.logspace(-4, 5, 10),\n",
    "    },\n",
    "]\n",
    "models[\"svm\"] = train_and_evaluate(model, grid)"
   ]
  },
  {
   "cell_type": "markdown",
   "metadata": {},
   "source": [
    "### Decision Tree\n",
    "\n",
    "Come quarto modello utilizziamo i **decision tree**, questo tipo di algoritmi è sostanzialmente diverso dai precedenti, in questo caso non troviamo iperpiani, ma un albero decisionale.  \n",
    "In questo albero binario ogni nodo intermedio conterrà una condizione basata su una delle variabili indipendenti, mentre ogni nodo \"foglia\" conterrà una classe a cui il dato di input (sul quale sono state verificate le condizioni precedenti) verrà assegnato.  \n",
    "Questo tipo di algoritmo è solitamente più veloce, ma per ottenere buoni risultati (quanto i precedenti) è solitamente necessario rendere gli alberi molto profondi, aumentando la complessità e aumentando l'**overfitting** del modello.  \n",
    "Per questo ho deciso di limitare la profondità a 10."
   ]
  },
  {
   "cell_type": "code",
   "execution_count": 50,
   "metadata": {},
   "outputs": [
    {
     "name": "stdout",
     "output_type": "stream",
     "text": [
      "best score: 0.8515742128935532\n",
      "Wall time: 6.82 s\n"
     ]
    }
   ],
   "source": [
    "%%time\n",
    "model = Pipeline([\n",
    "    (\"scaler\", None),\n",
    "    (\"poly\", PolynomialFeatures(include_bias=False)),\n",
    "    (\"cl\", DecisionTreeClassifier(max_depth=7, random_state=42))\n",
    "])\n",
    "grid = [\n",
    "    {\n",
    "        \"scaler\": [None, StandardScaler()],\n",
    "        \"poly__degree\": range(1, 3),\n",
    "        \"cl__max_depth\": range(1, 10)\n",
    "    }\n",
    "]\n",
    "models[\"decision_tree\"] = train_and_evaluate(model, grid)"
   ]
  },
  {
   "cell_type": "code",
   "execution_count": 51,
   "metadata": {},
   "outputs": [
    {
     "data": {
      "text/plain": [
       "0.8491912571253888"
      ]
     },
     "execution_count": 51,
     "metadata": {},
     "output_type": "execute_result"
    }
   ],
   "source": [
    "models[\"decision_tree\"].best_score_"
   ]
  },
  {
   "cell_type": "code",
   "execution_count": 52,
   "metadata": {
    "scrolled": true
   },
   "outputs": [
    {
     "data": {
      "text/plain": [
       "{'cl__max_depth': 6, 'poly__degree': 2, 'scaler': None}"
      ]
     },
     "execution_count": 52,
     "metadata": {},
     "output_type": "execute_result"
    }
   ],
   "source": [
    "models[\"decision_tree\"].best_params_"
   ]
  },
  {
   "cell_type": "markdown",
   "metadata": {},
   "source": [
    "Come possiamo vedere il risultato è effettivamente peggiore di quello dato da regressione logistica e SVM, però è comunque buono, è stato ottenuto in poco tempo di calcolo e avendo ottenuto uno score migliore sul validation set piuttosto che sul training set ci aspettiamo sia poco soggetto ad overfitting (6 è una profondità bassa considerando che le variabili indipendenti sono 20)."
   ]
  },
  {
   "cell_type": "code",
   "execution_count": 53,
   "metadata": {},
   "outputs": [
    {
     "data": {
      "image/png": "[encoded data removed]",
      "text/plain": [
       "<Figure size 1296x720 with 1 Axes>"
      ]
     },
     "metadata": {
      "needs_background": "light"
     },
     "output_type": "display_data"
    }
   ],
   "source": [
    "model = DecisionTreeClassifier(max_depth=7, random_state=42)\n",
    "model.fit(X_train, y_train)\n",
    "plt.figure(figsize=(18, 10))\n",
    "plot_tree(model, feature_names=X.columns, max_depth=3, fontsize=10);"
   ]
  },
  {
   "cell_type": "markdown",
   "metadata": {},
   "source": [
    "Qui possiamo vedere un esempio di decision tree ottenuto con questo algoritmo e come possiamo confermare le feature più importanti che \"sfoltiscono\" i dati nei nodi più vicini all'origine sono proprio **RAM**, **capienza batteria** e **pixel verticali dello schermo**."
   ]
  },
  {
   "cell_type": "markdown",
   "metadata": {},
   "source": [
    "### Random Forest\n",
    "\n",
    "Come quinto modello utilizziamo **random forest**, questo algoritmo è simile al precedente, ma genera un insieme di alberi (foresta) che vengono poi combinati per ottenere dei risultati migliori. Valgono le stesse cose dette in precedenza per **decision tree**. Questo approccio si presta molto bene ad una eventuale parallelizzazione dei calcoli."
   ]
  },
  {
   "cell_type": "code",
   "execution_count": 54,
   "metadata": {},
   "outputs": [
    {
     "name": "stdout",
     "output_type": "stream",
     "text": [
      "best score: 0.881559220389805\n",
      "Wall time: 15.8 s\n"
     ]
    }
   ],
   "source": [
    "%%time\n",
    "model = Pipeline([\n",
    "    (\"scaler\", None),\n",
    "    (\"cl\", RandomForestClassifier(random_state=42))\n",
    "])\n",
    "grid = [\n",
    "    {\n",
    "        \"scaler\": [None, StandardScaler()],\n",
    "        \"cl__max_depth\": range(1, 10)\n",
    "    }\n",
    "]\n",
    "models[\"random_forest\"] = train_and_evaluate(model, grid)"
   ]
  },
  {
   "cell_type": "code",
   "execution_count": 55,
   "metadata": {},
   "outputs": [
    {
     "data": {
      "text/plain": [
       "0.8454464943985902"
      ]
     },
     "execution_count": 55,
     "metadata": {},
     "output_type": "execute_result"
    }
   ],
   "source": [
    "models[\"random_forest\"].best_score_"
   ]
  },
  {
   "cell_type": "code",
   "execution_count": 56,
   "metadata": {},
   "outputs": [
    {
     "data": {
      "text/plain": [
       "{'cl__max_depth': 9, 'scaler': None}"
      ]
     },
     "execution_count": 56,
     "metadata": {},
     "output_type": "execute_result"
    }
   ],
   "source": [
    "models[\"random_forest\"].best_params_"
   ]
  },
  {
   "cell_type": "markdown",
   "metadata": {},
   "source": [
    "In questo caso viene totalizzato un punteggio migliore con una profondità maggiore dell'albero, però sempre considerando che lo score totalizzato con il validation set è maggiore di quello dato dal training set possiamo aspettarci che l'overfitting sia minimo."
   ]
  },
  {
   "cell_type": "markdown",
   "metadata": {},
   "source": [
    "## Modelli di regressione"
   ]
  },
  {
   "cell_type": "markdown",
   "metadata": {},
   "source": [
    "Fino ad ora ci siamo approcciati al problema come ad un problema di **classificazione**, perchè in effetti l'obiettivo che ci poniamo è quello di assegnare ad ogni istanza del problema una tra quattro classi.  \n",
    "Nel nostro caso però la variabile target non è una variabile **categorica nominale**, ma **ordinale**, ciò significa che le classi possono essere ordinate, infatti sono fasce di prezzo: bassa < media < alta < molto alta.  \n",
    "Nel dataset le quattro classi sono già rappresentate con i numeri da 0 a 3, in modo che sia già possibile capire l'ordine e applicare dei modelli di **regressione**."
   ]
  },
  {
   "cell_type": "code",
   "execution_count": 57,
   "metadata": {
    "scrolled": true
   },
   "outputs": [],
   "source": [
    "#%pip install catboost"
   ]
  },
  {
   "cell_type": "code",
   "execution_count": 58,
   "metadata": {},
   "outputs": [],
   "source": [
    "def accuracy(y_val, y_pred):\n",
    "    return (y_pred == y_val).mean()"
   ]
  },
  {
   "cell_type": "code",
   "execution_count": 59,
   "metadata": {
    "scrolled": true
   },
   "outputs": [
    {
     "name": "stdout",
     "output_type": "stream",
     "text": [
      "1.0.6\n"
     ]
    }
   ],
   "source": [
    "from sklearn.linear_model import ElasticNet, LinearRegression\n",
    "from sklearn.kernel_ridge import KernelRidge\n",
    "from sklearn.tree import DecisionTreeRegressor\n",
    "from sklearn.ensemble import RandomForestRegressor\n",
    "import catboost\n",
    "print(catboost.__version__)\n",
    "from catboost import CatBoostRegressor"
   ]
  },
  {
   "cell_type": "markdown",
   "metadata": {},
   "source": [
    "### Regressione Lineare con feature polinomiali\n",
    "\n",
    "Iniziamo con una semplice **regressione linera** con e senza **normalizzazione** e con una **trasformazione polinomiale** di grado 1, 2 o 3.  \n",
    "Molti dei modelli di regressione che useremo (anche questo per esempio) trovano variabili continue, non discrete come la nostra, per cui per applicare effettivamente la classificazioni su dei dati dovremo arrotondare il risultato all'intero più vicino (0, 1, 2 o 3)."
   ]
  },
  {
   "cell_type": "code",
   "execution_count": 60,
   "metadata": {},
   "outputs": [
    {
     "name": "stdout",
     "output_type": "stream",
     "text": [
      "best score: 0.9192372736467825\n",
      "Wall time: 474 ms\n"
     ]
    }
   ],
   "source": [
    "%%time\n",
    "model = Pipeline([\n",
    "    (\"scaler\", None),\n",
    "    (\"poly\", PolynomialFeatures(include_bias=False)),\n",
    "    (\"reg\", LinearRegression())\n",
    "])\n",
    "grid = [\n",
    "    {\n",
    "        \"scaler\": [None, StandardScaler()],\n",
    "        \"poly__degree\": range(1, 3)\n",
    "    }\n",
    "]\n",
    "models[\"linear\"] = train_and_evaluate(model, grid)"
   ]
  },
  {
   "cell_type": "markdown",
   "metadata": {},
   "source": [
    "Applicando un algoritmo di regressione viene utilizzato come **score** per scegliere i miglior iperparametri nella grid search l'**R<sup>2</sup>** e l'algoritmo ci calcolerà valori continui, per cui avremo risultati del genere:"
   ]
  },
  {
   "cell_type": "code",
   "execution_count": 61,
   "metadata": {
    "scrolled": true
   },
   "outputs": [
    {
     "data": {
      "text/plain": [
       "0      0.263225\n",
       "1      1.772533\n",
       "2      0.900749\n",
       "3      2.984650\n",
       "4      1.308607\n",
       "         ...   \n",
       "662    3.272516\n",
       "663    0.947923\n",
       "664    1.868439\n",
       "665    2.764633\n",
       "666    1.338251\n",
       "Length: 667, dtype: float64"
      ]
     },
     "execution_count": 61,
     "metadata": {},
     "output_type": "execute_result"
    }
   ],
   "source": [
    "pd.Series(models[\"linear\"].predict(X_val))"
   ]
  },
  {
   "cell_type": "markdown",
   "metadata": {},
   "source": [
    "Per avere risultati corretti possiamo applicare un arrotondamento numpy e per esempio calcolare la percentuale di predizioni corrette (come calcolato nei modelli di classificazione visti precedentemente)."
   ]
  },
  {
   "cell_type": "code",
   "execution_count": 62,
   "metadata": {},
   "outputs": [
    {
     "data": {
      "text/plain": [
       "0.8950524737631185"
      ]
     },
     "execution_count": 62,
     "metadata": {},
     "output_type": "execute_result"
    }
   ],
   "source": [
    "accuracy(y_val, np.round(models[\"linear\"].predict(X_val)))"
   ]
  },
  {
   "cell_type": "markdown",
   "metadata": {},
   "source": [
    "Nonostante il metodo sia abbastanza approssimativo otteniamo dei risultati molto buoni con un algoritmo molto semplice!  \n",
    "Poi ci occuperemo di misurare in modo più adeguato il modello in un momento successivo."
   ]
  },
  {
   "cell_type": "markdown",
   "metadata": {},
   "source": [
    "### Regressione Elastic Net\n",
    "\n",
    "Procediamo aggiungendo all'algoritmo di regressione un meccanismo di **regolarizzazione** tramite **elastic net** così da utilizzare contemporaneamente regolarizzazione di tipo l1 e l2. "
   ]
  },
  {
   "cell_type": "code",
   "execution_count": 63,
   "metadata": {
    "scrolled": true
   },
   "outputs": [
    {
     "name": "stdout",
     "output_type": "stream",
     "text": [
      "best score: 0.9199020801971314\n",
      "Wall time: 2.57 s\n"
     ]
    }
   ],
   "source": [
    "%%time\n",
    "model = Pipeline([\n",
    "    (\"scaler\", None),\n",
    "    (\"reg\", ElasticNet(random_state=42))\n",
    "])\n",
    "grid = [\n",
    "    {\n",
    "        \"scaler\": [None, StandardScaler()],\n",
    "        \"reg__alpha\": np.logspace(-2, 2, 5),\n",
    "        \"reg__l1_ratio\": np.logspace(-2, 2, 5)\n",
    "    }\n",
    "]\n",
    "models[\"elastic_net\"] = train_and_evaluate(model, grid)"
   ]
  },
  {
   "cell_type": "code",
   "execution_count": 64,
   "metadata": {},
   "outputs": [
    {
     "data": {
      "text/plain": [
       "0.889055472263868"
      ]
     },
     "execution_count": 64,
     "metadata": {},
     "output_type": "execute_result"
    }
   ],
   "source": [
    "accuracy(y_val, np.round(models[\"elastic_net\"].predict(X_val)))"
   ]
  },
  {
   "cell_type": "code",
   "execution_count": 65,
   "metadata": {},
   "outputs": [
    {
     "data": {
      "text/plain": [
       "{'reg__alpha': 0.01, 'reg__l1_ratio': 10.0, 'scaler': None}"
      ]
     },
     "execution_count": 65,
     "metadata": {},
     "output_type": "execute_result"
    }
   ],
   "source": [
    "models[\"elastic_net\"].best_params_"
   ]
  },
  {
   "cell_type": "markdown",
   "metadata": {},
   "source": [
    "Vediamo l'efficacia che ha questo modello nella classificazione e gli iperparametri migliori."
   ]
  },
  {
   "cell_type": "markdown",
   "metadata": {},
   "source": [
    "## Kernel Ridge\n",
    "\n",
    "A questo punto proviamo un'alternativa che utilizza il **kernel trick** e quindi diminuisce la complessità computazionale dell'algoritmo. I parametri rimangono comunque gli stessi:\n",
    "- un parametro alpha per la **regolarizzazione**\n",
    "- con o senza **normalizzazione**\n",
    "- e **feature polinomiali** di grado 1 o 2"
   ]
  },
  {
   "cell_type": "code",
   "execution_count": 66,
   "metadata": {
    "scrolled": true
   },
   "outputs": [
    {
     "name": "stderr",
     "output_type": "stream",
     "text": [
      "C:\\Users\\loren\\anaconda3\\lib\\site-packages\\sklearn\\linear_model\\_ridge.py:190: UserWarning: Singular matrix in solving dual problem. Using least-squares solution instead.\n",
      "  warnings.warn(\"Singular matrix in solving dual problem. Using \"\n",
      "C:\\Users\\loren\\anaconda3\\lib\\site-packages\\sklearn\\linear_model\\_ridge.py:190: UserWarning: Singular matrix in solving dual problem. Using least-squares solution instead.\n",
      "  warnings.warn(\"Singular matrix in solving dual problem. Using \"\n",
      "C:\\Users\\loren\\anaconda3\\lib\\site-packages\\sklearn\\linear_model\\_ridge.py:190: UserWarning: Singular matrix in solving dual problem. Using least-squares solution instead.\n",
      "  warnings.warn(\"Singular matrix in solving dual problem. Using \"\n",
      "C:\\Users\\loren\\anaconda3\\lib\\site-packages\\sklearn\\linear_model\\_ridge.py:190: UserWarning: Singular matrix in solving dual problem. Using least-squares solution instead.\n",
      "  warnings.warn(\"Singular matrix in solving dual problem. Using \"\n",
      "C:\\Users\\loren\\anaconda3\\lib\\site-packages\\sklearn\\linear_model\\_ridge.py:187: LinAlgWarning: Ill-conditioned matrix (rcond=2.09103e-17): result may not be accurate.\n",
      "  dual_coef = linalg.solve(K, y, sym_pos=True,\n",
      "C:\\Users\\loren\\anaconda3\\lib\\site-packages\\sklearn\\linear_model\\_ridge.py:187: LinAlgWarning: Ill-conditioned matrix (rcond=2.0756e-17): result may not be accurate.\n",
      "  dual_coef = linalg.solve(K, y, sym_pos=True,\n",
      "C:\\Users\\loren\\anaconda3\\lib\\site-packages\\sklearn\\linear_model\\_ridge.py:187: LinAlgWarning: Ill-conditioned matrix (rcond=2.05248e-17): result may not be accurate.\n",
      "  dual_coef = linalg.solve(K, y, sym_pos=True,\n",
      "C:\\Users\\loren\\anaconda3\\lib\\site-packages\\sklearn\\linear_model\\_ridge.py:187: LinAlgWarning: Ill-conditioned matrix (rcond=1.87717e-17): result may not be accurate.\n",
      "  dual_coef = linalg.solve(K, y, sym_pos=True,\n"
     ]
    },
    {
     "name": "stdout",
     "output_type": "stream",
     "text": [
      "best score: 0.9191651414341464\n",
      "Wall time: 4.71 s\n"
     ]
    }
   ],
   "source": [
    "%%time\n",
    "model = Pipeline([\n",
    "    (\"scaler\", StandardScaler()),\n",
    "    (\"reg\",  KernelRidge(kernel=\"poly\"))\n",
    "])\n",
    "grid = [\n",
    "    {\n",
    "        \"scaler\": [None, StandardScaler()],\n",
    "        \"reg__alpha\": np.logspace(-2, 2, 5),\n",
    "        \"reg__degree\": range(1, 3)\n",
    "    }\n",
    "]\n",
    "models[\"kernel_ridge\"] = train_and_evaluate(model, grid)"
   ]
  },
  {
   "cell_type": "code",
   "execution_count": 67,
   "metadata": {},
   "outputs": [
    {
     "data": {
      "text/plain": [
       "0.896551724137931"
      ]
     },
     "execution_count": 67,
     "metadata": {},
     "output_type": "execute_result"
    }
   ],
   "source": [
    "accuracy(y_val, np.round(models[\"kernel_ridge\"].predict(X_val)))"
   ]
  },
  {
   "cell_type": "code",
   "execution_count": 68,
   "metadata": {},
   "outputs": [
    {
     "data": {
      "text/plain": [
       "0.914630019230164"
      ]
     },
     "execution_count": 68,
     "metadata": {},
     "output_type": "execute_result"
    }
   ],
   "source": [
    "models[\"kernel_ridge\"].best_score_"
   ]
  },
  {
   "cell_type": "markdown",
   "metadata": {},
   "source": [
    "La funzione ci da un warning per il fatto che il numero di feature è troppo grande e il problema non è adatto a questo tipo di risoluzione (con feature polinomiali di grado 2).  Riportiamo i risultati, che sembrano corretti, vista la maggior accuratezza sul validation set rispetto al training set, ma comunque sia in fase di valutazione dei modelli scarteremo tutti quelli che utilizzano **feature polinomiali**, non solo per la poco affidabilità ma perchè abbiamo ottenuto risultati migliori con altri modelli."
   ]
  },
  {
   "cell_type": "markdown",
   "metadata": {},
   "source": [
    "### Decision Tree\n",
    "\n",
    "In questo paragrafo e nel successivo vediamo nuovamente gli algoritmi **decision tree** e **random forest** ma utilizzando una regressione invece che una classificazione. Per questo motivo i ragionamenti rimangono analoghi a quelli fatti in precedenza."
   ]
  },
  {
   "cell_type": "code",
   "execution_count": 69,
   "metadata": {
    "scrolled": true
   },
   "outputs": [
    {
     "name": "stdout",
     "output_type": "stream",
     "text": [
      "best score: 0.9051533936042111\n",
      "Wall time: 6.49 s\n"
     ]
    }
   ],
   "source": [
    "%%time\n",
    "model = Pipeline([\n",
    "    (\"scaler\", None),\n",
    "    (\"poly\", PolynomialFeatures(include_bias=False)),\n",
    "    (\"cl\", DecisionTreeRegressor(random_state=42))\n",
    "])\n",
    "grid = [\n",
    "    {\n",
    "        \"scaler\": [None, StandardScaler()],\n",
    "        \"poly__degree\": range(1, 3),\n",
    "        \"cl__max_depth\": range(1, 10)\n",
    "    }\n",
    "]\n",
    "models[\"decision_tree_regr\"] = train_and_evaluate(model, grid)"
   ]
  },
  {
   "cell_type": "code",
   "execution_count": 70,
   "metadata": {
    "scrolled": false
   },
   "outputs": [
    {
     "data": {
      "text/plain": [
       "0.856071964017991"
      ]
     },
     "execution_count": 70,
     "metadata": {},
     "output_type": "execute_result"
    }
   ],
   "source": [
    "accuracy(y_val, np.round(models[\"decision_tree_regr\"].predict(X_val)))"
   ]
  },
  {
   "cell_type": "markdown",
   "metadata": {},
   "source": [
    "### Random Forest"
   ]
  },
  {
   "cell_type": "code",
   "execution_count": 71,
   "metadata": {},
   "outputs": [
    {
     "name": "stdout",
     "output_type": "stream",
     "text": [
      "best score: 0.9390858547959876\n",
      "Wall time: 25.7 s\n"
     ]
    }
   ],
   "source": [
    "%%time\n",
    "model = Pipeline([\n",
    "    (\"scaler\", None),\n",
    "    (\"cl\", RandomForestRegressor(random_state=42))\n",
    "])\n",
    "grid = [\n",
    "    {\n",
    "        \"scaler\": [None, StandardScaler()],\n",
    "        \"cl__max_depth\": range(1, 10)\n",
    "    }\n",
    "]\n",
    "models[\"random_forest_regr\"] = train_and_evaluate(model, grid)"
   ]
  },
  {
   "cell_type": "code",
   "execution_count": 72,
   "metadata": {
    "scrolled": false
   },
   "outputs": [
    {
     "data": {
      "text/plain": [
       "0.9055472263868066"
      ]
     },
     "execution_count": 72,
     "metadata": {},
     "output_type": "execute_result"
    }
   ],
   "source": [
    "accuracy(y_val, np.round(models[\"random_forest_regr\"].predict(X_val)))"
   ]
  },
  {
   "cell_type": "markdown",
   "metadata": {},
   "source": [
    "### CatBoost Regressor\n",
    "\n",
    "Infine vediamo l'utilizzo di un algoritmo che utilizza **gradient boosting**, cioè parte da un modello semplice e ad ogni step aggiunge una nuova funzione a quella creata allo step predente per ridurne l'errore. In particolare, **CatBoost** permette l'utilizzo di variabili categoriche, per cui è quello che fa più al caso nostro."
   ]
  },
  {
   "cell_type": "code",
   "execution_count": 73,
   "metadata": {
    "scrolled": true
   },
   "outputs": [
    {
     "name": "stdout",
     "output_type": "stream",
     "text": [
      "Learning rate set to 0.024387\n",
      "0:\tlearn: 1.0939869\ttotal: 147ms\tremaining: 4m 53s\n",
      "1:\tlearn: 1.0735350\ttotal: 149ms\tremaining: 2m 29s\n",
      "2:\tlearn: 1.0538073\ttotal: 152ms\tremaining: 1m 41s\n",
      "3:\tlearn: 1.0352751\ttotal: 154ms\tremaining: 1m 16s\n",
      "4:\tlearn: 1.0175276\ttotal: 155ms\tremaining: 1m 2s\n",
      "5:\tlearn: 1.0012708\ttotal: 157ms\tremaining: 52.3s\n",
      "6:\tlearn: 0.9828100\ttotal: 159ms\tremaining: 45.3s\n",
      "7:\tlearn: 0.9644613\ttotal: 164ms\tremaining: 40.8s\n",
      "8:\tlearn: 0.9486172\ttotal: 166ms\tremaining: 36.7s\n",
      "9:\tlearn: 0.9317355\ttotal: 168ms\tremaining: 33.4s\n",
      "10:\tlearn: 0.9152649\ttotal: 170ms\tremaining: 30.7s\n",
      "11:\tlearn: 0.8992140\ttotal: 172ms\tremaining: 28.5s\n",
      "12:\tlearn: 0.8835070\ttotal: 174ms\tremaining: 26.6s\n",
      "13:\tlearn: 0.8684126\ttotal: 179ms\tremaining: 25.4s\n",
      "14:\tlearn: 0.8532954\ttotal: 183ms\tremaining: 24.2s\n",
      "15:\tlearn: 0.8398238\ttotal: 187ms\tremaining: 23.2s\n",
      "16:\tlearn: 0.8249353\ttotal: 193ms\tremaining: 22.5s\n",
      "17:\tlearn: 0.8109818\ttotal: 195ms\tremaining: 21.5s\n",
      "18:\tlearn: 0.7966018\ttotal: 197ms\tremaining: 20.5s\n",
      "19:\tlearn: 0.7845956\ttotal: 199ms\tremaining: 19.7s\n",
      "20:\tlearn: 0.7712924\ttotal: 200ms\tremaining: 18.9s\n",
      "21:\tlearn: 0.7573447\ttotal: 204ms\tremaining: 18.4s\n",
      "22:\tlearn: 0.7463235\ttotal: 208ms\tremaining: 17.9s\n",
      "23:\tlearn: 0.7340495\ttotal: 212ms\tremaining: 17.4s\n",
      "24:\tlearn: 0.7229167\ttotal: 214ms\tremaining: 16.9s\n",
      "25:\tlearn: 0.7109484\ttotal: 216ms\tremaining: 16.4s\n",
      "26:\tlearn: 0.6992061\ttotal: 219ms\tremaining: 16s\n",
      "27:\tlearn: 0.6875840\ttotal: 221ms\tremaining: 15.6s\n",
      "28:\tlearn: 0.6770330\ttotal: 225ms\tremaining: 15.3s\n",
      "29:\tlearn: 0.6671772\ttotal: 227ms\tremaining: 14.9s\n",
      "30:\tlearn: 0.6575425\ttotal: 230ms\tremaining: 14.6s\n",
      "31:\tlearn: 0.6476732\ttotal: 233ms\tremaining: 14.3s\n",
      "32:\tlearn: 0.6369544\ttotal: 237ms\tremaining: 14.2s\n",
      "33:\tlearn: 0.6274945\ttotal: 240ms\tremaining: 13.9s\n",
      "34:\tlearn: 0.6179558\ttotal: 242ms\tremaining: 13.6s\n",
      "35:\tlearn: 0.6086682\ttotal: 246ms\tremaining: 13.4s\n",
      "36:\tlearn: 0.5994785\ttotal: 249ms\tremaining: 13.2s\n",
      "37:\tlearn: 0.5899983\ttotal: 251ms\tremaining: 13s\n",
      "38:\tlearn: 0.5816731\ttotal: 254ms\tremaining: 12.8s\n",
      "39:\tlearn: 0.5728834\ttotal: 256ms\tremaining: 12.6s\n",
      "40:\tlearn: 0.5641287\ttotal: 259ms\tremaining: 12.4s\n",
      "41:\tlearn: 0.5564213\ttotal: 262ms\tremaining: 12.2s\n",
      "42:\tlearn: 0.5490772\ttotal: 266ms\tremaining: 12.1s\n",
      "43:\tlearn: 0.5416493\ttotal: 269ms\tremaining: 11.9s\n",
      "44:\tlearn: 0.5334834\ttotal: 271ms\tremaining: 11.8s\n",
      "45:\tlearn: 0.5263367\ttotal: 272ms\tremaining: 11.6s\n",
      "46:\tlearn: 0.5187765\ttotal: 275ms\tremaining: 11.4s\n",
      "47:\tlearn: 0.5132811\ttotal: 277ms\tremaining: 11.3s\n",
      "48:\tlearn: 0.5060988\ttotal: 279ms\tremaining: 11.1s\n",
      "49:\tlearn: 0.4995035\ttotal: 281ms\tremaining: 11s\n",
      "50:\tlearn: 0.4941042\ttotal: 283ms\tremaining: 10.8s\n",
      "51:\tlearn: 0.4874530\ttotal: 285ms\tremaining: 10.7s\n",
      "52:\tlearn: 0.4815823\ttotal: 287ms\tremaining: 10.5s\n",
      "53:\tlearn: 0.4761457\ttotal: 290ms\tremaining: 10.5s\n",
      "54:\tlearn: 0.4709812\ttotal: 294ms\tremaining: 10.4s\n",
      "55:\tlearn: 0.4664048\ttotal: 296ms\tremaining: 10.3s\n",
      "56:\tlearn: 0.4600499\ttotal: 298ms\tremaining: 10.1s\n",
      "57:\tlearn: 0.4546995\ttotal: 301ms\tremaining: 10.1s\n",
      "58:\tlearn: 0.4497509\ttotal: 305ms\tremaining: 10s\n",
      "59:\tlearn: 0.4450645\ttotal: 307ms\tremaining: 9.94s\n",
      "60:\tlearn: 0.4399280\ttotal: 312ms\tremaining: 9.92s\n",
      "61:\tlearn: 0.4352487\ttotal: 315ms\tremaining: 9.86s\n",
      "62:\tlearn: 0.4296134\ttotal: 323ms\tremaining: 9.95s\n",
      "63:\tlearn: 0.4250586\ttotal: 326ms\tremaining: 9.86s\n",
      "64:\tlearn: 0.4206963\ttotal: 328ms\tremaining: 9.77s\n",
      "65:\tlearn: 0.4157812\ttotal: 330ms\tremaining: 9.66s\n",
      "66:\tlearn: 0.4118692\ttotal: 333ms\tremaining: 9.62s\n",
      "67:\tlearn: 0.4072111\ttotal: 336ms\tremaining: 9.55s\n",
      "68:\tlearn: 0.4029778\ttotal: 338ms\tremaining: 9.45s\n",
      "69:\tlearn: 0.3991270\ttotal: 340ms\tremaining: 9.38s\n",
      "70:\tlearn: 0.3957905\ttotal: 342ms\tremaining: 9.29s\n",
      "71:\tlearn: 0.3918245\ttotal: 344ms\tremaining: 9.21s\n",
      "72:\tlearn: 0.3882688\ttotal: 350ms\tremaining: 9.23s\n",
      "73:\tlearn: 0.3843046\ttotal: 352ms\tremaining: 9.15s\n",
      "74:\tlearn: 0.3807887\ttotal: 353ms\tremaining: 9.06s\n",
      "75:\tlearn: 0.3772137\ttotal: 355ms\tremaining: 8.98s\n",
      "76:\tlearn: 0.3736560\ttotal: 356ms\tremaining: 8.9s\n",
      "77:\tlearn: 0.3703610\ttotal: 358ms\tremaining: 8.83s\n",
      "78:\tlearn: 0.3670167\ttotal: 361ms\tremaining: 8.78s\n",
      "79:\tlearn: 0.3637672\ttotal: 363ms\tremaining: 8.71s\n",
      "80:\tlearn: 0.3614560\ttotal: 364ms\tremaining: 8.62s\n",
      "81:\tlearn: 0.3585867\ttotal: 366ms\tremaining: 8.55s\n",
      "82:\tlearn: 0.3553597\ttotal: 367ms\tremaining: 8.48s\n",
      "83:\tlearn: 0.3524939\ttotal: 369ms\tremaining: 8.41s\n",
      "84:\tlearn: 0.3500329\ttotal: 370ms\tremaining: 8.35s\n",
      "85:\tlearn: 0.3473895\ttotal: 372ms\tremaining: 8.28s\n",
      "86:\tlearn: 0.3445928\ttotal: 374ms\tremaining: 8.23s\n",
      "87:\tlearn: 0.3416067\ttotal: 378ms\tremaining: 8.21s\n",
      "88:\tlearn: 0.3391220\ttotal: 379ms\tremaining: 8.15s\n",
      "89:\tlearn: 0.3364307\ttotal: 381ms\tremaining: 8.08s\n",
      "90:\tlearn: 0.3340693\ttotal: 383ms\tremaining: 8.03s\n",
      "91:\tlearn: 0.3317508\ttotal: 384ms\tremaining: 7.97s\n",
      "92:\tlearn: 0.3293002\ttotal: 386ms\tremaining: 7.92s\n",
      "93:\tlearn: 0.3269757\ttotal: 388ms\tremaining: 7.87s\n",
      "94:\tlearn: 0.3251056\ttotal: 390ms\tremaining: 7.83s\n",
      "95:\tlearn: 0.3226901\ttotal: 392ms\tremaining: 7.78s\n",
      "96:\tlearn: 0.3210753\ttotal: 394ms\tremaining: 7.72s\n",
      "97:\tlearn: 0.3193868\ttotal: 396ms\tremaining: 7.68s\n",
      "98:\tlearn: 0.3174334\ttotal: 397ms\tremaining: 7.63s\n",
      "99:\tlearn: 0.3154632\ttotal: 399ms\tremaining: 7.58s\n",
      "100:\tlearn: 0.3137778\ttotal: 402ms\tremaining: 7.55s\n",
      "101:\tlearn: 0.3119740\ttotal: 404ms\tremaining: 7.52s\n",
      "102:\tlearn: 0.3104330\ttotal: 406ms\tremaining: 7.47s\n",
      "103:\tlearn: 0.3087005\ttotal: 407ms\tremaining: 7.42s\n",
      "104:\tlearn: 0.3070441\ttotal: 409ms\tremaining: 7.38s\n",
      "105:\tlearn: 0.3054821\ttotal: 410ms\tremaining: 7.33s\n",
      "106:\tlearn: 0.3039170\ttotal: 412ms\tremaining: 7.29s\n",
      "107:\tlearn: 0.3021788\ttotal: 414ms\tremaining: 7.25s\n",
      "108:\tlearn: 0.3006662\ttotal: 416ms\tremaining: 7.22s\n",
      "109:\tlearn: 0.2991750\ttotal: 418ms\tremaining: 7.18s\n",
      "110:\tlearn: 0.2977458\ttotal: 419ms\tremaining: 7.14s\n",
      "111:\tlearn: 0.2964825\ttotal: 421ms\tremaining: 7.1s\n",
      "112:\tlearn: 0.2951611\ttotal: 423ms\tremaining: 7.06s\n",
      "113:\tlearn: 0.2939004\ttotal: 424ms\tremaining: 7.02s\n",
      "114:\tlearn: 0.2926129\ttotal: 426ms\tremaining: 6.98s\n",
      "115:\tlearn: 0.2914458\ttotal: 429ms\tremaining: 6.97s\n",
      "116:\tlearn: 0.2904575\ttotal: 432ms\tremaining: 6.95s\n",
      "117:\tlearn: 0.2894406\ttotal: 433ms\tremaining: 6.91s\n",
      "118:\tlearn: 0.2880330\ttotal: 435ms\tremaining: 6.88s\n",
      "119:\tlearn: 0.2869475\ttotal: 437ms\tremaining: 6.84s\n",
      "120:\tlearn: 0.2861195\ttotal: 438ms\tremaining: 6.81s\n",
      "121:\tlearn: 0.2847771\ttotal: 440ms\tremaining: 6.77s\n",
      "122:\tlearn: 0.2836083\ttotal: 444ms\tremaining: 6.78s\n",
      "123:\tlearn: 0.2827790\ttotal: 446ms\tremaining: 6.75s\n",
      "124:\tlearn: 0.2814752\ttotal: 448ms\tremaining: 6.72s\n",
      "125:\tlearn: 0.2802392\ttotal: 450ms\tremaining: 6.69s\n",
      "126:\tlearn: 0.2792841\ttotal: 451ms\tremaining: 6.66s\n",
      "127:\tlearn: 0.2782580\ttotal: 453ms\tremaining: 6.63s\n",
      "128:\tlearn: 0.2773622\ttotal: 455ms\tremaining: 6.6s\n",
      "129:\tlearn: 0.2764761\ttotal: 459ms\tremaining: 6.6s\n",
      "130:\tlearn: 0.2755382\ttotal: 461ms\tremaining: 6.58s\n",
      "131:\tlearn: 0.2746859\ttotal: 465ms\tremaining: 6.58s\n",
      "132:\tlearn: 0.2738116\ttotal: 469ms\tremaining: 6.58s\n",
      "133:\tlearn: 0.2727539\ttotal: 472ms\tremaining: 6.58s\n",
      "134:\tlearn: 0.2720955\ttotal: 475ms\tremaining: 6.55s\n",
      "135:\tlearn: 0.2712813\ttotal: 477ms\tremaining: 6.53s\n",
      "136:\tlearn: 0.2706239\ttotal: 479ms\tremaining: 6.51s\n",
      "137:\tlearn: 0.2699313\ttotal: 481ms\tremaining: 6.49s\n",
      "138:\tlearn: 0.2692307\ttotal: 484ms\tremaining: 6.47s\n",
      "139:\tlearn: 0.2684101\ttotal: 486ms\tremaining: 6.46s\n",
      "140:\tlearn: 0.2677769\ttotal: 488ms\tremaining: 6.43s\n",
      "141:\tlearn: 0.2671379\ttotal: 490ms\tremaining: 6.42s\n",
      "142:\tlearn: 0.2665827\ttotal: 493ms\tremaining: 6.4s\n",
      "143:\tlearn: 0.2656729\ttotal: 499ms\tremaining: 6.43s\n",
      "144:\tlearn: 0.2648213\ttotal: 501ms\tremaining: 6.41s\n",
      "145:\tlearn: 0.2642113\ttotal: 503ms\tremaining: 6.39s\n",
      "146:\tlearn: 0.2635707\ttotal: 506ms\tremaining: 6.38s\n",
      "147:\tlearn: 0.2627975\ttotal: 509ms\tremaining: 6.37s\n",
      "148:\tlearn: 0.2622622\ttotal: 511ms\tremaining: 6.35s\n",
      "149:\tlearn: 0.2617020\ttotal: 514ms\tremaining: 6.33s\n",
      "150:\tlearn: 0.2610940\ttotal: 516ms\tremaining: 6.31s\n",
      "151:\tlearn: 0.2605245\ttotal: 517ms\tremaining: 6.29s\n",
      "152:\tlearn: 0.2596891\ttotal: 519ms\tremaining: 6.27s\n",
      "153:\tlearn: 0.2592262\ttotal: 521ms\tremaining: 6.24s\n",
      "154:\tlearn: 0.2585663\ttotal: 525ms\tremaining: 6.25s\n",
      "155:\tlearn: 0.2580683\ttotal: 528ms\tremaining: 6.24s\n",
      "156:\tlearn: 0.2575311\ttotal: 530ms\tremaining: 6.22s\n",
      "157:\tlearn: 0.2569364\ttotal: 532ms\tremaining: 6.2s\n",
      "158:\tlearn: 0.2563310\ttotal: 534ms\tremaining: 6.18s\n",
      "159:\tlearn: 0.2558788\ttotal: 536ms\tremaining: 6.16s\n",
      "160:\tlearn: 0.2553799\ttotal: 539ms\tremaining: 6.15s\n",
      "161:\tlearn: 0.2549504\ttotal: 541ms\tremaining: 6.13s\n",
      "162:\tlearn: 0.2544863\ttotal: 543ms\tremaining: 6.12s\n",
      "163:\tlearn: 0.2540736\ttotal: 545ms\tremaining: 6.1s\n",
      "164:\tlearn: 0.2535710\ttotal: 547ms\tremaining: 6.08s\n",
      "165:\tlearn: 0.2531752\ttotal: 549ms\tremaining: 6.06s\n",
      "166:\tlearn: 0.2527392\ttotal: 551ms\tremaining: 6.04s\n",
      "167:\tlearn: 0.2523108\ttotal: 553ms\tremaining: 6.03s\n",
      "168:\tlearn: 0.2519581\ttotal: 556ms\tremaining: 6.02s\n",
      "169:\tlearn: 0.2515000\ttotal: 558ms\tremaining: 6s\n",
      "170:\tlearn: 0.2508909\ttotal: 560ms\tremaining: 5.99s\n",
      "171:\tlearn: 0.2502871\ttotal: 561ms\tremaining: 5.97s\n",
      "172:\tlearn: 0.2499277\ttotal: 563ms\tremaining: 5.95s\n",
      "173:\tlearn: 0.2494038\ttotal: 566ms\tremaining: 5.94s\n",
      "174:\tlearn: 0.2489816\ttotal: 568ms\tremaining: 5.92s\n",
      "175:\tlearn: 0.2485626\ttotal: 570ms\tremaining: 5.91s\n",
      "176:\tlearn: 0.2480109\ttotal: 572ms\tremaining: 5.89s\n",
      "177:\tlearn: 0.2475126\ttotal: 574ms\tremaining: 5.87s\n",
      "178:\tlearn: 0.2471417\ttotal: 575ms\tremaining: 5.85s\n",
      "179:\tlearn: 0.2468131\ttotal: 577ms\tremaining: 5.83s\n",
      "180:\tlearn: 0.2462664\ttotal: 579ms\tremaining: 5.82s\n",
      "181:\tlearn: 0.2459887\ttotal: 583ms\tremaining: 5.82s\n",
      "182:\tlearn: 0.2455249\ttotal: 585ms\tremaining: 5.81s\n",
      "183:\tlearn: 0.2449947\ttotal: 587ms\tremaining: 5.79s\n",
      "184:\tlearn: 0.2446571\ttotal: 589ms\tremaining: 5.77s\n",
      "185:\tlearn: 0.2443415\ttotal: 591ms\tremaining: 5.76s\n",
      "186:\tlearn: 0.2440147\ttotal: 593ms\tremaining: 5.75s\n",
      "187:\tlearn: 0.2437048\ttotal: 598ms\tremaining: 5.76s\n",
      "188:\tlearn: 0.2433724\ttotal: 600ms\tremaining: 5.75s\n",
      "189:\tlearn: 0.2429829\ttotal: 601ms\tremaining: 5.73s\n",
      "190:\tlearn: 0.2425947\ttotal: 603ms\tremaining: 5.71s\n",
      "191:\tlearn: 0.2423743\ttotal: 606ms\tremaining: 5.7s\n",
      "192:\tlearn: 0.2420663\ttotal: 609ms\tremaining: 5.7s\n"
     ]
    },
    {
     "name": "stdout",
     "output_type": "stream",
     "text": [
      "193:\tlearn: 0.2417742\ttotal: 612ms\tremaining: 5.7s\n",
      "194:\tlearn: 0.2414668\ttotal: 614ms\tremaining: 5.68s\n",
      "195:\tlearn: 0.2411785\ttotal: 616ms\tremaining: 5.67s\n",
      "196:\tlearn: 0.2408732\ttotal: 618ms\tremaining: 5.66s\n",
      "197:\tlearn: 0.2405758\ttotal: 623ms\tremaining: 5.67s\n",
      "198:\tlearn: 0.2401519\ttotal: 627ms\tremaining: 5.68s\n",
      "199:\tlearn: 0.2398613\ttotal: 629ms\tremaining: 5.66s\n",
      "200:\tlearn: 0.2395602\ttotal: 631ms\tremaining: 5.65s\n",
      "201:\tlearn: 0.2392336\ttotal: 633ms\tremaining: 5.63s\n",
      "202:\tlearn: 0.2389517\ttotal: 635ms\tremaining: 5.62s\n",
      "203:\tlearn: 0.2386216\ttotal: 638ms\tremaining: 5.61s\n",
      "204:\tlearn: 0.2382923\ttotal: 640ms\tremaining: 5.6s\n",
      "205:\tlearn: 0.2379896\ttotal: 642ms\tremaining: 5.59s\n",
      "206:\tlearn: 0.2377549\ttotal: 644ms\tremaining: 5.57s\n",
      "207:\tlearn: 0.2374178\ttotal: 645ms\tremaining: 5.56s\n",
      "208:\tlearn: 0.2371105\ttotal: 647ms\tremaining: 5.54s\n",
      "209:\tlearn: 0.2368287\ttotal: 649ms\tremaining: 5.53s\n",
      "210:\tlearn: 0.2365493\ttotal: 654ms\tremaining: 5.54s\n",
      "211:\tlearn: 0.2362952\ttotal: 655ms\tremaining: 5.53s\n",
      "212:\tlearn: 0.2360805\ttotal: 657ms\tremaining: 5.51s\n",
      "213:\tlearn: 0.2357980\ttotal: 659ms\tremaining: 5.5s\n",
      "214:\tlearn: 0.2354137\ttotal: 660ms\tremaining: 5.48s\n",
      "215:\tlearn: 0.2351461\ttotal: 662ms\tremaining: 5.47s\n",
      "216:\tlearn: 0.2348992\ttotal: 666ms\tremaining: 5.47s\n",
      "217:\tlearn: 0.2344964\ttotal: 668ms\tremaining: 5.46s\n",
      "218:\tlearn: 0.2341454\ttotal: 671ms\tremaining: 5.46s\n",
      "219:\tlearn: 0.2338646\ttotal: 673ms\tremaining: 5.44s\n",
      "220:\tlearn: 0.2336044\ttotal: 674ms\tremaining: 5.43s\n",
      "221:\tlearn: 0.2334747\ttotal: 676ms\tremaining: 5.41s\n",
      "222:\tlearn: 0.2332511\ttotal: 679ms\tremaining: 5.41s\n",
      "223:\tlearn: 0.2328720\ttotal: 682ms\tremaining: 5.41s\n",
      "224:\tlearn: 0.2325624\ttotal: 684ms\tremaining: 5.39s\n",
      "225:\tlearn: 0.2322329\ttotal: 685ms\tremaining: 5.38s\n",
      "226:\tlearn: 0.2319583\ttotal: 687ms\tremaining: 5.36s\n",
      "227:\tlearn: 0.2317350\ttotal: 688ms\tremaining: 5.35s\n",
      "228:\tlearn: 0.2315753\ttotal: 690ms\tremaining: 5.33s\n",
      "229:\tlearn: 0.2313322\ttotal: 693ms\tremaining: 5.33s\n",
      "230:\tlearn: 0.2309697\ttotal: 695ms\tremaining: 5.32s\n",
      "231:\tlearn: 0.2306944\ttotal: 697ms\tremaining: 5.31s\n",
      "232:\tlearn: 0.2304187\ttotal: 699ms\tremaining: 5.3s\n",
      "233:\tlearn: 0.2301169\ttotal: 700ms\tremaining: 5.29s\n",
      "234:\tlearn: 0.2298768\ttotal: 702ms\tremaining: 5.27s\n",
      "235:\tlearn: 0.2296299\ttotal: 704ms\tremaining: 5.26s\n",
      "236:\tlearn: 0.2293687\ttotal: 707ms\tremaining: 5.26s\n",
      "237:\tlearn: 0.2291987\ttotal: 709ms\tremaining: 5.25s\n",
      "238:\tlearn: 0.2290432\ttotal: 711ms\tremaining: 5.24s\n",
      "239:\tlearn: 0.2288351\ttotal: 713ms\tremaining: 5.23s\n",
      "240:\tlearn: 0.2285801\ttotal: 715ms\tremaining: 5.21s\n",
      "241:\tlearn: 0.2283032\ttotal: 716ms\tremaining: 5.2s\n",
      "242:\tlearn: 0.2280200\ttotal: 718ms\tremaining: 5.19s\n",
      "243:\tlearn: 0.2277803\ttotal: 721ms\tremaining: 5.19s\n",
      "244:\tlearn: 0.2275969\ttotal: 724ms\tremaining: 5.18s\n",
      "245:\tlearn: 0.2273347\ttotal: 725ms\tremaining: 5.17s\n",
      "246:\tlearn: 0.2271289\ttotal: 727ms\tremaining: 5.16s\n",
      "247:\tlearn: 0.2269007\ttotal: 729ms\tremaining: 5.15s\n",
      "248:\tlearn: 0.2267453\ttotal: 730ms\tremaining: 5.13s\n",
      "249:\tlearn: 0.2266110\ttotal: 733ms\tremaining: 5.13s\n",
      "250:\tlearn: 0.2263147\ttotal: 736ms\tremaining: 5.13s\n",
      "251:\tlearn: 0.2259851\ttotal: 738ms\tremaining: 5.12s\n",
      "252:\tlearn: 0.2258643\ttotal: 740ms\tremaining: 5.11s\n",
      "253:\tlearn: 0.2255536\ttotal: 742ms\tremaining: 5.1s\n",
      "254:\tlearn: 0.2253204\ttotal: 744ms\tremaining: 5.09s\n",
      "255:\tlearn: 0.2250923\ttotal: 746ms\tremaining: 5.08s\n",
      "256:\tlearn: 0.2249170\ttotal: 750ms\tremaining: 5.09s\n",
      "257:\tlearn: 0.2246718\ttotal: 752ms\tremaining: 5.08s\n",
      "258:\tlearn: 0.2244469\ttotal: 753ms\tremaining: 5.06s\n",
      "259:\tlearn: 0.2242166\ttotal: 755ms\tremaining: 5.05s\n",
      "260:\tlearn: 0.2240446\ttotal: 757ms\tremaining: 5.04s\n",
      "261:\tlearn: 0.2238391\ttotal: 759ms\tremaining: 5.03s\n",
      "262:\tlearn: 0.2235719\ttotal: 761ms\tremaining: 5.02s\n",
      "263:\tlearn: 0.2233485\ttotal: 764ms\tremaining: 5.02s\n",
      "264:\tlearn: 0.2231701\ttotal: 766ms\tremaining: 5.02s\n",
      "265:\tlearn: 0.2230053\ttotal: 769ms\tremaining: 5.01s\n",
      "266:\tlearn: 0.2228324\ttotal: 771ms\tremaining: 5s\n",
      "267:\tlearn: 0.2226416\ttotal: 772ms\tremaining: 4.99s\n",
      "268:\tlearn: 0.2224838\ttotal: 777ms\tremaining: 5s\n",
      "269:\tlearn: 0.2221731\ttotal: 780ms\tremaining: 5s\n",
      "270:\tlearn: 0.2219691\ttotal: 782ms\tremaining: 4.99s\n",
      "271:\tlearn: 0.2218085\ttotal: 784ms\tremaining: 4.98s\n",
      "272:\tlearn: 0.2216450\ttotal: 786ms\tremaining: 4.97s\n",
      "273:\tlearn: 0.2214123\ttotal: 788ms\tremaining: 4.96s\n",
      "274:\tlearn: 0.2212185\ttotal: 793ms\tremaining: 4.97s\n",
      "275:\tlearn: 0.2209394\ttotal: 795ms\tremaining: 4.96s\n",
      "276:\tlearn: 0.2208440\ttotal: 797ms\tremaining: 4.96s\n",
      "277:\tlearn: 0.2205570\ttotal: 799ms\tremaining: 4.95s\n",
      "278:\tlearn: 0.2202674\ttotal: 801ms\tremaining: 4.94s\n",
      "279:\tlearn: 0.2199718\ttotal: 804ms\tremaining: 4.94s\n",
      "280:\tlearn: 0.2198125\ttotal: 806ms\tremaining: 4.93s\n",
      "281:\tlearn: 0.2195753\ttotal: 809ms\tremaining: 4.93s\n",
      "282:\tlearn: 0.2192776\ttotal: 811ms\tremaining: 4.92s\n",
      "283:\tlearn: 0.2191678\ttotal: 813ms\tremaining: 4.91s\n",
      "284:\tlearn: 0.2189082\ttotal: 815ms\tremaining: 4.9s\n",
      "285:\tlearn: 0.2187898\ttotal: 818ms\tremaining: 4.9s\n",
      "286:\tlearn: 0.2186280\ttotal: 820ms\tremaining: 4.9s\n",
      "287:\tlearn: 0.2184601\ttotal: 822ms\tremaining: 4.89s\n",
      "288:\tlearn: 0.2181782\ttotal: 825ms\tremaining: 4.88s\n",
      "289:\tlearn: 0.2179504\ttotal: 827ms\tremaining: 4.88s\n",
      "290:\tlearn: 0.2178079\ttotal: 829ms\tremaining: 4.87s\n",
      "291:\tlearn: 0.2176558\ttotal: 832ms\tremaining: 4.87s\n",
      "292:\tlearn: 0.2174317\ttotal: 834ms\tremaining: 4.86s\n",
      "293:\tlearn: 0.2172976\ttotal: 836ms\tremaining: 4.85s\n",
      "294:\tlearn: 0.2171142\ttotal: 839ms\tremaining: 4.85s\n",
      "295:\tlearn: 0.2168966\ttotal: 842ms\tremaining: 4.85s\n",
      "296:\tlearn: 0.2166946\ttotal: 845ms\tremaining: 4.84s\n",
      "297:\tlearn: 0.2165180\ttotal: 847ms\tremaining: 4.84s\n",
      "298:\tlearn: 0.2162997\ttotal: 850ms\tremaining: 4.84s\n",
      "299:\tlearn: 0.2161117\ttotal: 852ms\tremaining: 4.83s\n",
      "300:\tlearn: 0.2159933\ttotal: 854ms\tremaining: 4.82s\n",
      "301:\tlearn: 0.2158321\ttotal: 856ms\tremaining: 4.81s\n",
      "302:\tlearn: 0.2156641\ttotal: 858ms\tremaining: 4.8s\n",
      "303:\tlearn: 0.2154812\ttotal: 860ms\tremaining: 4.8s\n",
      "304:\tlearn: 0.2152443\ttotal: 863ms\tremaining: 4.79s\n",
      "305:\tlearn: 0.2150155\ttotal: 865ms\tremaining: 4.79s\n",
      "306:\tlearn: 0.2148015\ttotal: 867ms\tremaining: 4.78s\n",
      "307:\tlearn: 0.2145808\ttotal: 869ms\tremaining: 4.78s\n",
      "308:\tlearn: 0.2143731\ttotal: 871ms\tremaining: 4.77s\n",
      "309:\tlearn: 0.2141322\ttotal: 874ms\tremaining: 4.76s\n",
      "310:\tlearn: 0.2139071\ttotal: 875ms\tremaining: 4.75s\n",
      "311:\tlearn: 0.2137087\ttotal: 877ms\tremaining: 4.75s\n",
      "312:\tlearn: 0.2135310\ttotal: 879ms\tremaining: 4.74s\n",
      "313:\tlearn: 0.2133615\ttotal: 881ms\tremaining: 4.73s\n",
      "314:\tlearn: 0.2131923\ttotal: 883ms\tremaining: 4.72s\n",
      "315:\tlearn: 0.2130505\ttotal: 884ms\tremaining: 4.71s\n",
      "316:\tlearn: 0.2128604\ttotal: 887ms\tremaining: 4.71s\n",
      "317:\tlearn: 0.2126618\ttotal: 891ms\tremaining: 4.71s\n",
      "318:\tlearn: 0.2125074\ttotal: 893ms\tremaining: 4.7s\n",
      "319:\tlearn: 0.2123540\ttotal: 894ms\tremaining: 4.7s\n",
      "320:\tlearn: 0.2122003\ttotal: 896ms\tremaining: 4.69s\n",
      "321:\tlearn: 0.2120761\ttotal: 898ms\tremaining: 4.68s\n",
      "322:\tlearn: 0.2118094\ttotal: 901ms\tremaining: 4.67s\n",
      "323:\tlearn: 0.2116646\ttotal: 903ms\tremaining: 4.67s\n",
      "324:\tlearn: 0.2115010\ttotal: 905ms\tremaining: 4.66s\n",
      "325:\tlearn: 0.2113968\ttotal: 906ms\tremaining: 4.65s\n",
      "326:\tlearn: 0.2112978\ttotal: 908ms\tremaining: 4.64s\n",
      "327:\tlearn: 0.2111201\ttotal: 910ms\tremaining: 4.64s\n",
      "328:\tlearn: 0.2109239\ttotal: 911ms\tremaining: 4.63s\n",
      "329:\tlearn: 0.2107856\ttotal: 913ms\tremaining: 4.62s\n",
      "330:\tlearn: 0.2106334\ttotal: 918ms\tremaining: 4.63s\n",
      "331:\tlearn: 0.2104777\ttotal: 920ms\tremaining: 4.62s\n",
      "332:\tlearn: 0.2103058\ttotal: 921ms\tremaining: 4.61s\n",
      "333:\tlearn: 0.2100869\ttotal: 924ms\tremaining: 4.61s\n",
      "334:\tlearn: 0.2097765\ttotal: 926ms\tremaining: 4.6s\n",
      "335:\tlearn: 0.2096364\ttotal: 931ms\tremaining: 4.61s\n",
      "336:\tlearn: 0.2094110\ttotal: 934ms\tremaining: 4.61s\n",
      "337:\tlearn: 0.2093119\ttotal: 937ms\tremaining: 4.61s\n",
      "338:\tlearn: 0.2090783\ttotal: 939ms\tremaining: 4.6s\n",
      "339:\tlearn: 0.2088957\ttotal: 941ms\tremaining: 4.59s\n",
      "340:\tlearn: 0.2087200\ttotal: 943ms\tremaining: 4.59s\n",
      "341:\tlearn: 0.2084772\ttotal: 945ms\tremaining: 4.58s\n",
      "342:\tlearn: 0.2083295\ttotal: 946ms\tremaining: 4.57s\n",
      "343:\tlearn: 0.2081746\ttotal: 948ms\tremaining: 4.56s\n",
      "344:\tlearn: 0.2079431\ttotal: 950ms\tremaining: 4.56s\n",
      "345:\tlearn: 0.2077786\ttotal: 951ms\tremaining: 4.55s\n",
      "346:\tlearn: 0.2076623\ttotal: 953ms\tremaining: 4.54s\n",
      "347:\tlearn: 0.2074480\ttotal: 955ms\tremaining: 4.53s\n",
      "348:\tlearn: 0.2073152\ttotal: 960ms\tremaining: 4.54s\n",
      "349:\tlearn: 0.2072302\ttotal: 961ms\tremaining: 4.53s\n",
      "350:\tlearn: 0.2070842\ttotal: 963ms\tremaining: 4.53s\n",
      "351:\tlearn: 0.2069231\ttotal: 965ms\tremaining: 4.52s\n",
      "352:\tlearn: 0.2067767\ttotal: 967ms\tremaining: 4.51s\n",
      "353:\tlearn: 0.2066537\ttotal: 970ms\tremaining: 4.51s\n",
      "354:\tlearn: 0.2063790\ttotal: 974ms\tremaining: 4.51s\n",
      "355:\tlearn: 0.2062419\ttotal: 976ms\tremaining: 4.51s\n",
      "356:\tlearn: 0.2061428\ttotal: 978ms\tremaining: 4.5s\n",
      "357:\tlearn: 0.2059365\ttotal: 980ms\tremaining: 4.5s\n",
      "358:\tlearn: 0.2057620\ttotal: 983ms\tremaining: 4.49s\n",
      "359:\tlearn: 0.2056456\ttotal: 985ms\tremaining: 4.49s\n",
      "360:\tlearn: 0.2055614\ttotal: 987ms\tremaining: 4.48s\n",
      "361:\tlearn: 0.2053799\ttotal: 989ms\tremaining: 4.47s\n",
      "362:\tlearn: 0.2052363\ttotal: 990ms\tremaining: 4.47s\n",
      "363:\tlearn: 0.2050464\ttotal: 992ms\tremaining: 4.46s\n",
      "364:\tlearn: 0.2048484\ttotal: 993ms\tremaining: 4.45s\n",
      "365:\tlearn: 0.2047070\ttotal: 995ms\tremaining: 4.44s\n",
      "366:\tlearn: 0.2045117\ttotal: 997ms\tremaining: 4.44s\n",
      "367:\tlearn: 0.2043956\ttotal: 1s\tremaining: 4.44s\n",
      "368:\tlearn: 0.2042251\ttotal: 1s\tremaining: 4.43s\n",
      "369:\tlearn: 0.2040749\ttotal: 1s\tremaining: 4.43s\n",
      "370:\tlearn: 0.2038574\ttotal: 1.01s\tremaining: 4.42s\n",
      "371:\tlearn: 0.2036925\ttotal: 1.01s\tremaining: 4.41s\n",
      "372:\tlearn: 0.2035870\ttotal: 1.01s\tremaining: 4.4s\n",
      "373:\tlearn: 0.2033803\ttotal: 1.01s\tremaining: 4.41s\n",
      "374:\tlearn: 0.2031828\ttotal: 1.01s\tremaining: 4.4s\n",
      "375:\tlearn: 0.2030216\ttotal: 1.02s\tremaining: 4.39s\n",
      "376:\tlearn: 0.2029121\ttotal: 1.02s\tremaining: 4.39s\n",
      "377:\tlearn: 0.2027114\ttotal: 1.02s\tremaining: 4.38s\n",
      "378:\tlearn: 0.2025925\ttotal: 1.02s\tremaining: 4.37s\n",
      "379:\tlearn: 0.2024388\ttotal: 1.02s\tremaining: 4.37s\n",
      "380:\tlearn: 0.2022607\ttotal: 1.03s\tremaining: 4.37s\n",
      "381:\tlearn: 0.2022046\ttotal: 1.03s\tremaining: 4.36s\n",
      "382:\tlearn: 0.2020178\ttotal: 1.03s\tremaining: 4.35s\n",
      "383:\tlearn: 0.2019400\ttotal: 1.03s\tremaining: 4.34s\n",
      "384:\tlearn: 0.2018247\ttotal: 1.03s\tremaining: 4.34s\n",
      "385:\tlearn: 0.2016643\ttotal: 1.03s\tremaining: 4.33s\n",
      "386:\tlearn: 0.2014913\ttotal: 1.04s\tremaining: 4.32s\n",
      "387:\tlearn: 0.2013354\ttotal: 1.04s\tremaining: 4.33s\n",
      "388:\tlearn: 0.2012403\ttotal: 1.04s\tremaining: 4.32s\n",
      "389:\tlearn: 0.2011973\ttotal: 1.04s\tremaining: 4.31s\n",
      "390:\tlearn: 0.2010731\ttotal: 1.05s\tremaining: 4.31s\n",
      "391:\tlearn: 0.2008622\ttotal: 1.05s\tremaining: 4.3s\n",
      "392:\tlearn: 0.2006495\ttotal: 1.05s\tremaining: 4.29s\n",
      "393:\tlearn: 0.2004861\ttotal: 1.05s\tremaining: 4.29s\n",
      "394:\tlearn: 0.2003040\ttotal: 1.05s\tremaining: 4.29s\n",
      "395:\tlearn: 0.2002184\ttotal: 1.06s\tremaining: 4.28s\n",
      "396:\tlearn: 0.2001345\ttotal: 1.06s\tremaining: 4.27s\n",
      "397:\tlearn: 0.1999878\ttotal: 1.06s\tremaining: 4.27s\n",
      "398:\tlearn: 0.1998866\ttotal: 1.06s\tremaining: 4.26s\n",
      "399:\tlearn: 0.1997191\ttotal: 1.06s\tremaining: 4.25s\n",
      "400:\tlearn: 0.1995005\ttotal: 1.06s\tremaining: 4.25s\n",
      "401:\tlearn: 0.1993770\ttotal: 1.07s\tremaining: 4.24s\n",
      "402:\tlearn: 0.1991700\ttotal: 1.07s\tremaining: 4.24s\n",
      "403:\tlearn: 0.1989353\ttotal: 1.07s\tremaining: 4.24s\n",
      "404:\tlearn: 0.1987027\ttotal: 1.07s\tremaining: 4.23s\n",
      "405:\tlearn: 0.1985048\ttotal: 1.07s\tremaining: 4.22s\n",
      "406:\tlearn: 0.1984135\ttotal: 1.08s\tremaining: 4.21s\n",
      "407:\tlearn: 0.1982191\ttotal: 1.08s\tremaining: 4.21s\n",
      "408:\tlearn: 0.1980873\ttotal: 1.08s\tremaining: 4.2s\n"
     ]
    },
    {
     "name": "stdout",
     "output_type": "stream",
     "text": [
      "409:\tlearn: 0.1978529\ttotal: 1.08s\tremaining: 4.21s\n",
      "410:\tlearn: 0.1976452\ttotal: 1.09s\tremaining: 4.2s\n",
      "411:\tlearn: 0.1974570\ttotal: 1.09s\tremaining: 4.2s\n",
      "412:\tlearn: 0.1973457\ttotal: 1.09s\tremaining: 4.19s\n",
      "413:\tlearn: 0.1971631\ttotal: 1.09s\tremaining: 4.19s\n",
      "414:\tlearn: 0.1971044\ttotal: 1.1s\tremaining: 4.19s\n",
      "415:\tlearn: 0.1968639\ttotal: 1.1s\tremaining: 4.18s\n",
      "416:\tlearn: 0.1967643\ttotal: 1.1s\tremaining: 4.18s\n",
      "417:\tlearn: 0.1966257\ttotal: 1.1s\tremaining: 4.17s\n",
      "418:\tlearn: 0.1965004\ttotal: 1.1s\tremaining: 4.17s\n",
      "419:\tlearn: 0.1963816\ttotal: 1.1s\tremaining: 4.16s\n",
      "420:\tlearn: 0.1962512\ttotal: 1.11s\tremaining: 4.15s\n",
      "421:\tlearn: 0.1960945\ttotal: 1.11s\tremaining: 4.15s\n",
      "422:\tlearn: 0.1959432\ttotal: 1.11s\tremaining: 4.14s\n",
      "423:\tlearn: 0.1957629\ttotal: 1.11s\tremaining: 4.14s\n",
      "424:\tlearn: 0.1957118\ttotal: 1.11s\tremaining: 4.13s\n",
      "425:\tlearn: 0.1956121\ttotal: 1.12s\tremaining: 4.13s\n",
      "426:\tlearn: 0.1955395\ttotal: 1.12s\tremaining: 4.12s\n",
      "427:\tlearn: 0.1953281\ttotal: 1.12s\tremaining: 4.12s\n",
      "428:\tlearn: 0.1951785\ttotal: 1.13s\tremaining: 4.13s\n",
      "429:\tlearn: 0.1949773\ttotal: 1.13s\tremaining: 4.12s\n",
      "430:\tlearn: 0.1947853\ttotal: 1.13s\tremaining: 4.12s\n",
      "431:\tlearn: 0.1946131\ttotal: 1.13s\tremaining: 4.11s\n",
      "432:\tlearn: 0.1944740\ttotal: 1.14s\tremaining: 4.11s\n",
      "433:\tlearn: 0.1942812\ttotal: 1.14s\tremaining: 4.1s\n",
      "434:\tlearn: 0.1941903\ttotal: 1.14s\tremaining: 4.11s\n",
      "435:\tlearn: 0.1940736\ttotal: 1.14s\tremaining: 4.1s\n",
      "436:\tlearn: 0.1938466\ttotal: 1.15s\tremaining: 4.1s\n",
      "437:\tlearn: 0.1936557\ttotal: 1.15s\tremaining: 4.09s\n",
      "438:\tlearn: 0.1934368\ttotal: 1.15s\tremaining: 4.09s\n",
      "439:\tlearn: 0.1932667\ttotal: 1.15s\tremaining: 4.08s\n",
      "440:\tlearn: 0.1930643\ttotal: 1.15s\tremaining: 4.08s\n",
      "441:\tlearn: 0.1928755\ttotal: 1.16s\tremaining: 4.08s\n",
      "442:\tlearn: 0.1927194\ttotal: 1.16s\tremaining: 4.07s\n",
      "443:\tlearn: 0.1926099\ttotal: 1.16s\tremaining: 4.07s\n",
      "444:\tlearn: 0.1923834\ttotal: 1.16s\tremaining: 4.06s\n",
      "445:\tlearn: 0.1923099\ttotal: 1.16s\tremaining: 4.05s\n",
      "446:\tlearn: 0.1921356\ttotal: 1.17s\tremaining: 4.05s\n",
      "447:\tlearn: 0.1919385\ttotal: 1.17s\tremaining: 4.05s\n",
      "448:\tlearn: 0.1917270\ttotal: 1.17s\tremaining: 4.05s\n",
      "449:\tlearn: 0.1915951\ttotal: 1.17s\tremaining: 4.04s\n",
      "450:\tlearn: 0.1914428\ttotal: 1.18s\tremaining: 4.04s\n",
      "451:\tlearn: 0.1913203\ttotal: 1.18s\tremaining: 4.03s\n",
      "452:\tlearn: 0.1912762\ttotal: 1.18s\tremaining: 4.02s\n",
      "453:\tlearn: 0.1910946\ttotal: 1.18s\tremaining: 4.02s\n",
      "454:\tlearn: 0.1909565\ttotal: 1.18s\tremaining: 4.02s\n",
      "455:\tlearn: 0.1906677\ttotal: 1.19s\tremaining: 4.02s\n",
      "456:\tlearn: 0.1905884\ttotal: 1.19s\tremaining: 4.01s\n",
      "457:\tlearn: 0.1904722\ttotal: 1.19s\tremaining: 4.01s\n",
      "458:\tlearn: 0.1903262\ttotal: 1.19s\tremaining: 4.01s\n",
      "459:\tlearn: 0.1901960\ttotal: 1.2s\tremaining: 4s\n",
      "460:\tlearn: 0.1900685\ttotal: 1.2s\tremaining: 4s\n",
      "461:\tlearn: 0.1899454\ttotal: 1.2s\tremaining: 4s\n",
      "462:\tlearn: 0.1898181\ttotal: 1.2s\tremaining: 3.99s\n",
      "463:\tlearn: 0.1896538\ttotal: 1.2s\tremaining: 3.99s\n",
      "464:\tlearn: 0.1894460\ttotal: 1.21s\tremaining: 3.98s\n",
      "465:\tlearn: 0.1892732\ttotal: 1.21s\tremaining: 3.98s\n",
      "466:\tlearn: 0.1891676\ttotal: 1.21s\tremaining: 3.98s\n",
      "467:\tlearn: 0.1889557\ttotal: 1.21s\tremaining: 3.97s\n",
      "468:\tlearn: 0.1888597\ttotal: 1.21s\tremaining: 3.96s\n",
      "469:\tlearn: 0.1887032\ttotal: 1.22s\tremaining: 3.96s\n",
      "470:\tlearn: 0.1885334\ttotal: 1.22s\tremaining: 3.96s\n",
      "471:\tlearn: 0.1883265\ttotal: 1.22s\tremaining: 3.95s\n",
      "472:\tlearn: 0.1881937\ttotal: 1.22s\tremaining: 3.95s\n",
      "473:\tlearn: 0.1880770\ttotal: 1.23s\tremaining: 3.95s\n",
      "474:\tlearn: 0.1879376\ttotal: 1.23s\tremaining: 3.94s\n",
      "475:\tlearn: 0.1878292\ttotal: 1.23s\tremaining: 3.94s\n",
      "476:\tlearn: 0.1877635\ttotal: 1.23s\tremaining: 3.93s\n",
      "477:\tlearn: 0.1876007\ttotal: 1.23s\tremaining: 3.93s\n",
      "478:\tlearn: 0.1874393\ttotal: 1.24s\tremaining: 3.92s\n",
      "479:\tlearn: 0.1873779\ttotal: 1.24s\tremaining: 3.92s\n",
      "480:\tlearn: 0.1872769\ttotal: 1.24s\tremaining: 3.92s\n",
      "481:\tlearn: 0.1870774\ttotal: 1.24s\tremaining: 3.92s\n",
      "482:\tlearn: 0.1868976\ttotal: 1.25s\tremaining: 3.91s\n",
      "483:\tlearn: 0.1866727\ttotal: 1.25s\tremaining: 3.91s\n",
      "484:\tlearn: 0.1864885\ttotal: 1.25s\tremaining: 3.91s\n",
      "485:\tlearn: 0.1862406\ttotal: 1.25s\tremaining: 3.91s\n",
      "486:\tlearn: 0.1859630\ttotal: 1.25s\tremaining: 3.9s\n",
      "487:\tlearn: 0.1859165\ttotal: 1.26s\tremaining: 3.9s\n",
      "488:\tlearn: 0.1858231\ttotal: 1.26s\tremaining: 3.89s\n",
      "489:\tlearn: 0.1856597\ttotal: 1.26s\tremaining: 3.89s\n",
      "490:\tlearn: 0.1854861\ttotal: 1.26s\tremaining: 3.88s\n",
      "491:\tlearn: 0.1852188\ttotal: 1.26s\tremaining: 3.88s\n",
      "492:\tlearn: 0.1849899\ttotal: 1.27s\tremaining: 3.88s\n",
      "493:\tlearn: 0.1847591\ttotal: 1.27s\tremaining: 3.87s\n",
      "494:\tlearn: 0.1845415\ttotal: 1.27s\tremaining: 3.87s\n",
      "495:\tlearn: 0.1843581\ttotal: 1.27s\tremaining: 3.86s\n",
      "496:\tlearn: 0.1841438\ttotal: 1.27s\tremaining: 3.86s\n",
      "497:\tlearn: 0.1840632\ttotal: 1.28s\tremaining: 3.85s\n",
      "498:\tlearn: 0.1839365\ttotal: 1.28s\tremaining: 3.85s\n",
      "499:\tlearn: 0.1837563\ttotal: 1.28s\tremaining: 3.85s\n",
      "500:\tlearn: 0.1836391\ttotal: 1.28s\tremaining: 3.85s\n",
      "501:\tlearn: 0.1834670\ttotal: 1.29s\tremaining: 3.84s\n",
      "502:\tlearn: 0.1833922\ttotal: 1.29s\tremaining: 3.84s\n",
      "503:\tlearn: 0.1833103\ttotal: 1.29s\tremaining: 3.83s\n",
      "504:\tlearn: 0.1831489\ttotal: 1.29s\tremaining: 3.83s\n",
      "505:\tlearn: 0.1830112\ttotal: 1.3s\tremaining: 3.83s\n",
      "506:\tlearn: 0.1828010\ttotal: 1.3s\tremaining: 3.82s\n",
      "507:\tlearn: 0.1826753\ttotal: 1.3s\tremaining: 3.82s\n",
      "508:\tlearn: 0.1825702\ttotal: 1.3s\tremaining: 3.81s\n",
      "509:\tlearn: 0.1824039\ttotal: 1.3s\tremaining: 3.81s\n",
      "510:\tlearn: 0.1822299\ttotal: 1.31s\tremaining: 3.81s\n",
      "511:\tlearn: 0.1819985\ttotal: 1.31s\tremaining: 3.8s\n",
      "512:\tlearn: 0.1818306\ttotal: 1.31s\tremaining: 3.8s\n",
      "513:\tlearn: 0.1815440\ttotal: 1.31s\tremaining: 3.79s\n",
      "514:\tlearn: 0.1813653\ttotal: 1.31s\tremaining: 3.79s\n",
      "515:\tlearn: 0.1812708\ttotal: 1.31s\tremaining: 3.78s\n",
      "516:\tlearn: 0.1811162\ttotal: 1.32s\tremaining: 3.77s\n",
      "517:\tlearn: 0.1809265\ttotal: 1.32s\tremaining: 3.77s\n",
      "518:\tlearn: 0.1808524\ttotal: 1.32s\tremaining: 3.77s\n",
      "519:\tlearn: 0.1806975\ttotal: 1.32s\tremaining: 3.77s\n",
      "520:\tlearn: 0.1805844\ttotal: 1.32s\tremaining: 3.76s\n",
      "521:\tlearn: 0.1805317\ttotal: 1.33s\tremaining: 3.76s\n",
      "522:\tlearn: 0.1803183\ttotal: 1.33s\tremaining: 3.75s\n",
      "523:\tlearn: 0.1801136\ttotal: 1.33s\tremaining: 3.75s\n",
      "524:\tlearn: 0.1799902\ttotal: 1.33s\tremaining: 3.74s\n",
      "525:\tlearn: 0.1798499\ttotal: 1.33s\tremaining: 3.74s\n",
      "526:\tlearn: 0.1797791\ttotal: 1.34s\tremaining: 3.74s\n",
      "527:\tlearn: 0.1795377\ttotal: 1.34s\tremaining: 3.73s\n",
      "528:\tlearn: 0.1794308\ttotal: 1.34s\tremaining: 3.73s\n",
      "529:\tlearn: 0.1793227\ttotal: 1.34s\tremaining: 3.72s\n",
      "530:\tlearn: 0.1792002\ttotal: 1.34s\tremaining: 3.72s\n",
      "531:\tlearn: 0.1790798\ttotal: 1.34s\tremaining: 3.71s\n",
      "532:\tlearn: 0.1789131\ttotal: 1.35s\tremaining: 3.71s\n",
      "533:\tlearn: 0.1787518\ttotal: 1.35s\tremaining: 3.71s\n",
      "534:\tlearn: 0.1786553\ttotal: 1.35s\tremaining: 3.7s\n",
      "535:\tlearn: 0.1785276\ttotal: 1.35s\tremaining: 3.7s\n",
      "536:\tlearn: 0.1784844\ttotal: 1.35s\tremaining: 3.69s\n",
      "537:\tlearn: 0.1783877\ttotal: 1.36s\tremaining: 3.69s\n",
      "538:\tlearn: 0.1783171\ttotal: 1.36s\tremaining: 3.68s\n",
      "539:\tlearn: 0.1782297\ttotal: 1.36s\tremaining: 3.68s\n",
      "540:\tlearn: 0.1780702\ttotal: 1.36s\tremaining: 3.68s\n",
      "541:\tlearn: 0.1779233\ttotal: 1.36s\tremaining: 3.67s\n",
      "542:\tlearn: 0.1777220\ttotal: 1.37s\tremaining: 3.67s\n",
      "543:\tlearn: 0.1775220\ttotal: 1.37s\tremaining: 3.67s\n",
      "544:\tlearn: 0.1773454\ttotal: 1.37s\tremaining: 3.66s\n",
      "545:\tlearn: 0.1772073\ttotal: 1.37s\tremaining: 3.66s\n",
      "546:\tlearn: 0.1770122\ttotal: 1.38s\tremaining: 3.66s\n",
      "547:\tlearn: 0.1769077\ttotal: 1.38s\tremaining: 3.65s\n",
      "548:\tlearn: 0.1768033\ttotal: 1.38s\tremaining: 3.65s\n",
      "549:\tlearn: 0.1766186\ttotal: 1.38s\tremaining: 3.65s\n",
      "550:\tlearn: 0.1764817\ttotal: 1.38s\tremaining: 3.64s\n",
      "551:\tlearn: 0.1763162\ttotal: 1.39s\tremaining: 3.64s\n",
      "552:\tlearn: 0.1761981\ttotal: 1.39s\tremaining: 3.63s\n",
      "553:\tlearn: 0.1760271\ttotal: 1.39s\tremaining: 3.63s\n",
      "554:\tlearn: 0.1758474\ttotal: 1.39s\tremaining: 3.63s\n",
      "555:\tlearn: 0.1756984\ttotal: 1.4s\tremaining: 3.63s\n",
      "556:\tlearn: 0.1754970\ttotal: 1.4s\tremaining: 3.62s\n",
      "557:\tlearn: 0.1752719\ttotal: 1.4s\tremaining: 3.62s\n",
      "558:\tlearn: 0.1751333\ttotal: 1.4s\tremaining: 3.61s\n",
      "559:\tlearn: 0.1749890\ttotal: 1.41s\tremaining: 3.62s\n",
      "560:\tlearn: 0.1749100\ttotal: 1.41s\tremaining: 3.62s\n",
      "561:\tlearn: 0.1747009\ttotal: 1.41s\tremaining: 3.61s\n",
      "562:\tlearn: 0.1745401\ttotal: 1.41s\tremaining: 3.61s\n",
      "563:\tlearn: 0.1744146\ttotal: 1.41s\tremaining: 3.6s\n",
      "564:\tlearn: 0.1742651\ttotal: 1.42s\tremaining: 3.61s\n",
      "565:\tlearn: 0.1741968\ttotal: 1.42s\tremaining: 3.6s\n",
      "566:\tlearn: 0.1741314\ttotal: 1.42s\tremaining: 3.6s\n",
      "567:\tlearn: 0.1740211\ttotal: 1.43s\tremaining: 3.59s\n",
      "568:\tlearn: 0.1738939\ttotal: 1.43s\tremaining: 3.59s\n",
      "569:\tlearn: 0.1737059\ttotal: 1.43s\tremaining: 3.58s\n",
      "570:\tlearn: 0.1735395\ttotal: 1.43s\tremaining: 3.58s\n",
      "571:\tlearn: 0.1734939\ttotal: 1.44s\tremaining: 3.58s\n"
     ]
    },
    {
     "name": "stdout",
     "output_type": "stream",
     "text": [
      "572:\tlearn: 0.1734478\ttotal: 1.44s\tremaining: 3.58s\n",
      "573:\tlearn: 0.1732752\ttotal: 1.44s\tremaining: 3.58s\n",
      "574:\tlearn: 0.1730522\ttotal: 1.44s\tremaining: 3.57s\n",
      "575:\tlearn: 0.1729490\ttotal: 1.45s\tremaining: 3.57s\n",
      "576:\tlearn: 0.1728135\ttotal: 1.45s\tremaining: 3.57s\n",
      "577:\tlearn: 0.1726709\ttotal: 1.45s\tremaining: 3.57s\n",
      "578:\tlearn: 0.1724894\ttotal: 1.45s\tremaining: 3.56s\n",
      "579:\tlearn: 0.1723180\ttotal: 1.46s\tremaining: 3.56s\n",
      "580:\tlearn: 0.1721467\ttotal: 1.46s\tremaining: 3.56s\n",
      "581:\tlearn: 0.1720465\ttotal: 1.46s\tremaining: 3.56s\n",
      "582:\tlearn: 0.1718740\ttotal: 1.46s\tremaining: 3.56s\n",
      "583:\tlearn: 0.1717229\ttotal: 1.47s\tremaining: 3.55s\n",
      "584:\tlearn: 0.1715564\ttotal: 1.47s\tremaining: 3.55s\n",
      "585:\tlearn: 0.1714186\ttotal: 1.47s\tremaining: 3.55s\n",
      "586:\tlearn: 0.1713189\ttotal: 1.47s\tremaining: 3.54s\n",
      "587:\tlearn: 0.1711472\ttotal: 1.47s\tremaining: 3.54s\n",
      "588:\tlearn: 0.1709160\ttotal: 1.48s\tremaining: 3.54s\n",
      "589:\tlearn: 0.1707911\ttotal: 1.48s\tremaining: 3.53s\n",
      "590:\tlearn: 0.1705614\ttotal: 1.48s\tremaining: 3.53s\n",
      "591:\tlearn: 0.1704429\ttotal: 1.48s\tremaining: 3.52s\n",
      "592:\tlearn: 0.1702940\ttotal: 1.48s\tremaining: 3.52s\n",
      "593:\tlearn: 0.1702129\ttotal: 1.48s\tremaining: 3.51s\n",
      "594:\tlearn: 0.1700206\ttotal: 1.49s\tremaining: 3.51s\n",
      "595:\tlearn: 0.1699069\ttotal: 1.49s\tremaining: 3.51s\n",
      "596:\tlearn: 0.1698451\ttotal: 1.49s\tremaining: 3.5s\n",
      "597:\tlearn: 0.1697354\ttotal: 1.49s\tremaining: 3.5s\n",
      "598:\tlearn: 0.1695157\ttotal: 1.49s\tremaining: 3.5s\n",
      "599:\tlearn: 0.1693417\ttotal: 1.5s\tremaining: 3.49s\n",
      "600:\tlearn: 0.1691718\ttotal: 1.5s\tremaining: 3.49s\n",
      "601:\tlearn: 0.1690540\ttotal: 1.5s\tremaining: 3.48s\n",
      "602:\tlearn: 0.1689202\ttotal: 1.5s\tremaining: 3.48s\n",
      "603:\tlearn: 0.1687992\ttotal: 1.5s\tremaining: 3.48s\n",
      "604:\tlearn: 0.1687129\ttotal: 1.5s\tremaining: 3.47s\n",
      "605:\tlearn: 0.1686254\ttotal: 1.51s\tremaining: 3.47s\n",
      "606:\tlearn: 0.1684640\ttotal: 1.51s\tremaining: 3.46s\n",
      "607:\tlearn: 0.1683680\ttotal: 1.51s\tremaining: 3.46s\n",
      "608:\tlearn: 0.1682378\ttotal: 1.51s\tremaining: 3.46s\n",
      "609:\tlearn: 0.1681197\ttotal: 1.51s\tremaining: 3.45s\n",
      "610:\tlearn: 0.1679518\ttotal: 1.52s\tremaining: 3.45s\n",
      "611:\tlearn: 0.1678536\ttotal: 1.52s\tremaining: 3.45s\n",
      "612:\tlearn: 0.1676913\ttotal: 1.52s\tremaining: 3.44s\n",
      "613:\tlearn: 0.1676504\ttotal: 1.52s\tremaining: 3.44s\n",
      "614:\tlearn: 0.1675128\ttotal: 1.52s\tremaining: 3.43s\n",
      "615:\tlearn: 0.1673588\ttotal: 1.53s\tremaining: 3.43s\n",
      "616:\tlearn: 0.1672329\ttotal: 1.53s\tremaining: 3.42s\n",
      "617:\tlearn: 0.1670714\ttotal: 1.53s\tremaining: 3.42s\n",
      "618:\tlearn: 0.1668995\ttotal: 1.53s\tremaining: 3.42s\n",
      "619:\tlearn: 0.1667491\ttotal: 1.53s\tremaining: 3.42s\n",
      "620:\tlearn: 0.1665741\ttotal: 1.54s\tremaining: 3.41s\n",
      "621:\tlearn: 0.1665051\ttotal: 1.54s\tremaining: 3.41s\n",
      "622:\tlearn: 0.1663552\ttotal: 1.54s\tremaining: 3.4s\n",
      "623:\tlearn: 0.1662568\ttotal: 1.54s\tremaining: 3.4s\n",
      "624:\tlearn: 0.1661453\ttotal: 1.54s\tremaining: 3.4s\n",
      "625:\tlearn: 0.1660401\ttotal: 1.55s\tremaining: 3.39s\n",
      "626:\tlearn: 0.1659343\ttotal: 1.55s\tremaining: 3.39s\n",
      "627:\tlearn: 0.1658446\ttotal: 1.55s\tremaining: 3.38s\n",
      "628:\tlearn: 0.1657448\ttotal: 1.55s\tremaining: 3.38s\n",
      "629:\tlearn: 0.1655971\ttotal: 1.55s\tremaining: 3.38s\n",
      "630:\tlearn: 0.1655213\ttotal: 1.55s\tremaining: 3.38s\n",
      "631:\tlearn: 0.1653790\ttotal: 1.56s\tremaining: 3.37s\n",
      "632:\tlearn: 0.1652088\ttotal: 1.56s\tremaining: 3.37s\n",
      "633:\tlearn: 0.1650815\ttotal: 1.56s\tremaining: 3.37s\n",
      "634:\tlearn: 0.1649293\ttotal: 1.57s\tremaining: 3.37s\n",
      "635:\tlearn: 0.1647542\ttotal: 1.57s\tremaining: 3.36s\n",
      "636:\tlearn: 0.1645639\ttotal: 1.57s\tremaining: 3.36s\n",
      "637:\tlearn: 0.1644535\ttotal: 1.57s\tremaining: 3.36s\n",
      "638:\tlearn: 0.1642442\ttotal: 1.58s\tremaining: 3.36s\n",
      "639:\tlearn: 0.1641210\ttotal: 1.58s\tremaining: 3.35s\n",
      "640:\tlearn: 0.1639485\ttotal: 1.58s\tremaining: 3.35s\n",
      "641:\tlearn: 0.1638212\ttotal: 1.58s\tremaining: 3.34s\n",
      "642:\tlearn: 0.1637049\ttotal: 1.58s\tremaining: 3.34s\n",
      "643:\tlearn: 0.1636351\ttotal: 1.61s\tremaining: 3.39s\n",
      "644:\tlearn: 0.1635300\ttotal: 1.62s\tremaining: 3.4s\n",
      "645:\tlearn: 0.1634116\ttotal: 1.62s\tremaining: 3.4s\n",
      "646:\tlearn: 0.1632730\ttotal: 1.63s\tremaining: 3.41s\n",
      "647:\tlearn: 0.1631556\ttotal: 1.63s\tremaining: 3.4s\n",
      "648:\tlearn: 0.1631064\ttotal: 1.64s\tremaining: 3.4s\n",
      "649:\tlearn: 0.1629874\ttotal: 1.64s\tremaining: 3.4s\n",
      "650:\tlearn: 0.1628239\ttotal: 1.64s\tremaining: 3.4s\n",
      "651:\tlearn: 0.1627930\ttotal: 1.64s\tremaining: 3.39s\n",
      "652:\tlearn: 0.1627424\ttotal: 1.64s\tremaining: 3.39s\n",
      "653:\tlearn: 0.1626496\ttotal: 1.65s\tremaining: 3.39s\n",
      "654:\tlearn: 0.1624884\ttotal: 1.65s\tremaining: 3.39s\n",
      "655:\tlearn: 0.1622858\ttotal: 1.65s\tremaining: 3.38s\n",
      "656:\tlearn: 0.1621401\ttotal: 1.65s\tremaining: 3.38s\n",
      "657:\tlearn: 0.1620167\ttotal: 1.66s\tremaining: 3.38s\n",
      "658:\tlearn: 0.1618446\ttotal: 1.66s\tremaining: 3.37s\n",
      "659:\tlearn: 0.1616850\ttotal: 1.66s\tremaining: 3.37s\n",
      "660:\tlearn: 0.1615488\ttotal: 1.66s\tremaining: 3.37s\n",
      "661:\tlearn: 0.1614689\ttotal: 1.67s\tremaining: 3.37s\n",
      "662:\tlearn: 0.1613422\ttotal: 1.67s\tremaining: 3.36s\n",
      "663:\tlearn: 0.1613052\ttotal: 1.67s\tremaining: 3.36s\n",
      "664:\tlearn: 0.1611711\ttotal: 1.67s\tremaining: 3.35s\n",
      "665:\tlearn: 0.1610582\ttotal: 1.67s\tremaining: 3.35s\n",
      "666:\tlearn: 0.1608215\ttotal: 1.68s\tremaining: 3.35s\n",
      "667:\tlearn: 0.1606962\ttotal: 1.68s\tremaining: 3.35s\n",
      "668:\tlearn: 0.1605448\ttotal: 1.68s\tremaining: 3.34s\n",
      "669:\tlearn: 0.1603352\ttotal: 1.68s\tremaining: 3.34s\n",
      "670:\tlearn: 0.1602069\ttotal: 1.68s\tremaining: 3.33s\n",
      "671:\tlearn: 0.1601318\ttotal: 1.69s\tremaining: 3.33s\n",
      "672:\tlearn: 0.1599507\ttotal: 1.69s\tremaining: 3.33s\n",
      "673:\tlearn: 0.1598496\ttotal: 1.69s\tremaining: 3.32s\n",
      "674:\tlearn: 0.1597129\ttotal: 1.69s\tremaining: 3.32s\n",
      "675:\tlearn: 0.1596142\ttotal: 1.69s\tremaining: 3.31s\n",
      "676:\tlearn: 0.1595081\ttotal: 1.69s\tremaining: 3.31s\n",
      "677:\tlearn: 0.1593374\ttotal: 1.7s\tremaining: 3.31s\n",
      "678:\tlearn: 0.1590905\ttotal: 1.7s\tremaining: 3.3s\n",
      "679:\tlearn: 0.1590218\ttotal: 1.7s\tremaining: 3.3s\n",
      "680:\tlearn: 0.1589184\ttotal: 1.7s\tremaining: 3.29s\n",
      "681:\tlearn: 0.1588249\ttotal: 1.7s\tremaining: 3.29s\n",
      "682:\tlearn: 0.1587930\ttotal: 1.7s\tremaining: 3.29s\n",
      "683:\tlearn: 0.1586781\ttotal: 1.71s\tremaining: 3.28s\n",
      "684:\tlearn: 0.1585465\ttotal: 1.71s\tremaining: 3.28s\n",
      "685:\tlearn: 0.1585225\ttotal: 1.71s\tremaining: 3.27s\n",
      "686:\tlearn: 0.1584038\ttotal: 1.71s\tremaining: 3.27s\n",
      "687:\tlearn: 0.1583371\ttotal: 1.71s\tremaining: 3.27s\n",
      "688:\tlearn: 0.1583077\ttotal: 1.71s\tremaining: 3.26s\n",
      "689:\tlearn: 0.1581679\ttotal: 1.72s\tremaining: 3.26s\n",
      "690:\tlearn: 0.1580754\ttotal: 1.72s\tremaining: 3.26s\n",
      "691:\tlearn: 0.1579441\ttotal: 1.72s\tremaining: 3.25s\n",
      "692:\tlearn: 0.1578496\ttotal: 1.72s\tremaining: 3.25s\n",
      "693:\tlearn: 0.1577045\ttotal: 1.72s\tremaining: 3.24s\n",
      "694:\tlearn: 0.1575603\ttotal: 1.73s\tremaining: 3.24s\n",
      "695:\tlearn: 0.1574565\ttotal: 1.73s\tremaining: 3.24s\n",
      "696:\tlearn: 0.1574078\ttotal: 1.73s\tremaining: 3.23s\n",
      "697:\tlearn: 0.1573017\ttotal: 1.73s\tremaining: 3.23s\n",
      "698:\tlearn: 0.1571824\ttotal: 1.73s\tremaining: 3.22s\n",
      "699:\tlearn: 0.1569837\ttotal: 1.73s\tremaining: 3.22s\n",
      "700:\tlearn: 0.1568644\ttotal: 1.74s\tremaining: 3.22s\n",
      "701:\tlearn: 0.1567659\ttotal: 1.74s\tremaining: 3.21s\n",
      "702:\tlearn: 0.1566228\ttotal: 1.74s\tremaining: 3.21s\n",
      "703:\tlearn: 0.1564825\ttotal: 1.74s\tremaining: 3.2s\n",
      "704:\tlearn: 0.1563423\ttotal: 1.74s\tremaining: 3.2s\n",
      "705:\tlearn: 0.1562454\ttotal: 1.75s\tremaining: 3.2s\n",
      "706:\tlearn: 0.1561183\ttotal: 1.75s\tremaining: 3.2s\n",
      "707:\tlearn: 0.1560271\ttotal: 1.75s\tremaining: 3.19s\n",
      "708:\tlearn: 0.1558644\ttotal: 1.75s\tremaining: 3.19s\n",
      "709:\tlearn: 0.1556963\ttotal: 1.75s\tremaining: 3.19s\n",
      "710:\tlearn: 0.1555620\ttotal: 1.75s\tremaining: 3.18s\n",
      "711:\tlearn: 0.1554246\ttotal: 1.76s\tremaining: 3.18s\n",
      "712:\tlearn: 0.1553449\ttotal: 1.76s\tremaining: 3.17s\n",
      "713:\tlearn: 0.1552448\ttotal: 1.76s\tremaining: 3.17s\n",
      "714:\tlearn: 0.1550773\ttotal: 1.76s\tremaining: 3.17s\n",
      "715:\tlearn: 0.1549271\ttotal: 1.76s\tremaining: 3.16s\n",
      "716:\tlearn: 0.1548205\ttotal: 1.77s\tremaining: 3.16s\n",
      "717:\tlearn: 0.1546776\ttotal: 1.77s\tremaining: 3.16s\n",
      "718:\tlearn: 0.1545032\ttotal: 1.77s\tremaining: 3.15s\n",
      "719:\tlearn: 0.1543193\ttotal: 1.77s\tremaining: 3.15s\n",
      "720:\tlearn: 0.1541580\ttotal: 1.77s\tremaining: 3.15s\n",
      "721:\tlearn: 0.1540561\ttotal: 1.78s\tremaining: 3.15s\n",
      "722:\tlearn: 0.1539260\ttotal: 1.78s\tremaining: 3.14s\n",
      "723:\tlearn: 0.1538153\ttotal: 1.78s\tremaining: 3.14s\n",
      "724:\tlearn: 0.1536467\ttotal: 1.78s\tremaining: 3.13s\n",
      "725:\tlearn: 0.1535375\ttotal: 1.78s\tremaining: 3.13s\n",
      "726:\tlearn: 0.1533511\ttotal: 1.78s\tremaining: 3.13s\n",
      "727:\tlearn: 0.1532517\ttotal: 1.79s\tremaining: 3.12s\n",
      "728:\tlearn: 0.1531177\ttotal: 1.79s\tremaining: 3.12s\n",
      "729:\tlearn: 0.1530073\ttotal: 1.79s\tremaining: 3.12s\n",
      "730:\tlearn: 0.1529242\ttotal: 1.79s\tremaining: 3.11s\n",
      "731:\tlearn: 0.1528143\ttotal: 1.79s\tremaining: 3.11s\n",
      "732:\tlearn: 0.1527317\ttotal: 1.8s\tremaining: 3.1s\n",
      "733:\tlearn: 0.1525513\ttotal: 1.8s\tremaining: 3.1s\n",
      "734:\tlearn: 0.1524556\ttotal: 1.8s\tremaining: 3.1s\n",
      "735:\tlearn: 0.1524010\ttotal: 1.8s\tremaining: 3.09s\n",
      "736:\tlearn: 0.1523107\ttotal: 1.8s\tremaining: 3.09s\n",
      "737:\tlearn: 0.1522623\ttotal: 1.8s\tremaining: 3.09s\n",
      "738:\tlearn: 0.1522192\ttotal: 1.81s\tremaining: 3.08s\n",
      "739:\tlearn: 0.1521188\ttotal: 1.81s\tremaining: 3.08s\n",
      "740:\tlearn: 0.1518907\ttotal: 1.81s\tremaining: 3.08s\n",
      "741:\tlearn: 0.1518069\ttotal: 1.81s\tremaining: 3.07s\n",
      "742:\tlearn: 0.1517149\ttotal: 1.81s\tremaining: 3.07s\n",
      "743:\tlearn: 0.1516083\ttotal: 1.82s\tremaining: 3.07s\n",
      "744:\tlearn: 0.1515422\ttotal: 1.82s\tremaining: 3.06s\n",
      "745:\tlearn: 0.1514540\ttotal: 1.82s\tremaining: 3.06s\n",
      "746:\tlearn: 0.1512668\ttotal: 1.82s\tremaining: 3.06s\n",
      "747:\tlearn: 0.1511265\ttotal: 1.82s\tremaining: 3.05s\n",
      "748:\tlearn: 0.1510732\ttotal: 1.82s\tremaining: 3.05s\n",
      "749:\tlearn: 0.1509561\ttotal: 1.83s\tremaining: 3.04s\n",
      "750:\tlearn: 0.1508504\ttotal: 1.83s\tremaining: 3.04s\n",
      "751:\tlearn: 0.1507402\ttotal: 1.83s\tremaining: 3.04s\n",
      "752:\tlearn: 0.1506299\ttotal: 1.83s\tremaining: 3.04s\n",
      "753:\tlearn: 0.1504719\ttotal: 1.83s\tremaining: 3.03s\n",
      "754:\tlearn: 0.1502799\ttotal: 1.84s\tremaining: 3.03s\n",
      "755:\tlearn: 0.1501929\ttotal: 1.84s\tremaining: 3.02s\n",
      "756:\tlearn: 0.1500758\ttotal: 1.84s\tremaining: 3.02s\n",
      "757:\tlearn: 0.1500476\ttotal: 1.84s\tremaining: 3.02s\n",
      "758:\tlearn: 0.1499100\ttotal: 1.84s\tremaining: 3.02s\n",
      "759:\tlearn: 0.1497447\ttotal: 1.85s\tremaining: 3.01s\n",
      "760:\tlearn: 0.1495404\ttotal: 1.85s\tremaining: 3.01s\n",
      "761:\tlearn: 0.1495165\ttotal: 1.85s\tremaining: 3.01s\n",
      "762:\tlearn: 0.1493714\ttotal: 1.85s\tremaining: 3s\n",
      "763:\tlearn: 0.1492256\ttotal: 1.85s\tremaining: 3s\n",
      "764:\tlearn: 0.1490914\ttotal: 1.86s\tremaining: 3s\n",
      "765:\tlearn: 0.1489391\ttotal: 1.86s\tremaining: 3s\n",
      "766:\tlearn: 0.1488176\ttotal: 1.86s\tremaining: 2.99s\n",
      "767:\tlearn: 0.1487145\ttotal: 1.86s\tremaining: 2.99s\n",
      "768:\tlearn: 0.1485555\ttotal: 1.87s\tremaining: 2.99s\n",
      "769:\tlearn: 0.1484241\ttotal: 1.87s\tremaining: 2.98s\n",
      "770:\tlearn: 0.1483490\ttotal: 1.87s\tremaining: 2.98s\n"
     ]
    },
    {
     "name": "stdout",
     "output_type": "stream",
     "text": [
      "771:\tlearn: 0.1482582\ttotal: 1.87s\tremaining: 2.98s\n",
      "772:\tlearn: 0.1481326\ttotal: 1.88s\tremaining: 2.98s\n",
      "773:\tlearn: 0.1480121\ttotal: 1.88s\tremaining: 2.98s\n",
      "774:\tlearn: 0.1478885\ttotal: 1.88s\tremaining: 2.97s\n",
      "775:\tlearn: 0.1477945\ttotal: 1.88s\tremaining: 2.97s\n",
      "776:\tlearn: 0.1476268\ttotal: 1.89s\tremaining: 2.97s\n",
      "777:\tlearn: 0.1474664\ttotal: 1.89s\tremaining: 2.96s\n",
      "778:\tlearn: 0.1472603\ttotal: 1.89s\tremaining: 2.96s\n",
      "779:\tlearn: 0.1471868\ttotal: 1.89s\tremaining: 2.96s\n",
      "780:\tlearn: 0.1471335\ttotal: 1.89s\tremaining: 2.95s\n",
      "781:\tlearn: 0.1470033\ttotal: 1.89s\tremaining: 2.95s\n",
      "782:\tlearn: 0.1469034\ttotal: 1.9s\tremaining: 2.95s\n",
      "783:\tlearn: 0.1467307\ttotal: 1.9s\tremaining: 2.95s\n",
      "784:\tlearn: 0.1466749\ttotal: 1.9s\tremaining: 2.94s\n",
      "785:\tlearn: 0.1465036\ttotal: 1.9s\tremaining: 2.94s\n",
      "786:\tlearn: 0.1464168\ttotal: 1.91s\tremaining: 2.94s\n",
      "787:\tlearn: 0.1462535\ttotal: 1.91s\tremaining: 2.93s\n",
      "788:\tlearn: 0.1461121\ttotal: 1.91s\tremaining: 2.93s\n",
      "789:\tlearn: 0.1459917\ttotal: 1.91s\tremaining: 2.93s\n",
      "790:\tlearn: 0.1458462\ttotal: 1.92s\tremaining: 2.93s\n",
      "791:\tlearn: 0.1457232\ttotal: 1.92s\tremaining: 2.92s\n",
      "792:\tlearn: 0.1455850\ttotal: 1.92s\tremaining: 2.92s\n",
      "793:\tlearn: 0.1454729\ttotal: 1.92s\tremaining: 2.92s\n",
      "794:\tlearn: 0.1454549\ttotal: 1.92s\tremaining: 2.92s\n",
      "795:\tlearn: 0.1453169\ttotal: 1.93s\tremaining: 2.92s\n",
      "796:\tlearn: 0.1451771\ttotal: 1.93s\tremaining: 2.91s\n",
      "797:\tlearn: 0.1450917\ttotal: 1.93s\tremaining: 2.91s\n",
      "798:\tlearn: 0.1450562\ttotal: 1.93s\tremaining: 2.91s\n",
      "799:\tlearn: 0.1449070\ttotal: 1.94s\tremaining: 2.9s\n",
      "800:\tlearn: 0.1447854\ttotal: 1.94s\tremaining: 2.9s\n",
      "801:\tlearn: 0.1447114\ttotal: 1.94s\tremaining: 2.9s\n",
      "802:\tlearn: 0.1445539\ttotal: 1.94s\tremaining: 2.9s\n",
      "803:\tlearn: 0.1444828\ttotal: 1.95s\tremaining: 2.89s\n",
      "804:\tlearn: 0.1443811\ttotal: 1.95s\tremaining: 2.89s\n",
      "805:\tlearn: 0.1442678\ttotal: 1.95s\tremaining: 2.89s\n",
      "806:\tlearn: 0.1441579\ttotal: 1.95s\tremaining: 2.88s\n",
      "807:\tlearn: 0.1440149\ttotal: 1.95s\tremaining: 2.88s\n",
      "808:\tlearn: 0.1439325\ttotal: 1.96s\tremaining: 2.88s\n",
      "809:\tlearn: 0.1437687\ttotal: 1.96s\tremaining: 2.88s\n",
      "810:\tlearn: 0.1436943\ttotal: 1.96s\tremaining: 2.87s\n",
      "811:\tlearn: 0.1435804\ttotal: 1.96s\tremaining: 2.87s\n",
      "812:\tlearn: 0.1434425\ttotal: 1.96s\tremaining: 2.87s\n",
      "813:\tlearn: 0.1432632\ttotal: 1.97s\tremaining: 2.87s\n",
      "814:\tlearn: 0.1431891\ttotal: 1.97s\tremaining: 2.86s\n",
      "815:\tlearn: 0.1430183\ttotal: 1.97s\tremaining: 2.86s\n",
      "816:\tlearn: 0.1429259\ttotal: 1.97s\tremaining: 2.86s\n",
      "817:\tlearn: 0.1428427\ttotal: 1.98s\tremaining: 2.85s\n",
      "818:\tlearn: 0.1427261\ttotal: 1.98s\tremaining: 2.85s\n",
      "819:\tlearn: 0.1426268\ttotal: 1.98s\tremaining: 2.85s\n",
      "820:\tlearn: 0.1425859\ttotal: 1.98s\tremaining: 2.85s\n",
      "821:\tlearn: 0.1425075\ttotal: 1.99s\tremaining: 2.84s\n",
      "822:\tlearn: 0.1423849\ttotal: 1.99s\tremaining: 2.84s\n",
      "823:\tlearn: 0.1423015\ttotal: 1.99s\tremaining: 2.84s\n",
      "824:\tlearn: 0.1422006\ttotal: 1.99s\tremaining: 2.83s\n",
      "825:\tlearn: 0.1420641\ttotal: 1.99s\tremaining: 2.83s\n",
      "826:\tlearn: 0.1419901\ttotal: 2s\tremaining: 2.83s\n",
      "827:\tlearn: 0.1418599\ttotal: 2s\tremaining: 2.83s\n",
      "828:\tlearn: 0.1417489\ttotal: 2s\tremaining: 2.82s\n",
      "829:\tlearn: 0.1416286\ttotal: 2s\tremaining: 2.82s\n",
      "830:\tlearn: 0.1415267\ttotal: 2s\tremaining: 2.82s\n",
      "831:\tlearn: 0.1414009\ttotal: 2s\tremaining: 2.81s\n",
      "832:\tlearn: 0.1412881\ttotal: 2.01s\tremaining: 2.81s\n",
      "833:\tlearn: 0.1411873\ttotal: 2.01s\tremaining: 2.81s\n",
      "834:\tlearn: 0.1410379\ttotal: 2.01s\tremaining: 2.81s\n",
      "835:\tlearn: 0.1409076\ttotal: 2.02s\tremaining: 2.81s\n",
      "836:\tlearn: 0.1407954\ttotal: 2.02s\tremaining: 2.8s\n",
      "837:\tlearn: 0.1406455\ttotal: 2.02s\tremaining: 2.8s\n",
      "838:\tlearn: 0.1404843\ttotal: 2.02s\tremaining: 2.8s\n",
      "839:\tlearn: 0.1403761\ttotal: 2.02s\tremaining: 2.79s\n",
      "840:\tlearn: 0.1402512\ttotal: 2.03s\tremaining: 2.79s\n",
      "841:\tlearn: 0.1401839\ttotal: 2.03s\tremaining: 2.79s\n",
      "842:\tlearn: 0.1401302\ttotal: 2.03s\tremaining: 2.79s\n",
      "843:\tlearn: 0.1400633\ttotal: 2.03s\tremaining: 2.78s\n",
      "844:\tlearn: 0.1399334\ttotal: 2.04s\tremaining: 2.78s\n",
      "845:\tlearn: 0.1398280\ttotal: 2.04s\tremaining: 2.78s\n",
      "846:\tlearn: 0.1397076\ttotal: 2.04s\tremaining: 2.78s\n",
      "847:\tlearn: 0.1395686\ttotal: 2.04s\tremaining: 2.77s\n",
      "848:\tlearn: 0.1394850\ttotal: 2.04s\tremaining: 2.77s\n",
      "849:\tlearn: 0.1393439\ttotal: 2.05s\tremaining: 2.77s\n",
      "850:\tlearn: 0.1392169\ttotal: 2.05s\tremaining: 2.77s\n",
      "851:\tlearn: 0.1390942\ttotal: 2.05s\tremaining: 2.77s\n",
      "852:\tlearn: 0.1390012\ttotal: 2.06s\tremaining: 2.76s\n",
      "853:\tlearn: 0.1388357\ttotal: 2.06s\tremaining: 2.76s\n",
      "854:\tlearn: 0.1387435\ttotal: 2.06s\tremaining: 2.76s\n",
      "855:\tlearn: 0.1386324\ttotal: 2.06s\tremaining: 2.75s\n",
      "856:\tlearn: 0.1385519\ttotal: 2.06s\tremaining: 2.75s\n",
      "857:\tlearn: 0.1383886\ttotal: 2.06s\tremaining: 2.75s\n",
      "858:\tlearn: 0.1383091\ttotal: 2.07s\tremaining: 2.75s\n",
      "859:\tlearn: 0.1382219\ttotal: 2.07s\tremaining: 2.74s\n",
      "860:\tlearn: 0.1381143\ttotal: 2.07s\tremaining: 2.74s\n",
      "861:\tlearn: 0.1380253\ttotal: 2.07s\tremaining: 2.74s\n",
      "862:\tlearn: 0.1379319\ttotal: 2.08s\tremaining: 2.73s\n",
      "863:\tlearn: 0.1378708\ttotal: 2.08s\tremaining: 2.73s\n",
      "864:\tlearn: 0.1377806\ttotal: 2.08s\tremaining: 2.73s\n",
      "865:\tlearn: 0.1376151\ttotal: 2.08s\tremaining: 2.73s\n",
      "866:\tlearn: 0.1375194\ttotal: 2.09s\tremaining: 2.73s\n",
      "867:\tlearn: 0.1374189\ttotal: 2.09s\tremaining: 2.73s\n",
      "868:\tlearn: 0.1372271\ttotal: 2.09s\tremaining: 2.73s\n",
      "869:\tlearn: 0.1370818\ttotal: 2.1s\tremaining: 2.72s\n",
      "870:\tlearn: 0.1369016\ttotal: 2.1s\tremaining: 2.72s\n",
      "871:\tlearn: 0.1367935\ttotal: 2.1s\tremaining: 2.72s\n",
      "872:\tlearn: 0.1366648\ttotal: 2.1s\tremaining: 2.71s\n",
      "873:\tlearn: 0.1366181\ttotal: 2.1s\tremaining: 2.71s\n",
      "874:\tlearn: 0.1364524\ttotal: 2.11s\tremaining: 2.71s\n",
      "875:\tlearn: 0.1363972\ttotal: 2.11s\tremaining: 2.71s\n",
      "876:\tlearn: 0.1363772\ttotal: 2.11s\tremaining: 2.71s\n",
      "877:\tlearn: 0.1362600\ttotal: 2.12s\tremaining: 2.7s\n",
      "878:\tlearn: 0.1361379\ttotal: 2.12s\tremaining: 2.7s\n",
      "879:\tlearn: 0.1360141\ttotal: 2.12s\tremaining: 2.7s\n",
      "880:\tlearn: 0.1359111\ttotal: 2.12s\tremaining: 2.69s\n",
      "881:\tlearn: 0.1357961\ttotal: 2.12s\tremaining: 2.69s\n",
      "882:\tlearn: 0.1357248\ttotal: 2.13s\tremaining: 2.69s\n",
      "883:\tlearn: 0.1356118\ttotal: 2.13s\tremaining: 2.69s\n",
      "884:\tlearn: 0.1355052\ttotal: 2.13s\tremaining: 2.68s\n",
      "885:\tlearn: 0.1353644\ttotal: 2.13s\tremaining: 2.68s\n",
      "886:\tlearn: 0.1352785\ttotal: 2.13s\tremaining: 2.68s\n",
      "887:\tlearn: 0.1350788\ttotal: 2.14s\tremaining: 2.68s\n",
      "888:\tlearn: 0.1349713\ttotal: 2.14s\tremaining: 2.67s\n",
      "889:\tlearn: 0.1348160\ttotal: 2.14s\tremaining: 2.67s\n",
      "890:\tlearn: 0.1347057\ttotal: 2.14s\tremaining: 2.67s\n",
      "891:\tlearn: 0.1345613\ttotal: 2.14s\tremaining: 2.66s\n",
      "892:\tlearn: 0.1344365\ttotal: 2.15s\tremaining: 2.66s\n",
      "893:\tlearn: 0.1343481\ttotal: 2.15s\tremaining: 2.66s\n",
      "894:\tlearn: 0.1342257\ttotal: 2.15s\tremaining: 2.65s\n",
      "895:\tlearn: 0.1341472\ttotal: 2.15s\tremaining: 2.65s\n",
      "896:\tlearn: 0.1340109\ttotal: 2.15s\tremaining: 2.65s\n",
      "897:\tlearn: 0.1338664\ttotal: 2.16s\tremaining: 2.65s\n",
      "898:\tlearn: 0.1337704\ttotal: 2.16s\tremaining: 2.64s\n",
      "899:\tlearn: 0.1337060\ttotal: 2.16s\tremaining: 2.64s\n",
      "900:\tlearn: 0.1335832\ttotal: 2.16s\tremaining: 2.63s\n",
      "901:\tlearn: 0.1334871\ttotal: 2.16s\tremaining: 2.63s\n",
      "902:\tlearn: 0.1333343\ttotal: 2.17s\tremaining: 2.63s\n",
      "903:\tlearn: 0.1332224\ttotal: 2.17s\tremaining: 2.63s\n",
      "904:\tlearn: 0.1330891\ttotal: 2.17s\tremaining: 2.62s\n",
      "905:\tlearn: 0.1329822\ttotal: 2.17s\tremaining: 2.62s\n",
      "906:\tlearn: 0.1328504\ttotal: 2.17s\tremaining: 2.62s\n",
      "907:\tlearn: 0.1327396\ttotal: 2.17s\tremaining: 2.61s\n",
      "908:\tlearn: 0.1326444\ttotal: 2.17s\tremaining: 2.61s\n",
      "909:\tlearn: 0.1324966\ttotal: 2.18s\tremaining: 2.61s\n",
      "910:\tlearn: 0.1323927\ttotal: 2.18s\tremaining: 2.61s\n",
      "911:\tlearn: 0.1322248\ttotal: 2.18s\tremaining: 2.6s\n",
      "912:\tlearn: 0.1320932\ttotal: 2.18s\tremaining: 2.6s\n",
      "913:\tlearn: 0.1318987\ttotal: 2.19s\tremaining: 2.6s\n",
      "914:\tlearn: 0.1318479\ttotal: 2.19s\tremaining: 2.59s\n",
      "915:\tlearn: 0.1317050\ttotal: 2.19s\tremaining: 2.59s\n",
      "916:\tlearn: 0.1315928\ttotal: 2.19s\tremaining: 2.59s\n",
      "917:\tlearn: 0.1314555\ttotal: 2.19s\tremaining: 2.59s\n",
      "918:\tlearn: 0.1313328\ttotal: 2.2s\tremaining: 2.58s\n",
      "919:\tlearn: 0.1311861\ttotal: 2.2s\tremaining: 2.58s\n",
      "920:\tlearn: 0.1310684\ttotal: 2.2s\tremaining: 2.58s\n",
      "921:\tlearn: 0.1309514\ttotal: 2.2s\tremaining: 2.57s\n",
      "922:\tlearn: 0.1309215\ttotal: 2.21s\tremaining: 2.57s\n",
      "923:\tlearn: 0.1307985\ttotal: 2.21s\tremaining: 2.57s\n",
      "924:\tlearn: 0.1307100\ttotal: 2.21s\tremaining: 2.57s\n",
      "925:\tlearn: 0.1305656\ttotal: 2.21s\tremaining: 2.56s\n",
      "926:\tlearn: 0.1305084\ttotal: 2.21s\tremaining: 2.56s\n",
      "927:\tlearn: 0.1304584\ttotal: 2.21s\tremaining: 2.56s\n",
      "928:\tlearn: 0.1303024\ttotal: 2.21s\tremaining: 2.55s\n",
      "929:\tlearn: 0.1301732\ttotal: 2.22s\tremaining: 2.55s\n",
      "930:\tlearn: 0.1300398\ttotal: 2.22s\tremaining: 2.55s\n",
      "931:\tlearn: 0.1299266\ttotal: 2.22s\tremaining: 2.54s\n",
      "932:\tlearn: 0.1299023\ttotal: 2.22s\tremaining: 2.54s\n",
      "933:\tlearn: 0.1297989\ttotal: 2.23s\tremaining: 2.54s\n",
      "934:\tlearn: 0.1296501\ttotal: 2.23s\tremaining: 2.54s\n",
      "935:\tlearn: 0.1295838\ttotal: 2.23s\tremaining: 2.53s\n",
      "936:\tlearn: 0.1294912\ttotal: 2.23s\tremaining: 2.53s\n",
      "937:\tlearn: 0.1293785\ttotal: 2.23s\tremaining: 2.53s\n",
      "938:\tlearn: 0.1292587\ttotal: 2.24s\tremaining: 2.53s\n"
     ]
    },
    {
     "name": "stdout",
     "output_type": "stream",
     "text": [
      "939:\tlearn: 0.1292059\ttotal: 2.24s\tremaining: 2.52s\n",
      "940:\tlearn: 0.1291099\ttotal: 2.24s\tremaining: 2.52s\n",
      "941:\tlearn: 0.1290476\ttotal: 2.24s\tremaining: 2.52s\n",
      "942:\tlearn: 0.1289753\ttotal: 2.25s\tremaining: 2.52s\n",
      "943:\tlearn: 0.1288708\ttotal: 2.25s\tremaining: 2.52s\n",
      "944:\tlearn: 0.1287613\ttotal: 2.25s\tremaining: 2.51s\n",
      "945:\tlearn: 0.1286042\ttotal: 2.25s\tremaining: 2.51s\n",
      "946:\tlearn: 0.1284849\ttotal: 2.25s\tremaining: 2.51s\n",
      "947:\tlearn: 0.1283825\ttotal: 2.25s\tremaining: 2.5s\n",
      "948:\tlearn: 0.1282171\ttotal: 2.26s\tremaining: 2.5s\n",
      "949:\tlearn: 0.1281597\ttotal: 2.26s\tremaining: 2.5s\n",
      "950:\tlearn: 0.1280342\ttotal: 2.26s\tremaining: 2.5s\n",
      "951:\tlearn: 0.1279436\ttotal: 2.26s\tremaining: 2.49s\n",
      "952:\tlearn: 0.1278158\ttotal: 2.27s\tremaining: 2.49s\n",
      "953:\tlearn: 0.1277401\ttotal: 2.27s\tremaining: 2.49s\n",
      "954:\tlearn: 0.1276987\ttotal: 2.27s\tremaining: 2.48s\n",
      "955:\tlearn: 0.1276303\ttotal: 2.27s\tremaining: 2.48s\n",
      "956:\tlearn: 0.1275726\ttotal: 2.27s\tremaining: 2.48s\n",
      "957:\tlearn: 0.1275040\ttotal: 2.28s\tremaining: 2.48s\n",
      "958:\tlearn: 0.1273845\ttotal: 2.28s\tremaining: 2.47s\n",
      "959:\tlearn: 0.1273278\ttotal: 2.28s\tremaining: 2.47s\n",
      "960:\tlearn: 0.1272635\ttotal: 2.28s\tremaining: 2.47s\n",
      "961:\tlearn: 0.1271940\ttotal: 2.29s\tremaining: 2.47s\n",
      "962:\tlearn: 0.1270781\ttotal: 2.29s\tremaining: 2.47s\n",
      "963:\tlearn: 0.1269547\ttotal: 2.29s\tremaining: 2.46s\n",
      "964:\tlearn: 0.1269149\ttotal: 2.29s\tremaining: 2.46s\n",
      "965:\tlearn: 0.1267533\ttotal: 2.29s\tremaining: 2.46s\n",
      "966:\tlearn: 0.1266425\ttotal: 2.3s\tremaining: 2.45s\n",
      "967:\tlearn: 0.1266024\ttotal: 2.3s\tremaining: 2.45s\n",
      "968:\tlearn: 0.1265221\ttotal: 2.3s\tremaining: 2.45s\n",
      "969:\tlearn: 0.1264305\ttotal: 2.31s\tremaining: 2.45s\n",
      "970:\tlearn: 0.1263539\ttotal: 2.31s\tremaining: 2.44s\n",
      "971:\tlearn: 0.1262573\ttotal: 2.31s\tremaining: 2.44s\n",
      "972:\tlearn: 0.1261841\ttotal: 2.31s\tremaining: 2.44s\n",
      "973:\tlearn: 0.1260553\ttotal: 2.31s\tremaining: 2.44s\n",
      "974:\tlearn: 0.1259862\ttotal: 2.32s\tremaining: 2.44s\n",
      "975:\tlearn: 0.1258662\ttotal: 2.32s\tremaining: 2.43s\n",
      "976:\tlearn: 0.1257635\ttotal: 2.32s\tremaining: 2.43s\n",
      "977:\tlearn: 0.1257202\ttotal: 2.32s\tremaining: 2.43s\n",
      "978:\tlearn: 0.1256087\ttotal: 2.32s\tremaining: 2.42s\n",
      "979:\tlearn: 0.1254627\ttotal: 2.33s\tremaining: 2.42s\n",
      "980:\tlearn: 0.1253490\ttotal: 2.33s\tremaining: 2.42s\n",
      "981:\tlearn: 0.1252806\ttotal: 2.33s\tremaining: 2.42s\n",
      "982:\tlearn: 0.1252071\ttotal: 2.33s\tremaining: 2.41s\n",
      "983:\tlearn: 0.1251029\ttotal: 2.33s\tremaining: 2.41s\n",
      "984:\tlearn: 0.1250907\ttotal: 2.33s\tremaining: 2.41s\n",
      "985:\tlearn: 0.1250192\ttotal: 2.34s\tremaining: 2.4s\n",
      "986:\tlearn: 0.1248786\ttotal: 2.34s\tremaining: 2.4s\n",
      "987:\tlearn: 0.1248328\ttotal: 2.34s\tremaining: 2.4s\n",
      "988:\tlearn: 0.1246999\ttotal: 2.34s\tremaining: 2.39s\n",
      "989:\tlearn: 0.1245705\ttotal: 2.34s\tremaining: 2.39s\n",
      "990:\tlearn: 0.1244953\ttotal: 2.35s\tremaining: 2.39s\n",
      "991:\tlearn: 0.1243700\ttotal: 2.35s\tremaining: 2.39s\n",
      "992:\tlearn: 0.1242758\ttotal: 2.35s\tremaining: 2.38s\n",
      "993:\tlearn: 0.1241552\ttotal: 2.35s\tremaining: 2.38s\n",
      "994:\tlearn: 0.1240308\ttotal: 2.35s\tremaining: 2.38s\n",
      "995:\tlearn: 0.1238920\ttotal: 2.36s\tremaining: 2.38s\n",
      "996:\tlearn: 0.1237387\ttotal: 2.36s\tremaining: 2.37s\n",
      "997:\tlearn: 0.1236573\ttotal: 2.36s\tremaining: 2.37s\n",
      "998:\tlearn: 0.1235403\ttotal: 2.36s\tremaining: 2.37s\n",
      "999:\tlearn: 0.1234693\ttotal: 2.36s\tremaining: 2.36s\n",
      "1000:\tlearn: 0.1233739\ttotal: 2.37s\tremaining: 2.36s\n",
      "1001:\tlearn: 0.1233035\ttotal: 2.37s\tremaining: 2.36s\n",
      "1002:\tlearn: 0.1231964\ttotal: 2.37s\tremaining: 2.36s\n",
      "1003:\tlearn: 0.1230791\ttotal: 2.37s\tremaining: 2.35s\n",
      "1004:\tlearn: 0.1229378\ttotal: 2.38s\tremaining: 2.35s\n",
      "1005:\tlearn: 0.1228296\ttotal: 2.38s\tremaining: 2.35s\n",
      "1006:\tlearn: 0.1227292\ttotal: 2.38s\tremaining: 2.35s\n",
      "1007:\tlearn: 0.1225838\ttotal: 2.38s\tremaining: 2.34s\n",
      "1008:\tlearn: 0.1224961\ttotal: 2.38s\tremaining: 2.34s\n",
      "1009:\tlearn: 0.1224092\ttotal: 2.39s\tremaining: 2.34s\n",
      "1010:\tlearn: 0.1223233\ttotal: 2.39s\tremaining: 2.34s\n",
      "1011:\tlearn: 0.1221916\ttotal: 2.39s\tremaining: 2.33s\n",
      "1012:\tlearn: 0.1221677\ttotal: 2.39s\tremaining: 2.33s\n",
      "1013:\tlearn: 0.1220882\ttotal: 2.39s\tremaining: 2.33s\n",
      "1014:\tlearn: 0.1220145\ttotal: 2.4s\tremaining: 2.33s\n",
      "1015:\tlearn: 0.1219039\ttotal: 2.4s\tremaining: 2.32s\n",
      "1016:\tlearn: 0.1218176\ttotal: 2.4s\tremaining: 2.32s\n",
      "1017:\tlearn: 0.1217173\ttotal: 2.4s\tremaining: 2.32s\n",
      "1018:\tlearn: 0.1216510\ttotal: 2.4s\tremaining: 2.31s\n",
      "1019:\tlearn: 0.1215158\ttotal: 2.41s\tremaining: 2.31s\n",
      "1020:\tlearn: 0.1213551\ttotal: 2.41s\tremaining: 2.31s\n",
      "1021:\tlearn: 0.1213024\ttotal: 2.41s\tremaining: 2.31s\n",
      "1022:\tlearn: 0.1212205\ttotal: 2.42s\tremaining: 2.31s\n",
      "1023:\tlearn: 0.1211417\ttotal: 2.42s\tremaining: 2.3s\n",
      "1024:\tlearn: 0.1210548\ttotal: 2.42s\tremaining: 2.3s\n",
      "1025:\tlearn: 0.1209640\ttotal: 2.42s\tremaining: 2.3s\n",
      "1026:\tlearn: 0.1208478\ttotal: 2.42s\tremaining: 2.29s\n",
      "1027:\tlearn: 0.1208188\ttotal: 2.42s\tremaining: 2.29s\n",
      "1028:\tlearn: 0.1207484\ttotal: 2.43s\tremaining: 2.29s\n",
      "1029:\tlearn: 0.1206255\ttotal: 2.43s\tremaining: 2.29s\n",
      "1030:\tlearn: 0.1205075\ttotal: 2.43s\tremaining: 2.28s\n",
      "1031:\tlearn: 0.1204178\ttotal: 2.43s\tremaining: 2.28s\n",
      "1032:\tlearn: 0.1203064\ttotal: 2.43s\tremaining: 2.28s\n",
      "1033:\tlearn: 0.1202311\ttotal: 2.44s\tremaining: 2.27s\n",
      "1034:\tlearn: 0.1202092\ttotal: 2.44s\tremaining: 2.27s\n",
      "1035:\tlearn: 0.1201245\ttotal: 2.44s\tremaining: 2.27s\n",
      "1036:\tlearn: 0.1200664\ttotal: 2.44s\tremaining: 2.27s\n",
      "1037:\tlearn: 0.1200416\ttotal: 2.44s\tremaining: 2.27s\n",
      "1038:\tlearn: 0.1199978\ttotal: 2.45s\tremaining: 2.26s\n",
      "1039:\tlearn: 0.1198929\ttotal: 2.45s\tremaining: 2.26s\n",
      "1040:\tlearn: 0.1197933\ttotal: 2.45s\tremaining: 2.26s\n",
      "1041:\tlearn: 0.1197702\ttotal: 2.45s\tremaining: 2.26s\n",
      "1042:\tlearn: 0.1196826\ttotal: 2.46s\tremaining: 2.25s\n",
      "1043:\tlearn: 0.1195935\ttotal: 2.46s\tremaining: 2.25s\n",
      "1044:\tlearn: 0.1194881\ttotal: 2.46s\tremaining: 2.25s\n",
      "1045:\tlearn: 0.1193630\ttotal: 2.46s\tremaining: 2.25s\n",
      "1046:\tlearn: 0.1193403\ttotal: 2.46s\tremaining: 2.24s\n",
      "1047:\tlearn: 0.1193177\ttotal: 2.47s\tremaining: 2.24s\n",
      "1048:\tlearn: 0.1192371\ttotal: 2.47s\tremaining: 2.24s\n",
      "1049:\tlearn: 0.1191027\ttotal: 2.47s\tremaining: 2.24s\n",
      "1050:\tlearn: 0.1190480\ttotal: 2.47s\tremaining: 2.23s\n",
      "1051:\tlearn: 0.1189868\ttotal: 2.48s\tremaining: 2.23s\n",
      "1052:\tlearn: 0.1189187\ttotal: 2.48s\tremaining: 2.23s\n",
      "1053:\tlearn: 0.1188379\ttotal: 2.48s\tremaining: 2.23s\n",
      "1054:\tlearn: 0.1187722\ttotal: 2.48s\tremaining: 2.22s\n",
      "1055:\tlearn: 0.1186802\ttotal: 2.48s\tremaining: 2.22s\n",
      "1056:\tlearn: 0.1186010\ttotal: 2.48s\tremaining: 2.22s\n",
      "1057:\tlearn: 0.1184898\ttotal: 2.49s\tremaining: 2.21s\n",
      "1058:\tlearn: 0.1184254\ttotal: 2.49s\tremaining: 2.21s\n",
      "1059:\tlearn: 0.1183700\ttotal: 2.49s\tremaining: 2.21s\n",
      "1060:\tlearn: 0.1182858\ttotal: 2.49s\tremaining: 2.21s\n",
      "1061:\tlearn: 0.1182382\ttotal: 2.49s\tremaining: 2.2s\n",
      "1062:\tlearn: 0.1181405\ttotal: 2.5s\tremaining: 2.2s\n",
      "1063:\tlearn: 0.1180516\ttotal: 2.5s\tremaining: 2.2s\n",
      "1064:\tlearn: 0.1179641\ttotal: 2.5s\tremaining: 2.19s\n",
      "1065:\tlearn: 0.1179123\ttotal: 2.5s\tremaining: 2.19s\n",
      "1066:\tlearn: 0.1178269\ttotal: 2.5s\tremaining: 2.19s\n",
      "1067:\tlearn: 0.1177449\ttotal: 2.5s\tremaining: 2.19s\n",
      "1068:\tlearn: 0.1176743\ttotal: 2.51s\tremaining: 2.18s\n",
      "1069:\tlearn: 0.1175636\ttotal: 2.51s\tremaining: 2.18s\n",
      "1070:\tlearn: 0.1174994\ttotal: 2.51s\tremaining: 2.18s\n",
      "1071:\tlearn: 0.1173736\ttotal: 2.51s\tremaining: 2.18s\n",
      "1072:\tlearn: 0.1173013\ttotal: 2.52s\tremaining: 2.17s\n",
      "1073:\tlearn: 0.1172452\ttotal: 2.52s\tremaining: 2.17s\n",
      "1074:\tlearn: 0.1171397\ttotal: 2.52s\tremaining: 2.17s\n",
      "1075:\tlearn: 0.1170342\ttotal: 2.52s\tremaining: 2.17s\n",
      "1076:\tlearn: 0.1169770\ttotal: 2.52s\tremaining: 2.16s\n",
      "1077:\tlearn: 0.1169526\ttotal: 2.52s\tremaining: 2.16s\n",
      "1078:\tlearn: 0.1168443\ttotal: 2.53s\tremaining: 2.16s\n",
      "1079:\tlearn: 0.1167749\ttotal: 2.53s\tremaining: 2.15s\n",
      "1080:\tlearn: 0.1167679\ttotal: 2.53s\tremaining: 2.15s\n",
      "1081:\tlearn: 0.1166771\ttotal: 2.53s\tremaining: 2.15s\n",
      "1082:\tlearn: 0.1166017\ttotal: 2.53s\tremaining: 2.14s\n",
      "1083:\tlearn: 0.1165353\ttotal: 2.53s\tremaining: 2.14s\n",
      "1084:\tlearn: 0.1164954\ttotal: 2.54s\tremaining: 2.14s\n",
      "1085:\tlearn: 0.1164857\ttotal: 2.54s\tremaining: 2.14s\n",
      "1086:\tlearn: 0.1164449\ttotal: 2.54s\tremaining: 2.13s\n",
      "1087:\tlearn: 0.1164082\ttotal: 2.54s\tremaining: 2.13s\n",
      "1088:\tlearn: 0.1163895\ttotal: 2.54s\tremaining: 2.13s\n",
      "1089:\tlearn: 0.1163118\ttotal: 2.54s\tremaining: 2.12s\n",
      "1090:\tlearn: 0.1162052\ttotal: 2.55s\tremaining: 2.12s\n",
      "1091:\tlearn: 0.1161392\ttotal: 2.55s\tremaining: 2.12s\n",
      "1092:\tlearn: 0.1160558\ttotal: 2.55s\tremaining: 2.12s\n",
      "1093:\tlearn: 0.1160071\ttotal: 2.55s\tremaining: 2.11s\n",
      "1094:\tlearn: 0.1158976\ttotal: 2.56s\tremaining: 2.11s\n",
      "1095:\tlearn: 0.1158323\ttotal: 2.56s\tremaining: 2.11s\n",
      "1096:\tlearn: 0.1157104\ttotal: 2.56s\tremaining: 2.11s\n",
      "1097:\tlearn: 0.1156049\ttotal: 2.56s\tremaining: 2.1s\n",
      "1098:\tlearn: 0.1155537\ttotal: 2.56s\tremaining: 2.1s\n",
      "1099:\tlearn: 0.1154673\ttotal: 2.56s\tremaining: 2.1s\n",
      "1100:\tlearn: 0.1153707\ttotal: 2.56s\tremaining: 2.09s\n",
      "1101:\tlearn: 0.1152932\ttotal: 2.57s\tremaining: 2.09s\n",
      "1102:\tlearn: 0.1152181\ttotal: 2.57s\tremaining: 2.09s\n",
      "1103:\tlearn: 0.1151258\ttotal: 2.57s\tremaining: 2.09s\n",
      "1104:\tlearn: 0.1150842\ttotal: 2.57s\tremaining: 2.08s\n",
      "1105:\tlearn: 0.1150167\ttotal: 2.57s\tremaining: 2.08s\n",
      "1106:\tlearn: 0.1149766\ttotal: 2.58s\tremaining: 2.08s\n",
      "1107:\tlearn: 0.1148792\ttotal: 2.58s\tremaining: 2.08s\n",
      "1108:\tlearn: 0.1148092\ttotal: 2.58s\tremaining: 2.07s\n",
      "1109:\tlearn: 0.1147196\ttotal: 2.58s\tremaining: 2.07s\n",
      "1110:\tlearn: 0.1147136\ttotal: 2.58s\tremaining: 2.07s\n",
      "1111:\tlearn: 0.1146226\ttotal: 2.59s\tremaining: 2.06s\n",
      "1112:\tlearn: 0.1145137\ttotal: 2.59s\tremaining: 2.06s\n",
      "1113:\tlearn: 0.1144170\ttotal: 2.59s\tremaining: 2.06s\n",
      "1114:\tlearn: 0.1143367\ttotal: 2.59s\tremaining: 2.06s\n",
      "1115:\tlearn: 0.1142320\ttotal: 2.6s\tremaining: 2.06s\n",
      "1116:\tlearn: 0.1141443\ttotal: 2.6s\tremaining: 2.05s\n",
      "1117:\tlearn: 0.1140524\ttotal: 2.6s\tremaining: 2.05s\n",
      "1118:\tlearn: 0.1139606\ttotal: 2.6s\tremaining: 2.05s\n",
      "1119:\tlearn: 0.1138728\ttotal: 2.6s\tremaining: 2.04s\n",
      "1120:\tlearn: 0.1138002\ttotal: 2.61s\tremaining: 2.04s\n",
      "1121:\tlearn: 0.1137607\ttotal: 2.61s\tremaining: 2.04s\n",
      "1122:\tlearn: 0.1136872\ttotal: 2.61s\tremaining: 2.04s\n",
      "1123:\tlearn: 0.1136299\ttotal: 2.61s\tremaining: 2.04s\n",
      "1124:\tlearn: 0.1135390\ttotal: 2.62s\tremaining: 2.03s\n",
      "1125:\tlearn: 0.1134481\ttotal: 2.62s\tremaining: 2.03s\n",
      "1126:\tlearn: 0.1133676\ttotal: 2.62s\tremaining: 2.03s\n",
      "1127:\tlearn: 0.1132742\ttotal: 2.62s\tremaining: 2.03s\n",
      "1128:\tlearn: 0.1132151\ttotal: 2.63s\tremaining: 2.02s\n",
      "1129:\tlearn: 0.1131345\ttotal: 2.63s\tremaining: 2.02s\n",
      "1130:\tlearn: 0.1130365\ttotal: 2.63s\tremaining: 2.02s\n",
      "1131:\tlearn: 0.1129674\ttotal: 2.63s\tremaining: 2.02s\n",
      "1132:\tlearn: 0.1129367\ttotal: 2.63s\tremaining: 2.01s\n",
      "1133:\tlearn: 0.1128665\ttotal: 2.64s\tremaining: 2.01s\n",
      "1134:\tlearn: 0.1127824\ttotal: 2.64s\tremaining: 2.01s\n",
      "1135:\tlearn: 0.1126523\ttotal: 2.64s\tremaining: 2.01s\n",
      "1136:\tlearn: 0.1125635\ttotal: 2.64s\tremaining: 2s\n",
      "1137:\tlearn: 0.1124873\ttotal: 2.64s\tremaining: 2s\n",
      "1138:\tlearn: 0.1123879\ttotal: 2.65s\tremaining: 2s\n",
      "1139:\tlearn: 0.1123481\ttotal: 2.65s\tremaining: 2s\n",
      "1140:\tlearn: 0.1122601\ttotal: 2.65s\tremaining: 2s\n",
      "1141:\tlearn: 0.1122133\ttotal: 2.65s\tremaining: 1.99s\n"
     ]
    },
    {
     "name": "stdout",
     "output_type": "stream",
     "text": [
      "1142:\tlearn: 0.1121483\ttotal: 2.66s\tremaining: 1.99s\n",
      "1143:\tlearn: 0.1120797\ttotal: 2.66s\tremaining: 1.99s\n",
      "1144:\tlearn: 0.1120141\ttotal: 2.66s\tremaining: 1.99s\n",
      "1145:\tlearn: 0.1119884\ttotal: 2.66s\tremaining: 1.99s\n",
      "1146:\tlearn: 0.1119749\ttotal: 2.67s\tremaining: 1.98s\n",
      "1147:\tlearn: 0.1119275\ttotal: 2.67s\tremaining: 1.98s\n",
      "1148:\tlearn: 0.1118586\ttotal: 2.67s\tremaining: 1.98s\n",
      "1149:\tlearn: 0.1117547\ttotal: 2.67s\tremaining: 1.97s\n",
      "1150:\tlearn: 0.1116858\ttotal: 2.67s\tremaining: 1.97s\n",
      "1151:\tlearn: 0.1116008\ttotal: 2.67s\tremaining: 1.97s\n",
      "1152:\tlearn: 0.1115130\ttotal: 2.68s\tremaining: 1.97s\n",
      "1153:\tlearn: 0.1114323\ttotal: 2.68s\tremaining: 1.97s\n",
      "1154:\tlearn: 0.1113946\ttotal: 2.68s\tremaining: 1.96s\n",
      "1155:\tlearn: 0.1113557\ttotal: 2.69s\tremaining: 1.96s\n",
      "1156:\tlearn: 0.1112754\ttotal: 2.69s\tremaining: 1.96s\n",
      "1157:\tlearn: 0.1111796\ttotal: 2.69s\tremaining: 1.96s\n",
      "1158:\tlearn: 0.1110859\ttotal: 2.69s\tremaining: 1.95s\n",
      "1159:\tlearn: 0.1109750\ttotal: 2.7s\tremaining: 1.95s\n",
      "1160:\tlearn: 0.1108093\ttotal: 2.7s\tremaining: 1.95s\n",
      "1161:\tlearn: 0.1107400\ttotal: 2.7s\tremaining: 1.95s\n",
      "1162:\tlearn: 0.1106562\ttotal: 2.7s\tremaining: 1.94s\n",
      "1163:\tlearn: 0.1106346\ttotal: 2.7s\tremaining: 1.94s\n",
      "1164:\tlearn: 0.1105432\ttotal: 2.71s\tremaining: 1.94s\n",
      "1165:\tlearn: 0.1104551\ttotal: 2.71s\tremaining: 1.94s\n",
      "1166:\tlearn: 0.1103665\ttotal: 2.71s\tremaining: 1.94s\n",
      "1167:\tlearn: 0.1102941\ttotal: 2.71s\tremaining: 1.93s\n",
      "1168:\tlearn: 0.1102854\ttotal: 2.72s\tremaining: 1.93s\n",
      "1169:\tlearn: 0.1102004\ttotal: 2.72s\tremaining: 1.93s\n",
      "1170:\tlearn: 0.1100621\ttotal: 2.72s\tremaining: 1.93s\n",
      "1171:\tlearn: 0.1100046\ttotal: 2.72s\tremaining: 1.92s\n",
      "1172:\tlearn: 0.1099423\ttotal: 2.73s\tremaining: 1.92s\n",
      "1173:\tlearn: 0.1098617\ttotal: 2.73s\tremaining: 1.92s\n",
      "1174:\tlearn: 0.1097613\ttotal: 2.73s\tremaining: 1.92s\n",
      "1175:\tlearn: 0.1096705\ttotal: 2.73s\tremaining: 1.91s\n",
      "1176:\tlearn: 0.1095494\ttotal: 2.74s\tremaining: 1.91s\n",
      "1177:\tlearn: 0.1094665\ttotal: 2.74s\tremaining: 1.91s\n",
      "1178:\tlearn: 0.1093659\ttotal: 2.74s\tremaining: 1.91s\n",
      "1179:\tlearn: 0.1092381\ttotal: 2.74s\tremaining: 1.91s\n",
      "1180:\tlearn: 0.1091779\ttotal: 2.74s\tremaining: 1.9s\n",
      "1181:\tlearn: 0.1091029\ttotal: 2.75s\tremaining: 1.9s\n",
      "1182:\tlearn: 0.1090443\ttotal: 2.75s\tremaining: 1.9s\n",
      "1183:\tlearn: 0.1090239\ttotal: 2.75s\tremaining: 1.9s\n",
      "1184:\tlearn: 0.1090064\ttotal: 2.75s\tremaining: 1.9s\n",
      "1185:\tlearn: 0.1090021\ttotal: 2.76s\tremaining: 1.89s\n",
      "1186:\tlearn: 0.1089270\ttotal: 2.76s\tremaining: 1.89s\n",
      "1187:\tlearn: 0.1088454\ttotal: 2.76s\tremaining: 1.89s\n",
      "1188:\tlearn: 0.1088329\ttotal: 2.76s\tremaining: 1.89s\n",
      "1189:\tlearn: 0.1087590\ttotal: 2.77s\tremaining: 1.88s\n",
      "1190:\tlearn: 0.1086847\ttotal: 2.77s\tremaining: 1.88s\n",
      "1191:\tlearn: 0.1086041\ttotal: 2.77s\tremaining: 1.88s\n",
      "1192:\tlearn: 0.1085724\ttotal: 2.77s\tremaining: 1.88s\n",
      "1193:\tlearn: 0.1085050\ttotal: 2.78s\tremaining: 1.88s\n",
      "1194:\tlearn: 0.1084171\ttotal: 2.78s\tremaining: 1.87s\n",
      "1195:\tlearn: 0.1083344\ttotal: 2.78s\tremaining: 1.87s\n",
      "1196:\tlearn: 0.1082564\ttotal: 2.78s\tremaining: 1.87s\n",
      "1197:\tlearn: 0.1082202\ttotal: 2.79s\tremaining: 1.86s\n",
      "1198:\tlearn: 0.1080416\ttotal: 2.79s\tremaining: 1.86s\n",
      "1199:\tlearn: 0.1079223\ttotal: 2.79s\tremaining: 1.86s\n",
      "1200:\tlearn: 0.1078781\ttotal: 2.79s\tremaining: 1.86s\n",
      "1201:\tlearn: 0.1078416\ttotal: 2.8s\tremaining: 1.86s\n",
      "1202:\tlearn: 0.1077542\ttotal: 2.8s\tremaining: 1.85s\n",
      "1203:\tlearn: 0.1077045\ttotal: 2.8s\tremaining: 1.85s\n",
      "1204:\tlearn: 0.1076590\ttotal: 2.81s\tremaining: 1.85s\n",
      "1205:\tlearn: 0.1076234\ttotal: 2.81s\tremaining: 1.85s\n",
      "1206:\tlearn: 0.1075334\ttotal: 2.81s\tremaining: 1.85s\n",
      "1207:\tlearn: 0.1074283\ttotal: 2.81s\tremaining: 1.84s\n",
      "1208:\tlearn: 0.1073617\ttotal: 2.81s\tremaining: 1.84s\n",
      "1209:\tlearn: 0.1072631\ttotal: 2.82s\tremaining: 1.84s\n",
      "1210:\tlearn: 0.1071796\ttotal: 2.82s\tremaining: 1.84s\n",
      "1211:\tlearn: 0.1071711\ttotal: 2.82s\tremaining: 1.83s\n",
      "1212:\tlearn: 0.1070648\ttotal: 2.83s\tremaining: 1.83s\n",
      "1213:\tlearn: 0.1070040\ttotal: 2.83s\tremaining: 1.83s\n",
      "1214:\tlearn: 0.1068837\ttotal: 2.83s\tremaining: 1.83s\n",
      "1215:\tlearn: 0.1067800\ttotal: 2.83s\tremaining: 1.83s\n",
      "1216:\tlearn: 0.1066939\ttotal: 2.84s\tremaining: 1.83s\n",
      "1217:\tlearn: 0.1066710\ttotal: 2.84s\tremaining: 1.82s\n",
      "1218:\tlearn: 0.1065966\ttotal: 2.85s\tremaining: 1.82s\n",
      "1219:\tlearn: 0.1065063\ttotal: 2.85s\tremaining: 1.82s\n",
      "1220:\tlearn: 0.1063868\ttotal: 2.85s\tremaining: 1.82s\n",
      "1221:\tlearn: 0.1063230\ttotal: 2.85s\tremaining: 1.82s\n",
      "1222:\tlearn: 0.1062360\ttotal: 2.86s\tremaining: 1.81s\n",
      "1223:\tlearn: 0.1061236\ttotal: 2.86s\tremaining: 1.81s\n",
      "1224:\tlearn: 0.1060248\ttotal: 2.87s\tremaining: 1.81s\n",
      "1225:\tlearn: 0.1059175\ttotal: 2.87s\tremaining: 1.81s\n",
      "1226:\tlearn: 0.1058242\ttotal: 2.87s\tremaining: 1.81s\n",
      "1227:\tlearn: 0.1057534\ttotal: 2.88s\tremaining: 1.81s\n",
      "1228:\tlearn: 0.1056588\ttotal: 2.88s\tremaining: 1.8s\n",
      "1229:\tlearn: 0.1056287\ttotal: 2.88s\tremaining: 1.8s\n",
      "1230:\tlearn: 0.1055892\ttotal: 2.88s\tremaining: 1.8s\n",
      "1231:\tlearn: 0.1055612\ttotal: 2.88s\tremaining: 1.8s\n",
      "1232:\tlearn: 0.1055123\ttotal: 2.89s\tremaining: 1.8s\n",
      "1233:\tlearn: 0.1054258\ttotal: 2.89s\tremaining: 1.79s\n",
      "1234:\tlearn: 0.1053471\ttotal: 2.89s\tremaining: 1.79s\n",
      "1235:\tlearn: 0.1052544\ttotal: 2.9s\tremaining: 1.79s\n",
      "1236:\tlearn: 0.1051611\ttotal: 2.9s\tremaining: 1.79s\n",
      "1237:\tlearn: 0.1050803\ttotal: 2.9s\tremaining: 1.78s\n",
      "1238:\tlearn: 0.1050256\ttotal: 2.9s\tremaining: 1.78s\n",
      "1239:\tlearn: 0.1050149\ttotal: 2.9s\tremaining: 1.78s\n",
      "1240:\tlearn: 0.1049559\ttotal: 2.91s\tremaining: 1.78s\n",
      "1241:\tlearn: 0.1048723\ttotal: 2.91s\tremaining: 1.78s\n",
      "1242:\tlearn: 0.1047522\ttotal: 2.92s\tremaining: 1.78s\n",
      "1243:\tlearn: 0.1047480\ttotal: 2.92s\tremaining: 1.78s\n",
      "1244:\tlearn: 0.1047050\ttotal: 2.93s\tremaining: 1.77s\n",
      "1245:\tlearn: 0.1046084\ttotal: 2.93s\tremaining: 1.77s\n",
      "1246:\tlearn: 0.1045528\ttotal: 2.93s\tremaining: 1.77s\n",
      "1247:\tlearn: 0.1044842\ttotal: 2.94s\tremaining: 1.77s\n",
      "1248:\tlearn: 0.1044154\ttotal: 2.94s\tremaining: 1.77s\n",
      "1249:\tlearn: 0.1043434\ttotal: 2.94s\tremaining: 1.76s\n",
      "1250:\tlearn: 0.1042674\ttotal: 2.94s\tremaining: 1.76s\n",
      "1251:\tlearn: 0.1041984\ttotal: 2.95s\tremaining: 1.76s\n",
      "1252:\tlearn: 0.1041154\ttotal: 2.95s\tremaining: 1.76s\n",
      "1253:\tlearn: 0.1040274\ttotal: 2.95s\tremaining: 1.76s\n",
      "1254:\tlearn: 0.1038991\ttotal: 2.95s\tremaining: 1.75s\n",
      "1255:\tlearn: 0.1038431\ttotal: 2.96s\tremaining: 1.75s\n",
      "1256:\tlearn: 0.1037973\ttotal: 2.96s\tremaining: 1.75s\n",
      "1257:\tlearn: 0.1037374\ttotal: 2.97s\tremaining: 1.75s\n",
      "1258:\tlearn: 0.1036771\ttotal: 2.97s\tremaining: 1.75s\n",
      "1259:\tlearn: 0.1035956\ttotal: 2.97s\tremaining: 1.74s\n",
      "1260:\tlearn: 0.1035391\ttotal: 2.98s\tremaining: 1.74s\n",
      "1261:\tlearn: 0.1034854\ttotal: 2.98s\tremaining: 1.74s\n",
      "1262:\tlearn: 0.1034593\ttotal: 2.98s\tremaining: 1.74s\n",
      "1263:\tlearn: 0.1033968\ttotal: 2.99s\tremaining: 1.74s\n",
      "1264:\tlearn: 0.1032588\ttotal: 2.99s\tremaining: 1.74s\n",
      "1265:\tlearn: 0.1031616\ttotal: 2.99s\tremaining: 1.74s\n",
      "1266:\tlearn: 0.1031130\ttotal: 3s\tremaining: 1.73s\n",
      "1267:\tlearn: 0.1030594\ttotal: 3s\tremaining: 1.73s\n",
      "1268:\tlearn: 0.1029811\ttotal: 3s\tremaining: 1.73s\n",
      "1269:\tlearn: 0.1028318\ttotal: 3.01s\tremaining: 1.73s\n",
      "1270:\tlearn: 0.1027445\ttotal: 3.01s\tremaining: 1.73s\n",
      "1271:\tlearn: 0.1026630\ttotal: 3.01s\tremaining: 1.72s\n",
      "1272:\tlearn: 0.1026221\ttotal: 3.02s\tremaining: 1.72s\n",
      "1273:\tlearn: 0.1025768\ttotal: 3.02s\tremaining: 1.72s\n",
      "1274:\tlearn: 0.1025362\ttotal: 3.02s\tremaining: 1.72s\n",
      "1275:\tlearn: 0.1024915\ttotal: 3.02s\tremaining: 1.72s\n",
      "1276:\tlearn: 0.1024198\ttotal: 3.03s\tremaining: 1.71s\n",
      "1277:\tlearn: 0.1023625\ttotal: 3.03s\tremaining: 1.71s\n",
      "1278:\tlearn: 0.1022853\ttotal: 3.04s\tremaining: 1.71s\n",
      "1279:\tlearn: 0.1021699\ttotal: 3.04s\tremaining: 1.71s\n",
      "1280:\tlearn: 0.1021383\ttotal: 3.04s\tremaining: 1.71s\n",
      "1281:\tlearn: 0.1020903\ttotal: 3.04s\tremaining: 1.7s\n",
      "1282:\tlearn: 0.1020277\ttotal: 3.04s\tremaining: 1.7s\n",
      "1283:\tlearn: 0.1019303\ttotal: 3.04s\tremaining: 1.7s\n",
      "1284:\tlearn: 0.1018655\ttotal: 3.05s\tremaining: 1.7s\n",
      "1285:\tlearn: 0.1017940\ttotal: 3.05s\tremaining: 1.69s\n",
      "1286:\tlearn: 0.1017128\ttotal: 3.05s\tremaining: 1.69s\n",
      "1287:\tlearn: 0.1016465\ttotal: 3.05s\tremaining: 1.69s\n",
      "1288:\tlearn: 0.1015344\ttotal: 3.06s\tremaining: 1.69s\n",
      "1289:\tlearn: 0.1014735\ttotal: 3.06s\tremaining: 1.68s\n",
      "1290:\tlearn: 0.1014146\ttotal: 3.06s\tremaining: 1.68s\n",
      "1291:\tlearn: 0.1013357\ttotal: 3.06s\tremaining: 1.68s\n",
      "1292:\tlearn: 0.1012948\ttotal: 3.06s\tremaining: 1.68s\n",
      "1293:\tlearn: 0.1012333\ttotal: 3.07s\tremaining: 1.67s\n",
      "1294:\tlearn: 0.1011717\ttotal: 3.07s\tremaining: 1.67s\n",
      "1295:\tlearn: 0.1011363\ttotal: 3.07s\tremaining: 1.67s\n",
      "1296:\tlearn: 0.1010459\ttotal: 3.07s\tremaining: 1.67s\n",
      "1297:\tlearn: 0.1010285\ttotal: 3.08s\tremaining: 1.66s\n",
      "1298:\tlearn: 0.1009769\ttotal: 3.08s\tremaining: 1.66s\n",
      "1299:\tlearn: 0.1008327\ttotal: 3.08s\tremaining: 1.66s\n",
      "1300:\tlearn: 0.1007484\ttotal: 3.08s\tremaining: 1.66s\n",
      "1301:\tlearn: 0.1006968\ttotal: 3.08s\tremaining: 1.65s\n",
      "1302:\tlearn: 0.1005870\ttotal: 3.09s\tremaining: 1.65s\n",
      "1303:\tlearn: 0.1005327\ttotal: 3.09s\tremaining: 1.65s\n",
      "1304:\tlearn: 0.1004518\ttotal: 3.09s\tremaining: 1.65s\n",
      "1305:\tlearn: 0.1004061\ttotal: 3.09s\tremaining: 1.64s\n",
      "1306:\tlearn: 0.1003951\ttotal: 3.1s\tremaining: 1.64s\n",
      "1307:\tlearn: 0.1003381\ttotal: 3.1s\tremaining: 1.64s\n",
      "1308:\tlearn: 0.1002691\ttotal: 3.1s\tremaining: 1.64s\n",
      "1309:\tlearn: 0.1001984\ttotal: 3.1s\tremaining: 1.63s\n",
      "1310:\tlearn: 0.1001575\ttotal: 3.1s\tremaining: 1.63s\n",
      "1311:\tlearn: 0.1000895\ttotal: 3.11s\tremaining: 1.63s\n",
      "1312:\tlearn: 0.1000187\ttotal: 3.11s\tremaining: 1.63s\n",
      "1313:\tlearn: 0.0999763\ttotal: 3.11s\tremaining: 1.62s\n",
      "1314:\tlearn: 0.0998891\ttotal: 3.11s\tremaining: 1.62s\n",
      "1315:\tlearn: 0.0998275\ttotal: 3.12s\tremaining: 1.62s\n",
      "1316:\tlearn: 0.0997445\ttotal: 3.12s\tremaining: 1.62s\n",
      "1317:\tlearn: 0.0997144\ttotal: 3.13s\tremaining: 1.62s\n",
      "1318:\tlearn: 0.0996175\ttotal: 3.13s\tremaining: 1.61s\n",
      "1319:\tlearn: 0.0995256\ttotal: 3.13s\tremaining: 1.61s\n",
      "1320:\tlearn: 0.0994980\ttotal: 3.13s\tremaining: 1.61s\n"
     ]
    },
    {
     "name": "stdout",
     "output_type": "stream",
     "text": [
      "1321:\tlearn: 0.0994363\ttotal: 3.14s\tremaining: 1.61s\n",
      "1322:\tlearn: 0.0993980\ttotal: 3.14s\tremaining: 1.61s\n",
      "1323:\tlearn: 0.0993425\ttotal: 3.14s\tremaining: 1.6s\n",
      "1324:\tlearn: 0.0992896\ttotal: 3.14s\tremaining: 1.6s\n",
      "1325:\tlearn: 0.0992320\ttotal: 3.15s\tremaining: 1.6s\n",
      "1326:\tlearn: 0.0992119\ttotal: 3.15s\tremaining: 1.6s\n",
      "1327:\tlearn: 0.0991499\ttotal: 3.15s\tremaining: 1.6s\n",
      "1328:\tlearn: 0.0991032\ttotal: 3.16s\tremaining: 1.59s\n",
      "1329:\tlearn: 0.0990386\ttotal: 3.16s\tremaining: 1.59s\n",
      "1330:\tlearn: 0.0990176\ttotal: 3.16s\tremaining: 1.59s\n",
      "1331:\tlearn: 0.0989069\ttotal: 3.16s\tremaining: 1.58s\n",
      "1332:\tlearn: 0.0988055\ttotal: 3.17s\tremaining: 1.58s\n",
      "1333:\tlearn: 0.0987302\ttotal: 3.17s\tremaining: 1.58s\n",
      "1334:\tlearn: 0.0986413\ttotal: 3.17s\tremaining: 1.58s\n",
      "1335:\tlearn: 0.0986155\ttotal: 3.17s\tremaining: 1.57s\n",
      "1336:\tlearn: 0.0985570\ttotal: 3.17s\tremaining: 1.57s\n",
      "1337:\tlearn: 0.0985190\ttotal: 3.17s\tremaining: 1.57s\n",
      "1338:\tlearn: 0.0984679\ttotal: 3.17s\tremaining: 1.57s\n",
      "1339:\tlearn: 0.0983802\ttotal: 3.18s\tremaining: 1.56s\n",
      "1340:\tlearn: 0.0983256\ttotal: 3.18s\tremaining: 1.56s\n",
      "1341:\tlearn: 0.0982712\ttotal: 3.18s\tremaining: 1.56s\n",
      "1342:\tlearn: 0.0982346\ttotal: 3.18s\tremaining: 1.56s\n",
      "1343:\tlearn: 0.0982234\ttotal: 3.18s\tremaining: 1.55s\n",
      "1344:\tlearn: 0.0981458\ttotal: 3.19s\tremaining: 1.55s\n",
      "1345:\tlearn: 0.0981118\ttotal: 3.19s\tremaining: 1.55s\n",
      "1346:\tlearn: 0.0980313\ttotal: 3.19s\tremaining: 1.55s\n",
      "1347:\tlearn: 0.0979394\ttotal: 3.19s\tremaining: 1.54s\n",
      "1348:\tlearn: 0.0978652\ttotal: 3.19s\tremaining: 1.54s\n",
      "1349:\tlearn: 0.0977991\ttotal: 3.2s\tremaining: 1.54s\n",
      "1350:\tlearn: 0.0977315\ttotal: 3.2s\tremaining: 1.54s\n",
      "1351:\tlearn: 0.0976385\ttotal: 3.2s\tremaining: 1.53s\n",
      "1352:\tlearn: 0.0975715\ttotal: 3.2s\tremaining: 1.53s\n",
      "1353:\tlearn: 0.0975031\ttotal: 3.2s\tremaining: 1.53s\n",
      "1354:\tlearn: 0.0974017\ttotal: 3.21s\tremaining: 1.52s\n",
      "1355:\tlearn: 0.0973232\ttotal: 3.21s\tremaining: 1.52s\n",
      "1356:\tlearn: 0.0972711\ttotal: 3.21s\tremaining: 1.52s\n",
      "1357:\tlearn: 0.0972328\ttotal: 3.21s\tremaining: 1.52s\n",
      "1358:\tlearn: 0.0971812\ttotal: 3.21s\tremaining: 1.51s\n",
      "1359:\tlearn: 0.0971316\ttotal: 3.21s\tremaining: 1.51s\n",
      "1360:\tlearn: 0.0970491\ttotal: 3.21s\tremaining: 1.51s\n",
      "1361:\tlearn: 0.0969371\ttotal: 3.22s\tremaining: 1.51s\n",
      "1362:\tlearn: 0.0968653\ttotal: 3.22s\tremaining: 1.5s\n",
      "1363:\tlearn: 0.0967787\ttotal: 3.22s\tremaining: 1.5s\n",
      "1364:\tlearn: 0.0967411\ttotal: 3.23s\tremaining: 1.5s\n",
      "1365:\tlearn: 0.0966664\ttotal: 3.23s\tremaining: 1.5s\n",
      "1366:\tlearn: 0.0966433\ttotal: 3.23s\tremaining: 1.5s\n",
      "1367:\tlearn: 0.0965498\ttotal: 3.23s\tremaining: 1.49s\n",
      "1368:\tlearn: 0.0965239\ttotal: 3.23s\tremaining: 1.49s\n",
      "1369:\tlearn: 0.0964128\ttotal: 3.24s\tremaining: 1.49s\n",
      "1370:\tlearn: 0.0962642\ttotal: 3.24s\tremaining: 1.49s\n",
      "1371:\tlearn: 0.0961529\ttotal: 3.24s\tremaining: 1.48s\n",
      "1372:\tlearn: 0.0960886\ttotal: 3.24s\tremaining: 1.48s\n",
      "1373:\tlearn: 0.0960317\ttotal: 3.25s\tremaining: 1.48s\n",
      "1374:\tlearn: 0.0959590\ttotal: 3.25s\tremaining: 1.48s\n",
      "1375:\tlearn: 0.0959049\ttotal: 3.25s\tremaining: 1.47s\n",
      "1376:\tlearn: 0.0958263\ttotal: 3.25s\tremaining: 1.47s\n",
      "1377:\tlearn: 0.0957514\ttotal: 3.25s\tremaining: 1.47s\n",
      "1378:\tlearn: 0.0956785\ttotal: 3.26s\tremaining: 1.47s\n",
      "1379:\tlearn: 0.0956373\ttotal: 3.26s\tremaining: 1.47s\n",
      "1380:\tlearn: 0.0955654\ttotal: 3.26s\tremaining: 1.46s\n",
      "1381:\tlearn: 0.0955449\ttotal: 3.26s\tremaining: 1.46s\n",
      "1382:\tlearn: 0.0954752\ttotal: 3.27s\tremaining: 1.46s\n",
      "1383:\tlearn: 0.0954187\ttotal: 3.27s\tremaining: 1.45s\n",
      "1384:\tlearn: 0.0953763\ttotal: 3.27s\tremaining: 1.45s\n",
      "1385:\tlearn: 0.0953207\ttotal: 3.27s\tremaining: 1.45s\n",
      "1386:\tlearn: 0.0952683\ttotal: 3.27s\tremaining: 1.45s\n",
      "1387:\tlearn: 0.0952063\ttotal: 3.28s\tremaining: 1.45s\n",
      "1388:\tlearn: 0.0951669\ttotal: 3.28s\tremaining: 1.44s\n",
      "1389:\tlearn: 0.0950941\ttotal: 3.28s\tremaining: 1.44s\n",
      "1390:\tlearn: 0.0950495\ttotal: 3.28s\tremaining: 1.44s\n",
      "1391:\tlearn: 0.0950107\ttotal: 3.28s\tremaining: 1.43s\n",
      "1392:\tlearn: 0.0949174\ttotal: 3.29s\tremaining: 1.43s\n",
      "1393:\tlearn: 0.0948286\ttotal: 3.29s\tremaining: 1.43s\n",
      "1394:\tlearn: 0.0947416\ttotal: 3.29s\tremaining: 1.43s\n",
      "1395:\tlearn: 0.0946842\ttotal: 3.29s\tremaining: 1.43s\n",
      "1396:\tlearn: 0.0945793\ttotal: 3.3s\tremaining: 1.42s\n",
      "1397:\tlearn: 0.0944944\ttotal: 3.3s\tremaining: 1.42s\n",
      "1398:\tlearn: 0.0944193\ttotal: 3.3s\tremaining: 1.42s\n",
      "1399:\tlearn: 0.0943566\ttotal: 3.3s\tremaining: 1.42s\n",
      "1400:\tlearn: 0.0943088\ttotal: 3.31s\tremaining: 1.41s\n",
      "1401:\tlearn: 0.0942505\ttotal: 3.31s\tremaining: 1.41s\n",
      "1402:\tlearn: 0.0941670\ttotal: 3.31s\tremaining: 1.41s\n",
      "1403:\tlearn: 0.0940877\ttotal: 3.31s\tremaining: 1.41s\n",
      "1404:\tlearn: 0.0940206\ttotal: 3.31s\tremaining: 1.4s\n",
      "1405:\tlearn: 0.0940178\ttotal: 3.32s\tremaining: 1.4s\n",
      "1406:\tlearn: 0.0939288\ttotal: 3.32s\tremaining: 1.4s\n",
      "1407:\tlearn: 0.0938564\ttotal: 3.32s\tremaining: 1.4s\n",
      "1408:\tlearn: 0.0938182\ttotal: 3.32s\tremaining: 1.39s\n",
      "1409:\tlearn: 0.0937429\ttotal: 3.33s\tremaining: 1.39s\n",
      "1410:\tlearn: 0.0937047\ttotal: 3.33s\tremaining: 1.39s\n",
      "1411:\tlearn: 0.0936693\ttotal: 3.33s\tremaining: 1.39s\n",
      "1412:\tlearn: 0.0935939\ttotal: 3.33s\tremaining: 1.39s\n",
      "1413:\tlearn: 0.0935529\ttotal: 3.34s\tremaining: 1.38s\n",
      "1414:\tlearn: 0.0934797\ttotal: 3.34s\tremaining: 1.38s\n",
      "1415:\tlearn: 0.0934701\ttotal: 3.34s\tremaining: 1.38s\n",
      "1416:\tlearn: 0.0933717\ttotal: 3.34s\tremaining: 1.38s\n",
      "1417:\tlearn: 0.0933204\ttotal: 3.35s\tremaining: 1.37s\n",
      "1418:\tlearn: 0.0932394\ttotal: 3.35s\tremaining: 1.37s\n",
      "1419:\tlearn: 0.0931458\ttotal: 3.35s\tremaining: 1.37s\n",
      "1420:\tlearn: 0.0930528\ttotal: 3.35s\tremaining: 1.36s\n",
      "1421:\tlearn: 0.0930045\ttotal: 3.35s\tremaining: 1.36s\n",
      "1422:\tlearn: 0.0929208\ttotal: 3.35s\tremaining: 1.36s\n",
      "1423:\tlearn: 0.0928641\ttotal: 3.36s\tremaining: 1.36s\n",
      "1424:\tlearn: 0.0928248\ttotal: 3.36s\tremaining: 1.35s\n",
      "1425:\tlearn: 0.0927147\ttotal: 3.36s\tremaining: 1.35s\n",
      "1426:\tlearn: 0.0926157\ttotal: 3.36s\tremaining: 1.35s\n",
      "1427:\tlearn: 0.0925293\ttotal: 3.37s\tremaining: 1.35s\n",
      "1428:\tlearn: 0.0924601\ttotal: 3.37s\tremaining: 1.34s\n",
      "1429:\tlearn: 0.0924094\ttotal: 3.37s\tremaining: 1.34s\n",
      "1430:\tlearn: 0.0923377\ttotal: 3.37s\tremaining: 1.34s\n",
      "1431:\tlearn: 0.0922686\ttotal: 3.37s\tremaining: 1.34s\n",
      "1432:\tlearn: 0.0922093\ttotal: 3.37s\tremaining: 1.33s\n",
      "1433:\tlearn: 0.0921402\ttotal: 3.38s\tremaining: 1.33s\n",
      "1434:\tlearn: 0.0920393\ttotal: 3.38s\tremaining: 1.33s\n",
      "1435:\tlearn: 0.0919640\ttotal: 3.38s\tremaining: 1.33s\n",
      "1436:\tlearn: 0.0918631\ttotal: 3.38s\tremaining: 1.32s\n",
      "1437:\tlearn: 0.0918018\ttotal: 3.38s\tremaining: 1.32s\n",
      "1438:\tlearn: 0.0917624\ttotal: 3.38s\tremaining: 1.32s\n",
      "1439:\tlearn: 0.0916676\ttotal: 3.39s\tremaining: 1.32s\n",
      "1440:\tlearn: 0.0915753\ttotal: 3.39s\tremaining: 1.31s\n",
      "1441:\tlearn: 0.0915693\ttotal: 3.39s\tremaining: 1.31s\n",
      "1442:\tlearn: 0.0915176\ttotal: 3.39s\tremaining: 1.31s\n",
      "1443:\tlearn: 0.0914440\ttotal: 3.4s\tremaining: 1.31s\n",
      "1444:\tlearn: 0.0913804\ttotal: 3.4s\tremaining: 1.3s\n",
      "1445:\tlearn: 0.0913264\ttotal: 3.4s\tremaining: 1.3s\n",
      "1446:\tlearn: 0.0912715\ttotal: 3.4s\tremaining: 1.3s\n",
      "1447:\tlearn: 0.0911889\ttotal: 3.41s\tremaining: 1.3s\n",
      "1448:\tlearn: 0.0911179\ttotal: 3.41s\tremaining: 1.29s\n",
      "1449:\tlearn: 0.0910373\ttotal: 3.41s\tremaining: 1.29s\n",
      "1450:\tlearn: 0.0909791\ttotal: 3.41s\tremaining: 1.29s\n",
      "1451:\tlearn: 0.0909303\ttotal: 3.41s\tremaining: 1.29s\n",
      "1452:\tlearn: 0.0908890\ttotal: 3.42s\tremaining: 1.29s\n",
      "1453:\tlearn: 0.0907942\ttotal: 3.42s\tremaining: 1.28s\n",
      "1454:\tlearn: 0.0907458\ttotal: 3.42s\tremaining: 1.28s\n",
      "1455:\tlearn: 0.0907407\ttotal: 3.42s\tremaining: 1.28s\n",
      "1456:\tlearn: 0.0906498\ttotal: 3.42s\tremaining: 1.28s\n",
      "1457:\tlearn: 0.0905793\ttotal: 3.43s\tremaining: 1.27s\n",
      "1458:\tlearn: 0.0905210\ttotal: 3.43s\tremaining: 1.27s\n",
      "1459:\tlearn: 0.0904308\ttotal: 3.43s\tremaining: 1.27s\n",
      "1460:\tlearn: 0.0903833\ttotal: 3.44s\tremaining: 1.27s\n",
      "1461:\tlearn: 0.0903337\ttotal: 3.44s\tremaining: 1.26s\n",
      "1462:\tlearn: 0.0902909\ttotal: 3.44s\tremaining: 1.26s\n",
      "1463:\tlearn: 0.0902581\ttotal: 3.44s\tremaining: 1.26s\n",
      "1464:\tlearn: 0.0902030\ttotal: 3.44s\tremaining: 1.26s\n",
      "1465:\tlearn: 0.0901151\ttotal: 3.45s\tremaining: 1.25s\n",
      "1466:\tlearn: 0.0900188\ttotal: 3.45s\tremaining: 1.25s\n",
      "1467:\tlearn: 0.0899302\ttotal: 3.45s\tremaining: 1.25s\n",
      "1468:\tlearn: 0.0898633\ttotal: 3.45s\tremaining: 1.25s\n",
      "1469:\tlearn: 0.0897471\ttotal: 3.45s\tremaining: 1.25s\n",
      "1470:\tlearn: 0.0896665\ttotal: 3.46s\tremaining: 1.24s\n",
      "1471:\tlearn: 0.0895955\ttotal: 3.46s\tremaining: 1.24s\n",
      "1472:\tlearn: 0.0895341\ttotal: 3.46s\tremaining: 1.24s\n",
      "1473:\tlearn: 0.0895083\ttotal: 3.46s\tremaining: 1.24s\n",
      "1474:\tlearn: 0.0894215\ttotal: 3.46s\tremaining: 1.23s\n",
      "1475:\tlearn: 0.0893863\ttotal: 3.47s\tremaining: 1.23s\n",
      "1476:\tlearn: 0.0893303\ttotal: 3.47s\tremaining: 1.23s\n",
      "1477:\tlearn: 0.0892445\ttotal: 3.47s\tremaining: 1.23s\n",
      "1478:\tlearn: 0.0892053\ttotal: 3.47s\tremaining: 1.22s\n",
      "1479:\tlearn: 0.0891471\ttotal: 3.48s\tremaining: 1.22s\n",
      "1480:\tlearn: 0.0890848\ttotal: 3.48s\tremaining: 1.22s\n",
      "1481:\tlearn: 0.0890291\ttotal: 3.48s\tremaining: 1.22s\n",
      "1482:\tlearn: 0.0889520\ttotal: 3.48s\tremaining: 1.21s\n",
      "1483:\tlearn: 0.0888798\ttotal: 3.48s\tremaining: 1.21s\n",
      "1484:\tlearn: 0.0888471\ttotal: 3.48s\tremaining: 1.21s\n",
      "1485:\tlearn: 0.0887876\ttotal: 3.49s\tremaining: 1.21s\n",
      "1486:\tlearn: 0.0887303\ttotal: 3.49s\tremaining: 1.2s\n",
      "1487:\tlearn: 0.0886794\ttotal: 3.49s\tremaining: 1.2s\n",
      "1488:\tlearn: 0.0886548\ttotal: 3.49s\tremaining: 1.2s\n",
      "1489:\tlearn: 0.0886117\ttotal: 3.5s\tremaining: 1.2s\n",
      "1490:\tlearn: 0.0885539\ttotal: 3.5s\tremaining: 1.19s\n",
      "1491:\tlearn: 0.0885149\ttotal: 3.5s\tremaining: 1.19s\n",
      "1492:\tlearn: 0.0884514\ttotal: 3.5s\tremaining: 1.19s\n",
      "1493:\tlearn: 0.0883737\ttotal: 3.5s\tremaining: 1.19s\n"
     ]
    },
    {
     "name": "stdout",
     "output_type": "stream",
     "text": [
      "1494:\tlearn: 0.0883332\ttotal: 3.51s\tremaining: 1.18s\n",
      "1495:\tlearn: 0.0882677\ttotal: 3.51s\tremaining: 1.18s\n",
      "1496:\tlearn: 0.0881962\ttotal: 3.51s\tremaining: 1.18s\n",
      "1497:\tlearn: 0.0881568\ttotal: 3.51s\tremaining: 1.18s\n",
      "1498:\tlearn: 0.0880689\ttotal: 3.52s\tremaining: 1.18s\n",
      "1499:\tlearn: 0.0880122\ttotal: 3.52s\tremaining: 1.17s\n",
      "1500:\tlearn: 0.0879333\ttotal: 3.52s\tremaining: 1.17s\n",
      "1501:\tlearn: 0.0878834\ttotal: 3.52s\tremaining: 1.17s\n",
      "1502:\tlearn: 0.0878405\ttotal: 3.52s\tremaining: 1.16s\n",
      "1503:\tlearn: 0.0877653\ttotal: 3.52s\tremaining: 1.16s\n",
      "1504:\tlearn: 0.0877067\ttotal: 3.53s\tremaining: 1.16s\n",
      "1505:\tlearn: 0.0876500\ttotal: 3.53s\tremaining: 1.16s\n",
      "1506:\tlearn: 0.0875601\ttotal: 3.53s\tremaining: 1.16s\n",
      "1507:\tlearn: 0.0875187\ttotal: 3.53s\tremaining: 1.15s\n",
      "1508:\tlearn: 0.0875150\ttotal: 3.54s\tremaining: 1.15s\n",
      "1509:\tlearn: 0.0874831\ttotal: 3.54s\tremaining: 1.15s\n",
      "1510:\tlearn: 0.0874187\ttotal: 3.54s\tremaining: 1.15s\n",
      "1511:\tlearn: 0.0873297\ttotal: 3.54s\tremaining: 1.14s\n",
      "1512:\tlearn: 0.0872537\ttotal: 3.54s\tremaining: 1.14s\n",
      "1513:\tlearn: 0.0872194\ttotal: 3.55s\tremaining: 1.14s\n",
      "1514:\tlearn: 0.0871703\ttotal: 3.55s\tremaining: 1.14s\n",
      "1515:\tlearn: 0.0871043\ttotal: 3.55s\tremaining: 1.13s\n",
      "1516:\tlearn: 0.0870847\ttotal: 3.55s\tremaining: 1.13s\n",
      "1517:\tlearn: 0.0870145\ttotal: 3.55s\tremaining: 1.13s\n",
      "1518:\tlearn: 0.0869536\ttotal: 3.55s\tremaining: 1.13s\n",
      "1519:\tlearn: 0.0869503\ttotal: 3.56s\tremaining: 1.12s\n",
      "1520:\tlearn: 0.0868809\ttotal: 3.56s\tremaining: 1.12s\n",
      "1521:\tlearn: 0.0868055\ttotal: 3.56s\tremaining: 1.12s\n",
      "1522:\tlearn: 0.0867317\ttotal: 3.56s\tremaining: 1.12s\n",
      "1523:\tlearn: 0.0866772\ttotal: 3.56s\tremaining: 1.11s\n",
      "1524:\tlearn: 0.0865831\ttotal: 3.57s\tremaining: 1.11s\n",
      "1525:\tlearn: 0.0864965\ttotal: 3.57s\tremaining: 1.11s\n",
      "1526:\tlearn: 0.0864388\ttotal: 3.57s\tremaining: 1.11s\n",
      "1527:\tlearn: 0.0863831\ttotal: 3.57s\tremaining: 1.1s\n",
      "1528:\tlearn: 0.0863337\ttotal: 3.58s\tremaining: 1.1s\n",
      "1529:\tlearn: 0.0862823\ttotal: 3.58s\tremaining: 1.1s\n",
      "1530:\tlearn: 0.0862113\ttotal: 3.58s\tremaining: 1.1s\n",
      "1531:\tlearn: 0.0861513\ttotal: 3.58s\tremaining: 1.09s\n",
      "1532:\tlearn: 0.0860985\ttotal: 3.58s\tremaining: 1.09s\n",
      "1533:\tlearn: 0.0860610\ttotal: 3.58s\tremaining: 1.09s\n",
      "1534:\tlearn: 0.0860336\ttotal: 3.59s\tremaining: 1.09s\n",
      "1535:\tlearn: 0.0859741\ttotal: 3.59s\tremaining: 1.08s\n",
      "1536:\tlearn: 0.0859201\ttotal: 3.59s\tremaining: 1.08s\n",
      "1537:\tlearn: 0.0858532\ttotal: 3.59s\tremaining: 1.08s\n",
      "1538:\tlearn: 0.0858191\ttotal: 3.59s\tremaining: 1.08s\n",
      "1539:\tlearn: 0.0857349\ttotal: 3.6s\tremaining: 1.07s\n",
      "1540:\tlearn: 0.0856835\ttotal: 3.6s\tremaining: 1.07s\n",
      "1541:\tlearn: 0.0856234\ttotal: 3.6s\tremaining: 1.07s\n",
      "1542:\tlearn: 0.0855782\ttotal: 3.6s\tremaining: 1.07s\n",
      "1543:\tlearn: 0.0854856\ttotal: 3.6s\tremaining: 1.06s\n",
      "1544:\tlearn: 0.0854107\ttotal: 3.61s\tremaining: 1.06s\n",
      "1545:\tlearn: 0.0853728\ttotal: 3.61s\tremaining: 1.06s\n",
      "1546:\tlearn: 0.0853261\ttotal: 3.61s\tremaining: 1.06s\n",
      "1547:\tlearn: 0.0852810\ttotal: 3.62s\tremaining: 1.05s\n",
      "1548:\tlearn: 0.0852380\ttotal: 3.62s\tremaining: 1.05s\n",
      "1549:\tlearn: 0.0851867\ttotal: 3.62s\tremaining: 1.05s\n",
      "1550:\tlearn: 0.0851532\ttotal: 3.62s\tremaining: 1.05s\n",
      "1551:\tlearn: 0.0851005\ttotal: 3.62s\tremaining: 1.04s\n",
      "1552:\tlearn: 0.0850772\ttotal: 3.63s\tremaining: 1.04s\n",
      "1553:\tlearn: 0.0850473\ttotal: 3.63s\tremaining: 1.04s\n",
      "1554:\tlearn: 0.0849702\ttotal: 3.63s\tremaining: 1.04s\n",
      "1555:\tlearn: 0.0849392\ttotal: 3.63s\tremaining: 1.04s\n",
      "1556:\tlearn: 0.0848657\ttotal: 3.63s\tremaining: 1.03s\n",
      "1557:\tlearn: 0.0848034\ttotal: 3.63s\tremaining: 1.03s\n",
      "1558:\tlearn: 0.0847463\ttotal: 3.64s\tremaining: 1.03s\n",
      "1559:\tlearn: 0.0846753\ttotal: 3.64s\tremaining: 1.03s\n",
      "1560:\tlearn: 0.0846184\ttotal: 3.64s\tremaining: 1.02s\n",
      "1561:\tlearn: 0.0845725\ttotal: 3.64s\tremaining: 1.02s\n",
      "1562:\tlearn: 0.0845249\ttotal: 3.65s\tremaining: 1.02s\n",
      "1563:\tlearn: 0.0844459\ttotal: 3.65s\tremaining: 1.02s\n",
      "1564:\tlearn: 0.0844340\ttotal: 3.65s\tremaining: 1.01s\n",
      "1565:\tlearn: 0.0843934\ttotal: 3.65s\tremaining: 1.01s\n",
      "1566:\tlearn: 0.0843386\ttotal: 3.65s\tremaining: 1.01s\n",
      "1567:\tlearn: 0.0842857\ttotal: 3.66s\tremaining: 1.01s\n",
      "1568:\tlearn: 0.0842592\ttotal: 3.66s\tremaining: 1s\n",
      "1569:\tlearn: 0.0841993\ttotal: 3.66s\tremaining: 1s\n",
      "1570:\tlearn: 0.0841220\ttotal: 3.66s\tremaining: 1s\n",
      "1571:\tlearn: 0.0840446\ttotal: 3.67s\tremaining: 998ms\n",
      "1572:\tlearn: 0.0840070\ttotal: 3.67s\tremaining: 996ms\n",
      "1573:\tlearn: 0.0839658\ttotal: 3.67s\tremaining: 994ms\n",
      "1574:\tlearn: 0.0839196\ttotal: 3.67s\tremaining: 991ms\n",
      "1575:\tlearn: 0.0838522\ttotal: 3.67s\tremaining: 989ms\n",
      "1576:\tlearn: 0.0837733\ttotal: 3.68s\tremaining: 986ms\n",
      "1577:\tlearn: 0.0837391\ttotal: 3.68s\tremaining: 984ms\n",
      "1578:\tlearn: 0.0836860\ttotal: 3.68s\tremaining: 981ms\n",
      "1579:\tlearn: 0.0836401\ttotal: 3.68s\tremaining: 979ms\n",
      "1580:\tlearn: 0.0835873\ttotal: 3.69s\tremaining: 977ms\n",
      "1581:\tlearn: 0.0835294\ttotal: 3.69s\tremaining: 975ms\n",
      "1582:\tlearn: 0.0835028\ttotal: 3.69s\tremaining: 972ms\n",
      "1583:\tlearn: 0.0834693\ttotal: 3.69s\tremaining: 970ms\n",
      "1584:\tlearn: 0.0833910\ttotal: 3.69s\tremaining: 967ms\n",
      "1585:\tlearn: 0.0833527\ttotal: 3.69s\tremaining: 965ms\n",
      "1586:\tlearn: 0.0833086\ttotal: 3.7s\tremaining: 962ms\n",
      "1587:\tlearn: 0.0832280\ttotal: 3.7s\tremaining: 960ms\n",
      "1588:\tlearn: 0.0831583\ttotal: 3.7s\tremaining: 958ms\n",
      "1589:\tlearn: 0.0831141\ttotal: 3.71s\tremaining: 956ms\n",
      "1590:\tlearn: 0.0830701\ttotal: 3.71s\tremaining: 953ms\n",
      "1591:\tlearn: 0.0830038\ttotal: 3.71s\tremaining: 951ms\n",
      "1592:\tlearn: 0.0829531\ttotal: 3.71s\tremaining: 948ms\n",
      "1593:\tlearn: 0.0828920\ttotal: 3.71s\tremaining: 945ms\n",
      "1594:\tlearn: 0.0827817\ttotal: 3.72s\tremaining: 944ms\n",
      "1595:\tlearn: 0.0827153\ttotal: 3.72s\tremaining: 941ms\n",
      "1596:\tlearn: 0.0826839\ttotal: 3.72s\tremaining: 939ms\n",
      "1597:\tlearn: 0.0826042\ttotal: 3.72s\tremaining: 936ms\n",
      "1598:\tlearn: 0.0825697\ttotal: 3.72s\tremaining: 934ms\n",
      "1599:\tlearn: 0.0824518\ttotal: 3.73s\tremaining: 931ms\n",
      "1600:\tlearn: 0.0823740\ttotal: 3.73s\tremaining: 929ms\n",
      "1601:\tlearn: 0.0823143\ttotal: 3.73s\tremaining: 927ms\n",
      "1602:\tlearn: 0.0822620\ttotal: 3.73s\tremaining: 925ms\n",
      "1603:\tlearn: 0.0822336\ttotal: 3.73s\tremaining: 922ms\n",
      "1604:\tlearn: 0.0821875\ttotal: 3.74s\tremaining: 920ms\n",
      "1605:\tlearn: 0.0821056\ttotal: 3.74s\tremaining: 917ms\n",
      "1606:\tlearn: 0.0820684\ttotal: 3.74s\tremaining: 915ms\n",
      "1607:\tlearn: 0.0820027\ttotal: 3.74s\tremaining: 913ms\n",
      "1608:\tlearn: 0.0819191\ttotal: 3.75s\tremaining: 910ms\n",
      "1609:\tlearn: 0.0818813\ttotal: 3.75s\tremaining: 908ms\n",
      "1610:\tlearn: 0.0818538\ttotal: 3.75s\tremaining: 905ms\n",
      "1611:\tlearn: 0.0817692\ttotal: 3.75s\tremaining: 903ms\n",
      "1612:\tlearn: 0.0817298\ttotal: 3.75s\tremaining: 900ms\n",
      "1613:\tlearn: 0.0816858\ttotal: 3.76s\tremaining: 898ms\n",
      "1614:\tlearn: 0.0815649\ttotal: 3.76s\tremaining: 896ms\n",
      "1615:\tlearn: 0.0815223\ttotal: 3.76s\tremaining: 894ms\n",
      "1616:\tlearn: 0.0815051\ttotal: 3.76s\tremaining: 891ms\n",
      "1617:\tlearn: 0.0814766\ttotal: 3.76s\tremaining: 889ms\n",
      "1618:\tlearn: 0.0814312\ttotal: 3.77s\tremaining: 886ms\n",
      "1619:\tlearn: 0.0813955\ttotal: 3.77s\tremaining: 884ms\n",
      "1620:\tlearn: 0.0813277\ttotal: 3.77s\tremaining: 882ms\n",
      "1621:\tlearn: 0.0812611\ttotal: 3.77s\tremaining: 879ms\n",
      "1622:\tlearn: 0.0812334\ttotal: 3.77s\tremaining: 877ms\n",
      "1623:\tlearn: 0.0811554\ttotal: 3.78s\tremaining: 875ms\n",
      "1624:\tlearn: 0.0811199\ttotal: 3.78s\tremaining: 872ms\n",
      "1625:\tlearn: 0.0809991\ttotal: 3.78s\tremaining: 870ms\n",
      "1626:\tlearn: 0.0809441\ttotal: 3.78s\tremaining: 867ms\n",
      "1627:\tlearn: 0.0808543\ttotal: 3.79s\tremaining: 865ms\n",
      "1628:\tlearn: 0.0808278\ttotal: 3.79s\tremaining: 863ms\n",
      "1629:\tlearn: 0.0807753\ttotal: 3.79s\tremaining: 860ms\n",
      "1630:\tlearn: 0.0807095\ttotal: 3.79s\tremaining: 858ms\n",
      "1631:\tlearn: 0.0806541\ttotal: 3.79s\tremaining: 855ms\n",
      "1632:\tlearn: 0.0805802\ttotal: 3.79s\tremaining: 853ms\n",
      "1633:\tlearn: 0.0805526\ttotal: 3.8s\tremaining: 850ms\n",
      "1634:\tlearn: 0.0805106\ttotal: 3.8s\tremaining: 848ms\n",
      "1635:\tlearn: 0.0804570\ttotal: 3.8s\tremaining: 846ms\n",
      "1636:\tlearn: 0.0803926\ttotal: 3.8s\tremaining: 843ms\n",
      "1637:\tlearn: 0.0803185\ttotal: 3.8s\tremaining: 841ms\n",
      "1638:\tlearn: 0.0802681\ttotal: 3.81s\tremaining: 838ms\n",
      "1639:\tlearn: 0.0801803\ttotal: 3.81s\tremaining: 836ms\n",
      "1640:\tlearn: 0.0801084\ttotal: 3.81s\tremaining: 833ms\n",
      "1641:\tlearn: 0.0800617\ttotal: 3.81s\tremaining: 831ms\n",
      "1642:\tlearn: 0.0799938\ttotal: 3.81s\tremaining: 829ms\n",
      "1643:\tlearn: 0.0799336\ttotal: 3.81s\tremaining: 826ms\n",
      "1644:\tlearn: 0.0799017\ttotal: 3.82s\tremaining: 824ms\n",
      "1645:\tlearn: 0.0798371\ttotal: 3.82s\tremaining: 821ms\n",
      "1646:\tlearn: 0.0797855\ttotal: 3.82s\tremaining: 819ms\n",
      "1647:\tlearn: 0.0797272\ttotal: 3.82s\tremaining: 817ms\n",
      "1648:\tlearn: 0.0796643\ttotal: 3.82s\tremaining: 814ms\n",
      "1649:\tlearn: 0.0795698\ttotal: 3.83s\tremaining: 812ms\n",
      "1650:\tlearn: 0.0795217\ttotal: 3.83s\tremaining: 810ms\n",
      "1651:\tlearn: 0.0794817\ttotal: 3.83s\tremaining: 807ms\n",
      "1652:\tlearn: 0.0794043\ttotal: 3.83s\tremaining: 805ms\n",
      "1653:\tlearn: 0.0793634\ttotal: 3.84s\tremaining: 803ms\n",
      "1654:\tlearn: 0.0792972\ttotal: 3.84s\tremaining: 800ms\n",
      "1655:\tlearn: 0.0792493\ttotal: 3.84s\tremaining: 798ms\n",
      "1656:\tlearn: 0.0791945\ttotal: 3.85s\tremaining: 796ms\n",
      "1657:\tlearn: 0.0791312\ttotal: 3.85s\tremaining: 794ms\n",
      "1658:\tlearn: 0.0790575\ttotal: 3.85s\tremaining: 791ms\n",
      "1659:\tlearn: 0.0790087\ttotal: 3.85s\tremaining: 789ms\n",
      "1660:\tlearn: 0.0789481\ttotal: 3.85s\tremaining: 786ms\n",
      "1661:\tlearn: 0.0789003\ttotal: 3.86s\tremaining: 785ms\n",
      "1662:\tlearn: 0.0788607\ttotal: 3.86s\tremaining: 783ms\n",
      "1663:\tlearn: 0.0788184\ttotal: 3.86s\tremaining: 780ms\n",
      "1664:\tlearn: 0.0787546\ttotal: 3.87s\tremaining: 778ms\n",
      "1665:\tlearn: 0.0787049\ttotal: 3.87s\tremaining: 775ms\n",
      "1666:\tlearn: 0.0786633\ttotal: 3.87s\tremaining: 773ms\n",
      "1667:\tlearn: 0.0785928\ttotal: 3.87s\tremaining: 771ms\n",
      "1668:\tlearn: 0.0785320\ttotal: 3.87s\tremaining: 768ms\n",
      "1669:\tlearn: 0.0784839\ttotal: 3.88s\tremaining: 766ms\n",
      "1670:\tlearn: 0.0784312\ttotal: 3.88s\tremaining: 764ms\n",
      "1671:\tlearn: 0.0783896\ttotal: 3.88s\tremaining: 761ms\n",
      "1672:\tlearn: 0.0783691\ttotal: 3.88s\tremaining: 759ms\n",
      "1673:\tlearn: 0.0783187\ttotal: 3.88s\tremaining: 757ms\n",
      "1674:\tlearn: 0.0782730\ttotal: 3.89s\tremaining: 754ms\n",
      "1675:\tlearn: 0.0782461\ttotal: 3.89s\tremaining: 752ms\n",
      "1676:\tlearn: 0.0782062\ttotal: 3.89s\tremaining: 750ms\n",
      "1677:\tlearn: 0.0781599\ttotal: 3.89s\tremaining: 747ms\n",
      "1678:\tlearn: 0.0780808\ttotal: 3.9s\tremaining: 745ms\n",
      "1679:\tlearn: 0.0780139\ttotal: 3.9s\tremaining: 742ms\n",
      "1680:\tlearn: 0.0779447\ttotal: 3.9s\tremaining: 740ms\n",
      "1681:\tlearn: 0.0779022\ttotal: 3.9s\tremaining: 738ms\n",
      "1682:\tlearn: 0.0778540\ttotal: 3.9s\tremaining: 735ms\n",
      "1683:\tlearn: 0.0777790\ttotal: 3.9s\tremaining: 733ms\n",
      "1684:\tlearn: 0.0777158\ttotal: 3.91s\tremaining: 730ms\n",
      "1685:\tlearn: 0.0776710\ttotal: 3.91s\tremaining: 728ms\n",
      "1686:\tlearn: 0.0776130\ttotal: 3.91s\tremaining: 725ms\n",
      "1687:\tlearn: 0.0775574\ttotal: 3.91s\tremaining: 723ms\n",
      "1688:\tlearn: 0.0774731\ttotal: 3.91s\tremaining: 720ms\n",
      "1689:\tlearn: 0.0774437\ttotal: 3.91s\tremaining: 718ms\n",
      "1690:\tlearn: 0.0774068\ttotal: 3.92s\tremaining: 716ms\n",
      "1691:\tlearn: 0.0773368\ttotal: 3.92s\tremaining: 713ms\n",
      "1692:\tlearn: 0.0772780\ttotal: 3.92s\tremaining: 711ms\n",
      "1693:\tlearn: 0.0772306\ttotal: 3.92s\tremaining: 708ms\n",
      "1694:\tlearn: 0.0771206\ttotal: 3.92s\tremaining: 706ms\n",
      "1695:\tlearn: 0.0770439\ttotal: 3.92s\tremaining: 703ms\n",
      "1696:\tlearn: 0.0770071\ttotal: 3.92s\tremaining: 701ms\n",
      "1697:\tlearn: 0.0769553\ttotal: 3.93s\tremaining: 699ms\n",
      "1698:\tlearn: 0.0769183\ttotal: 3.93s\tremaining: 696ms\n",
      "1699:\tlearn: 0.0768822\ttotal: 3.93s\tremaining: 694ms\n"
     ]
    },
    {
     "name": "stdout",
     "output_type": "stream",
     "text": [
      "1700:\tlearn: 0.0768562\ttotal: 3.93s\tremaining: 691ms\n",
      "1701:\tlearn: 0.0767758\ttotal: 3.94s\tremaining: 689ms\n",
      "1702:\tlearn: 0.0767214\ttotal: 3.94s\tremaining: 687ms\n",
      "1703:\tlearn: 0.0766897\ttotal: 3.94s\tremaining: 684ms\n",
      "1704:\tlearn: 0.0766600\ttotal: 3.94s\tremaining: 682ms\n",
      "1705:\tlearn: 0.0765871\ttotal: 3.94s\tremaining: 679ms\n",
      "1706:\tlearn: 0.0765197\ttotal: 3.94s\tremaining: 677ms\n",
      "1707:\tlearn: 0.0764985\ttotal: 3.94s\tremaining: 675ms\n",
      "1708:\tlearn: 0.0764325\ttotal: 3.95s\tremaining: 672ms\n",
      "1709:\tlearn: 0.0763900\ttotal: 3.95s\tremaining: 670ms\n",
      "1710:\tlearn: 0.0763271\ttotal: 3.95s\tremaining: 667ms\n",
      "1711:\tlearn: 0.0762604\ttotal: 3.95s\tremaining: 665ms\n",
      "1712:\tlearn: 0.0761954\ttotal: 3.96s\tremaining: 663ms\n",
      "1713:\tlearn: 0.0761680\ttotal: 3.96s\tremaining: 660ms\n",
      "1714:\tlearn: 0.0761415\ttotal: 3.96s\tremaining: 658ms\n",
      "1715:\tlearn: 0.0760880\ttotal: 3.96s\tremaining: 656ms\n",
      "1716:\tlearn: 0.0760553\ttotal: 3.96s\tremaining: 653ms\n",
      "1717:\tlearn: 0.0760259\ttotal: 3.96s\tremaining: 651ms\n",
      "1718:\tlearn: 0.0759903\ttotal: 3.96s\tremaining: 648ms\n",
      "1719:\tlearn: 0.0759625\ttotal: 3.97s\tremaining: 646ms\n",
      "1720:\tlearn: 0.0759022\ttotal: 3.97s\tremaining: 643ms\n",
      "1721:\tlearn: 0.0758785\ttotal: 3.97s\tremaining: 641ms\n",
      "1722:\tlearn: 0.0758203\ttotal: 3.97s\tremaining: 639ms\n",
      "1723:\tlearn: 0.0757839\ttotal: 3.97s\tremaining: 636ms\n",
      "1724:\tlearn: 0.0757296\ttotal: 3.98s\tremaining: 634ms\n",
      "1725:\tlearn: 0.0756933\ttotal: 3.98s\tremaining: 631ms\n",
      "1726:\tlearn: 0.0756582\ttotal: 3.98s\tremaining: 629ms\n",
      "1727:\tlearn: 0.0756065\ttotal: 3.98s\tremaining: 627ms\n",
      "1728:\tlearn: 0.0755473\ttotal: 3.98s\tremaining: 624ms\n",
      "1729:\tlearn: 0.0755112\ttotal: 3.99s\tremaining: 622ms\n",
      "1730:\tlearn: 0.0754559\ttotal: 3.99s\tremaining: 620ms\n",
      "1731:\tlearn: 0.0754153\ttotal: 3.99s\tremaining: 617ms\n",
      "1732:\tlearn: 0.0753665\ttotal: 3.99s\tremaining: 615ms\n",
      "1733:\tlearn: 0.0753099\ttotal: 3.99s\tremaining: 613ms\n",
      "1734:\tlearn: 0.0752381\ttotal: 3.99s\tremaining: 610ms\n",
      "1735:\tlearn: 0.0751766\ttotal: 4s\tremaining: 608ms\n",
      "1736:\tlearn: 0.0751498\ttotal: 4s\tremaining: 606ms\n",
      "1737:\tlearn: 0.0751159\ttotal: 4s\tremaining: 603ms\n",
      "1738:\tlearn: 0.0750501\ttotal: 4s\tremaining: 601ms\n",
      "1739:\tlearn: 0.0749953\ttotal: 4.01s\tremaining: 599ms\n",
      "1740:\tlearn: 0.0749273\ttotal: 4.01s\tremaining: 596ms\n",
      "1741:\tlearn: 0.0748517\ttotal: 4.01s\tremaining: 594ms\n",
      "1742:\tlearn: 0.0748195\ttotal: 4.01s\tremaining: 592ms\n",
      "1743:\tlearn: 0.0747429\ttotal: 4.02s\tremaining: 590ms\n",
      "1744:\tlearn: 0.0746585\ttotal: 4.02s\tremaining: 587ms\n",
      "1745:\tlearn: 0.0745986\ttotal: 4.02s\tremaining: 585ms\n",
      "1746:\tlearn: 0.0745594\ttotal: 4.02s\tremaining: 582ms\n",
      "1747:\tlearn: 0.0745018\ttotal: 4.02s\tremaining: 580ms\n",
      "1748:\tlearn: 0.0744615\ttotal: 4.03s\tremaining: 578ms\n",
      "1749:\tlearn: 0.0743971\ttotal: 4.03s\tremaining: 576ms\n",
      "1750:\tlearn: 0.0743536\ttotal: 4.03s\tremaining: 573ms\n",
      "1751:\tlearn: 0.0743130\ttotal: 4.03s\tremaining: 571ms\n",
      "1752:\tlearn: 0.0742764\ttotal: 4.03s\tremaining: 568ms\n",
      "1753:\tlearn: 0.0742402\ttotal: 4.04s\tremaining: 566ms\n",
      "1754:\tlearn: 0.0741878\ttotal: 4.04s\tremaining: 564ms\n",
      "1755:\tlearn: 0.0741147\ttotal: 4.04s\tremaining: 562ms\n",
      "1756:\tlearn: 0.0740565\ttotal: 4.04s\tremaining: 559ms\n",
      "1757:\tlearn: 0.0739931\ttotal: 4.04s\tremaining: 557ms\n",
      "1758:\tlearn: 0.0739539\ttotal: 4.05s\tremaining: 554ms\n",
      "1759:\tlearn: 0.0739247\ttotal: 4.05s\tremaining: 552ms\n",
      "1760:\tlearn: 0.0738736\ttotal: 4.05s\tremaining: 550ms\n",
      "1761:\tlearn: 0.0738359\ttotal: 4.05s\tremaining: 547ms\n",
      "1762:\tlearn: 0.0737837\ttotal: 4.05s\tremaining: 545ms\n",
      "1763:\tlearn: 0.0737333\ttotal: 4.06s\tremaining: 543ms\n",
      "1764:\tlearn: 0.0736973\ttotal: 4.06s\tremaining: 540ms\n",
      "1765:\tlearn: 0.0736614\ttotal: 4.06s\tremaining: 538ms\n",
      "1766:\tlearn: 0.0735709\ttotal: 4.06s\tremaining: 536ms\n",
      "1767:\tlearn: 0.0735338\ttotal: 4.06s\tremaining: 533ms\n",
      "1768:\tlearn: 0.0734923\ttotal: 4.06s\tremaining: 531ms\n",
      "1769:\tlearn: 0.0734432\ttotal: 4.07s\tremaining: 529ms\n",
      "1770:\tlearn: 0.0733730\ttotal: 4.07s\tremaining: 526ms\n",
      "1771:\tlearn: 0.0733125\ttotal: 4.07s\tremaining: 524ms\n",
      "1772:\tlearn: 0.0732672\ttotal: 4.07s\tremaining: 522ms\n",
      "1773:\tlearn: 0.0731965\ttotal: 4.08s\tremaining: 519ms\n",
      "1774:\tlearn: 0.0731162\ttotal: 4.08s\tremaining: 517ms\n",
      "1775:\tlearn: 0.0730645\ttotal: 4.08s\tremaining: 514ms\n",
      "1776:\tlearn: 0.0730163\ttotal: 4.08s\tremaining: 512ms\n",
      "1777:\tlearn: 0.0729867\ttotal: 4.08s\tremaining: 510ms\n",
      "1778:\tlearn: 0.0729465\ttotal: 4.09s\tremaining: 508ms\n",
      "1779:\tlearn: 0.0728960\ttotal: 4.09s\tremaining: 505ms\n",
      "1780:\tlearn: 0.0728703\ttotal: 4.09s\tremaining: 503ms\n",
      "1781:\tlearn: 0.0728274\ttotal: 4.09s\tremaining: 501ms\n",
      "1782:\tlearn: 0.0727784\ttotal: 4.09s\tremaining: 498ms\n",
      "1783:\tlearn: 0.0727125\ttotal: 4.1s\tremaining: 496ms\n",
      "1784:\tlearn: 0.0726821\ttotal: 4.1s\tremaining: 494ms\n",
      "1785:\tlearn: 0.0726213\ttotal: 4.11s\tremaining: 492ms\n",
      "1786:\tlearn: 0.0725496\ttotal: 4.11s\tremaining: 490ms\n",
      "1787:\tlearn: 0.0725070\ttotal: 4.12s\tremaining: 488ms\n",
      "1788:\tlearn: 0.0724682\ttotal: 4.12s\tremaining: 486ms\n",
      "1789:\tlearn: 0.0724216\ttotal: 4.12s\tremaining: 484ms\n",
      "1790:\tlearn: 0.0723797\ttotal: 4.12s\tremaining: 481ms\n",
      "1791:\tlearn: 0.0723144\ttotal: 4.13s\tremaining: 479ms\n",
      "1792:\tlearn: 0.0722625\ttotal: 4.13s\tremaining: 477ms\n",
      "1793:\tlearn: 0.0722222\ttotal: 4.13s\tremaining: 475ms\n",
      "1794:\tlearn: 0.0722046\ttotal: 4.13s\tremaining: 472ms\n",
      "1795:\tlearn: 0.0721506\ttotal: 4.14s\tremaining: 470ms\n",
      "1796:\tlearn: 0.0721168\ttotal: 4.14s\tremaining: 468ms\n",
      "1797:\tlearn: 0.0720633\ttotal: 4.14s\tremaining: 466ms\n",
      "1798:\tlearn: 0.0720288\ttotal: 4.15s\tremaining: 463ms\n",
      "1799:\tlearn: 0.0719921\ttotal: 4.15s\tremaining: 461ms\n",
      "1800:\tlearn: 0.0719405\ttotal: 4.15s\tremaining: 459ms\n",
      "1801:\tlearn: 0.0719090\ttotal: 4.15s\tremaining: 456ms\n",
      "1802:\tlearn: 0.0718798\ttotal: 4.15s\tremaining: 454ms\n",
      "1803:\tlearn: 0.0718155\ttotal: 4.16s\tremaining: 452ms\n",
      "1804:\tlearn: 0.0717697\ttotal: 4.16s\tremaining: 449ms\n",
      "1805:\tlearn: 0.0716985\ttotal: 4.16s\tremaining: 447ms\n",
      "1806:\tlearn: 0.0716750\ttotal: 4.16s\tremaining: 445ms\n",
      "1807:\tlearn: 0.0716445\ttotal: 4.17s\tremaining: 442ms\n",
      "1808:\tlearn: 0.0716070\ttotal: 4.17s\tremaining: 440ms\n",
      "1809:\tlearn: 0.0715438\ttotal: 4.17s\tremaining: 438ms\n",
      "1810:\tlearn: 0.0714891\ttotal: 4.17s\tremaining: 435ms\n",
      "1811:\tlearn: 0.0714414\ttotal: 4.17s\tremaining: 433ms\n",
      "1812:\tlearn: 0.0714051\ttotal: 4.17s\tremaining: 431ms\n",
      "1813:\tlearn: 0.0713549\ttotal: 4.18s\tremaining: 428ms\n",
      "1814:\tlearn: 0.0712992\ttotal: 4.18s\tremaining: 426ms\n",
      "1815:\tlearn: 0.0712233\ttotal: 4.18s\tremaining: 424ms\n",
      "1816:\tlearn: 0.0711626\ttotal: 4.18s\tremaining: 421ms\n",
      "1817:\tlearn: 0.0711019\ttotal: 4.18s\tremaining: 419ms\n",
      "1818:\tlearn: 0.0710490\ttotal: 4.18s\tremaining: 416ms\n",
      "1819:\tlearn: 0.0710163\ttotal: 4.19s\tremaining: 414ms\n",
      "1820:\tlearn: 0.0709906\ttotal: 4.19s\tremaining: 412ms\n",
      "1821:\tlearn: 0.0709553\ttotal: 4.19s\tremaining: 410ms\n",
      "1822:\tlearn: 0.0709253\ttotal: 4.19s\tremaining: 407ms\n",
      "1823:\tlearn: 0.0708739\ttotal: 4.2s\tremaining: 405ms\n",
      "1824:\tlearn: 0.0708281\ttotal: 4.2s\tremaining: 403ms\n",
      "1825:\tlearn: 0.0707543\ttotal: 4.2s\tremaining: 400ms\n",
      "1826:\tlearn: 0.0707241\ttotal: 4.2s\tremaining: 398ms\n",
      "1827:\tlearn: 0.0707030\ttotal: 4.2s\tremaining: 396ms\n",
      "1828:\tlearn: 0.0706513\ttotal: 4.21s\tremaining: 393ms\n",
      "1829:\tlearn: 0.0706131\ttotal: 4.21s\tremaining: 391ms\n",
      "1830:\tlearn: 0.0705711\ttotal: 4.21s\tremaining: 388ms\n",
      "1831:\tlearn: 0.0705040\ttotal: 4.21s\tremaining: 386ms\n",
      "1832:\tlearn: 0.0704403\ttotal: 4.21s\tremaining: 384ms\n",
      "1833:\tlearn: 0.0703985\ttotal: 4.21s\tremaining: 381ms\n",
      "1834:\tlearn: 0.0703588\ttotal: 4.21s\tremaining: 379ms\n",
      "1835:\tlearn: 0.0703300\ttotal: 4.22s\tremaining: 377ms\n",
      "1836:\tlearn: 0.0703121\ttotal: 4.22s\tremaining: 374ms\n",
      "1837:\tlearn: 0.0702786\ttotal: 4.22s\tremaining: 372ms\n",
      "1838:\tlearn: 0.0702481\ttotal: 4.22s\tremaining: 370ms\n",
      "1839:\tlearn: 0.0701705\ttotal: 4.22s\tremaining: 367ms\n",
      "1840:\tlearn: 0.0701135\ttotal: 4.22s\tremaining: 365ms\n",
      "1841:\tlearn: 0.0700580\ttotal: 4.23s\tremaining: 363ms\n",
      "1842:\tlearn: 0.0700018\ttotal: 4.23s\tremaining: 360ms\n",
      "1843:\tlearn: 0.0699478\ttotal: 4.23s\tremaining: 358ms\n",
      "1844:\tlearn: 0.0698864\ttotal: 4.23s\tremaining: 356ms\n",
      "1845:\tlearn: 0.0698275\ttotal: 4.23s\tremaining: 353ms\n",
      "1846:\tlearn: 0.0697707\ttotal: 4.24s\tremaining: 351ms\n",
      "1847:\tlearn: 0.0697369\ttotal: 4.24s\tremaining: 349ms\n",
      "1848:\tlearn: 0.0696878\ttotal: 4.24s\tremaining: 346ms\n",
      "1849:\tlearn: 0.0696542\ttotal: 4.24s\tremaining: 344ms\n",
      "1850:\tlearn: 0.0695918\ttotal: 4.24s\tremaining: 341ms\n",
      "1851:\tlearn: 0.0695722\ttotal: 4.25s\tremaining: 339ms\n",
      "1852:\tlearn: 0.0695584\ttotal: 4.25s\tremaining: 337ms\n",
      "1853:\tlearn: 0.0695137\ttotal: 4.25s\tremaining: 335ms\n",
      "1854:\tlearn: 0.0695001\ttotal: 4.25s\tremaining: 332ms\n",
      "1855:\tlearn: 0.0694699\ttotal: 4.25s\tremaining: 330ms\n",
      "1856:\tlearn: 0.0694105\ttotal: 4.25s\tremaining: 328ms\n",
      "1857:\tlearn: 0.0693848\ttotal: 4.25s\tremaining: 325ms\n",
      "1858:\tlearn: 0.0693573\ttotal: 4.26s\tremaining: 323ms\n",
      "1859:\tlearn: 0.0693261\ttotal: 4.26s\tremaining: 321ms\n",
      "1860:\tlearn: 0.0692949\ttotal: 4.26s\tremaining: 318ms\n",
      "1861:\tlearn: 0.0692264\ttotal: 4.26s\tremaining: 316ms\n",
      "1862:\tlearn: 0.0692043\ttotal: 4.26s\tremaining: 314ms\n",
      "1863:\tlearn: 0.0691581\ttotal: 4.26s\tremaining: 311ms\n",
      "1864:\tlearn: 0.0690980\ttotal: 4.27s\tremaining: 309ms\n",
      "1865:\tlearn: 0.0690115\ttotal: 4.27s\tremaining: 307ms\n",
      "1866:\tlearn: 0.0689479\ttotal: 4.27s\tremaining: 304ms\n",
      "1867:\tlearn: 0.0688956\ttotal: 4.27s\tremaining: 302ms\n",
      "1868:\tlearn: 0.0688364\ttotal: 4.27s\tremaining: 300ms\n",
      "1869:\tlearn: 0.0687980\ttotal: 4.28s\tremaining: 297ms\n",
      "1870:\tlearn: 0.0687537\ttotal: 4.28s\tremaining: 295ms\n",
      "1871:\tlearn: 0.0687259\ttotal: 4.28s\tremaining: 293ms\n",
      "1872:\tlearn: 0.0686918\ttotal: 4.28s\tremaining: 290ms\n",
      "1873:\tlearn: 0.0686512\ttotal: 4.28s\tremaining: 288ms\n",
      "1874:\tlearn: 0.0685902\ttotal: 4.28s\tremaining: 286ms\n",
      "1875:\tlearn: 0.0685327\ttotal: 4.29s\tremaining: 283ms\n",
      "1876:\tlearn: 0.0684853\ttotal: 4.29s\tremaining: 281ms\n",
      "1877:\tlearn: 0.0684380\ttotal: 4.29s\tremaining: 279ms\n",
      "1878:\tlearn: 0.0683944\ttotal: 4.29s\tremaining: 276ms\n",
      "1879:\tlearn: 0.0683606\ttotal: 4.29s\tremaining: 274ms\n"
     ]
    },
    {
     "name": "stdout",
     "output_type": "stream",
     "text": [
      "1880:\tlearn: 0.0683463\ttotal: 4.3s\tremaining: 272ms\n",
      "1881:\tlearn: 0.0682854\ttotal: 4.3s\tremaining: 269ms\n",
      "1882:\tlearn: 0.0682277\ttotal: 4.3s\tremaining: 267ms\n",
      "1883:\tlearn: 0.0681881\ttotal: 4.3s\tremaining: 265ms\n",
      "1884:\tlearn: 0.0681534\ttotal: 4.3s\tremaining: 263ms\n",
      "1885:\tlearn: 0.0681194\ttotal: 4.31s\tremaining: 260ms\n",
      "1886:\tlearn: 0.0680821\ttotal: 4.31s\tremaining: 258ms\n",
      "1887:\tlearn: 0.0680429\ttotal: 4.31s\tremaining: 256ms\n",
      "1888:\tlearn: 0.0680055\ttotal: 4.31s\tremaining: 253ms\n",
      "1889:\tlearn: 0.0679785\ttotal: 4.31s\tremaining: 251ms\n",
      "1890:\tlearn: 0.0679082\ttotal: 4.31s\tremaining: 249ms\n",
      "1891:\tlearn: 0.0678596\ttotal: 4.32s\tremaining: 246ms\n",
      "1892:\tlearn: 0.0678499\ttotal: 4.32s\tremaining: 244ms\n",
      "1893:\tlearn: 0.0678125\ttotal: 4.32s\tremaining: 242ms\n",
      "1894:\tlearn: 0.0677818\ttotal: 4.32s\tremaining: 239ms\n",
      "1895:\tlearn: 0.0677306\ttotal: 4.32s\tremaining: 237ms\n",
      "1896:\tlearn: 0.0676773\ttotal: 4.32s\tremaining: 235ms\n",
      "1897:\tlearn: 0.0676338\ttotal: 4.33s\tremaining: 232ms\n",
      "1898:\tlearn: 0.0675876\ttotal: 4.33s\tremaining: 230ms\n",
      "1899:\tlearn: 0.0675650\ttotal: 4.33s\tremaining: 228ms\n",
      "1900:\tlearn: 0.0675023\ttotal: 4.33s\tremaining: 226ms\n",
      "1901:\tlearn: 0.0674393\ttotal: 4.33s\tremaining: 223ms\n",
      "1902:\tlearn: 0.0674071\ttotal: 4.33s\tremaining: 221ms\n",
      "1903:\tlearn: 0.0673412\ttotal: 4.33s\tremaining: 219ms\n",
      "1904:\tlearn: 0.0672715\ttotal: 4.34s\tremaining: 216ms\n",
      "1905:\tlearn: 0.0672277\ttotal: 4.34s\tremaining: 214ms\n",
      "1906:\tlearn: 0.0671752\ttotal: 4.34s\tremaining: 212ms\n",
      "1907:\tlearn: 0.0671374\ttotal: 4.34s\tremaining: 209ms\n",
      "1908:\tlearn: 0.0670924\ttotal: 4.34s\tremaining: 207ms\n",
      "1909:\tlearn: 0.0670587\ttotal: 4.35s\tremaining: 205ms\n",
      "1910:\tlearn: 0.0670155\ttotal: 4.35s\tremaining: 202ms\n",
      "1911:\tlearn: 0.0669709\ttotal: 4.35s\tremaining: 200ms\n",
      "1912:\tlearn: 0.0669223\ttotal: 4.35s\tremaining: 198ms\n",
      "1913:\tlearn: 0.0668657\ttotal: 4.35s\tremaining: 196ms\n",
      "1914:\tlearn: 0.0668108\ttotal: 4.35s\tremaining: 193ms\n",
      "1915:\tlearn: 0.0667588\ttotal: 4.36s\tremaining: 191ms\n",
      "1916:\tlearn: 0.0666949\ttotal: 4.36s\tremaining: 189ms\n",
      "1917:\tlearn: 0.0666413\ttotal: 4.36s\tremaining: 186ms\n",
      "1918:\tlearn: 0.0665987\ttotal: 4.36s\tremaining: 184ms\n",
      "1919:\tlearn: 0.0665677\ttotal: 4.36s\tremaining: 182ms\n",
      "1920:\tlearn: 0.0665394\ttotal: 4.36s\tremaining: 179ms\n",
      "1921:\tlearn: 0.0664753\ttotal: 4.37s\tremaining: 177ms\n",
      "1922:\tlearn: 0.0664376\ttotal: 4.37s\tremaining: 175ms\n",
      "1923:\tlearn: 0.0663949\ttotal: 4.37s\tremaining: 173ms\n",
      "1924:\tlearn: 0.0663690\ttotal: 4.37s\tremaining: 170ms\n",
      "1925:\tlearn: 0.0663428\ttotal: 4.37s\tremaining: 168ms\n",
      "1926:\tlearn: 0.0662969\ttotal: 4.37s\tremaining: 166ms\n",
      "1927:\tlearn: 0.0662218\ttotal: 4.38s\tremaining: 163ms\n",
      "1928:\tlearn: 0.0661995\ttotal: 4.38s\tremaining: 161ms\n",
      "1929:\tlearn: 0.0661436\ttotal: 4.38s\tremaining: 159ms\n",
      "1930:\tlearn: 0.0661012\ttotal: 4.38s\tremaining: 157ms\n",
      "1931:\tlearn: 0.0660385\ttotal: 4.38s\tremaining: 154ms\n",
      "1932:\tlearn: 0.0659884\ttotal: 4.38s\tremaining: 152ms\n",
      "1933:\tlearn: 0.0659638\ttotal: 4.38s\tremaining: 150ms\n",
      "1934:\tlearn: 0.0659387\ttotal: 4.39s\tremaining: 147ms\n",
      "1935:\tlearn: 0.0659001\ttotal: 4.39s\tremaining: 145ms\n",
      "1936:\tlearn: 0.0658381\ttotal: 4.39s\tremaining: 143ms\n",
      "1937:\tlearn: 0.0657936\ttotal: 4.39s\tremaining: 141ms\n",
      "1938:\tlearn: 0.0657653\ttotal: 4.39s\tremaining: 138ms\n",
      "1939:\tlearn: 0.0657189\ttotal: 4.39s\tremaining: 136ms\n",
      "1940:\tlearn: 0.0656617\ttotal: 4.4s\tremaining: 134ms\n",
      "1941:\tlearn: 0.0656131\ttotal: 4.4s\tremaining: 131ms\n",
      "1942:\tlearn: 0.0655678\ttotal: 4.4s\tremaining: 129ms\n",
      "1943:\tlearn: 0.0655274\ttotal: 4.4s\tremaining: 127ms\n",
      "1944:\tlearn: 0.0654937\ttotal: 4.41s\tremaining: 125ms\n",
      "1945:\tlearn: 0.0654592\ttotal: 4.41s\tremaining: 122ms\n",
      "1946:\tlearn: 0.0654124\ttotal: 4.41s\tremaining: 120ms\n",
      "1947:\tlearn: 0.0653779\ttotal: 4.41s\tremaining: 118ms\n",
      "1948:\tlearn: 0.0653384\ttotal: 4.41s\tremaining: 115ms\n",
      "1949:\tlearn: 0.0652972\ttotal: 4.41s\tremaining: 113ms\n",
      "1950:\tlearn: 0.0652572\ttotal: 4.42s\tremaining: 111ms\n",
      "1951:\tlearn: 0.0652199\ttotal: 4.42s\tremaining: 109ms\n",
      "1952:\tlearn: 0.0651488\ttotal: 4.42s\tremaining: 106ms\n",
      "1953:\tlearn: 0.0651199\ttotal: 4.42s\tremaining: 104ms\n",
      "1954:\tlearn: 0.0650934\ttotal: 4.42s\tremaining: 102ms\n",
      "1955:\tlearn: 0.0650358\ttotal: 4.42s\tremaining: 99.5ms\n",
      "1956:\tlearn: 0.0649714\ttotal: 4.42s\tremaining: 97.2ms\n",
      "1957:\tlearn: 0.0649503\ttotal: 4.43s\tremaining: 95ms\n",
      "1958:\tlearn: 0.0649099\ttotal: 4.43s\tremaining: 92.7ms\n",
      "1959:\tlearn: 0.0648751\ttotal: 4.43s\tremaining: 90.4ms\n",
      "1960:\tlearn: 0.0648277\ttotal: 4.43s\tremaining: 88.2ms\n",
      "1961:\tlearn: 0.0647595\ttotal: 4.43s\tremaining: 85.9ms\n",
      "1962:\tlearn: 0.0647170\ttotal: 4.43s\tremaining: 83.6ms\n",
      "1963:\tlearn: 0.0646798\ttotal: 4.44s\tremaining: 81.3ms\n",
      "1964:\tlearn: 0.0646292\ttotal: 4.44s\tremaining: 79.1ms\n",
      "1965:\tlearn: 0.0645899\ttotal: 4.44s\tremaining: 76.8ms\n",
      "1966:\tlearn: 0.0645411\ttotal: 4.44s\tremaining: 74.5ms\n",
      "1967:\tlearn: 0.0644862\ttotal: 4.44s\tremaining: 72.3ms\n",
      "1968:\tlearn: 0.0644455\ttotal: 4.45s\tremaining: 70ms\n",
      "1969:\tlearn: 0.0644272\ttotal: 4.45s\tremaining: 67.7ms\n",
      "1970:\tlearn: 0.0643979\ttotal: 4.45s\tremaining: 65.5ms\n",
      "1971:\tlearn: 0.0643540\ttotal: 4.45s\tremaining: 63.2ms\n",
      "1972:\tlearn: 0.0643197\ttotal: 4.45s\tremaining: 60.9ms\n",
      "1973:\tlearn: 0.0642496\ttotal: 4.45s\tremaining: 58.7ms\n",
      "1974:\tlearn: 0.0642188\ttotal: 4.46s\tremaining: 56.4ms\n",
      "1975:\tlearn: 0.0641339\ttotal: 4.46s\tremaining: 54.1ms\n",
      "1976:\tlearn: 0.0640811\ttotal: 4.46s\tremaining: 51.9ms\n",
      "1977:\tlearn: 0.0640449\ttotal: 4.46s\tremaining: 49.6ms\n",
      "1978:\tlearn: 0.0639694\ttotal: 4.46s\tremaining: 47.4ms\n",
      "1979:\tlearn: 0.0639283\ttotal: 4.46s\tremaining: 45.1ms\n",
      "1980:\tlearn: 0.0638801\ttotal: 4.46s\tremaining: 42.8ms\n",
      "1981:\tlearn: 0.0638211\ttotal: 4.47s\tremaining: 40.6ms\n",
      "1982:\tlearn: 0.0638011\ttotal: 4.47s\tremaining: 38.3ms\n",
      "1983:\tlearn: 0.0637868\ttotal: 4.47s\tremaining: 36.1ms\n",
      "1984:\tlearn: 0.0637451\ttotal: 4.47s\tremaining: 33.8ms\n",
      "1985:\tlearn: 0.0637042\ttotal: 4.47s\tremaining: 31.5ms\n",
      "1986:\tlearn: 0.0636606\ttotal: 4.47s\tremaining: 29.3ms\n",
      "1987:\tlearn: 0.0636259\ttotal: 4.48s\tremaining: 27ms\n",
      "1988:\tlearn: 0.0635828\ttotal: 4.48s\tremaining: 24.8ms\n",
      "1989:\tlearn: 0.0635340\ttotal: 4.48s\tremaining: 22.5ms\n",
      "1990:\tlearn: 0.0634740\ttotal: 4.48s\tremaining: 20.3ms\n",
      "1991:\tlearn: 0.0634408\ttotal: 4.48s\tremaining: 18ms\n",
      "1992:\tlearn: 0.0634188\ttotal: 4.49s\tremaining: 15.8ms\n",
      "1993:\tlearn: 0.0633883\ttotal: 4.49s\tremaining: 13.5ms\n",
      "1994:\tlearn: 0.0633339\ttotal: 4.49s\tremaining: 11.3ms\n",
      "1995:\tlearn: 0.0632592\ttotal: 4.49s\tremaining: 9ms\n",
      "1996:\tlearn: 0.0632122\ttotal: 4.49s\tremaining: 6.75ms\n",
      "1997:\tlearn: 0.0631828\ttotal: 4.49s\tremaining: 4.5ms\n",
      "1998:\tlearn: 0.0631342\ttotal: 4.5s\tremaining: 2.25ms\n",
      "1999:\tlearn: 0.0630675\ttotal: 4.5s\tremaining: 0us\n",
      "Wall time: 5.4 s\n"
     ]
    },
    {
     "data": {
      "text/plain": [
       "<catboost.core.CatBoostRegressor at 0x232cc9afcd0>"
      ]
     },
     "execution_count": 73,
     "metadata": {},
     "output_type": "execute_result"
    }
   ],
   "source": [
    "model = CatBoostRegressor(cat_features=binary_feature, n_estimators=2000)\n",
    "%time model.fit(X_train, y_train)"
   ]
  },
  {
   "cell_type": "code",
   "execution_count": 74,
   "metadata": {
    "scrolled": true
   },
   "outputs": [
    {
     "data": {
      "text/plain": [
       "0.9410399680690266"
      ]
     },
     "execution_count": 74,
     "metadata": {},
     "output_type": "execute_result"
    }
   ],
   "source": [
    "models[\"catboost\"] = model\n",
    "model.score(X_val, y_val)"
   ]
  },
  {
   "cell_type": "code",
   "execution_count": 75,
   "metadata": {},
   "outputs": [
    {
     "data": {
      "text/plain": [
       "0.9265367316341829"
      ]
     },
     "execution_count": 75,
     "metadata": {},
     "output_type": "execute_result"
    }
   ],
   "source": [
    "accuracy(y_val, np.round(models[\"catboost\"].predict(X_val)))"
   ]
  },
  {
   "cell_type": "markdown",
   "metadata": {},
   "source": [
    "## Reti Neurali"
   ]
  },
  {
   "cell_type": "markdown",
   "metadata": {},
   "source": [
    "In questo breve paragrafo vediamo qualche esempio di rete neurale per trovare un modello al nostro problema.  \n",
    "Non ci dilungheremo troppo dato che abbiamo già visto molti modelli, di classificazione e di regressione, alcuni già con ottimi risultati, ma nel caso fosse stato necessario si sarebbero potute aggiungere standardizzazione, regolarizzazione e diverse grid search con variazione degli iperparametri anche a questi modelli."
   ]
  },
  {
   "cell_type": "code",
   "execution_count": 76,
   "metadata": {
    "scrolled": true
   },
   "outputs": [],
   "source": [
    "# se si utilizza Anaconda:\n",
    "#%conda install tensorflow\n",
    "# altrimenti\n",
    "#%pip install tensorflow"
   ]
  },
  {
   "cell_type": "code",
   "execution_count": 77,
   "metadata": {},
   "outputs": [],
   "source": [
    "import tensorflow\n",
    "from sklearn.neural_network import MLPClassifier\n",
    "from tensorflow.keras.models import Sequential\n",
    "from tensorflow.keras.layers import Dense\n",
    "from tensorflow.keras.utils import to_categorical"
   ]
  },
  {
   "cell_type": "markdown",
   "metadata": {},
   "source": [
    "### Multi-Layered Perceptron\n",
    "\n",
    "Qui per esempio vediamo utilizzato un **multi-layered Perceptron**, che come suggerisce il nome si basa sul primo algoritmo che abbiamo utilizzato, ma può implementari vari strati. Nel nostro caso ho eseguito qualche prova e ho scelto come iperparametri:\n",
    "- un solo layer con 32 variabili\n",
    "- la funzione di attivazione \"relu\"\n",
    "- un numero massimo di iterazioni pari a 1000 (con meno non convergeva)\n",
    "- e un batch size pari a 200"
   ]
  },
  {
   "cell_type": "code",
   "execution_count": 78,
   "metadata": {},
   "outputs": [
    {
     "name": "stdout",
     "output_type": "stream",
     "text": [
      "0.9280359820089955\n",
      "Wall time: 2.81 s\n"
     ]
    }
   ],
   "source": [
    "%%time\n",
    "model = Pipeline([\n",
    "    (\"scaler\", StandardScaler()),\n",
    "    (\"mlp\", MLPClassifier(hidden_layer_sizes=(32,), activation=\"relu\", max_iter=1000, batch_size=200, random_state=42))\n",
    "])\n",
    "model.fit(X_train, y_train)\n",
    "print(accuracy(y_val, model.predict(X_val)))\n",
    "models[\"mlp\"] = model"
   ]
  },
  {
   "cell_type": "markdown",
   "metadata": {},
   "source": [
    "### Rete neurale\n",
    "\n",
    "In questa seconda parte vediamo invece una rete creata con TensorFlow. Per utilizzare la variabile target categorica dobbiamo trasformarla in rappresentazione **One-Hot**."
   ]
  },
  {
   "cell_type": "code",
   "execution_count": 79,
   "metadata": {
    "scrolled": true
   },
   "outputs": [
    {
     "data": {
      "text/plain": [
       "array([[0., 0., 1., 0.],\n",
       "       [0., 1., 0., 0.],\n",
       "       [0., 0., 0., 1.],\n",
       "       [0., 0., 1., 0.],\n",
       "       [1., 0., 0., 0.]], dtype=float32)"
      ]
     },
     "execution_count": 79,
     "metadata": {},
     "output_type": "execute_result"
    }
   ],
   "source": [
    "y_val_c , y_train_c = to_categorical(y_val), to_categorical(y_train)\n",
    "y_train_c[:5, :]"
   ]
  },
  {
   "cell_type": "code",
   "execution_count": 80,
   "metadata": {},
   "outputs": [],
   "source": [
    "poly = PolynomialFeatures(degree=3)\n",
    "X_train_p, X_val_p = poly.fit_transform(X_train), poly.fit_transform(X_val)"
   ]
  },
  {
   "cell_type": "markdown",
   "metadata": {},
   "source": [
    "In questo caso la rete neurali è abbastanza efficiente da permetterci di trasformare l'input in forma polinomiale e allenare il modello in tempo ragionevole, per cui ne approfittiamo applicando una trasformazione di grado 3."
   ]
  },
  {
   "cell_type": "code",
   "execution_count": 81,
   "metadata": {
    "scrolled": true
   },
   "outputs": [
    {
     "name": "stdout",
     "output_type": "stream",
     "text": [
      "Model: \"sequential\"\n",
      "_________________________________________________________________\n",
      " Layer (type)                Output Shape              Param #   \n",
      "=================================================================\n",
      " dense (Dense)               (None, 128)               226816    \n",
      "                                                                 \n",
      " dense_1 (Dense)             (None, 64)                8256      \n",
      "                                                                 \n",
      " dense_2 (Dense)             (None, 4)                 260       \n",
      "                                                                 \n",
      "=================================================================\n",
      "Total params: 235,332\n",
      "Trainable params: 235,332\n",
      "Non-trainable params: 0\n",
      "_________________________________________________________________\n"
     ]
    }
   ],
   "source": [
    "model = Sequential([\n",
    "    Dense(128, activation=\"relu\", input_dim=X_train_p.shape[1]),\n",
    "    Dense(64, activation=\"relu\"),\n",
    "    Dense(4, activation=\"softmax\")\n",
    "])\n",
    "model.compile(\n",
    "    optimizer=\"adam\",\n",
    "    loss=\"categorical_crossentropy\",\n",
    "    metrics=[\"accuracy\"]\n",
    ")\n",
    "model.summary()"
   ]
  },
  {
   "cell_type": "markdown",
   "metadata": {},
   "source": [
    "Creiamo questa semplice rete neurale con 3 layer:\n",
    "- un layer Dense a 128 variabili\n",
    "- un layer Dense a 64 variabili\n",
    "- un layer Dense a 4 variabili che distingue i risultati nelle 4 classi\n",
    "\n",
    "Per l'algoritmo scegliamo come funzione di loss la \"categorical crossentropy\", ma visualizziamo anche una metrica a noi più chiara: l'**accuratezza**."
   ]
  },
  {
   "cell_type": "code",
   "execution_count": 82,
   "metadata": {
    "scrolled": true
   },
   "outputs": [
    {
     "name": "stdout",
     "output_type": "stream",
     "text": [
      "Epoch 1/300\n",
      "7/7 [==============================] - 1s 11ms/step - loss: 91286344.0000 - accuracy: 0.4074\n",
      "Epoch 2/300\n",
      "7/7 [==============================] - 0s 6ms/step - loss: 40615884.0000 - accuracy: 0.5124\n",
      "Epoch 3/300\n",
      "7/7 [==============================] - 0s 5ms/step - loss: 28552804.0000 - accuracy: 0.5049\n",
      "Epoch 4/300\n",
      "7/7 [==============================] - 0s 6ms/step - loss: 22320462.0000 - accuracy: 0.5274\n",
      "Epoch 5/300\n",
      "7/7 [==============================] - 0s 6ms/step - loss: 14266496.0000 - accuracy: 0.5911\n",
      "Epoch 6/300\n",
      "7/7 [==============================] - 0s 5ms/step - loss: 10128441.0000 - accuracy: 0.5911\n",
      "Epoch 7/300\n",
      "7/7 [==============================] - 0s 5ms/step - loss: 8274620.0000 - accuracy: 0.6092\n",
      "Epoch 8/300\n",
      "7/7 [==============================] - 0s 5ms/step - loss: 5794939.5000 - accuracy: 0.6482\n",
      "Epoch 9/300\n",
      "7/7 [==============================] - 0s 5ms/step - loss: 7145592.5000 - accuracy: 0.6084\n",
      "Epoch 10/300\n",
      "7/7 [==============================] - 0s 9ms/step - loss: 6076635.0000 - accuracy: 0.6362\n",
      "Epoch 11/300\n",
      "7/7 [==============================] - 0s 6ms/step - loss: 5196035.5000 - accuracy: 0.6617\n",
      "Epoch 12/300\n",
      "7/7 [==============================] - 0s 6ms/step - loss: 5347925.5000 - accuracy: 0.6504\n",
      "Epoch 13/300\n",
      "7/7 [==============================] - 0s 5ms/step - loss: 4842006.5000 - accuracy: 0.6939\n",
      "Epoch 14/300\n",
      "7/7 [==============================] - 0s 6ms/step - loss: 4348932.5000 - accuracy: 0.6834\n",
      "Epoch 15/300\n",
      "7/7 [==============================] - 0s 5ms/step - loss: 4524329.5000 - accuracy: 0.6729\n",
      "Epoch 16/300\n",
      "7/7 [==============================] - 0s 5ms/step - loss: 4438886.5000 - accuracy: 0.6789\n",
      "Epoch 17/300\n",
      "7/7 [==============================] - 0s 5ms/step - loss: 5527794.5000 - accuracy: 0.6609\n",
      "Epoch 18/300\n",
      "7/7 [==============================] - 0s 6ms/step - loss: 6865977.0000 - accuracy: 0.6549\n",
      "Epoch 19/300\n",
      "7/7 [==============================] - 0s 5ms/step - loss: 6110473.0000 - accuracy: 0.6617\n",
      "Epoch 20/300\n",
      "7/7 [==============================] - 0s 9ms/step - loss: 4776483.5000 - accuracy: 0.6789\n",
      "Epoch 21/300\n",
      "7/7 [==============================] - 0s 6ms/step - loss: 3639225.2500 - accuracy: 0.7127\n",
      "Epoch 22/300\n",
      "7/7 [==============================] - 0s 5ms/step - loss: 4793365.0000 - accuracy: 0.6759\n",
      "Epoch 23/300\n",
      "7/7 [==============================] - 0s 5ms/step - loss: 9288976.0000 - accuracy: 0.6557\n",
      "Epoch 24/300\n",
      "7/7 [==============================] - 0s 5ms/step - loss: 5390239.0000 - accuracy: 0.6774\n",
      "Epoch 25/300\n",
      "7/7 [==============================] - 0s 5ms/step - loss: 5599554.0000 - accuracy: 0.6699\n",
      "Epoch 26/300\n",
      "7/7 [==============================] - 0s 5ms/step - loss: 4758780.5000 - accuracy: 0.6834\n",
      "Epoch 27/300\n",
      "7/7 [==============================] - 0s 5ms/step - loss: 4878737.5000 - accuracy: 0.6857\n",
      "Epoch 28/300\n",
      "7/7 [==============================] - 0s 5ms/step - loss: 3516459.0000 - accuracy: 0.7194\n",
      "Epoch 29/300\n",
      "7/7 [==============================] - 0s 7ms/step - loss: 3969069.7500 - accuracy: 0.6857\n",
      "Epoch 30/300\n",
      "7/7 [==============================] - 0s 8ms/step - loss: 4702039.5000 - accuracy: 0.6872\n",
      "Epoch 31/300\n",
      "7/7 [==============================] - 0s 6ms/step - loss: 5405989.5000 - accuracy: 0.6752\n",
      "Epoch 32/300\n",
      "7/7 [==============================] - 0s 5ms/step - loss: 3922918.2500 - accuracy: 0.7172\n",
      "Epoch 33/300\n",
      "7/7 [==============================] - 0s 5ms/step - loss: 6416596.0000 - accuracy: 0.6564\n",
      "Epoch 34/300\n",
      "7/7 [==============================] - 0s 5ms/step - loss: 3639789.5000 - accuracy: 0.7284\n",
      "Epoch 35/300\n",
      "7/7 [==============================] - 0s 5ms/step - loss: 3677994.0000 - accuracy: 0.7254\n",
      "Epoch 36/300\n",
      "7/7 [==============================] - 0s 5ms/step - loss: 4080986.0000 - accuracy: 0.7044\n",
      "Epoch 37/300\n",
      "7/7 [==============================] - 0s 5ms/step - loss: 3712112.2500 - accuracy: 0.6887\n",
      "Epoch 38/300\n",
      "7/7 [==============================] - 0s 5ms/step - loss: 4140036.5000 - accuracy: 0.7074\n",
      "Epoch 39/300\n",
      "7/7 [==============================] - 0s 5ms/step - loss: 4663952.0000 - accuracy: 0.7052\n",
      "Epoch 40/300\n",
      "7/7 [==============================] - 0s 7ms/step - loss: 3719005.5000 - accuracy: 0.7082\n",
      "Epoch 41/300\n",
      "7/7 [==============================] - 0s 7ms/step - loss: 3134716.0000 - accuracy: 0.7314\n",
      "Epoch 42/300\n",
      "7/7 [==============================] - 0s 5ms/step - loss: 3191620.5000 - accuracy: 0.7164\n",
      "Epoch 43/300\n",
      "7/7 [==============================] - 0s 5ms/step - loss: 3085696.0000 - accuracy: 0.7202\n",
      "Epoch 44/300\n",
      "7/7 [==============================] - 0s 5ms/step - loss: 3805976.5000 - accuracy: 0.7157\n",
      "Epoch 45/300\n",
      "7/7 [==============================] - 0s 5ms/step - loss: 3486267.2500 - accuracy: 0.7232\n",
      "Epoch 46/300\n",
      "7/7 [==============================] - 0s 5ms/step - loss: 7784203.5000 - accuracy: 0.6579\n",
      "Epoch 47/300\n",
      "7/7 [==============================] - 0s 5ms/step - loss: 6206530.0000 - accuracy: 0.6969\n",
      "Epoch 48/300\n",
      "7/7 [==============================] - 0s 5ms/step - loss: 4294768.0000 - accuracy: 0.6999\n",
      "Epoch 49/300\n",
      "7/7 [==============================] - 0s 5ms/step - loss: 4288272.0000 - accuracy: 0.6999\n",
      "Epoch 50/300\n",
      "7/7 [==============================] - 0s 5ms/step - loss: 4821206.5000 - accuracy: 0.7007\n",
      "Epoch 51/300\n",
      "7/7 [==============================] - 0s 5ms/step - loss: 2926728.2500 - accuracy: 0.7472\n",
      "Epoch 52/300\n",
      "7/7 [==============================] - 0s 5ms/step - loss: 3379323.7500 - accuracy: 0.7412\n",
      "Epoch 53/300\n",
      "7/7 [==============================] - 0s 5ms/step - loss: 5113623.0000 - accuracy: 0.6962\n",
      "Epoch 54/300\n",
      "7/7 [==============================] - 0s 5ms/step - loss: 5140719.5000 - accuracy: 0.6962\n",
      "Epoch 55/300\n",
      "7/7 [==============================] - 0s 5ms/step - loss: 3249586.0000 - accuracy: 0.7584\n",
      "Epoch 56/300\n",
      "7/7 [==============================] - 0s 5ms/step - loss: 3231796.5000 - accuracy: 0.7254\n",
      "Epoch 57/300\n",
      "7/7 [==============================] - 0s 5ms/step - loss: 2861013.5000 - accuracy: 0.7419\n",
      "Epoch 58/300\n",
      "7/7 [==============================] - 0s 5ms/step - loss: 3335653.0000 - accuracy: 0.7187\n",
      "Epoch 59/300\n",
      "7/7 [==============================] - 0s 5ms/step - loss: 3144137.0000 - accuracy: 0.7404\n",
      "Epoch 60/300\n",
      "7/7 [==============================] - 0s 5ms/step - loss: 2724347.5000 - accuracy: 0.7389\n",
      "Epoch 61/300\n",
      "7/7 [==============================] - 0s 7ms/step - loss: 3281879.2500 - accuracy: 0.7097\n",
      "Epoch 62/300\n",
      "7/7 [==============================] - 0s 6ms/step - loss: 2860590.7500 - accuracy: 0.7389\n",
      "Epoch 63/300\n",
      "7/7 [==============================] - 0s 6ms/step - loss: 2238923.5000 - accuracy: 0.7577\n",
      "Epoch 64/300\n",
      "7/7 [==============================] - 0s 8ms/step - loss: 2014240.1250 - accuracy: 0.7764\n",
      "Epoch 65/300\n",
      "7/7 [==============================] - 0s 5ms/step - loss: 1794419.3750 - accuracy: 0.7854\n",
      "Epoch 66/300\n",
      "7/7 [==============================] - 0s 7ms/step - loss: 2209676.5000 - accuracy: 0.7577\n",
      "Epoch 67/300\n",
      "7/7 [==============================] - 0s 5ms/step - loss: 3809310.2500 - accuracy: 0.7022\n",
      "Epoch 68/300\n",
      "7/7 [==============================] - 0s 5ms/step - loss: 2891680.2500 - accuracy: 0.7479\n",
      "Epoch 69/300\n",
      "7/7 [==============================] - 0s 5ms/step - loss: 3176485.5000 - accuracy: 0.7382\n",
      "Epoch 70/300\n",
      "7/7 [==============================] - 0s 6ms/step - loss: 5207823.5000 - accuracy: 0.6954\n",
      "Epoch 71/300\n",
      "7/7 [==============================] - 0s 5ms/step - loss: 3366890.7500 - accuracy: 0.7112\n",
      "Epoch 72/300\n",
      "7/7 [==============================] - 0s 11ms/step - loss: 3061666.0000 - accuracy: 0.7442\n",
      "Epoch 73/300\n",
      "7/7 [==============================] - 0s 6ms/step - loss: 3291658.2500 - accuracy: 0.7269\n",
      "Epoch 74/300\n",
      "7/7 [==============================] - 0s 8ms/step - loss: 3120675.0000 - accuracy: 0.7434\n",
      "Epoch 75/300\n",
      "7/7 [==============================] - 0s 7ms/step - loss: 2809747.2500 - accuracy: 0.7517\n",
      "Epoch 76/300\n",
      "7/7 [==============================] - 0s 5ms/step - loss: 3792403.5000 - accuracy: 0.7269\n",
      "Epoch 77/300\n",
      "7/7 [==============================] - 0s 5ms/step - loss: 4414439.5000 - accuracy: 0.6962\n",
      "Epoch 78/300\n",
      "7/7 [==============================] - 0s 7ms/step - loss: 3154412.0000 - accuracy: 0.7374\n",
      "Epoch 79/300\n"
     ]
    },
    {
     "name": "stdout",
     "output_type": "stream",
     "text": [
      "7/7 [==============================] - 0s 5ms/step - loss: 2804973.7500 - accuracy: 0.7434\n",
      "Epoch 80/300\n",
      "7/7 [==============================] - 0s 5ms/step - loss: 3916002.2500 - accuracy: 0.7299\n",
      "Epoch 81/300\n",
      "7/7 [==============================] - 0s 6ms/step - loss: 4449380.0000 - accuracy: 0.7262\n",
      "Epoch 82/300\n",
      "7/7 [==============================] - 0s 7ms/step - loss: 4518941.5000 - accuracy: 0.7089\n",
      "Epoch 83/300\n",
      "7/7 [==============================] - 0s 6ms/step - loss: 4197525.0000 - accuracy: 0.7217\n",
      "Epoch 84/300\n",
      "7/7 [==============================] - 0s 5ms/step - loss: 4676675.0000 - accuracy: 0.7097\n",
      "Epoch 85/300\n",
      "7/7 [==============================] - 0s 6ms/step - loss: 4428946.5000 - accuracy: 0.7262\n",
      "Epoch 86/300\n",
      "7/7 [==============================] - 0s 5ms/step - loss: 3536135.0000 - accuracy: 0.7179\n",
      "Epoch 87/300\n",
      "7/7 [==============================] - 0s 5ms/step - loss: 2914207.7500 - accuracy: 0.7397\n",
      "Epoch 88/300\n",
      "7/7 [==============================] - 0s 5ms/step - loss: 2449251.0000 - accuracy: 0.7539\n",
      "Epoch 89/300\n",
      "7/7 [==============================] - 0s 5ms/step - loss: 3617666.5000 - accuracy: 0.7157\n",
      "Epoch 90/300\n",
      "7/7 [==============================] - 0s 5ms/step - loss: 2990745.2500 - accuracy: 0.7434\n",
      "Epoch 91/300\n",
      "7/7 [==============================] - 0s 5ms/step - loss: 2572493.7500 - accuracy: 0.7652\n",
      "Epoch 92/300\n",
      "7/7 [==============================] - 0s 5ms/step - loss: 2213782.0000 - accuracy: 0.7704\n",
      "Epoch 93/300\n",
      "7/7 [==============================] - 0s 6ms/step - loss: 3535218.7500 - accuracy: 0.7382\n",
      "Epoch 94/300\n",
      "7/7 [==============================] - 0s 6ms/step - loss: 4321931.0000 - accuracy: 0.7337\n",
      "Epoch 95/300\n",
      "7/7 [==============================] - 0s 5ms/step - loss: 3955745.0000 - accuracy: 0.7172\n",
      "Epoch 96/300\n",
      "7/7 [==============================] - 0s 5ms/step - loss: 2961711.5000 - accuracy: 0.7479\n",
      "Epoch 97/300\n",
      "7/7 [==============================] - 0s 7ms/step - loss: 4299673.5000 - accuracy: 0.7284\n",
      "Epoch 98/300\n",
      "7/7 [==============================] - 0s 5ms/step - loss: 4897771.0000 - accuracy: 0.6977\n",
      "Epoch 99/300\n",
      "7/7 [==============================] - 0s 5ms/step - loss: 4474857.5000 - accuracy: 0.7014\n",
      "Epoch 100/300\n",
      "7/7 [==============================] - 0s 5ms/step - loss: 5929250.0000 - accuracy: 0.6924\n",
      "Epoch 101/300\n",
      "7/7 [==============================] - 0s 5ms/step - loss: 4496317.0000 - accuracy: 0.7134\n",
      "Epoch 102/300\n",
      "7/7 [==============================] - 0s 5ms/step - loss: 4526085.5000 - accuracy: 0.7044\n",
      "Epoch 103/300\n",
      "7/7 [==============================] - 0s 9ms/step - loss: 3981088.5000 - accuracy: 0.7187\n",
      "Epoch 104/300\n",
      "7/7 [==============================] - 0s 6ms/step - loss: 2318267.7500 - accuracy: 0.7952\n",
      "Epoch 105/300\n",
      "7/7 [==============================] - 0s 5ms/step - loss: 2394319.5000 - accuracy: 0.7817\n",
      "Epoch 106/300\n",
      "7/7 [==============================] - 0s 5ms/step - loss: 1789432.3750 - accuracy: 0.7907\n",
      "Epoch 107/300\n",
      "7/7 [==============================] - 0s 7ms/step - loss: 1990917.3750 - accuracy: 0.7854\n",
      "Epoch 108/300\n",
      "7/7 [==============================] - 0s 9ms/step - loss: 3027789.7500 - accuracy: 0.7494\n",
      "Epoch 109/300\n",
      "7/7 [==============================] - 0s 6ms/step - loss: 2361344.5000 - accuracy: 0.7742\n",
      "Epoch 110/300\n",
      "7/7 [==============================] - 0s 6ms/step - loss: 1630516.3750 - accuracy: 0.7944\n",
      "Epoch 111/300\n",
      "7/7 [==============================] - 0s 5ms/step - loss: 1744573.5000 - accuracy: 0.7922\n",
      "Epoch 112/300\n",
      "7/7 [==============================] - 0s 5ms/step - loss: 1525657.8750 - accuracy: 0.8072\n",
      "Epoch 113/300\n",
      "7/7 [==============================] - 0s 5ms/step - loss: 2441769.5000 - accuracy: 0.7502\n",
      "Epoch 114/300\n",
      "7/7 [==============================] - 0s 6ms/step - loss: 1707033.8750 - accuracy: 0.7907\n",
      "Epoch 115/300\n",
      "7/7 [==============================] - 0s 5ms/step - loss: 1619671.5000 - accuracy: 0.8087\n",
      "Epoch 116/300\n",
      "7/7 [==============================] - 0s 6ms/step - loss: 2238549.0000 - accuracy: 0.7674\n",
      "Epoch 117/300\n",
      "7/7 [==============================] - 0s 5ms/step - loss: 1946698.1250 - accuracy: 0.7854\n",
      "Epoch 118/300\n",
      "7/7 [==============================] - 0s 6ms/step - loss: 2098775.2500 - accuracy: 0.7892\n",
      "Epoch 119/300\n",
      "7/7 [==============================] - 0s 6ms/step - loss: 3093728.5000 - accuracy: 0.7622\n",
      "Epoch 120/300\n",
      "7/7 [==============================] - 0s 6ms/step - loss: 2514021.2500 - accuracy: 0.7764\n",
      "Epoch 121/300\n",
      "7/7 [==============================] - 0s 6ms/step - loss: 1783064.7500 - accuracy: 0.7922\n",
      "Epoch 122/300\n",
      "7/7 [==============================] - 0s 7ms/step - loss: 1642271.2500 - accuracy: 0.7959\n",
      "Epoch 123/300\n",
      "7/7 [==============================] - 0s 5ms/step - loss: 2072008.1250 - accuracy: 0.7982\n",
      "Epoch 124/300\n",
      "7/7 [==============================] - 0s 6ms/step - loss: 1710511.0000 - accuracy: 0.8027\n",
      "Epoch 125/300\n",
      "7/7 [==============================] - 0s 7ms/step - loss: 1188404.2500 - accuracy: 0.8252\n",
      "Epoch 126/300\n",
      "7/7 [==============================] - 0s 6ms/step - loss: 1574794.2500 - accuracy: 0.8042\n",
      "Epoch 127/300\n",
      "7/7 [==============================] - 0s 6ms/step - loss: 1592780.8750 - accuracy: 0.7892\n",
      "Epoch 128/300\n",
      "7/7 [==============================] - 0s 6ms/step - loss: 2980020.2500 - accuracy: 0.7659\n",
      "Epoch 129/300\n",
      "7/7 [==============================] - 0s 8ms/step - loss: 3660868.7500 - accuracy: 0.7817\n",
      "Epoch 130/300\n",
      "7/7 [==============================] - 0s 5ms/step - loss: 1767784.1250 - accuracy: 0.8005\n",
      "Epoch 131/300\n",
      "7/7 [==============================] - 0s 5ms/step - loss: 2320592.2500 - accuracy: 0.7832\n",
      "Epoch 132/300\n",
      "7/7 [==============================] - 0s 5ms/step - loss: 4415673.0000 - accuracy: 0.7367\n",
      "Epoch 133/300\n",
      "7/7 [==============================] - 0s 6ms/step - loss: 3826379.2500 - accuracy: 0.7269\n",
      "Epoch 134/300\n",
      "7/7 [==============================] - 0s 7ms/step - loss: 3521040.5000 - accuracy: 0.7442\n",
      "Epoch 135/300\n",
      "7/7 [==============================] - 0s 5ms/step - loss: 2527895.5000 - accuracy: 0.7599\n",
      "Epoch 136/300\n",
      "7/7 [==============================] - 0s 5ms/step - loss: 2074793.2500 - accuracy: 0.7742\n",
      "Epoch 137/300\n",
      "7/7 [==============================] - 0s 5ms/step - loss: 1537638.1250 - accuracy: 0.8162\n",
      "Epoch 138/300\n",
      "7/7 [==============================] - 0s 5ms/step - loss: 1919448.8750 - accuracy: 0.7914\n",
      "Epoch 139/300\n",
      "7/7 [==============================] - 0s 5ms/step - loss: 2602002.2500 - accuracy: 0.7569\n",
      "Epoch 140/300\n",
      "7/7 [==============================] - 0s 5ms/step - loss: 3907272.0000 - accuracy: 0.7209\n",
      "Epoch 141/300\n",
      "7/7 [==============================] - 0s 4ms/step - loss: 2618361.7500 - accuracy: 0.7704\n",
      "Epoch 142/300\n",
      "7/7 [==============================] - 0s 5ms/step - loss: 2889201.5000 - accuracy: 0.7667\n",
      "Epoch 143/300\n",
      "7/7 [==============================] - 0s 5ms/step - loss: 2960975.5000 - accuracy: 0.7382\n",
      "Epoch 144/300\n",
      "7/7 [==============================] - 0s 5ms/step - loss: 3446370.7500 - accuracy: 0.7539\n",
      "Epoch 145/300\n",
      "7/7 [==============================] - 0s 5ms/step - loss: 2688649.7500 - accuracy: 0.7562\n",
      "Epoch 146/300\n",
      "7/7 [==============================] - 0s 6ms/step - loss: 2943075.0000 - accuracy: 0.7269\n",
      "Epoch 147/300\n",
      "7/7 [==============================] - 0s 5ms/step - loss: 3667960.7500 - accuracy: 0.7359\n",
      "Epoch 148/300\n",
      "7/7 [==============================] - 0s 4ms/step - loss: 3318439.7500 - accuracy: 0.7157\n",
      "Epoch 149/300\n",
      "7/7 [==============================] - 0s 5ms/step - loss: 2519906.7500 - accuracy: 0.7704\n",
      "Epoch 150/300\n",
      "7/7 [==============================] - 0s 5ms/step - loss: 1566264.1250 - accuracy: 0.8027\n",
      "Epoch 151/300\n",
      "7/7 [==============================] - 0s 4ms/step - loss: 1558325.7500 - accuracy: 0.8132\n",
      "Epoch 152/300\n",
      "7/7 [==============================] - 0s 5ms/step - loss: 1249228.3750 - accuracy: 0.8305\n",
      "Epoch 153/300\n",
      "7/7 [==============================] - 0s 5ms/step - loss: 1145927.0000 - accuracy: 0.8402\n",
      "Epoch 154/300\n",
      "7/7 [==============================] - 0s 5ms/step - loss: 1229294.5000 - accuracy: 0.8282\n",
      "Epoch 155/300\n",
      "7/7 [==============================] - 0s 5ms/step - loss: 1349592.8750 - accuracy: 0.8057\n",
      "Epoch 156/300\n",
      "7/7 [==============================] - 0s 5ms/step - loss: 1497200.0000 - accuracy: 0.7847\n",
      "Epoch 157/300\n"
     ]
    },
    {
     "name": "stdout",
     "output_type": "stream",
     "text": [
      "7/7 [==============================] - 0s 6ms/step - loss: 1150028.1250 - accuracy: 0.8320\n",
      "Epoch 158/300\n",
      "7/7 [==============================] - 0s 8ms/step - loss: 1929806.0000 - accuracy: 0.7839\n",
      "Epoch 159/300\n",
      "7/7 [==============================] - 0s 7ms/step - loss: 2033565.8750 - accuracy: 0.7877\n",
      "Epoch 160/300\n",
      "7/7 [==============================] - 0s 7ms/step - loss: 1519229.0000 - accuracy: 0.8080\n",
      "Epoch 161/300\n",
      "7/7 [==============================] - 0s 6ms/step - loss: 1577741.6250 - accuracy: 0.8042\n",
      "Epoch 162/300\n",
      "7/7 [==============================] - 0s 5ms/step - loss: 1349815.2500 - accuracy: 0.7937\n",
      "Epoch 163/300\n",
      "7/7 [==============================] - 0s 6ms/step - loss: 1175025.1250 - accuracy: 0.8170\n",
      "Epoch 164/300\n",
      "7/7 [==============================] - 0s 5ms/step - loss: 1717046.5000 - accuracy: 0.7959\n",
      "Epoch 165/300\n",
      "7/7 [==============================] - 0s 7ms/step - loss: 1265898.6250 - accuracy: 0.8282\n",
      "Epoch 166/300\n",
      "7/7 [==============================] - 0s 5ms/step - loss: 1123552.2500 - accuracy: 0.8185\n",
      "Epoch 167/300\n",
      "7/7 [==============================] - 0s 8ms/step - loss: 1761702.8750 - accuracy: 0.7914\n",
      "Epoch 168/300\n",
      "7/7 [==============================] - 0s 5ms/step - loss: 1358964.8750 - accuracy: 0.8140\n",
      "Epoch 169/300\n",
      "7/7 [==============================] - 0s 7ms/step - loss: 1311058.7500 - accuracy: 0.8005\n",
      "Epoch 170/300\n",
      "7/7 [==============================] - 0s 6ms/step - loss: 2528330.2500 - accuracy: 0.7629\n",
      "Epoch 171/300\n",
      "7/7 [==============================] - 0s 6ms/step - loss: 3700115.7500 - accuracy: 0.7164\n",
      "Epoch 172/300\n",
      "7/7 [==============================] - 0s 6ms/step - loss: 3456468.5000 - accuracy: 0.7269\n",
      "Epoch 173/300\n",
      "7/7 [==============================] - 0s 5ms/step - loss: 2360138.2500 - accuracy: 0.7719\n",
      "Epoch 174/300\n",
      "7/7 [==============================] - 0s 7ms/step - loss: 1697201.5000 - accuracy: 0.8042\n",
      "Epoch 175/300\n",
      "7/7 [==============================] - 0s 10ms/step - loss: 1448038.2500 - accuracy: 0.8027\n",
      "Epoch 176/300\n",
      "7/7 [==============================] - 0s 5ms/step - loss: 1481426.2500 - accuracy: 0.7974\n",
      "Epoch 177/300\n",
      "7/7 [==============================] - 0s 6ms/step - loss: 2030955.1250 - accuracy: 0.7749\n",
      "Epoch 178/300\n",
      "7/7 [==============================] - 0s 7ms/step - loss: 1926759.7500 - accuracy: 0.7764\n",
      "Epoch 179/300\n",
      "7/7 [==============================] - 0s 5ms/step - loss: 1372227.0000 - accuracy: 0.8102\n",
      "Epoch 180/300\n",
      "7/7 [==============================] - 0s 7ms/step - loss: 1522089.0000 - accuracy: 0.8057\n",
      "Epoch 181/300\n",
      "7/7 [==============================] - 0s 7ms/step - loss: 2125478.2500 - accuracy: 0.7952\n",
      "Epoch 182/300\n",
      "7/7 [==============================] - 0s 9ms/step - loss: 2768886.5000 - accuracy: 0.7659\n",
      "Epoch 183/300\n",
      "7/7 [==============================] - 0s 5ms/step - loss: 1156036.1250 - accuracy: 0.8350\n",
      "Epoch 184/300\n",
      "7/7 [==============================] - 0s 8ms/step - loss: 1155837.8750 - accuracy: 0.8410\n",
      "Epoch 185/300\n",
      "7/7 [==============================] - 0s 9ms/step - loss: 1491531.5000 - accuracy: 0.7952\n",
      "Epoch 186/300\n",
      "7/7 [==============================] - 0s 5ms/step - loss: 1633043.3750 - accuracy: 0.8050\n",
      "Epoch 187/300\n",
      "7/7 [==============================] - 0s 5ms/step - loss: 1272196.3750 - accuracy: 0.8215\n",
      "Epoch 188/300\n",
      "7/7 [==============================] - 0s 5ms/step - loss: 1572574.0000 - accuracy: 0.8035\n",
      "Epoch 189/300\n",
      "7/7 [==============================] - 0s 6ms/step - loss: 1351859.8750 - accuracy: 0.8222\n",
      "Epoch 190/300\n",
      "7/7 [==============================] - 0s 8ms/step - loss: 1791842.5000 - accuracy: 0.8072\n",
      "Epoch 191/300\n",
      "7/7 [==============================] - 0s 5ms/step - loss: 1175633.2500 - accuracy: 0.8335\n",
      "Epoch 192/300\n",
      "7/7 [==============================] - 0s 6ms/step - loss: 1160382.3750 - accuracy: 0.8222\n",
      "Epoch 193/300\n",
      "7/7 [==============================] - 0s 8ms/step - loss: 2025293.6250 - accuracy: 0.8005\n",
      "Epoch 194/300\n",
      "7/7 [==============================] - 0s 7ms/step - loss: 1645355.2500 - accuracy: 0.8095\n",
      "Epoch 195/300\n",
      "7/7 [==============================] - 0s 6ms/step - loss: 2295891.0000 - accuracy: 0.7832\n",
      "Epoch 196/300\n",
      "7/7 [==============================] - 0s 6ms/step - loss: 1822501.5000 - accuracy: 0.8162\n",
      "Epoch 197/300\n",
      "7/7 [==============================] - 0s 6ms/step - loss: 2969218.0000 - accuracy: 0.7659\n",
      "Epoch 198/300\n",
      "7/7 [==============================] - 0s 8ms/step - loss: 1584425.5000 - accuracy: 0.8222\n",
      "Epoch 199/300\n",
      "7/7 [==============================] - 0s 5ms/step - loss: 953209.2500 - accuracy: 0.8342\n",
      "Epoch 200/300\n",
      "7/7 [==============================] - 0s 6ms/step - loss: 881907.1250 - accuracy: 0.8357\n",
      "Epoch 201/300\n",
      "7/7 [==============================] - 0s 5ms/step - loss: 1164825.5000 - accuracy: 0.8387\n",
      "Epoch 202/300\n",
      "7/7 [==============================] - 0s 7ms/step - loss: 872192.7500 - accuracy: 0.8552\n",
      "Epoch 203/300\n",
      "7/7 [==============================] - 0s 7ms/step - loss: 1007191.9375 - accuracy: 0.8365\n",
      "Epoch 204/300\n",
      "7/7 [==============================] - 0s 11ms/step - loss: 1191432.8750 - accuracy: 0.8267\n",
      "Epoch 205/300\n",
      "7/7 [==============================] - 0s 8ms/step - loss: 2751164.5000 - accuracy: 0.7854\n",
      "Epoch 206/300\n",
      "7/7 [==============================] - 0s 5ms/step - loss: 1934028.7500 - accuracy: 0.8147\n",
      "Epoch 207/300\n",
      "7/7 [==============================] - 0s 12ms/step - loss: 1686834.7500 - accuracy: 0.7854\n",
      "Epoch 208/300\n",
      "7/7 [==============================] - 0s 8ms/step - loss: 1151821.2500 - accuracy: 0.8185\n",
      "Epoch 209/300\n",
      "7/7 [==============================] - 0s 10ms/step - loss: 1116352.0000 - accuracy: 0.8357\n",
      "Epoch 210/300\n",
      "7/7 [==============================] - 0s 6ms/step - loss: 1404832.1250 - accuracy: 0.8192\n",
      "Epoch 211/300\n",
      "7/7 [==============================] - 0s 6ms/step - loss: 1202018.8750 - accuracy: 0.8230\n",
      "Epoch 212/300\n",
      "7/7 [==============================] - 0s 7ms/step - loss: 954614.1250 - accuracy: 0.8425\n",
      "Epoch 213/300\n",
      "7/7 [==============================] - 0s 6ms/step - loss: 857541.8750 - accuracy: 0.8395\n",
      "Epoch 214/300\n",
      "7/7 [==============================] - 0s 10ms/step - loss: 1385242.7500 - accuracy: 0.8125\n",
      "Epoch 215/300\n",
      "7/7 [==============================] - 0s 5ms/step - loss: 3292411.5000 - accuracy: 0.7712\n",
      "Epoch 216/300\n",
      "7/7 [==============================] - 0s 6ms/step - loss: 2284959.2500 - accuracy: 0.7734\n",
      "Epoch 217/300\n",
      "7/7 [==============================] - 0s 10ms/step - loss: 2655155.5000 - accuracy: 0.7509\n",
      "Epoch 218/300\n",
      "7/7 [==============================] - 0s 6ms/step - loss: 2417860.0000 - accuracy: 0.7682\n",
      "Epoch 219/300\n",
      "7/7 [==============================] - 0s 6ms/step - loss: 1831196.6250 - accuracy: 0.7959\n",
      "Epoch 220/300\n",
      "7/7 [==============================] - 0s 11ms/step - loss: 1652313.8750 - accuracy: 0.8102\n",
      "Epoch 221/300\n",
      "7/7 [==============================] - 0s 6ms/step - loss: 1615386.5000 - accuracy: 0.8050\n",
      "Epoch 222/300\n",
      "7/7 [==============================] - 0s 5ms/step - loss: 1254207.3750 - accuracy: 0.8275\n",
      "Epoch 223/300\n",
      "7/7 [==============================] - 0s 5ms/step - loss: 1567374.5000 - accuracy: 0.8087\n",
      "Epoch 224/300\n",
      "7/7 [==============================] - 0s 6ms/step - loss: 1155278.8750 - accuracy: 0.8312\n",
      "Epoch 225/300\n",
      "7/7 [==============================] - 0s 6ms/step - loss: 2283872.7500 - accuracy: 0.7764\n",
      "Epoch 226/300\n",
      "7/7 [==============================] - 0s 6ms/step - loss: 2869415.0000 - accuracy: 0.7584\n",
      "Epoch 227/300\n",
      "7/7 [==============================] - 0s 6ms/step - loss: 3934803.0000 - accuracy: 0.7247\n",
      "Epoch 228/300\n",
      "7/7 [==============================] - 0s 5ms/step - loss: 3012513.2500 - accuracy: 0.7539\n",
      "Epoch 229/300\n",
      "7/7 [==============================] - 0s 7ms/step - loss: 1885488.0000 - accuracy: 0.7997\n",
      "Epoch 230/300\n",
      "7/7 [==============================] - 0s 7ms/step - loss: 1326879.7500 - accuracy: 0.8117\n",
      "Epoch 231/300\n",
      "7/7 [==============================] - 0s 6ms/step - loss: 953609.8125 - accuracy: 0.8432\n",
      "Epoch 232/300\n",
      "7/7 [==============================] - 0s 13ms/step - loss: 1435374.1250 - accuracy: 0.7989\n",
      "Epoch 233/300\n",
      "7/7 [==============================] - 0s 6ms/step - loss: 1779444.1250 - accuracy: 0.8132\n",
      "Epoch 234/300\n",
      "7/7 [==============================] - 0s 6ms/step - loss: 1850166.5000 - accuracy: 0.8102\n",
      "Epoch 235/300\n"
     ]
    },
    {
     "name": "stdout",
     "output_type": "stream",
     "text": [
      "7/7 [==============================] - 0s 7ms/step - loss: 2542356.5000 - accuracy: 0.7697\n",
      "Epoch 236/300\n",
      "7/7 [==============================] - 0s 13ms/step - loss: 3312355.7500 - accuracy: 0.7322\n",
      "Epoch 237/300\n",
      "7/7 [==============================] - 0s 6ms/step - loss: 2549465.0000 - accuracy: 0.7614\n",
      "Epoch 238/300\n",
      "7/7 [==============================] - 0s 7ms/step - loss: 2344830.2500 - accuracy: 0.7847\n",
      "Epoch 239/300\n",
      "7/7 [==============================] - 0s 6ms/step - loss: 2049431.8750 - accuracy: 0.7929\n",
      "Epoch 240/300\n",
      "7/7 [==============================] - 0s 5ms/step - loss: 2332380.5000 - accuracy: 0.8065\n",
      "Epoch 241/300\n",
      "7/7 [==============================] - 0s 6ms/step - loss: 1706193.3750 - accuracy: 0.7959\n",
      "Epoch 242/300\n",
      "7/7 [==============================] - 0s 7ms/step - loss: 1400077.5000 - accuracy: 0.8207\n",
      "Epoch 243/300\n",
      "7/7 [==============================] - 0s 5ms/step - loss: 1199501.1250 - accuracy: 0.8140\n",
      "Epoch 244/300\n",
      "7/7 [==============================] - 0s 6ms/step - loss: 1631737.5000 - accuracy: 0.7914\n",
      "Epoch 245/300\n",
      "7/7 [==============================] - 0s 8ms/step - loss: 1546570.2500 - accuracy: 0.8012\n",
      "Epoch 246/300\n",
      "7/7 [==============================] - 0s 6ms/step - loss: 1580764.6250 - accuracy: 0.7997\n",
      "Epoch 247/300\n",
      "7/7 [==============================] - 0s 6ms/step - loss: 1192498.5000 - accuracy: 0.8275\n",
      "Epoch 248/300\n",
      "7/7 [==============================] - 0s 7ms/step - loss: 978426.9375 - accuracy: 0.8500\n",
      "Epoch 249/300\n",
      "7/7 [==============================] - 0s 9ms/step - loss: 832376.5000 - accuracy: 0.8575\n",
      "Epoch 250/300\n",
      "7/7 [==============================] - 0s 7ms/step - loss: 1043018.0625 - accuracy: 0.8477\n",
      "Epoch 251/300\n",
      "7/7 [==============================] - 0s 6ms/step - loss: 1079520.3750 - accuracy: 0.8237\n",
      "Epoch 252/300\n",
      "7/7 [==============================] - 0s 6ms/step - loss: 1057192.7500 - accuracy: 0.8500\n",
      "Epoch 253/300\n",
      "7/7 [==============================] - 0s 6ms/step - loss: 923942.1250 - accuracy: 0.8417\n",
      "Epoch 254/300\n",
      "7/7 [==============================] - 0s 7ms/step - loss: 828013.9375 - accuracy: 0.8545\n",
      "Epoch 255/300\n",
      "7/7 [==============================] - 0s 7ms/step - loss: 1363525.3750 - accuracy: 0.8087\n",
      "Epoch 256/300\n",
      "7/7 [==============================] - 0s 7ms/step - loss: 919666.8750 - accuracy: 0.8500\n",
      "Epoch 257/300\n",
      "7/7 [==============================] - 0s 6ms/step - loss: 842386.9375 - accuracy: 0.8477\n",
      "Epoch 258/300\n",
      "7/7 [==============================] - 0s 8ms/step - loss: 1246621.7500 - accuracy: 0.8350\n",
      "Epoch 259/300\n",
      "7/7 [==============================] - 0s 6ms/step - loss: 878187.5625 - accuracy: 0.8335\n",
      "Epoch 260/300\n",
      "7/7 [==============================] - 0s 5ms/step - loss: 908439.5000 - accuracy: 0.8327\n",
      "Epoch 261/300\n",
      "7/7 [==============================] - 0s 5ms/step - loss: 831403.3125 - accuracy: 0.8470\n",
      "Epoch 262/300\n",
      "7/7 [==============================] - 0s 9ms/step - loss: 1071207.3750 - accuracy: 0.8267\n",
      "Epoch 263/300\n",
      "7/7 [==============================] - 0s 6ms/step - loss: 826906.8750 - accuracy: 0.8350\n",
      "Epoch 264/300\n",
      "7/7 [==============================] - 0s 7ms/step - loss: 920015.0000 - accuracy: 0.8312\n",
      "Epoch 265/300\n",
      "7/7 [==============================] - 0s 6ms/step - loss: 1052594.8750 - accuracy: 0.8215\n",
      "Epoch 266/300\n",
      "7/7 [==============================] - 0s 5ms/step - loss: 1960159.8750 - accuracy: 0.7929\n",
      "Epoch 267/300\n",
      "7/7 [==============================] - 0s 7ms/step - loss: 1452715.7500 - accuracy: 0.7832\n",
      "Epoch 268/300\n",
      "7/7 [==============================] - 0s 6ms/step - loss: 1310611.7500 - accuracy: 0.8080\n",
      "Epoch 269/300\n",
      "7/7 [==============================] - 0s 8ms/step - loss: 1156904.1250 - accuracy: 0.8072\n",
      "Epoch 270/300\n",
      "7/7 [==============================] - 0s 7ms/step - loss: 1105050.2500 - accuracy: 0.8230\n",
      "Epoch 271/300\n",
      "7/7 [==============================] - 0s 11ms/step - loss: 3313544.2500 - accuracy: 0.7502\n",
      "Epoch 272/300\n",
      "7/7 [==============================] - 0s 7ms/step - loss: 1885486.8750 - accuracy: 0.7884\n",
      "Epoch 273/300\n",
      "7/7 [==============================] - 0s 5ms/step - loss: 1733647.5000 - accuracy: 0.8042\n",
      "Epoch 274/300\n",
      "7/7 [==============================] - 0s 7ms/step - loss: 1753940.1250 - accuracy: 0.7899\n",
      "Epoch 275/300\n",
      "7/7 [==============================] - 0s 6ms/step - loss: 1995905.8750 - accuracy: 0.7749\n",
      "Epoch 276/300\n",
      "7/7 [==============================] - 0s 6ms/step - loss: 1045940.1250 - accuracy: 0.8192\n",
      "Epoch 277/300\n",
      "7/7 [==============================] - 0s 5ms/step - loss: 992165.9375 - accuracy: 0.8402\n",
      "Epoch 278/300\n",
      "7/7 [==============================] - 0s 6ms/step - loss: 1072173.1250 - accuracy: 0.8282\n",
      "Epoch 279/300\n",
      "7/7 [==============================] - 0s 6ms/step - loss: 815115.6250 - accuracy: 0.8455\n",
      "Epoch 280/300\n",
      "7/7 [==============================] - 0s 6ms/step - loss: 656779.8750 - accuracy: 0.8620\n",
      "Epoch 281/300\n",
      "7/7 [==============================] - 0s 7ms/step - loss: 862505.3125 - accuracy: 0.8560\n",
      "Epoch 282/300\n",
      "7/7 [==============================] - 0s 7ms/step - loss: 1157868.3750 - accuracy: 0.8320\n",
      "Epoch 283/300\n",
      "7/7 [==============================] - 0s 6ms/step - loss: 1185244.3750 - accuracy: 0.8177\n",
      "Epoch 284/300\n",
      "7/7 [==============================] - 0s 6ms/step - loss: 907558.6250 - accuracy: 0.8507\n",
      "Epoch 285/300\n",
      "7/7 [==============================] - 0s 10ms/step - loss: 1120387.0000 - accuracy: 0.8177\n",
      "Epoch 286/300\n",
      "7/7 [==============================] - 0s 7ms/step - loss: 969799.0625 - accuracy: 0.8380\n",
      "Epoch 287/300\n",
      "7/7 [==============================] - 0s 5ms/step - loss: 1155834.6250 - accuracy: 0.8365\n",
      "Epoch 288/300\n",
      "7/7 [==============================] - 0s 5ms/step - loss: 2545341.7500 - accuracy: 0.7809\n",
      "Epoch 289/300\n",
      "7/7 [==============================] - 0s 5ms/step - loss: 2536464.5000 - accuracy: 0.7667\n",
      "Epoch 290/300\n",
      "7/7 [==============================] - 0s 6ms/step - loss: 1585912.1250 - accuracy: 0.8012\n",
      "Epoch 291/300\n",
      "7/7 [==============================] - 0s 5ms/step - loss: 2875282.0000 - accuracy: 0.7659\n",
      "Epoch 292/300\n",
      "7/7 [==============================] - 0s 6ms/step - loss: 2764730.5000 - accuracy: 0.7772\n",
      "Epoch 293/300\n",
      "7/7 [==============================] - 0s 7ms/step - loss: 1801284.7500 - accuracy: 0.7907\n",
      "Epoch 294/300\n",
      "7/7 [==============================] - 0s 6ms/step - loss: 1607329.0000 - accuracy: 0.8147\n",
      "Epoch 295/300\n",
      "7/7 [==============================] - 0s 5ms/step - loss: 1213589.7500 - accuracy: 0.8327\n",
      "Epoch 296/300\n",
      "7/7 [==============================] - 0s 5ms/step - loss: 1107008.1250 - accuracy: 0.8290\n",
      "Epoch 297/300\n",
      "7/7 [==============================] - 0s 5ms/step - loss: 873318.0000 - accuracy: 0.8492\n",
      "Epoch 298/300\n",
      "7/7 [==============================] - 0s 5ms/step - loss: 786917.7500 - accuracy: 0.8537\n",
      "Epoch 299/300\n",
      "7/7 [==============================] - 0s 5ms/step - loss: 575683.6250 - accuracy: 0.8890\n",
      "Epoch 300/300\n",
      "7/7 [==============================] - 0s 5ms/step - loss: 549586.9375 - accuracy: 0.8777\n"
     ]
    }
   ],
   "source": [
    "model.fit(X_train_p, y_train_c, batch_size=200 ,epochs=300)\n",
    "models[\"neural_network\"] = model"
   ]
  },
  {
   "cell_type": "markdown",
   "metadata": {},
   "source": [
    "Come possiamo notare questa rete in particolare non raggiunge risultati entusiasmanti, sicuramente potrebbe essere migliorata con regolarizzazione e tuning degli iperparametri, ma come già detto, avendo già ottenuto un buon modello utilizzando algoritmi più semplici e interpretabili ci fermiamo qui con le reti neurali."
   ]
  },
  {
   "cell_type": "markdown",
   "metadata": {},
   "source": [
    "## Valutazione dei modelli\n",
    "\n",
    "Una volta che abbiamo generato vari modelli diversi per predirre la fascia di prezzo dei cellulari dobbiamo decidere una o più misure della validità di questi modelli, per determinare quale sia il migliore.  \n",
    "Come prima misura utilizziamo la più semplice ed immediata, che abbiamo considerato anche fino ad ora: l'**accuratezza**, cioè la percentuale di istanze che vengono correttamente classificate."
   ]
  },
  {
   "cell_type": "markdown",
   "metadata": {},
   "source": [
    "Introduciamo una misura dell'errore (che quindi dovrà essere minimizzata), il **Root Mean Square Error**.  \n",
    "Questa misura può essere utile perchè classificare un telefono di fascia \"molto alta\" come \"bassa\" è un errore più grave che classificarlo come di fascia \"alta\" e questa formula tiene conto di ciò."
   ]
  },
  {
   "cell_type": "code",
   "execution_count": 83,
   "metadata": {},
   "outputs": [],
   "source": [
    "def rmse(y_val, y_pred):\n",
    "    return np.sqrt(np.mean(np.square(y_pred - y_val)))"
   ]
  },
  {
   "cell_type": "markdown",
   "metadata": {},
   "source": [
    "### Precision, Recall e F1-Score\n",
    "\n",
    "Un'altra misura importante nella classificazione è l'**F1-Score**, questa misura è derivata dalla **precision** e dalla **recall**."
   ]
  },
  {
   "cell_type": "code",
   "execution_count": 84,
   "metadata": {},
   "outputs": [],
   "source": [
    "from sklearn.metrics import confusion_matrix, precision_score, recall_score, f1_score"
   ]
  },
  {
   "cell_type": "code",
   "execution_count": 85,
   "metadata": {},
   "outputs": [
    {
     "data": {
      "text/html": [
       "<div>\n",
       "<style scoped>\n",
       "    .dataframe tbody tr th:only-of-type {\n",
       "        vertical-align: middle;\n",
       "    }\n",
       "\n",
       "    .dataframe tbody tr th {\n",
       "        vertical-align: top;\n",
       "    }\n",
       "\n",
       "    .dataframe thead th {\n",
       "        text-align: right;\n",
       "    }\n",
       "</style>\n",
       "<table border=\"1\" class=\"dataframe\">\n",
       "  <thead>\n",
       "    <tr style=\"text-align: right;\">\n",
       "      <th></th>\n",
       "      <th>0</th>\n",
       "      <th>1</th>\n",
       "      <th>2</th>\n",
       "      <th>3</th>\n",
       "    </tr>\n",
       "  </thead>\n",
       "  <tbody>\n",
       "    <tr>\n",
       "      <th>0</th>\n",
       "      <td>152</td>\n",
       "      <td>17</td>\n",
       "      <td>0</td>\n",
       "      <td>0</td>\n",
       "    </tr>\n",
       "    <tr>\n",
       "      <th>1</th>\n",
       "      <td>15</td>\n",
       "      <td>141</td>\n",
       "      <td>9</td>\n",
       "      <td>0</td>\n",
       "    </tr>\n",
       "    <tr>\n",
       "      <th>2</th>\n",
       "      <td>0</td>\n",
       "      <td>23</td>\n",
       "      <td>130</td>\n",
       "      <td>11</td>\n",
       "    </tr>\n",
       "    <tr>\n",
       "      <th>3</th>\n",
       "      <td>0</td>\n",
       "      <td>0</td>\n",
       "      <td>24</td>\n",
       "      <td>145</td>\n",
       "    </tr>\n",
       "  </tbody>\n",
       "</table>\n",
       "</div>"
      ],
      "text/plain": [
       "     0    1    2    3\n",
       "0  152   17    0    0\n",
       "1   15  141    9    0\n",
       "2    0   23  130   11\n",
       "3    0    0   24  145"
      ]
     },
     "execution_count": 85,
     "metadata": {},
     "output_type": "execute_result"
    }
   ],
   "source": [
    "#prendiamo uno dei modelli come esempio\n",
    "y_pred = models[\"decision_tree\"].predict(X_val)\n",
    "conf_matrix = pd.DataFrame(confusion_matrix(y_val, y_pred))\n",
    "conf_matrix"
   ]
  },
  {
   "cell_type": "markdown",
   "metadata": {},
   "source": [
    "Nella **matrice di confusione** possiamo vedere lungo le righe le classi reali di ogni istanza e lungo le colonne le classi predette, per cui lungo la diagonale abbiamo le classi che vengono classificate correttamente.  \n",
    "Per esempio il \"15\" indica che 15 cellulari della fascia media sono stati classificati erroneamente come cellulari della fascia bassa."
   ]
  },
  {
   "cell_type": "code",
   "execution_count": 86,
   "metadata": {
    "scrolled": true
   },
   "outputs": [
    {
     "data": {
      "text/plain": [
       "0.8540545893343898"
      ]
     },
     "execution_count": 86,
     "metadata": {},
     "output_type": "execute_result"
    }
   ],
   "source": [
    "precision_score(y_val, y_pred, average=\"macro\")"
   ]
  },
  {
   "cell_type": "code",
   "execution_count": 87,
   "metadata": {
    "scrolled": true
   },
   "outputs": [
    {
     "data": {
      "text/plain": [
       "0.8540545893343898"
      ]
     },
     "execution_count": 87,
     "metadata": {},
     "output_type": "execute_result"
    }
   ],
   "source": [
    "np.mean([conf_matrix.iloc[i,i] / conf_matrix.iloc[:,i].sum() for i in range(0, 4)])"
   ]
  },
  {
   "cell_type": "markdown",
   "metadata": {},
   "source": [
    "Come abbiamo verificato empiricamente la **precision** è la media della precision di ogni classe, che è calcolato come:\n",
    "$$\n",
    "\\frac{TP}{TP + FP}\n",
    "$$\n",
    "Questo è sempre così nel caso di classificazione binaria, nel nostro caso multivariato dobbiamo specificare \"macro\" perché sia la media tra le precision di ogni classe."
   ]
  },
  {
   "cell_type": "code",
   "execution_count": 88,
   "metadata": {},
   "outputs": [
    {
     "data": {
      "text/plain": [
       "0.8511562077697163"
      ]
     },
     "execution_count": 88,
     "metadata": {},
     "output_type": "execute_result"
    }
   ],
   "source": [
    "recall_score(y_val, y_pred, average=\"macro\")"
   ]
  },
  {
   "cell_type": "code",
   "execution_count": 89,
   "metadata": {},
   "outputs": [
    {
     "data": {
      "text/plain": [
       "0.8511562077697163"
      ]
     },
     "execution_count": 89,
     "metadata": {},
     "output_type": "execute_result"
    }
   ],
   "source": [
    "np.mean([conf_matrix.iloc[i,i] / conf_matrix.iloc[i,:].sum() for i in range(0, 4)])"
   ]
  },
  {
   "cell_type": "markdown",
   "metadata": {},
   "source": [
    "La **recall** di ogni classe si calcola, invece, come:\n",
    "$$\n",
    "\\frac{TP}{TP + FN}\n",
    "$$  \n",
    "Per ottenere quella \"globale\" si applica sempre la media tra ciascuna delle singole classi."
   ]
  },
  {
   "cell_type": "code",
   "execution_count": 90,
   "metadata": {},
   "outputs": [
    {
     "data": {
      "text/plain": [
       "0.8518013831107112"
      ]
     },
     "execution_count": 90,
     "metadata": {},
     "output_type": "execute_result"
    }
   ],
   "source": [
    "f1_score(y_val, y_pred, average=\"macro\")"
   ]
  },
  {
   "cell_type": "markdown",
   "metadata": {},
   "source": [
    "Infine l'**F1-Score** viene calcolato per la classe C come:\n",
    "$$\n",
    "\\frac{2 * recall(C) * precision(C)}{recall(C) + precision(C)}\n",
    "$$\n",
    "Per quello \"globale\" viene fatta la media di quelli di tutte le classi."
   ]
  },
  {
   "cell_type": "code",
   "execution_count": 91,
   "metadata": {},
   "outputs": [],
   "source": [
    "def print_eval(y_val, y_pred):\n",
    "    print(f\"Accuracy: {accuracy(y_val, y_pred)}\")\n",
    "    print(f\"    RMSE: {rmse(y_val.astype(int), y_pred)}\")\n",
    "    print(f\"F1-Score: {f1_score(y_val, y_pred, average='macro')}\\n\")"
   ]
  },
  {
   "cell_type": "code",
   "execution_count": 92,
   "metadata": {},
   "outputs": [
    {
     "name": "stdout",
     "output_type": "stream",
     "text": [
      "perceptron\n",
      "Accuracy: 0.9130434782608695\n",
      "    RMSE: 0.29488391230979427\n",
      "F1-Score: 0.9119201319429217\n",
      "\n",
      "logistic_regression\n",
      "Accuracy: 0.974512743628186\n",
      "    RMSE: 0.15964728739259584\n",
      "F1-Score: 0.9744106266055345\n",
      "\n",
      "svm\n",
      "Accuracy: 0.9775112443778111\n",
      "    RMSE: 0.14996251405664318\n",
      "F1-Score: 0.9773913230997028\n",
      "\n",
      "decision_tree\n",
      "Accuracy: 0.8515742128935532\n",
      "    RMSE: 0.3852606742277841\n",
      "F1-Score: 0.8518013831107112\n",
      "\n",
      "random_forest\n",
      "Accuracy: 0.881559220389805\n",
      "    RMSE: 0.34415226224767853\n",
      "F1-Score: 0.8803396413839334\n",
      "\n",
      "linear\n",
      "Accuracy: 0.8950524737631185\n",
      "    RMSE: 0.3239560560274828\n",
      "F1-Score: 0.6029139258334534\n",
      "\n",
      "elastic_net\n",
      "Accuracy: 0.889055472263868\n",
      "    RMSE: 0.3330833645442713\n",
      "F1-Score: 0.5989959965124566\n",
      "\n",
      "kernel_ridge\n",
      "Accuracy: 0.896551724137931\n",
      "    RMSE: 0.32163376045133846\n",
      "F1-Score: 0.6039307325707391\n",
      "\n",
      "decision_tree_regr\n",
      "Accuracy: 0.856071964017991\n",
      "    RMSE: 0.3793784864512074\n",
      "F1-Score: 0.8561726608806857\n",
      "\n",
      "random_forest_regr\n",
      "Accuracy: 0.9055472263868066\n",
      "    RMSE: 0.3073316996555894\n",
      "F1-Score: 0.9049946956097394\n",
      "\n",
      "catboost\n",
      "Accuracy: 0.9265367316341829\n",
      "    RMSE: 0.27104108243182823\n",
      "F1-Score: 0.9255951804576869\n",
      "\n",
      "mlp\n",
      "Accuracy: 0.9280359820089955\n",
      "    RMSE: 0.26826110040593754\n",
      "F1-Score: 0.9276268256721416\n",
      "\n",
      "neural_network\n",
      "21/21 [==============================] - 0s 2ms/step\n",
      "Accuracy: 0.863568215892054\n",
      "    RMSE: 0.3693667338945753\n",
      "F1-Score: 0.7166317793063293\n",
      "\n"
     ]
    }
   ],
   "source": [
    "for name, model in models.items():\n",
    "    print(name)\n",
    "    if(name != \"neural_network\"):\n",
    "        print_eval(y_val, np.round(model.predict(X_val)))\n",
    "    else:\n",
    "        print_eval(y_val_c, np.round(model.predict(X_val_p)))"
   ]
  },
  {
   "cell_type": "code",
   "execution_count": 97,
   "metadata": {},
   "outputs": [],
   "source": [
    "best = [\"svm\", \"logistic_regression\", \"mlp\", \"catboost\"]"
   ]
  },
  {
   "cell_type": "markdown",
   "metadata": {},
   "source": [
    "Visti i risultati ottenuti possiamo dire che i migliori modelli sono quelli ottenuti con **regressione logistica** e **SVM**, ma anche **catBoost**, nonostante sia un'algoritmo di regressione, ha raggiunto un ottimo risultato e risulta come il quarto migliore (considerando anche **multi-layered perceptron** che arriva terzo)."
   ]
  },
  {
   "cell_type": "markdown",
   "metadata": {},
   "source": [
    "## Considerazioni Finali"
   ]
  },
  {
   "cell_type": "markdown",
   "metadata": {},
   "source": [
    "### Conoscienza appresa\n",
    "\n",
    "Ottenuti buoni risultati con alcuni dei modelli utilizzati ci chiediamo quale conoscienza possiamo apprendere da questi modelli."
   ]
  },
  {
   "cell_type": "code",
   "execution_count": 98,
   "metadata": {},
   "outputs": [
    {
     "data": {
      "text/plain": [
       "ram              64.338424\n",
       "battery_power    10.947900\n",
       "px_width          5.793982\n",
       "px_height         5.513066\n",
       "mobile_wt         1.927958\n",
       "int_memory        1.542440\n",
       "sc_h              1.204830\n",
       "clock_speed       1.198285\n",
       "pc                1.189426\n",
       "talk_time         1.115183\n",
       "n_cores           1.091415\n",
       "m_dep             1.024553\n",
       "fc                0.982709\n",
       "sc_w              0.854539\n",
       "touch_screen      0.280584\n",
       "dual_sim          0.250454\n",
       "four_g            0.201398\n",
       "wifi              0.185485\n",
       "three_g           0.179495\n",
       "blue              0.177872\n",
       "dtype: float64"
      ]
     },
     "execution_count": 98,
     "metadata": {},
     "output_type": "execute_result"
    }
   ],
   "source": [
    "pd.Series(models[\"catboost\"].feature_importances_, index=X.columns).sort_values(ascending=False)"
   ]
  },
  {
   "cell_type": "markdown",
   "metadata": {},
   "source": [
    "Qui, grazie al parametro **feature_importances_** dei modelli **random forest**, ma in questo caso utilizzato con il modello **catBoost** possiamo vedere quanto una feature è ricorrente negli alberi decisionali creati, quindi quanto è significativa.  \n",
    "Come possiamo verificare ancora una volta i parametri più significativi rimangono quelli che fin dall'inizio hanno mostrato una più alta correlazione con la variabile target: **RAM**, **capienza batteria** e **risoluzione dello schermo** (pixel orizzontali e verticali)."
   ]
  },
  {
   "cell_type": "markdown",
   "metadata": {},
   "source": [
    "### Analisi della confidenza\n",
    "\n",
    "Vogliamo una formula che ci calcoli la reale accuratezza di un modello data la sua **accuratezza**, il numero **N** di elemnti e un valore **Z** calcolato rispetto alla confidenza che vogliamo ottenere."
   ]
  },
  {
   "cell_type": "code",
   "execution_count": 99,
   "metadata": {},
   "outputs": [],
   "source": [
    "def confidence(accuracy, N, z):\n",
    "    variation = z * np.sqrt((accuracy / N) - (accuracy**2 / N) + z**2 / (4 * N**2))\n",
    "    base_num = accuracy + (z**2 / (2 * N))\n",
    "    den = 1 + (z**2 / N)\n",
    "    min_conf = (base_num - variation) / den\n",
    "    max_conf = (base_num + variation) / den\n",
    "    return min_conf, max_conf"
   ]
  },
  {
   "cell_type": "code",
   "execution_count": 100,
   "metadata": {},
   "outputs": [
    {
     "name": "stdout",
     "output_type": "stream",
     "text": [
      "svm\n",
      "Min: 0.9663315260520816\n",
      "Max: 0.9850361884913507\n",
      "\n",
      "logistic_regression\n",
      "Min: 0.9627797387572606\n",
      "Max: 0.9826139242034814\n",
      "\n",
      "mlp\n",
      "Min: 0.910327356460681\n",
      "Max: 0.9424685069683612\n",
      "\n",
      "catboost\n",
      "Min: 0.9086825903624947\n",
      "Max: 0.9411262472752023\n",
      "\n"
     ]
    }
   ],
   "source": [
    "N = 1000\n",
    "#per confidenza =95%\n",
    "z = 1.96\n",
    "\n",
    "for name in best:\n",
    "    print(name)\n",
    "    model = models[name]\n",
    "    acc = accuracy(y_val, np.round(model.predict(X_val)))\n",
    "    min_c, max_c = confidence(acc, N, z)\n",
    "    print(f\"Min: {min_c}\")\n",
    "    print(f\"Max: {max_c}\\n\")"
   ]
  },
  {
   "cell_type": "markdown",
   "metadata": {},
   "source": [
    "### Miglior modello\n",
    "\n",
    "Come notiamo facilmente dall'intervallo di accuratezza dei 4 modelli migliori **regressione logistica** e **support vector machine** hanno raggiunto valori molto alti (da ~96% a ~98%) con una confidenza del 95% su 1000 elementi.  \n",
    "Mi ritengo perciò soddisfatto del risultato raggiunto e, anche se di poco, possiamo dire che il modello migliore è quello che ha utilizza **support vector machines**!"
   ]
  }
 ],
 "metadata": {
  "kernelspec": {
   "display_name": "Python 3",
   "language": "python",
   "name": "python3"
  },
  "language_info": {
   "codemirror_mode": {
    "name": "ipython",
    "version": 3
   },
   "file_extension": ".py",
   "mimetype": "text/x-python",
   "name": "python",
   "nbconvert_exporter": "python",
   "pygments_lexer": "ipython3",
   "version": "3.8.5"
  }
 },
 "nbformat": 4,
 "nbformat_minor": 4
}
